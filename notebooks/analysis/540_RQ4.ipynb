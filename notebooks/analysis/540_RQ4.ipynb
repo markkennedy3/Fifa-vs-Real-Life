{
 "cells": [
  {
   "cell_type": "code",
   "execution_count": 1,
   "metadata": {
    "collapsed": true
   },
   "outputs": [],
   "source": [
    "import os.path\n",
    "import pandas as pd\n",
    "import numpy as np\n",
    "import matplotlib\n",
    "import matplotlib.pylab as plt\n",
    "from matplotlib.gridspec import GridSpec\n",
    "import matplotlib.image as mpimg\n",
    "%matplotlib inline"
   ]
  },
  {
   "cell_type": "code",
   "execution_count": 2,
   "metadata": {},
   "outputs": [
    {
     "ename": "FileNotFoundError",
     "evalue": "File b'../../data/analysis/RQ4.csv' does not exist",
     "output_type": "error",
     "traceback": [
      "\u001b[1;31m---------------------------------------------------------------------------\u001b[0m",
      "\u001b[1;31mFileNotFoundError\u001b[0m                         Traceback (most recent call last)",
      "\u001b[1;32m<ipython-input-2-27a6c1764e89>\u001b[0m in \u001b[0;36m<module>\u001b[1;34m()\u001b[0m\n\u001b[1;32m----> 1\u001b[1;33m \u001b[0mRQ4\u001b[0m \u001b[1;33m=\u001b[0m \u001b[0mpd\u001b[0m\u001b[1;33m.\u001b[0m\u001b[0mread_csv\u001b[0m\u001b[1;33m(\u001b[0m\u001b[1;33m(\u001b[0m\u001b[1;34m'../../data/analysis/RQ4.csv'\u001b[0m\u001b[1;33m)\u001b[0m\u001b[1;33m)\u001b[0m\u001b[1;33m\u001b[0m\u001b[0m\n\u001b[0m\u001b[0;32m      2\u001b[0m \u001b[0mRQ4\u001b[0m \u001b[1;33m=\u001b[0m \u001b[0mRQ4\u001b[0m\u001b[1;33m.\u001b[0m\u001b[0mdrop\u001b[0m\u001b[1;33m(\u001b[0m\u001b[1;34m'Unnamed: 0'\u001b[0m\u001b[1;33m,\u001b[0m \u001b[1;36m1\u001b[0m\u001b[1;33m)\u001b[0m\u001b[1;33m\u001b[0m\u001b[0m\n\u001b[0;32m      3\u001b[0m \u001b[0mRQ4\u001b[0m \u001b[1;33m=\u001b[0m \u001b[0mRQ4\u001b[0m\u001b[1;33m.\u001b[0m\u001b[0miloc\u001b[0m\u001b[1;33m[\u001b[0m\u001b[1;36m1\u001b[0m\u001b[1;33m:\u001b[0m\u001b[1;33m]\u001b[0m\u001b[1;33m\u001b[0m\u001b[0m\n",
      "\u001b[1;32m~\\Desktop\\Anaconda3\\lib\\site-packages\\pandas\\io\\parsers.py\u001b[0m in \u001b[0;36mparser_f\u001b[1;34m(filepath_or_buffer, sep, delimiter, header, names, index_col, usecols, squeeze, prefix, mangle_dupe_cols, dtype, engine, converters, true_values, false_values, skipinitialspace, skiprows, nrows, na_values, keep_default_na, na_filter, verbose, skip_blank_lines, parse_dates, infer_datetime_format, keep_date_col, date_parser, dayfirst, iterator, chunksize, compression, thousands, decimal, lineterminator, quotechar, quoting, escapechar, comment, encoding, dialect, tupleize_cols, error_bad_lines, warn_bad_lines, skipfooter, skip_footer, doublequote, delim_whitespace, as_recarray, compact_ints, use_unsigned, low_memory, buffer_lines, memory_map, float_precision)\u001b[0m\n\u001b[0;32m    653\u001b[0m                     skip_blank_lines=skip_blank_lines)\n\u001b[0;32m    654\u001b[0m \u001b[1;33m\u001b[0m\u001b[0m\n\u001b[1;32m--> 655\u001b[1;33m         \u001b[1;32mreturn\u001b[0m \u001b[0m_read\u001b[0m\u001b[1;33m(\u001b[0m\u001b[0mfilepath_or_buffer\u001b[0m\u001b[1;33m,\u001b[0m \u001b[0mkwds\u001b[0m\u001b[1;33m)\u001b[0m\u001b[1;33m\u001b[0m\u001b[0m\n\u001b[0m\u001b[0;32m    656\u001b[0m \u001b[1;33m\u001b[0m\u001b[0m\n\u001b[0;32m    657\u001b[0m     \u001b[0mparser_f\u001b[0m\u001b[1;33m.\u001b[0m\u001b[0m__name__\u001b[0m \u001b[1;33m=\u001b[0m \u001b[0mname\u001b[0m\u001b[1;33m\u001b[0m\u001b[0m\n",
      "\u001b[1;32m~\\Desktop\\Anaconda3\\lib\\site-packages\\pandas\\io\\parsers.py\u001b[0m in \u001b[0;36m_read\u001b[1;34m(filepath_or_buffer, kwds)\u001b[0m\n\u001b[0;32m    403\u001b[0m \u001b[1;33m\u001b[0m\u001b[0m\n\u001b[0;32m    404\u001b[0m     \u001b[1;31m# Create the parser.\u001b[0m\u001b[1;33m\u001b[0m\u001b[1;33m\u001b[0m\u001b[0m\n\u001b[1;32m--> 405\u001b[1;33m     \u001b[0mparser\u001b[0m \u001b[1;33m=\u001b[0m \u001b[0mTextFileReader\u001b[0m\u001b[1;33m(\u001b[0m\u001b[0mfilepath_or_buffer\u001b[0m\u001b[1;33m,\u001b[0m \u001b[1;33m**\u001b[0m\u001b[0mkwds\u001b[0m\u001b[1;33m)\u001b[0m\u001b[1;33m\u001b[0m\u001b[0m\n\u001b[0m\u001b[0;32m    406\u001b[0m \u001b[1;33m\u001b[0m\u001b[0m\n\u001b[0;32m    407\u001b[0m     \u001b[1;32mif\u001b[0m \u001b[0mchunksize\u001b[0m \u001b[1;32mor\u001b[0m \u001b[0miterator\u001b[0m\u001b[1;33m:\u001b[0m\u001b[1;33m\u001b[0m\u001b[0m\n",
      "\u001b[1;32m~\\Desktop\\Anaconda3\\lib\\site-packages\\pandas\\io\\parsers.py\u001b[0m in \u001b[0;36m__init__\u001b[1;34m(self, f, engine, **kwds)\u001b[0m\n\u001b[0;32m    762\u001b[0m             \u001b[0mself\u001b[0m\u001b[1;33m.\u001b[0m\u001b[0moptions\u001b[0m\u001b[1;33m[\u001b[0m\u001b[1;34m'has_index_names'\u001b[0m\u001b[1;33m]\u001b[0m \u001b[1;33m=\u001b[0m \u001b[0mkwds\u001b[0m\u001b[1;33m[\u001b[0m\u001b[1;34m'has_index_names'\u001b[0m\u001b[1;33m]\u001b[0m\u001b[1;33m\u001b[0m\u001b[0m\n\u001b[0;32m    763\u001b[0m \u001b[1;33m\u001b[0m\u001b[0m\n\u001b[1;32m--> 764\u001b[1;33m         \u001b[0mself\u001b[0m\u001b[1;33m.\u001b[0m\u001b[0m_make_engine\u001b[0m\u001b[1;33m(\u001b[0m\u001b[0mself\u001b[0m\u001b[1;33m.\u001b[0m\u001b[0mengine\u001b[0m\u001b[1;33m)\u001b[0m\u001b[1;33m\u001b[0m\u001b[0m\n\u001b[0m\u001b[0;32m    765\u001b[0m \u001b[1;33m\u001b[0m\u001b[0m\n\u001b[0;32m    766\u001b[0m     \u001b[1;32mdef\u001b[0m \u001b[0mclose\u001b[0m\u001b[1;33m(\u001b[0m\u001b[0mself\u001b[0m\u001b[1;33m)\u001b[0m\u001b[1;33m:\u001b[0m\u001b[1;33m\u001b[0m\u001b[0m\n",
      "\u001b[1;32m~\\Desktop\\Anaconda3\\lib\\site-packages\\pandas\\io\\parsers.py\u001b[0m in \u001b[0;36m_make_engine\u001b[1;34m(self, engine)\u001b[0m\n\u001b[0;32m    983\u001b[0m     \u001b[1;32mdef\u001b[0m \u001b[0m_make_engine\u001b[0m\u001b[1;33m(\u001b[0m\u001b[0mself\u001b[0m\u001b[1;33m,\u001b[0m \u001b[0mengine\u001b[0m\u001b[1;33m=\u001b[0m\u001b[1;34m'c'\u001b[0m\u001b[1;33m)\u001b[0m\u001b[1;33m:\u001b[0m\u001b[1;33m\u001b[0m\u001b[0m\n\u001b[0;32m    984\u001b[0m         \u001b[1;32mif\u001b[0m \u001b[0mengine\u001b[0m \u001b[1;33m==\u001b[0m \u001b[1;34m'c'\u001b[0m\u001b[1;33m:\u001b[0m\u001b[1;33m\u001b[0m\u001b[0m\n\u001b[1;32m--> 985\u001b[1;33m             \u001b[0mself\u001b[0m\u001b[1;33m.\u001b[0m\u001b[0m_engine\u001b[0m \u001b[1;33m=\u001b[0m \u001b[0mCParserWrapper\u001b[0m\u001b[1;33m(\u001b[0m\u001b[0mself\u001b[0m\u001b[1;33m.\u001b[0m\u001b[0mf\u001b[0m\u001b[1;33m,\u001b[0m \u001b[1;33m**\u001b[0m\u001b[0mself\u001b[0m\u001b[1;33m.\u001b[0m\u001b[0moptions\u001b[0m\u001b[1;33m)\u001b[0m\u001b[1;33m\u001b[0m\u001b[0m\n\u001b[0m\u001b[0;32m    986\u001b[0m         \u001b[1;32melse\u001b[0m\u001b[1;33m:\u001b[0m\u001b[1;33m\u001b[0m\u001b[0m\n\u001b[0;32m    987\u001b[0m             \u001b[1;32mif\u001b[0m \u001b[0mengine\u001b[0m \u001b[1;33m==\u001b[0m \u001b[1;34m'python'\u001b[0m\u001b[1;33m:\u001b[0m\u001b[1;33m\u001b[0m\u001b[0m\n",
      "\u001b[1;32m~\\Desktop\\Anaconda3\\lib\\site-packages\\pandas\\io\\parsers.py\u001b[0m in \u001b[0;36m__init__\u001b[1;34m(self, src, **kwds)\u001b[0m\n\u001b[0;32m   1603\u001b[0m         \u001b[0mkwds\u001b[0m\u001b[1;33m[\u001b[0m\u001b[1;34m'allow_leading_cols'\u001b[0m\u001b[1;33m]\u001b[0m \u001b[1;33m=\u001b[0m \u001b[0mself\u001b[0m\u001b[1;33m.\u001b[0m\u001b[0mindex_col\u001b[0m \u001b[1;32mis\u001b[0m \u001b[1;32mnot\u001b[0m \u001b[1;32mFalse\u001b[0m\u001b[1;33m\u001b[0m\u001b[0m\n\u001b[0;32m   1604\u001b[0m \u001b[1;33m\u001b[0m\u001b[0m\n\u001b[1;32m-> 1605\u001b[1;33m         \u001b[0mself\u001b[0m\u001b[1;33m.\u001b[0m\u001b[0m_reader\u001b[0m \u001b[1;33m=\u001b[0m \u001b[0mparsers\u001b[0m\u001b[1;33m.\u001b[0m\u001b[0mTextReader\u001b[0m\u001b[1;33m(\u001b[0m\u001b[0msrc\u001b[0m\u001b[1;33m,\u001b[0m \u001b[1;33m**\u001b[0m\u001b[0mkwds\u001b[0m\u001b[1;33m)\u001b[0m\u001b[1;33m\u001b[0m\u001b[0m\n\u001b[0m\u001b[0;32m   1606\u001b[0m \u001b[1;33m\u001b[0m\u001b[0m\n\u001b[0;32m   1607\u001b[0m         \u001b[1;31m# XXX\u001b[0m\u001b[1;33m\u001b[0m\u001b[1;33m\u001b[0m\u001b[0m\n",
      "\u001b[1;32mpandas/_libs/parsers.pyx\u001b[0m in \u001b[0;36mpandas._libs.parsers.TextReader.__cinit__ (pandas\\_libs\\parsers.c:4209)\u001b[1;34m()\u001b[0m\n",
      "\u001b[1;32mpandas/_libs/parsers.pyx\u001b[0m in \u001b[0;36mpandas._libs.parsers.TextReader._setup_parser_source (pandas\\_libs\\parsers.c:8873)\u001b[1;34m()\u001b[0m\n",
      "\u001b[1;31mFileNotFoundError\u001b[0m: File b'../../data/analysis/RQ4.csv' does not exist"
     ]
    }
   ],
   "source": [
    "RQ4 = pd.read_csv(('../../data/analysis/RQ4.csv'))\n",
    "RQ4 = RQ4.drop('Unnamed: 0', 1)\n",
    "RQ4 = RQ4.iloc[1:]"
   ]
  },
  {
   "cell_type": "code",
   "execution_count": null,
   "metadata": {
    "collapsed": true
   },
   "outputs": [],
   "source": [
    "hazard = mpimg.imread('https://cdn.sofifa.org/1x/18/players/183277.png')\n",
    "ronaldo = mpimg.imread('https://cdn.sofifa.org/1x/18/players/20801.png')\n",
    "messi = mpimg.imread('https://cdn.sofifa.org/1x/18/players/158023.png')\n",
    "neymar = mpimg.imread('https://cdn.sofifa.org/1x/18/players/190871.png')\n",
    "suarez = mpimg.imread('https://cdn.sofifa.org/1x/18/players/176580.png')"
   ]
  },
  {
   "cell_type": "code",
   "execution_count": null,
   "metadata": {},
   "outputs": [],
   "source": [
    "f, axarr = plt.subplots(4,7,figsize=(15,15))\n",
    "\n",
    "axarr[0,0].set_visible(False)\n",
    "axarr[0,1].set_visible(False)\n",
    "axarr[0,2].set_visible(False)\n",
    "axarr[0,3].set_visible(False)\n",
    "axarr[0,5].set_visible(False)\n",
    "axarr[0,6].set_visible(False)\n",
    "axarr[1,0].set_visible(False)\n",
    "axarr[1,1].set_visible(False)\n",
    "axarr[1,4].set_visible(False)\n",
    "axarr[2,0].set_visible(False)\n",
    "axarr[2,1].set_visible(False)\n",
    "axarr[2,4].set_visible(False)\n",
    "axarr[3,0].set_visible(False)\n",
    "axarr[3,1].set_visible(False)\n",
    "axarr[3,4].set_visible(False)\n",
    "axarr[3,6].set_visible(False)\n",
    "axarr[3,4].set_visible(False)\n",
    "axarr[3,2].set_visible(False)\n",
    "axarr[3,6].set_visible(False)\n",
    "\n",
    "axarr[0,4].imshow(messi)\n",
    "axarr[0,4].set_title(\"GK\")\n",
    "axarr[0,4].axis('off')\n",
    "\n",
    "\n",
    "axarr[1,2].imshow(suarez)\n",
    "axarr[1,2].set_title(\"DF\")\n",
    "axarr[1,2].axis('off')\n",
    "\n",
    "\n",
    "axarr[1,3].imshow(ronaldo)\n",
    "axarr[1,3].set_title(\"DF\")\n",
    "axarr[1,3].axis('off')\n",
    "\n",
    "\n",
    "axarr[1,5].imshow(neymar)\n",
    "axarr[1,5].set_title(\"DF\")\n",
    "axarr[1,5].axis('off')\n",
    "\n",
    "\n",
    "axarr[1,6].imshow(ronaldo)\n",
    "axarr[1,6].set_title(\"DF\")\n",
    "axarr[1,6].axis('off')\n",
    "\n",
    "\n",
    "axarr[2,2].imshow(hazard)\n",
    "axarr[2,2].set_title(\"MD\")\n",
    "axarr[2,2].axis('off')\n",
    "\n",
    "\n",
    "axarr[2,3].imshow(suarez)\n",
    "axarr[2,3].set_title(\"MD\")\n",
    "axarr[2,3].axis('off')\n",
    "\n",
    "\n",
    "axarr[2,5].imshow(hazard)\n",
    "axarr[2,5].set_title(\"MD\")\n",
    "axarr[2,5].axis('off')\n",
    "\n",
    "\n",
    "axarr[2,6].imshow(messi)\n",
    "axarr[2,6].set_title(\"MD\")\n",
    "axarr[2,6].axis('off')\n",
    "\n",
    "\n",
    "axarr[3,3].imshow(ronaldo)\n",
    "axarr[3,3].set_title(\"FW\")\n",
    "axarr[3,3].axis('off')\n",
    "\n",
    "axarr[3,5].imshow(neymar)\n",
    "axarr[3,5].set_title(\"FW\")\n",
    "axarr[3,5].axis('off')"
   ]
  },
  {
   "cell_type": "code",
   "execution_count": null,
   "metadata": {},
   "outputs": [],
   "source": [
    "RQ4 = RQ4.sort_values(['Average Form','Players'],ascending=False)\n",
    "RQ4 = RQ4.reset_index()\n",
    "RQ4.drop(RQ4.columns[0], axis=1, inplace=True)\n",
    "RQ4.head(10)"
   ]
  },
  {
   "cell_type": "code",
   "execution_count": null,
   "metadata": {
    "collapsed": true
   },
   "outputs": [],
   "source": [
    "RQ4_Best = RQ4[RQ4['age']<34] #best youngish players\n",
    "RQ4_Youth = RQ4[RQ4['age']<25] #best youngish players\n",
    "RQ4_Oldies = RQ4[RQ4['age']>30] #best youngish players"
   ]
  },
  {
   "cell_type": "code",
   "execution_count": null,
   "metadata": {},
   "outputs": [],
   "source": [
    "def XI(position):\n",
    "    SquadDB = RQ4_Best.copy()\n",
    "    \n",
    "    store = []\n",
    "    for x in position:\n",
    "        \n",
    "        store.append([ x ,SquadDB.loc[[SquadDB[SquadDB['Position'] == x ]['Average Form'].idxmax()]]['Players'].to_string(index = False), SquadDB[SquadDB['Position'] == x ]['Average Form'].max()])\n",
    "        \n",
    "        SquadDB.drop(SquadDB[SquadDB['Position'] == x ]['Average Form'].idxmax(), inplace = True)\n",
    "     \n",
    "    return pd.DataFrame(np.array(store).reshape(11,3), columns = ['Position', 'Players', 'Average Form']).to_string(index = False)\n",
    "\n",
    "XI442 = ['Goalkeeper', 'Defender', 'Defender', 'Defender', 'Defender', 'Midfielder', 'Midfielder', 'Midfielder', 'Midfielder', 'Forward', 'Forward']\n",
    "\n",
    "print ('\\n 4-4-2 \\n')\n",
    "print (XI(XI442))"
   ]
  },
  {
   "cell_type": "code",
   "execution_count": null,
   "metadata": {},
   "outputs": [],
   "source": [
    "def XI(position):\n",
    "    SquadDB = RQ4_Youth.copy()\n",
    "    \n",
    "    store = []\n",
    "    for x in position:\n",
    "        \n",
    "        store.append([ x ,SquadDB.loc[[SquadDB[SquadDB['Position'] == x ]['Average Form'].idxmax()]]['Players'].to_string(index = False), SquadDB[SquadDB['Position'] == x ]['Average Form'].max()])\n",
    "        \n",
    "        SquadDB.drop(SquadDB[SquadDB['Position'] == x ]['Average Form'].idxmax(), inplace = True)\n",
    "     \n",
    "    return pd.DataFrame(np.array(store).reshape(11,3), columns = ['Position', 'Players', 'Average Form']).to_string(index = False)\n",
    "\n",
    "XI442 = ['Goalkeeper', 'Defender', 'Defender', 'Defender', 'Defender', 'Midfielder', 'Midfielder', 'Midfielder', 'Midfielder', 'Forward', 'Forward']\n",
    "\n",
    "print ('\\n 4-4-2 \\n')\n",
    "print (XI(XI442))"
   ]
  },
  {
   "cell_type": "code",
   "execution_count": null,
   "metadata": {
    "collapsed": true
   },
   "outputs": [],
   "source": [
    "def XI(position):\n",
    "    SquadDB = RQ4_Oldies.copy()\n",
    "    \n",
    "    store = []\n",
    "    for x in position:\n",
    "        \n",
    "        store.append([ x ,SquadDB.loc[[SquadDB[SquadDB['Position'] == x ]['Average Form'].idxmax()]]['Players'].to_string(index = False), SquadDB[SquadDB['Position'] == x ]['Average Form'].max()])\n",
    "        \n",
    "        SquadDB.drop(SquadDB[SquadDB['Position'] == x ]['Average Form'].idxmax(), inplace = True)\n",
    "     \n",
    "    return pd.DataFrame(np.array(store).reshape(11,3), columns = ['Position', 'Players', 'Average Form']).to_string(index = False)\n",
    "\n",
    "XI442 = ['Goalkeeper', 'Defender', 'Defender', 'Defender', 'Defender', 'Midfielder', 'Midfielder', 'Midfielder', 'Midfielder', 'Forward', 'Forward']\n",
    "\n",
    "df = (XI(XI442))"
   ]
  },
  {
   "cell_type": "code",
   "execution_count": null,
   "metadata": {},
   "outputs": [],
   "source": [
    "df"
   ]
  },
  {
   "cell_type": "markdown",
   "metadata": {},
   "source": [
    "df = \" \".join(df.split())"
   ]
  },
  {
   "cell_type": "code",
   "execution_count": null,
   "metadata": {
    "collapsed": true
   },
   "outputs": [],
   "source": [
    "import sys\n",
    "if sys.version_info[0] < 3: \n",
    "    from StringIO import StringIO\n",
    "else:\n",
    "    from io import StringIO"
   ]
  },
  {
   "cell_type": "code",
   "execution_count": null,
   "metadata": {
    "collapsed": true
   },
   "outputs": [],
   "source": [
    "TESTDATA = StringIO(df)"
   ]
  },
  {
   "cell_type": "code",
   "execution_count": null,
   "metadata": {
    "collapsed": true
   },
   "outputs": [],
   "source": [
    "df = pd.read_csv(TESTDATA, sep=\"\\n\")"
   ]
  },
  {
   "cell_type": "code",
   "execution_count": null,
   "metadata": {},
   "outputs": [],
   "source": [
    "df.columns"
   ]
  },
  {
   "cell_type": "code",
   "execution_count": null,
   "metadata": {},
   "outputs": [],
   "source": [
    "df"
   ]
  },
  {
   "cell_type": "code",
   "execution_count": null,
   "metadata": {
    "collapsed": true
   },
   "outputs": [],
   "source": [
    "df['A'], df['B'],df['c'], df['d'],df['e'] = df['Position             Players   Average Form'].str.split(' ', 4).str"
   ]
  },
  {
   "cell_type": "code",
   "execution_count": null,
   "metadata": {
    "collapsed": true
   },
   "outputs": [],
   "source": [
    "df['Position'] = df['A']+df['B']+df['c']+df['d']\n",
    "df = df.drop(['A','B','c','d','Position             Players   Average Form'],1)"
   ]
  },
  {
   "cell_type": "code",
   "execution_count": null,
   "metadata": {},
   "outputs": [],
   "source": [
    "df"
   ]
  },
  {
   "cell_type": "markdown",
   "metadata": {},
   "source": [
    "df1['Position'] = 'Goalkeeper','Defender','Defender','Defender','Defender','Midfielder','Midfielder','Midfielder','Midfielder','Forward','Forward'"
   ]
  },
  {
   "cell_type": "markdown",
   "metadata": {},
   "source": [
    "columns = ['Position', 'Players', 'Average', 'Form']\n",
    "\n",
    "df1 = pd.DataFrame(columns=columns)\n",
    "df1 = df1.fillna(0) # with 0s rather than NaNs"
   ]
  },
  {
   "cell_type": "code",
   "execution_count": null,
   "metadata": {
    "collapsed": true
   },
   "outputs": [],
   "source": []
  }
 ],
 "metadata": {
  "kernelspec": {
   "display_name": "Python 3",
   "language": "python",
   "name": "python3"
  }
 },
 "nbformat": 4,
 "nbformat_minor": 2
}
