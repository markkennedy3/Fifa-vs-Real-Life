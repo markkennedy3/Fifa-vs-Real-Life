{
 "cells": [
  {
   "cell_type": "markdown",
   "metadata": {},
   "source": [
    "# 510_RQ1_Analysis_2"
   ]
  },
  {
   "cell_type": "code",
   "execution_count": 16,
   "metadata": {
    "collapsed": true
   },
   "outputs": [],
   "source": [
    "import os.path\n",
    "import numpy as np\n",
    "import pandas as pd\n",
    "import matplotlib.pyplot as plt\n",
    "\n",
    "%matplotlib inline"
   ]
  },
  {
   "cell_type": "code",
   "execution_count": 17,
   "metadata": {
    "collapsed": true
   },
   "outputs": [],
   "source": [
    "RQ1 = pd.read_csv('../../data/analysis/RQ1.csv')"
   ]
  },
  {
   "cell_type": "code",
   "execution_count": 18,
   "metadata": {
    "collapsed": true
   },
   "outputs": [],
   "source": [
    "RQ1 = RQ1.drop(RQ1.columns[[0]], axis=1)"
   ]
  },
  {
   "cell_type": "code",
   "execution_count": 19,
   "metadata": {},
   "outputs": [
    {
     "data": {
      "text/html": [
       "<div>\n",
       "<style>\n",
       "    .dataframe thead tr:only-child th {\n",
       "        text-align: right;\n",
       "    }\n",
       "\n",
       "    .dataframe thead th {\n",
       "        text-align: left;\n",
       "    }\n",
       "\n",
       "    .dataframe tbody tr th {\n",
       "        vertical-align: top;\n",
       "    }\n",
       "</style>\n",
       "<table border=\"1\" class=\"dataframe\">\n",
       "  <thead>\n",
       "    <tr style=\"text-align: right;\">\n",
       "      <th></th>\n",
       "      <th>Players</th>\n",
       "      <th>Position</th>\n",
       "      <th>club</th>\n",
       "      <th>league</th>\n",
       "      <th>age</th>\n",
       "      <th>nationality</th>\n",
       "      <th>overall</th>\n",
       "      <th>photo</th>\n",
       "      <th>injury_prone_trait</th>\n",
       "      <th>fan's_favourite_trait</th>\n",
       "      <th>Homegrown</th>\n",
       "      <th>Average Apps/Season</th>\n",
       "      <th>Previous Average Form</th>\n",
       "      <th>Apps This Season</th>\n",
       "      <th>Current Average Form</th>\n",
       "    </tr>\n",
       "  </thead>\n",
       "  <tbody>\n",
       "    <tr>\n",
       "      <th>0</th>\n",
       "      <td>Lionel Messi</td>\n",
       "      <td>Forward</td>\n",
       "      <td>FC Barcelona</td>\n",
       "      <td>Spanish Primera Division</td>\n",
       "      <td>30</td>\n",
       "      <td>Argentina</td>\n",
       "      <td>93</td>\n",
       "      <td>https://cdn.sofifa.org/18/players/158023.png</td>\n",
       "      <td>False</td>\n",
       "      <td>False</td>\n",
       "      <td>False</td>\n",
       "      <td>42.00</td>\n",
       "      <td>8.255952</td>\n",
       "      <td>33.0</td>\n",
       "      <td>7.666667</td>\n",
       "    </tr>\n",
       "    <tr>\n",
       "      <th>1</th>\n",
       "      <td>Cristiano Ronaldo</td>\n",
       "      <td>Forward</td>\n",
       "      <td>Real Madrid CF</td>\n",
       "      <td>Spanish Primera Division</td>\n",
       "      <td>32</td>\n",
       "      <td>Portugal</td>\n",
       "      <td>94</td>\n",
       "      <td>https://cdn.sofifa.org/18/players/20801.png</td>\n",
       "      <td>False</td>\n",
       "      <td>False</td>\n",
       "      <td>False</td>\n",
       "      <td>41.00</td>\n",
       "      <td>7.926829</td>\n",
       "      <td>25.0</td>\n",
       "      <td>7.280000</td>\n",
       "    </tr>\n",
       "    <tr>\n",
       "      <th>2</th>\n",
       "      <td>Luis Suarez</td>\n",
       "      <td>Forward</td>\n",
       "      <td>FC Barcelona</td>\n",
       "      <td>Spanish Primera Division</td>\n",
       "      <td>30</td>\n",
       "      <td>Uruguay</td>\n",
       "      <td>92</td>\n",
       "      <td>https://cdn.sofifa.org/18/players/176580.png</td>\n",
       "      <td>False</td>\n",
       "      <td>False</td>\n",
       "      <td>False</td>\n",
       "      <td>41.25</td>\n",
       "      <td>7.018182</td>\n",
       "      <td>29.0</td>\n",
       "      <td>6.689655</td>\n",
       "    </tr>\n",
       "    <tr>\n",
       "      <th>3</th>\n",
       "      <td>Zlatan Ibrahimovic</td>\n",
       "      <td>Forward</td>\n",
       "      <td>Manchester United</td>\n",
       "      <td>English Premier League</td>\n",
       "      <td>35</td>\n",
       "      <td>Sweden</td>\n",
       "      <td>88</td>\n",
       "      <td>https://cdn.sofifa.org/18/players/41236.png</td>\n",
       "      <td>False</td>\n",
       "      <td>False</td>\n",
       "      <td>False</td>\n",
       "      <td>37.50</td>\n",
       "      <td>6.900000</td>\n",
       "      <td>5.0</td>\n",
       "      <td>1.200000</td>\n",
       "    </tr>\n",
       "    <tr>\n",
       "      <th>4</th>\n",
       "      <td>Robert Lewandowski</td>\n",
       "      <td>Forward</td>\n",
       "      <td>FC Bayern Munich</td>\n",
       "      <td>German Bundesliga</td>\n",
       "      <td>28</td>\n",
       "      <td>Poland</td>\n",
       "      <td>91</td>\n",
       "      <td>https://cdn.sofifa.org/18/players/188545.png</td>\n",
       "      <td>False</td>\n",
       "      <td>False</td>\n",
       "      <td>False</td>\n",
       "      <td>40.00</td>\n",
       "      <td>6.050000</td>\n",
       "      <td>28.0</td>\n",
       "      <td>6.785714</td>\n",
       "    </tr>\n",
       "  </tbody>\n",
       "</table>\n",
       "</div>"
      ],
      "text/plain": [
       "              Players Position               club                    league  \\\n",
       "0        Lionel Messi  Forward       FC Barcelona  Spanish Primera Division   \n",
       "1   Cristiano Ronaldo  Forward     Real Madrid CF  Spanish Primera Division   \n",
       "2         Luis Suarez  Forward       FC Barcelona  Spanish Primera Division   \n",
       "3  Zlatan Ibrahimovic  Forward  Manchester United    English Premier League   \n",
       "4  Robert Lewandowski  Forward   FC Bayern Munich         German Bundesliga   \n",
       "\n",
       "   age nationality  overall                                         photo  \\\n",
       "0   30   Argentina       93  https://cdn.sofifa.org/18/players/158023.png   \n",
       "1   32    Portugal       94   https://cdn.sofifa.org/18/players/20801.png   \n",
       "2   30     Uruguay       92  https://cdn.sofifa.org/18/players/176580.png   \n",
       "3   35      Sweden       88   https://cdn.sofifa.org/18/players/41236.png   \n",
       "4   28      Poland       91  https://cdn.sofifa.org/18/players/188545.png   \n",
       "\n",
       "   injury_prone_trait  fan's_favourite_trait  Homegrown  Average Apps/Season  \\\n",
       "0               False                  False      False                42.00   \n",
       "1               False                  False      False                41.00   \n",
       "2               False                  False      False                41.25   \n",
       "3               False                  False      False                37.50   \n",
       "4               False                  False      False                40.00   \n",
       "\n",
       "   Previous Average Form  Apps This Season  Current Average Form  \n",
       "0               8.255952              33.0              7.666667  \n",
       "1               7.926829              25.0              7.280000  \n",
       "2               7.018182              29.0              6.689655  \n",
       "3               6.900000               5.0              1.200000  \n",
       "4               6.050000              28.0              6.785714  "
      ]
     },
     "execution_count": 19,
     "metadata": {},
     "output_type": "execute_result"
    }
   ],
   "source": [
    "RQ1.head(5)"
   ]
  },
  {
   "cell_type": "code",
   "execution_count": 20,
   "metadata": {
    "collapsed": true
   },
   "outputs": [],
   "source": [
    "RQ1_Goalkeepers = RQ1[RQ1['Position'] == 'Goalkeeper']\n",
    "RQ1_Defenders = RQ1[RQ1['Position'] == 'Defender']\n",
    "RQ1_Midfielders = RQ1[RQ1['Position'] == 'Midfielder']\n",
    "RQ1_Forwards = RQ1[RQ1['Position'] == 'Forward']"
   ]
  },
  {
   "cell_type": "markdown",
   "metadata": {},
   "source": [
    "## Reasons"
   ]
  },
  {
   "cell_type": "markdown",
   "metadata": {},
   "source": [
    "#### Age"
   ]
  },
  {
   "cell_type": "code",
   "execution_count": 21,
   "metadata": {},
   "outputs": [
    {
     "data": {
      "text/html": [
       "<div>\n",
       "<style>\n",
       "    .dataframe thead tr:only-child th {\n",
       "        text-align: right;\n",
       "    }\n",
       "\n",
       "    .dataframe thead th {\n",
       "        text-align: left;\n",
       "    }\n",
       "\n",
       "    .dataframe tbody tr th {\n",
       "        vertical-align: top;\n",
       "    }\n",
       "</style>\n",
       "<table border=\"1\" class=\"dataframe\">\n",
       "  <thead>\n",
       "    <tr style=\"text-align: right;\">\n",
       "      <th></th>\n",
       "      <th>Average Age</th>\n",
       "    </tr>\n",
       "  </thead>\n",
       "  <tbody>\n",
       "    <tr>\n",
       "      <th>All Players</th>\n",
       "      <td>27.914</td>\n",
       "    </tr>\n",
       "    <tr>\n",
       "      <th>Goalkeepers</th>\n",
       "      <td>30.0977</td>\n",
       "    </tr>\n",
       "    <tr>\n",
       "      <th>Defenders</th>\n",
       "      <td>28.3292</td>\n",
       "    </tr>\n",
       "    <tr>\n",
       "      <th>Midfielders</th>\n",
       "      <td>27.4818</td>\n",
       "    </tr>\n",
       "    <tr>\n",
       "      <th>Forwards</th>\n",
       "      <td>27.3324</td>\n",
       "    </tr>\n",
       "  </tbody>\n",
       "</table>\n",
       "</div>"
      ],
      "text/plain": [
       "            Average Age\n",
       "All Players      27.914\n",
       "Goalkeepers     30.0977\n",
       "Defenders       28.3292\n",
       "Midfielders     27.4818\n",
       "Forwards        27.3324"
      ]
     },
     "execution_count": 21,
     "metadata": {},
     "output_type": "execute_result"
    }
   ],
   "source": [
    "age = pd.DataFrame(columns = [\"Average Age\"])\n",
    "age.set_value('All Players','Average Age',RQ1.mean()['age'])\n",
    "age.set_value('Goalkeepers','Average Age',RQ1_Goalkeepers.mean()['age'])\n",
    "age.set_value('Defenders','Average Age',RQ1_Defenders.mean()['age'])\n",
    "age.set_value('Midfielders','Average Age',RQ1_Midfielders.mean()['age'])\n",
    "age.set_value('Forwards','Average Age',RQ1_Forwards.mean()['age'])"
   ]
  },
  {
   "cell_type": "markdown",
   "metadata": {},
   "source": [
    "#### Position"
   ]
  },
  {
   "cell_type": "code",
   "execution_count": 22,
   "metadata": {},
   "outputs": [
    {
     "data": {
      "text/plain": [
       "Midfielder    741\n",
       "Defender      565\n",
       "Forward       352\n",
       "Goalkeeper    133\n",
       "Name: Position, dtype: int64"
      ]
     },
     "execution_count": 22,
     "metadata": {},
     "output_type": "execute_result"
    }
   ],
   "source": [
    "RQ1[\"Position\"].value_counts()"
   ]
  },
  {
   "cell_type": "code",
   "execution_count": 23,
   "metadata": {},
   "outputs": [
    {
     "data": {
      "image/png": "[encoded data removed]",
      "text/plain": [
       "<matplotlib.figure.Figure at 0x19b7db42c88>"
      ]
     },
     "metadata": {},
     "output_type": "display_data"
    }
   ],
   "source": [
    "plt.figure(figsize=(5,5))\n",
    "\n",
    "labels = 'Midfielder', 'Defender', 'Forward', 'Goalkeeper'\n",
    "colors = ['r', 'gold','blue', 'green']\n",
    "\n",
    "plt.pie(RQ1.Position.value_counts(), labels=labels, colors=colors,\n",
    "        autopct='%1.1f%%', shadow=True, startangle=140)\n",
    " \n",
    "plt.axis('equal')\n",
    "plt.show()"
   ]
  },
  {
   "cell_type": "markdown",
   "metadata": {},
   "source": [
    "#### Leagues"
   ]
  },
  {
   "cell_type": "code",
   "execution_count": 24,
   "metadata": {},
   "outputs": [
    {
     "data": {
      "text/plain": [
       "Outside Top 5               558\n",
       "English Premier League      309\n",
       "Italian Serie A             248\n",
       "German Bundesliga           245\n",
       "Spanish Primera Division    218\n",
       "French Ligue 1              213\n",
       "Name: league, dtype: int64"
      ]
     },
     "execution_count": 24,
     "metadata": {},
     "output_type": "execute_result"
    }
   ],
   "source": [
    "RQ1[\"league\"].value_counts()"
   ]
  },
  {
   "cell_type": "code",
   "execution_count": 32,
   "metadata": {},
   "outputs": [
    {
     "data": {
      "image/png": "[encoded data removed]",
      "text/plain": [
       "<matplotlib.figure.Figure at 0x19b7ecdbc18>"
      ]
     },
     "metadata": {},
     "output_type": "display_data"
    }
   ],
   "source": [
    "plt.figure(figsize=(5,5))\n",
    "\n",
    "labels = 'Outside Top 5', 'English Premier League', 'Italian Seria A', 'German Bundesliga','Spanish Primera Division ','French Ligue 1'\n",
    "colors = ['m','r', 'gold','blue', 'green','c']\n",
    "\n",
    "plt.pie(RQ1[\"league\"].value_counts(), labels=labels, colors=colors,\n",
    "        autopct='%1.1f%%', shadow=True, startangle=140)\n",
    " \n",
    "plt.axis('equal')\n",
    "plt.show()"
   ]
  },
  {
   "cell_type": "markdown",
   "metadata": {},
   "source": [
    "#### Injury Prone"
   ]
  },
  {
   "cell_type": "code",
   "execution_count": 25,
   "metadata": {},
   "outputs": [
    {
     "data": {
      "text/plain": [
       "False    1557\n",
       "True      234\n",
       "Name: injury_prone_trait, dtype: int64"
      ]
     },
     "execution_count": 25,
     "metadata": {},
     "output_type": "execute_result"
    }
   ],
   "source": [
    "RQ1[\"injury_prone_trait\"].value_counts()"
   ]
  },
  {
   "cell_type": "code",
   "execution_count": 26,
   "metadata": {},
   "outputs": [
    {
     "data": {
      "image/png": "[encoded data removed]",
      "text/plain": [
       "<matplotlib.figure.Figure at 0x19b7da437f0>"
      ]
     },
     "metadata": {},
     "output_type": "display_data"
    }
   ],
   "source": [
    "plt.figure(figsize=(5,5))\n",
    "\n",
    "labels = 'Not Injury Prone', 'Injury Prone'\n",
    "colors = ['r', 'green']\n",
    "\n",
    "plt.pie(RQ1.injury_prone_trait.value_counts(), labels=labels, colors=colors,\n",
    "        autopct='%1.1f%%', shadow=True, startangle=140)\n",
    " \n",
    "plt.axis('equal')\n",
    "plt.show()"
   ]
  },
  {
   "cell_type": "markdown",
   "metadata": {},
   "source": [
    "#### Fan Favourite"
   ]
  },
  {
   "cell_type": "code",
   "execution_count": 27,
   "metadata": {},
   "outputs": [
    {
     "data": {
      "text/plain": [
       "False    1791\n",
       "Name: fan's_favourite_trait, dtype: int64"
      ]
     },
     "execution_count": 27,
     "metadata": {},
     "output_type": "execute_result"
    }
   ],
   "source": [
    "RQ1[\"fan's_favourite_trait\"].value_counts()"
   ]
  },
  {
   "cell_type": "markdown",
   "metadata": {},
   "source": [
    "#### Homegrown"
   ]
  },
  {
   "cell_type": "code",
   "execution_count": 28,
   "metadata": {},
   "outputs": [
    {
     "data": {
      "text/plain": [
       "False    1245\n",
       "True      546\n",
       "Name: Homegrown, dtype: int64"
      ]
     },
     "execution_count": 28,
     "metadata": {},
     "output_type": "execute_result"
    }
   ],
   "source": [
    "RQ1[\"Homegrown\"].value_counts()"
   ]
  },
  {
   "cell_type": "code",
   "execution_count": 29,
   "metadata": {},
   "outputs": [
    {
     "data": {
      "image/png": "[encoded data removed]",
      "text/plain": [
       "<matplotlib.figure.Figure at 0x19b7da9c400>"
      ]
     },
     "metadata": {},
     "output_type": "display_data"
    }
   ],
   "source": [
    "plt.figure(figsize=(5,5))\n",
    "\n",
    "labels = 'Foreign','Homegrown'\n",
    "colors = ['r','limegreen']\n",
    "\n",
    "plt.pie(RQ1[\"Homegrown\"].value_counts(), labels=labels, colors=colors,\n",
    "        autopct='%1.1f%%', shadow=True, startangle=140)\n",
    " \n",
    "plt.axis('equal')\n",
    "plt.show()"
   ]
  },
  {
   "cell_type": "code",
   "execution_count": null,
   "metadata": {
    "collapsed": true
   },
   "outputs": [],
   "source": []
  }
 ],
 "metadata": {
  "kernelspec": {
   "display_name": "Python 3",
   "language": "python",
   "name": "python3"
  },
  "language_info": {
   "codemirror_mode": {
    "name": "ipython",
    "version": 3
   },
   "file_extension": ".py",
   "mimetype": "text/x-python",
   "name": "python",
   "nbconvert_exporter": "python",
   "pygments_lexer": "ipython3",
   "version": "3.6.3"
  }
 },
 "nbformat": 4,
 "nbformat_minor": 2
}
