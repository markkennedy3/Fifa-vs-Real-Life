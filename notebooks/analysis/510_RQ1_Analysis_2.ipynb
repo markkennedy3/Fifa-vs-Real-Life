{
 "cells": [
  {
   "cell_type": "markdown",
   "metadata": {},
   "source": [
    "# 510_RQ1_Analysis_1\n",
    "## Purpose \n",
    "Initial analysis of our Reseach Question 1  \n",
    "## Datasets \n",
    "* _Input_: RQ1.csv\n",
    "* _Output_: N/A"
   ]
  },
  {
   "cell_type": "code",
   "execution_count": 1,
   "metadata": {
    "collapsed": true
   },
   "outputs": [],
   "source": [
    "import os.path\n",
    "import numpy as np\n",
    "import pandas as pd\n",
    "import matplotlib.pyplot as plt\n",
    "\n",
    "%matplotlib inline"
   ]
  },
  {
   "cell_type": "markdown",
   "metadata": {},
   "source": [
    "#### Reading in our RQ2 dataset and dropping irrelevant column and row."
   ]
  },
  {
   "cell_type": "code",
   "execution_count": 11,
   "metadata": {
    "collapsed": true
   },
   "outputs": [],
   "source": [
    "RQ1 = pd.read_csv('../../data/analysis/RQ1.csv')\n",
    "RQ1 = RQ1.drop(RQ1.columns[[0]], axis=1)\n",
    "RQ1 = RQ1.iloc[1:]"
   ]
  },
  {
   "cell_type": "code",
   "execution_count": 12,
   "metadata": {},
   "outputs": [
    {
     "data": {
      "text/html": [
       "<div>\n",
       "<style>\n",
       "    .dataframe thead tr:only-child th {\n",
       "        text-align: right;\n",
       "    }\n",
       "\n",
       "    .dataframe thead th {\n",
       "        text-align: left;\n",
       "    }\n",
       "\n",
       "    .dataframe tbody tr th {\n",
       "        vertical-align: top;\n",
       "    }\n",
       "</style>\n",
       "<table border=\"1\" class=\"dataframe\">\n",
       "  <thead>\n",
       "    <tr style=\"text-align: right;\">\n",
       "      <th></th>\n",
       "      <th>Players</th>\n",
       "      <th>Position</th>\n",
       "      <th>club</th>\n",
       "      <th>league</th>\n",
       "      <th>age</th>\n",
       "      <th>nationality</th>\n",
       "      <th>overall</th>\n",
       "      <th>photo</th>\n",
       "      <th>injury_prone_trait</th>\n",
       "      <th>fan's_favourite_trait</th>\n",
       "      <th>Average Apps/Season</th>\n",
       "      <th>Previous Average Form</th>\n",
       "      <th>Apps This Season</th>\n",
       "      <th>Current Average Form</th>\n",
       "    </tr>\n",
       "  </thead>\n",
       "  <tbody>\n",
       "    <tr>\n",
       "      <th>1</th>\n",
       "      <td>Aaron Cresswell</td>\n",
       "      <td>Defender</td>\n",
       "      <td>West Ham United</td>\n",
       "      <td>English Premier League</td>\n",
       "      <td>27.0</td>\n",
       "      <td>England</td>\n",
       "      <td>76.0</td>\n",
       "      <td>https://cdn.sofifa.org/18/players/189615.png</td>\n",
       "      <td>False</td>\n",
       "      <td>False</td>\n",
       "      <td>33.666667</td>\n",
       "      <td>2.821782</td>\n",
       "      <td>34.0</td>\n",
       "      <td>2.500000</td>\n",
       "    </tr>\n",
       "    <tr>\n",
       "      <th>2</th>\n",
       "      <td>Aaron Hughes</td>\n",
       "      <td>Defender</td>\n",
       "      <td>Heart of Midlothian</td>\n",
       "      <td>Scottish Premiership</td>\n",
       "      <td>37.0</td>\n",
       "      <td>Northern Ireland</td>\n",
       "      <td>71.0</td>\n",
       "      <td>https://cdn.sofifa.org/18/players/17725.png</td>\n",
       "      <td>True</td>\n",
       "      <td>False</td>\n",
       "      <td>37.000000</td>\n",
       "      <td>1.216216</td>\n",
       "      <td>0.0</td>\n",
       "      <td>0.000000</td>\n",
       "    </tr>\n",
       "    <tr>\n",
       "      <th>3</th>\n",
       "      <td>Aaron Hunt</td>\n",
       "      <td>Midfielder</td>\n",
       "      <td>Hamburger SV</td>\n",
       "      <td>German Bundesliga</td>\n",
       "      <td>30.0</td>\n",
       "      <td>Germany</td>\n",
       "      <td>76.0</td>\n",
       "      <td>https://cdn.sofifa.org/18/players/158138.png</td>\n",
       "      <td>True</td>\n",
       "      <td>False</td>\n",
       "      <td>29.500000</td>\n",
       "      <td>3.050847</td>\n",
       "      <td>28.0</td>\n",
       "      <td>2.428571</td>\n",
       "    </tr>\n",
       "    <tr>\n",
       "      <th>4</th>\n",
       "      <td>Aaron Lennon</td>\n",
       "      <td>Midfielder</td>\n",
       "      <td>Everton</td>\n",
       "      <td>English Premier League</td>\n",
       "      <td>30.0</td>\n",
       "      <td>England</td>\n",
       "      <td>77.0</td>\n",
       "      <td>https://cdn.sofifa.org/18/players/152747.png</td>\n",
       "      <td>False</td>\n",
       "      <td>False</td>\n",
       "      <td>30.000000</td>\n",
       "      <td>2.633333</td>\n",
       "      <td>27.0</td>\n",
       "      <td>1.888889</td>\n",
       "    </tr>\n",
       "    <tr>\n",
       "      <th>5</th>\n",
       "      <td>Aaron Niguez</td>\n",
       "      <td>Midfielder</td>\n",
       "      <td>Real Oviedo</td>\n",
       "      <td>Spanish Segunda Division</td>\n",
       "      <td>28.0</td>\n",
       "      <td>Spain</td>\n",
       "      <td>73.0</td>\n",
       "      <td>https://cdn.sofifa.org/18/players/183853.png</td>\n",
       "      <td>False</td>\n",
       "      <td>False</td>\n",
       "      <td>21.500000</td>\n",
       "      <td>1.511628</td>\n",
       "      <td>0.0</td>\n",
       "      <td>0.000000</td>\n",
       "    </tr>\n",
       "  </tbody>\n",
       "</table>\n",
       "</div>"
      ],
      "text/plain": [
       "           Players    Position                 club                    league  \\\n",
       "1  Aaron Cresswell    Defender      West Ham United    English Premier League   \n",
       "2     Aaron Hughes    Defender  Heart of Midlothian      Scottish Premiership   \n",
       "3       Aaron Hunt  Midfielder         Hamburger SV         German Bundesliga   \n",
       "4     Aaron Lennon  Midfielder              Everton    English Premier League   \n",
       "5     Aaron Niguez  Midfielder          Real Oviedo  Spanish Segunda Division   \n",
       "\n",
       "    age       nationality  overall  \\\n",
       "1  27.0           England     76.0   \n",
       "2  37.0  Northern Ireland     71.0   \n",
       "3  30.0           Germany     76.0   \n",
       "4  30.0           England     77.0   \n",
       "5  28.0             Spain     73.0   \n",
       "\n",
       "                                          photo injury_prone_trait  \\\n",
       "1  https://cdn.sofifa.org/18/players/189615.png              False   \n",
       "2   https://cdn.sofifa.org/18/players/17725.png               True   \n",
       "3  https://cdn.sofifa.org/18/players/158138.png               True   \n",
       "4  https://cdn.sofifa.org/18/players/152747.png              False   \n",
       "5  https://cdn.sofifa.org/18/players/183853.png              False   \n",
       "\n",
       "  fan's_favourite_trait  Average Apps/Season  Previous Average Form  \\\n",
       "1                 False            33.666667               2.821782   \n",
       "2                 False            37.000000               1.216216   \n",
       "3                 False            29.500000               3.050847   \n",
       "4                 False            30.000000               2.633333   \n",
       "5                 False            21.500000               1.511628   \n",
       "\n",
       "   Apps This Season  Current Average Form  \n",
       "1              34.0              2.500000  \n",
       "2               0.0              0.000000  \n",
       "3              28.0              2.428571  \n",
       "4              27.0              1.888889  \n",
       "5               0.0              0.000000  "
      ]
     },
     "execution_count": 12,
     "metadata": {},
     "output_type": "execute_result"
    }
   ],
   "source": [
    "RQ1.head(5)"
   ]
  },
  {
   "cell_type": "markdown",
   "metadata": {},
   "source": [
    "#### Seperating Dataframe into Positions"
   ]
  },
  {
   "cell_type": "code",
   "execution_count": 5,
   "metadata": {
    "collapsed": true
   },
   "outputs": [],
   "source": [
    "RQ1_Goalkeepers = RQ1[RQ1['Position'] == 'Goalkeeper']\n",
    "RQ1_Defenders = RQ1[RQ1['Position'] == 'Defender']\n",
    "RQ1_Midfielders = RQ1[RQ1['Position'] == 'Midfielder']\n",
    "RQ1_Forwards = RQ1[RQ1['Position'] == 'Forward']"
   ]
  },
  {
   "cell_type": "markdown",
   "metadata": {},
   "source": [
    "## Reasons"
   ]
  },
  {
   "cell_type": "markdown",
   "metadata": {},
   "source": [
    "#### Age"
   ]
  },
  {
   "cell_type": "code",
   "execution_count": 6,
   "metadata": {},
   "outputs": [
    {
     "data": {
      "text/html": [
       "<div>\n",
       "<style>\n",
       "    .dataframe thead tr:only-child th {\n",
       "        text-align: right;\n",
       "    }\n",
       "\n",
       "    .dataframe thead th {\n",
       "        text-align: left;\n",
       "    }\n",
       "\n",
       "    .dataframe tbody tr th {\n",
       "        vertical-align: top;\n",
       "    }\n",
       "</style>\n",
       "<table border=\"1\" class=\"dataframe\">\n",
       "  <thead>\n",
       "    <tr style=\"text-align: right;\">\n",
       "      <th></th>\n",
       "      <th>Average Age</th>\n",
       "    </tr>\n",
       "  </thead>\n",
       "  <tbody>\n",
       "    <tr>\n",
       "      <th>All Players</th>\n",
       "      <td>27.914</td>\n",
       "    </tr>\n",
       "    <tr>\n",
       "      <th>Goalkeepers</th>\n",
       "      <td>30.0977</td>\n",
       "    </tr>\n",
       "    <tr>\n",
       "      <th>Defenders</th>\n",
       "      <td>28.3292</td>\n",
       "    </tr>\n",
       "    <tr>\n",
       "      <th>Midfielders</th>\n",
       "      <td>27.4818</td>\n",
       "    </tr>\n",
       "    <tr>\n",
       "      <th>Forwards</th>\n",
       "      <td>27.3324</td>\n",
       "    </tr>\n",
       "  </tbody>\n",
       "</table>\n",
       "</div>"
      ],
      "text/plain": [
       "            Average Age\n",
       "All Players      27.914\n",
       "Goalkeepers     30.0977\n",
       "Defenders       28.3292\n",
       "Midfielders     27.4818\n",
       "Forwards        27.3324"
      ]
     },
     "execution_count": 6,
     "metadata": {},
     "output_type": "execute_result"
    }
   ],
   "source": [
    "age = pd.DataFrame(columns = [\"Average Age\"])\n",
    "age.set_value('All Players','Average Age',RQ1.mean()['age'])\n",
    "age.set_value('Goalkeepers','Average Age',RQ1_Goalkeepers.mean()['age'])\n",
    "age.set_value('Defenders','Average Age',RQ1_Defenders.mean()['age'])\n",
    "age.set_value('Midfielders','Average Age',RQ1_Midfielders.mean()['age'])\n",
    "age.set_value('Forwards','Average Age',RQ1_Forwards.mean()['age'])"
   ]
  },
  {
   "cell_type": "markdown",
   "metadata": {},
   "source": [
    "#### Position"
   ]
  },
  {
   "cell_type": "code",
   "execution_count": 7,
   "metadata": {},
   "outputs": [
    {
     "data": {
      "text/plain": [
       "Midfielder    741\n",
       "Defender      565\n",
       "Forward       352\n",
       "Goalkeeper    133\n",
       "Name: Position, dtype: int64"
      ]
     },
     "execution_count": 7,
     "metadata": {},
     "output_type": "execute_result"
    }
   ],
   "source": [
    "RQ1[\"Position\"].value_counts()"
   ]
  },
  {
   "cell_type": "code",
   "execution_count": 8,
   "metadata": {},
   "outputs": [
    {
     "data": {
      "image/png": "[encoded data removed]",
      "text/plain": [
       "<matplotlib.figure.Figure at 0x102058198>"
      ]
     },
     "metadata": {},
     "output_type": "display_data"
    }
   ],
   "source": [
    "plt.figure(figsize=(5,5))\n",
    "\n",
    "labels = 'Midfielder', 'Defender', 'Forward', 'Goalkeeper'\n",
    "colors = ['r', 'gold','blue', 'green']\n",
    "\n",
    "plt.pie(RQ1.Position.value_counts(), labels=labels, colors=colors,\n",
    "        autopct='%1.1f%%', shadow=True, startangle=140)\n",
    " \n",
    "plt.axis('equal')\n",
    "plt.show()"
   ]
  },
  {
   "cell_type": "markdown",
   "metadata": {},
   "source": [
    "#### Injury Prone"
   ]
  },
  {
   "cell_type": "code",
   "execution_count": 14,
   "metadata": {},
   "outputs": [
    {
     "data": {
      "text/plain": [
       "False    1557\n",
       "True      234\n",
       "Name: injury_prone_trait, dtype: int64"
      ]
     },
     "execution_count": 14,
     "metadata": {},
     "output_type": "execute_result"
    }
   ],
   "source": [
    "RQ1[\"injury_prone_trait\"].value_counts()"
   ]
  },
  {
   "cell_type": "code",
   "execution_count": 15,
   "metadata": {},
   "outputs": [
    {
     "data": {
      "image/png": "[encoded data removed]",
      "text/plain": [
       "<matplotlib.figure.Figure at 0x1117fbb38>"
      ]
     },
     "metadata": {},
     "output_type": "display_data"
    }
   ],
   "source": [
    "plt.figure(figsize=(5,5))\n",
    "\n",
    "labels = 'Not Injury Prone', 'Injury Prone'\n",
    "colors = ['r', 'green']\n",
    "\n",
    "plt.pie(RQ1.injury_prone_trait.value_counts(), labels=labels, colors=colors,\n",
    "        autopct='%1.1f%%', shadow=True, startangle=140)\n",
    " \n",
    "plt.axis('equal')\n",
    "plt.show()"
   ]
  },
  {
   "cell_type": "code",
   "execution_count": null,
   "metadata": {},
   "outputs": [],
   "source": []
  }
 ],
 "metadata": {
  "kernelspec": {
   "display_name": "Python 3",
   "language": "python",
   "name": "python3"
  },
  "language_info": {
   "codemirror_mode": {
    "name": "ipython",
    "version": 3
   },
   "file_extension": ".py",
   "mimetype": "text/x-python",
   "name": "python",
   "nbconvert_exporter": "python",
   "pygments_lexer": "ipython3",
   "version": "3.6.3"
  }
 },
 "nbformat": 4,
 "nbformat_minor": 2
}
