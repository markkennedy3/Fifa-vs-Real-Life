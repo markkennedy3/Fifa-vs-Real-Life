{
 "cells": [
  {
   "cell_type": "markdown",
   "metadata": {},
   "source": [
    "# 800_RQ1_Analysis \n"
   ]
  },
  {
   "cell_type": "code",
   "execution_count": 414,
   "metadata": {
    "collapsed": true
   },
   "outputs": [],
   "source": [
    "import os.path\n",
    "import numpy as np\n",
    "import pandas as pd\n",
    "import matplotlib.pyplot as plt\n",
    "from sklearn import preprocessing\n",
    "from sklearn.linear_model import LinearRegression\n",
    "import matplotlib.image as mpimg\n",
    "from matplotlib.gridspec import GridSpec\n",
    "import matplotlib.gridspec as gridspec\n",
    "import matplotlib as mpl\n",
    "%matplotlib inline"
   ]
  },
  {
   "cell_type": "code",
   "execution_count": 415,
   "metadata": {
    "collapsed": true
   },
   "outputs": [],
   "source": [
    "np.random.seed(0)"
   ]
  },
  {
   "cell_type": "code",
   "execution_count": 416,
   "metadata": {
    "collapsed": true
   },
   "outputs": [],
   "source": [
    "RQ1 = pd.read_csv('../../data/analysis/RQ1.csv')"
   ]
  },
  {
   "cell_type": "code",
   "execution_count": 417,
   "metadata": {
    "collapsed": true
   },
   "outputs": [],
   "source": [
    "RQ1 = RQ1.drop(RQ1.columns[[0]], axis=1)"
   ]
  },
  {
   "cell_type": "code",
   "execution_count": 418,
   "metadata": {},
   "outputs": [
    {
     "data": {
      "text/html": [
       "<div>\n",
       "<style>\n",
       "    .dataframe thead tr:only-child th {\n",
       "        text-align: right;\n",
       "    }\n",
       "\n",
       "    .dataframe thead th {\n",
       "        text-align: left;\n",
       "    }\n",
       "\n",
       "    .dataframe tbody tr th {\n",
       "        vertical-align: top;\n",
       "    }\n",
       "</style>\n",
       "<table border=\"1\" class=\"dataframe\">\n",
       "  <thead>\n",
       "    <tr style=\"text-align: right;\">\n",
       "      <th></th>\n",
       "      <th>Players</th>\n",
       "      <th>Position</th>\n",
       "      <th>club</th>\n",
       "      <th>league</th>\n",
       "      <th>age</th>\n",
       "      <th>nationality</th>\n",
       "      <th>overall</th>\n",
       "      <th>photo</th>\n",
       "      <th>injury_prone_trait</th>\n",
       "      <th>fan's_favourite_trait</th>\n",
       "      <th>Homegrown</th>\n",
       "      <th>Average Apps/Season</th>\n",
       "      <th>Previous Average Form</th>\n",
       "      <th>Apps This Season</th>\n",
       "      <th>Current Average Form</th>\n",
       "    </tr>\n",
       "  </thead>\n",
       "  <tbody>\n",
       "    <tr>\n",
       "      <th>0</th>\n",
       "      <td>Lionel Messi</td>\n",
       "      <td>Forward</td>\n",
       "      <td>FC Barcelona</td>\n",
       "      <td>Spanish Primera Division</td>\n",
       "      <td>30</td>\n",
       "      <td>Argentina</td>\n",
       "      <td>93</td>\n",
       "      <td>https://cdn.sofifa.org/18/players/158023.png</td>\n",
       "      <td>False</td>\n",
       "      <td>False</td>\n",
       "      <td>False</td>\n",
       "      <td>42.00</td>\n",
       "      <td>8.255952</td>\n",
       "      <td>33.0</td>\n",
       "      <td>7.666667</td>\n",
       "    </tr>\n",
       "    <tr>\n",
       "      <th>1</th>\n",
       "      <td>Cristiano Ronaldo</td>\n",
       "      <td>Forward</td>\n",
       "      <td>Real Madrid CF</td>\n",
       "      <td>Spanish Primera Division</td>\n",
       "      <td>32</td>\n",
       "      <td>Portugal</td>\n",
       "      <td>94</td>\n",
       "      <td>https://cdn.sofifa.org/18/players/20801.png</td>\n",
       "      <td>False</td>\n",
       "      <td>False</td>\n",
       "      <td>False</td>\n",
       "      <td>41.00</td>\n",
       "      <td>7.926829</td>\n",
       "      <td>25.0</td>\n",
       "      <td>7.280000</td>\n",
       "    </tr>\n",
       "    <tr>\n",
       "      <th>2</th>\n",
       "      <td>Luis Suarez</td>\n",
       "      <td>Forward</td>\n",
       "      <td>FC Barcelona</td>\n",
       "      <td>Spanish Primera Division</td>\n",
       "      <td>30</td>\n",
       "      <td>Uruguay</td>\n",
       "      <td>92</td>\n",
       "      <td>https://cdn.sofifa.org/18/players/176580.png</td>\n",
       "      <td>False</td>\n",
       "      <td>False</td>\n",
       "      <td>False</td>\n",
       "      <td>41.25</td>\n",
       "      <td>7.018182</td>\n",
       "      <td>29.0</td>\n",
       "      <td>6.689655</td>\n",
       "    </tr>\n",
       "    <tr>\n",
       "      <th>3</th>\n",
       "      <td>Zlatan Ibrahimovic</td>\n",
       "      <td>Forward</td>\n",
       "      <td>Manchester United</td>\n",
       "      <td>English Premier League</td>\n",
       "      <td>35</td>\n",
       "      <td>Sweden</td>\n",
       "      <td>88</td>\n",
       "      <td>https://cdn.sofifa.org/18/players/41236.png</td>\n",
       "      <td>False</td>\n",
       "      <td>False</td>\n",
       "      <td>False</td>\n",
       "      <td>37.50</td>\n",
       "      <td>6.900000</td>\n",
       "      <td>5.0</td>\n",
       "      <td>1.200000</td>\n",
       "    </tr>\n",
       "    <tr>\n",
       "      <th>4</th>\n",
       "      <td>Robert Lewandowski</td>\n",
       "      <td>Forward</td>\n",
       "      <td>FC Bayern Munich</td>\n",
       "      <td>German Bundesliga</td>\n",
       "      <td>28</td>\n",
       "      <td>Poland</td>\n",
       "      <td>91</td>\n",
       "      <td>https://cdn.sofifa.org/18/players/188545.png</td>\n",
       "      <td>False</td>\n",
       "      <td>False</td>\n",
       "      <td>False</td>\n",
       "      <td>40.00</td>\n",
       "      <td>6.050000</td>\n",
       "      <td>28.0</td>\n",
       "      <td>6.785714</td>\n",
       "    </tr>\n",
       "  </tbody>\n",
       "</table>\n",
       "</div>"
      ],
      "text/plain": [
       "              Players Position               club                    league  \\\n",
       "0        Lionel Messi  Forward       FC Barcelona  Spanish Primera Division   \n",
       "1   Cristiano Ronaldo  Forward     Real Madrid CF  Spanish Primera Division   \n",
       "2         Luis Suarez  Forward       FC Barcelona  Spanish Primera Division   \n",
       "3  Zlatan Ibrahimovic  Forward  Manchester United    English Premier League   \n",
       "4  Robert Lewandowski  Forward   FC Bayern Munich         German Bundesliga   \n",
       "\n",
       "   age nationality  overall                                         photo  \\\n",
       "0   30   Argentina       93  https://cdn.sofifa.org/18/players/158023.png   \n",
       "1   32    Portugal       94   https://cdn.sofifa.org/18/players/20801.png   \n",
       "2   30     Uruguay       92  https://cdn.sofifa.org/18/players/176580.png   \n",
       "3   35      Sweden       88   https://cdn.sofifa.org/18/players/41236.png   \n",
       "4   28      Poland       91  https://cdn.sofifa.org/18/players/188545.png   \n",
       "\n",
       "   injury_prone_trait  fan's_favourite_trait  Homegrown  Average Apps/Season  \\\n",
       "0               False                  False      False                42.00   \n",
       "1               False                  False      False                41.00   \n",
       "2               False                  False      False                41.25   \n",
       "3               False                  False      False                37.50   \n",
       "4               False                  False      False                40.00   \n",
       "\n",
       "   Previous Average Form  Apps This Season  Current Average Form  \n",
       "0               8.255952              33.0              7.666667  \n",
       "1               7.926829              25.0              7.280000  \n",
       "2               7.018182              29.0              6.689655  \n",
       "3               6.900000               5.0              1.200000  \n",
       "4               6.050000              28.0              6.785714  "
      ]
     },
     "execution_count": 418,
     "metadata": {},
     "output_type": "execute_result"
    }
   ],
   "source": [
    "RQ1.head(5)"
   ]
  },
  {
   "cell_type": "markdown",
   "metadata": {},
   "source": [
    "## Goalkeepers"
   ]
  },
  {
   "cell_type": "code",
   "execution_count": 419,
   "metadata": {
    "collapsed": true
   },
   "outputs": [],
   "source": [
    "RQ1_Goalkeepers = RQ1[RQ1['Position'] == 'Goalkeeper']"
   ]
  },
  {
   "cell_type": "code",
   "execution_count": 420,
   "metadata": {
    "collapsed": true
   },
   "outputs": [],
   "source": [
    "average_goalkeepers = RQ1_Goalkeepers[RQ1_Goalkeepers['overall']<85]\n",
    "worldclass_goalkeepers = RQ1_Goalkeepers[RQ1_Goalkeepers['overall']>84]"
   ]
  },
  {
   "cell_type": "code",
   "execution_count": 421,
   "metadata": {},
   "outputs": [
    {
     "data": {
      "text/plain": [
       "LinearRegression(copy_X=True, fit_intercept=True, n_jobs=1, normalize=False)"
      ]
     },
     "execution_count": 421,
     "metadata": {},
     "output_type": "execute_result"
    }
   ],
   "source": [
    "w = average_goalkeepers['overall'].values[:,np.newaxis]\n",
    "z = average_goalkeepers['Previous Average Form'].values\n",
    "average_goalkeepers_model = LinearRegression()\n",
    "average_goalkeepers_model.fit(w, z)"
   ]
  },
  {
   "cell_type": "code",
   "execution_count": 422,
   "metadata": {},
   "outputs": [
    {
     "data": {
      "text/plain": [
       "LinearRegression(copy_X=True, fit_intercept=True, n_jobs=1, normalize=False)"
      ]
     },
     "execution_count": 422,
     "metadata": {},
     "output_type": "execute_result"
    }
   ],
   "source": [
    "x = worldclass_goalkeepers['overall'].values[:,np.newaxis]\n",
    "y = worldclass_goalkeepers['Previous Average Form'].values\n",
    "worldclass_goalkeepers_model = LinearRegression()\n",
    "worldclass_goalkeepers_model.fit(x, y)"
   ]
  },
  {
   "cell_type": "code",
   "execution_count": 423,
   "metadata": {},
   "outputs": [
    {
     "name": "stderr",
     "output_type": "stream",
     "text": [
      "C:\\Users\\Mark\\Desktop\\Anaconda3\\lib\\site-packages\\ipykernel_launcher.py:1: SettingWithCopyWarning: \n",
      "A value is trying to be set on a copy of a slice from a DataFrame.\n",
      "Try using .loc[row_indexer,col_indexer] = value instead\n",
      "\n",
      "See the caveats in the documentation: http://pandas.pydata.org/pandas-docs/stable/indexing.html#indexing-view-versus-copy\n",
      "  \"\"\"Entry point for launching an IPython kernel.\n"
     ]
    }
   ],
   "source": [
    "average_goalkeepers[\"Distance\"] = average_goalkeepers['Previous Average Form'].values - average_goalkeepers_model.predict(average_goalkeepers['overall'].values[:,np.newaxis])"
   ]
  },
  {
   "cell_type": "code",
   "execution_count": 424,
   "metadata": {},
   "outputs": [
    {
     "name": "stderr",
     "output_type": "stream",
     "text": [
      "C:\\Users\\Mark\\Desktop\\Anaconda3\\lib\\site-packages\\ipykernel_launcher.py:1: SettingWithCopyWarning: \n",
      "A value is trying to be set on a copy of a slice from a DataFrame.\n",
      "Try using .loc[row_indexer,col_indexer] = value instead\n",
      "\n",
      "See the caveats in the documentation: http://pandas.pydata.org/pandas-docs/stable/indexing.html#indexing-view-versus-copy\n",
      "  \"\"\"Entry point for launching an IPython kernel.\n"
     ]
    }
   ],
   "source": [
    "worldclass_goalkeepers[\"Distance\"] = worldclass_goalkeepers['Previous Average Form'].values - worldclass_goalkeepers_model.predict(worldclass_goalkeepers['overall'].values[:,np.newaxis])"
   ]
  },
  {
   "cell_type": "code",
   "execution_count": 425,
   "metadata": {
    "collapsed": true
   },
   "outputs": [],
   "source": [
    "pos_dist_gk0 = average_goalkeepers[average_goalkeepers['Distance']>=0]['Distance'].mean()\n",
    "pos_dist_gk1 = worldclass_goalkeepers[worldclass_goalkeepers['Distance']>=0]['Distance'].mean()"
   ]
  },
  {
   "cell_type": "code",
   "execution_count": 426,
   "metadata": {
    "collapsed": true
   },
   "outputs": [],
   "source": [
    "neg_dist_gk0 = average_goalkeepers[average_goalkeepers['Distance']<0]['Distance'].mean()\n",
    "neg_dist_gk1 = worldclass_goalkeepers[worldclass_goalkeepers['Distance']<0]['Distance'].mean()"
   ]
  },
  {
   "cell_type": "code",
   "execution_count": 427,
   "metadata": {
    "collapsed": true
   },
   "outputs": [],
   "source": [
    "underrated_average_gk = average_goalkeepers[average_goalkeepers['Distance']>(pos_dist_gk0*2)]\n",
    "underrated_worldclass_gk = worldclass_goalkeepers[worldclass_goalkeepers['Distance']>pos_dist_gk1]"
   ]
  },
  {
   "cell_type": "code",
   "execution_count": 428,
   "metadata": {
    "collapsed": true
   },
   "outputs": [],
   "source": [
    "overrated_average_gk = average_goalkeepers[average_goalkeepers['Distance']<(neg_dist_gk0*2)]\n",
    "overrated_worldclass_gk = worldclass_goalkeepers[worldclass_goalkeepers['Distance']<neg_dist_gk1]"
   ]
  },
  {
   "cell_type": "code",
   "execution_count": 429,
   "metadata": {},
   "outputs": [
    {
     "name": "stderr",
     "output_type": "stream",
     "text": [
      "C:\\Users\\Mark\\Desktop\\Anaconda3\\lib\\site-packages\\ipykernel_launcher.py:1: SettingWithCopyWarning: \n",
      "A value is trying to be set on a copy of a slice from a DataFrame.\n",
      "Try using .loc[row_indexer,col_indexer] = value instead\n",
      "\n",
      "See the caveats in the documentation: http://pandas.pydata.org/pandas-docs/stable/indexing.html#indexing-view-versus-copy\n",
      "  \"\"\"Entry point for launching an IPython kernel.\n",
      "C:\\Users\\Mark\\Desktop\\Anaconda3\\lib\\site-packages\\ipykernel_launcher.py:2: SettingWithCopyWarning: \n",
      "A value is trying to be set on a copy of a slice from a DataFrame.\n",
      "Try using .loc[row_indexer,col_indexer] = value instead\n",
      "\n",
      "See the caveats in the documentation: http://pandas.pydata.org/pandas-docs/stable/indexing.html#indexing-view-versus-copy\n",
      "  \n"
     ]
    }
   ],
   "source": [
    "underrated_average_gk['Predicted Form'] = average_goalkeepers_model.predict(underrated_average_gk['overall'].values[:,np.newaxis])\n",
    "underrated_worldclass_gk['Predicted Form'] = worldclass_goalkeepers_model.predict(underrated_worldclass_gk['overall'].values[:,np.newaxis])"
   ]
  },
  {
   "cell_type": "code",
   "execution_count": 430,
   "metadata": {},
   "outputs": [
    {
     "name": "stderr",
     "output_type": "stream",
     "text": [
      "C:\\Users\\Mark\\Desktop\\Anaconda3\\lib\\site-packages\\ipykernel_launcher.py:1: SettingWithCopyWarning: \n",
      "A value is trying to be set on a copy of a slice from a DataFrame.\n",
      "Try using .loc[row_indexer,col_indexer] = value instead\n",
      "\n",
      "See the caveats in the documentation: http://pandas.pydata.org/pandas-docs/stable/indexing.html#indexing-view-versus-copy\n",
      "  \"\"\"Entry point for launching an IPython kernel.\n",
      "C:\\Users\\Mark\\Desktop\\Anaconda3\\lib\\site-packages\\ipykernel_launcher.py:2: SettingWithCopyWarning: \n",
      "A value is trying to be set on a copy of a slice from a DataFrame.\n",
      "Try using .loc[row_indexer,col_indexer] = value instead\n",
      "\n",
      "See the caveats in the documentation: http://pandas.pydata.org/pandas-docs/stable/indexing.html#indexing-view-versus-copy\n",
      "  \n"
     ]
    }
   ],
   "source": [
    "overrated_average_gk['Predicted Form'] = average_goalkeepers_model.predict(overrated_average_gk['overall'].values[:,np.newaxis])\n",
    "overrated_worldclass_gk['Predicted Form'] = worldclass_goalkeepers_model.predict(overrated_worldclass_gk['overall'].values[:,np.newaxis])"
   ]
  },
  {
   "cell_type": "code",
   "execution_count": 431,
   "metadata": {
    "collapsed": true
   },
   "outputs": [],
   "source": [
    "underrated_goalkeepers = pd.concat([underrated_average_gk ,underrated_worldclass_gk ],axis=0)"
   ]
  },
  {
   "cell_type": "code",
   "execution_count": 432,
   "metadata": {
    "collapsed": true
   },
   "outputs": [],
   "source": [
    "overrated_goalkeepers = pd.concat([overrated_average_gk ,overrated_worldclass_gk ],axis=0)"
   ]
  },
  {
   "cell_type": "code",
   "execution_count": 433,
   "metadata": {
    "collapsed": true
   },
   "outputs": [],
   "source": [
    "ag1 = underrated_average_gk['overall'].values[:,np.newaxis] \n",
    "ag2 = underrated_average_gk['Previous Average Form'].values \n",
    "ag3 = overrated_average_gk['overall'].values[:,np.newaxis] \n",
    "ag4 = overrated_average_gk['Previous Average Form'].values "
   ]
  },
  {
   "cell_type": "code",
   "execution_count": 434,
   "metadata": {},
   "outputs": [
    {
     "data": {
      "image/png": "[encoded data removed]",
      "text/plain": [
       "<matplotlib.figure.Figure at 0x1cc0b58c630>"
      ]
     },
     "metadata": {},
     "output_type": "display_data"
    }
   ],
   "source": [
    "plt.figure(figsize=(15,10)) \n",
    "plt.scatter(w, z,color='grey') \n",
    "plt.scatter(ag1, ag2,color='green',s=100) \n",
    "plt.scatter(ag3, ag4,color='red',s=100) \n",
    "plt.plot(w, average_goalkeepers_model.predict(w),color='k') \n",
    "plt.title('Average Goalkeepers', fontsize=20)\n",
    "plt.xlabel(\"Overall Rating\", fontsize=12)\n",
    "plt.ylabel(\"Average Form (Fantasy)\", fontsize=12)\n",
    "plt.show() "
   ]
  },
  {
   "cell_type": "code",
   "execution_count": 435,
   "metadata": {
    "collapsed": true
   },
   "outputs": [],
   "source": [
    "wg1 = underrated_worldclass_gk['overall'].values[:,np.newaxis] \n",
    "wg2 = underrated_worldclass_gk['Previous Average Form'].values \n",
    "wg3 = overrated_worldclass_gk['overall'].values[:,np.newaxis] \n",
    "wg4 = overrated_worldclass_gk['Previous Average Form'].values"
   ]
  },
  {
   "cell_type": "code",
   "execution_count": 436,
   "metadata": {},
   "outputs": [
    {
     "data": {
      "image/png": "[encoded data removed]",
      "text/plain": [
       "<matplotlib.figure.Figure at 0x1cc0b40d780>"
      ]
     },
     "metadata": {},
     "output_type": "display_data"
    }
   ],
   "source": [
    "plt.figure(figsize=(15,10)) \n",
    "plt.scatter(x, y,color='grey') \n",
    "plt.scatter(wg1, wg2,color='green',s=100) \n",
    "plt.scatter(wg3, wg4,color='red',s=100) \n",
    "plt.plot(x, worldclass_goalkeepers_model.predict(x),color='k') \n",
    "plt.title('Worldclass Goalkeepers', fontsize=20) \n",
    "plt.xlabel(\"Overall Rating (FIFA)\", fontsize=12)\n",
    "plt.ylabel(\"Average Form (Fantasy)\", fontsize=12)\n",
    "plt.show()"
   ]
  },
  {
   "cell_type": "markdown",
   "metadata": {},
   "source": [
    "## Defenders"
   ]
  },
  {
   "cell_type": "code",
   "execution_count": 437,
   "metadata": {
    "collapsed": true
   },
   "outputs": [],
   "source": [
    "RQ1_Defenders = RQ1[RQ1['Position'] == 'Defender']"
   ]
  },
  {
   "cell_type": "code",
   "execution_count": 438,
   "metadata": {
    "collapsed": true
   },
   "outputs": [],
   "source": [
    "average_defenders = RQ1_Defenders[RQ1_Defenders['overall']<85]\n",
    "worldclass_defenders = RQ1_Defenders[RQ1_Defenders['overall']>84]"
   ]
  },
  {
   "cell_type": "code",
   "execution_count": 439,
   "metadata": {},
   "outputs": [
    {
     "data": {
      "text/plain": [
       "LinearRegression(copy_X=True, fit_intercept=True, n_jobs=1, normalize=False)"
      ]
     },
     "execution_count": 439,
     "metadata": {},
     "output_type": "execute_result"
    }
   ],
   "source": [
    "w = average_defenders['overall'].values[:,np.newaxis]\n",
    "z = average_defenders['Previous Average Form'].values\n",
    "average_defenders_model = LinearRegression()\n",
    "average_defenders_model.fit(w, z)"
   ]
  },
  {
   "cell_type": "code",
   "execution_count": 440,
   "metadata": {},
   "outputs": [
    {
     "data": {
      "text/plain": [
       "LinearRegression(copy_X=True, fit_intercept=True, n_jobs=1, normalize=False)"
      ]
     },
     "execution_count": 440,
     "metadata": {},
     "output_type": "execute_result"
    }
   ],
   "source": [
    "x = worldclass_defenders['overall'].values[:,np.newaxis]\n",
    "y = worldclass_defenders['Previous Average Form'].values\n",
    "worldclass_defenders_model = LinearRegression()\n",
    "worldclass_defenders_model.fit(x, y)"
   ]
  },
  {
   "cell_type": "code",
   "execution_count": 441,
   "metadata": {},
   "outputs": [
    {
     "name": "stderr",
     "output_type": "stream",
     "text": [
      "C:\\Users\\Mark\\Desktop\\Anaconda3\\lib\\site-packages\\ipykernel_launcher.py:1: SettingWithCopyWarning: \n",
      "A value is trying to be set on a copy of a slice from a DataFrame.\n",
      "Try using .loc[row_indexer,col_indexer] = value instead\n",
      "\n",
      "See the caveats in the documentation: http://pandas.pydata.org/pandas-docs/stable/indexing.html#indexing-view-versus-copy\n",
      "  \"\"\"Entry point for launching an IPython kernel.\n"
     ]
    }
   ],
   "source": [
    "average_defenders[\"Distance\"] = average_defenders['Previous Average Form'].values - average_defenders_model.predict(average_defenders['overall'].values[:,np.newaxis])"
   ]
  },
  {
   "cell_type": "code",
   "execution_count": 442,
   "metadata": {},
   "outputs": [
    {
     "name": "stderr",
     "output_type": "stream",
     "text": [
      "C:\\Users\\Mark\\Desktop\\Anaconda3\\lib\\site-packages\\ipykernel_launcher.py:1: SettingWithCopyWarning: \n",
      "A value is trying to be set on a copy of a slice from a DataFrame.\n",
      "Try using .loc[row_indexer,col_indexer] = value instead\n",
      "\n",
      "See the caveats in the documentation: http://pandas.pydata.org/pandas-docs/stable/indexing.html#indexing-view-versus-copy\n",
      "  \"\"\"Entry point for launching an IPython kernel.\n"
     ]
    }
   ],
   "source": [
    "worldclass_defenders[\"Distance\"] = worldclass_defenders['Previous Average Form'].values - worldclass_defenders_model.predict(worldclass_defenders['overall'].values[:,np.newaxis])"
   ]
  },
  {
   "cell_type": "code",
   "execution_count": 443,
   "metadata": {
    "collapsed": true
   },
   "outputs": [],
   "source": [
    "pos_dist_def0 = average_defenders[average_defenders['Distance']>=0]['Distance'].mean()\n",
    "pos_dist_def1 = worldclass_defenders[worldclass_defenders['Distance']>=0]['Distance'].mean()"
   ]
  },
  {
   "cell_type": "code",
   "execution_count": 444,
   "metadata": {
    "collapsed": true
   },
   "outputs": [],
   "source": [
    "neg_dist_def0 = average_defenders[average_defenders['Distance']<0]['Distance'].mean()\n",
    "neg_dist_def1 = worldclass_defenders[worldclass_defenders['Distance']<0]['Distance'].mean()"
   ]
  },
  {
   "cell_type": "code",
   "execution_count": 445,
   "metadata": {
    "collapsed": true
   },
   "outputs": [],
   "source": [
    "underrated_average_def = average_defenders[average_defenders['Distance']>(pos_dist_def0*2)]\n",
    "underrated_worldclass_def = worldclass_defenders[worldclass_defenders['Distance']>pos_dist_def1]"
   ]
  },
  {
   "cell_type": "code",
   "execution_count": 446,
   "metadata": {
    "collapsed": true
   },
   "outputs": [],
   "source": [
    "overrated_average_def = average_defenders[average_defenders['Distance']<(neg_dist_def0*2)]\n",
    "overrated_worldclass_def = worldclass_defenders[worldclass_defenders['Distance']<neg_dist_def1]"
   ]
  },
  {
   "cell_type": "code",
   "execution_count": 447,
   "metadata": {},
   "outputs": [
    {
     "name": "stderr",
     "output_type": "stream",
     "text": [
      "C:\\Users\\Mark\\Desktop\\Anaconda3\\lib\\site-packages\\ipykernel_launcher.py:1: SettingWithCopyWarning: \n",
      "A value is trying to be set on a copy of a slice from a DataFrame.\n",
      "Try using .loc[row_indexer,col_indexer] = value instead\n",
      "\n",
      "See the caveats in the documentation: http://pandas.pydata.org/pandas-docs/stable/indexing.html#indexing-view-versus-copy\n",
      "  \"\"\"Entry point for launching an IPython kernel.\n",
      "C:\\Users\\Mark\\Desktop\\Anaconda3\\lib\\site-packages\\ipykernel_launcher.py:2: SettingWithCopyWarning: \n",
      "A value is trying to be set on a copy of a slice from a DataFrame.\n",
      "Try using .loc[row_indexer,col_indexer] = value instead\n",
      "\n",
      "See the caveats in the documentation: http://pandas.pydata.org/pandas-docs/stable/indexing.html#indexing-view-versus-copy\n",
      "  \n"
     ]
    }
   ],
   "source": [
    "underrated_average_def['Predicted Form'] = average_defenders_model.predict(underrated_average_def['overall'].values[:,np.newaxis])\n",
    "underrated_worldclass_def['Predicted Form'] = worldclass_defenders_model.predict(underrated_worldclass_def['overall'].values[:,np.newaxis])"
   ]
  },
  {
   "cell_type": "code",
   "execution_count": 448,
   "metadata": {},
   "outputs": [
    {
     "name": "stderr",
     "output_type": "stream",
     "text": [
      "C:\\Users\\Mark\\Desktop\\Anaconda3\\lib\\site-packages\\ipykernel_launcher.py:1: SettingWithCopyWarning: \n",
      "A value is trying to be set on a copy of a slice from a DataFrame.\n",
      "Try using .loc[row_indexer,col_indexer] = value instead\n",
      "\n",
      "See the caveats in the documentation: http://pandas.pydata.org/pandas-docs/stable/indexing.html#indexing-view-versus-copy\n",
      "  \"\"\"Entry point for launching an IPython kernel.\n",
      "C:\\Users\\Mark\\Desktop\\Anaconda3\\lib\\site-packages\\ipykernel_launcher.py:2: SettingWithCopyWarning: \n",
      "A value is trying to be set on a copy of a slice from a DataFrame.\n",
      "Try using .loc[row_indexer,col_indexer] = value instead\n",
      "\n",
      "See the caveats in the documentation: http://pandas.pydata.org/pandas-docs/stable/indexing.html#indexing-view-versus-copy\n",
      "  \n"
     ]
    }
   ],
   "source": [
    "overrated_average_def['Predicted Form'] = average_defenders_model.predict(overrated_average_def['overall'].values[:,np.newaxis])\n",
    "overrated_worldclass_def['Predicted Form'] = worldclass_defenders_model.predict(overrated_worldclass_def['overall'].values[:,np.newaxis])"
   ]
  },
  {
   "cell_type": "code",
   "execution_count": 449,
   "metadata": {
    "collapsed": true
   },
   "outputs": [],
   "source": [
    "underrated_defenders = pd.concat([underrated_average_def ,underrated_worldclass_def ],axis=0)"
   ]
  },
  {
   "cell_type": "code",
   "execution_count": 450,
   "metadata": {
    "collapsed": true
   },
   "outputs": [],
   "source": [
    "overrated_defenders = pd.concat([overrated_average_def ,overrated_worldclass_def ],axis=0)"
   ]
  },
  {
   "cell_type": "code",
   "execution_count": 451,
   "metadata": {
    "collapsed": true
   },
   "outputs": [],
   "source": [
    "ad1 = underrated_average_def['overall'].values[:,np.newaxis] \n",
    "ad2 = underrated_average_def['Previous Average Form'].values \n",
    "ad3 = overrated_average_def['overall'].values[:,np.newaxis] \n",
    "ad4 = overrated_average_def['Previous Average Form'].values "
   ]
  },
  {
   "cell_type": "code",
   "execution_count": 452,
   "metadata": {},
   "outputs": [
    {
     "data": {
      "image/png": "[encoded data removed]",
      "text/plain": [
       "<matplotlib.figure.Figure at 0x1cc0a1538d0>"
      ]
     },
     "metadata": {},
     "output_type": "display_data"
    }
   ],
   "source": [
    "plt.figure(figsize=(15,10)) \n",
    "plt.scatter(w, z,color='grey') \n",
    "plt.scatter(ad1, ad2,color='green',s=100) \n",
    "plt.scatter(ad3, ad4,color='red',s=100) \n",
    "plt.plot(w, average_defenders_model.predict(w),color='k') \n",
    "plt.title('Average Defenders', fontsize=20) \n",
    "plt.xlabel(\"Overall Rating (FIFA)\", fontsize=12)\n",
    "plt.ylabel(\"Average Form (Fantasy)\", fontsize=12)\n",
    "plt.show()"
   ]
  },
  {
   "cell_type": "code",
   "execution_count": 453,
   "metadata": {
    "collapsed": true
   },
   "outputs": [],
   "source": [
    "wd1 = underrated_worldclass_def['overall'].values[:,np.newaxis] \n",
    "wd2 = underrated_worldclass_def['Previous Average Form'].values \n",
    "wd3 = overrated_worldclass_def['overall'].values[:,np.newaxis] \n",
    "wd4 = overrated_worldclass_def['Previous Average Form'].values"
   ]
  },
  {
   "cell_type": "code",
   "execution_count": 454,
   "metadata": {},
   "outputs": [
    {
     "data": {
      "image/png": "[encoded data removed]",
      "text/plain": [
       "<matplotlib.figure.Figure at 0x1cc0af48438>"
      ]
     },
     "metadata": {},
     "output_type": "display_data"
    }
   ],
   "source": [
    "plt.figure(figsize=(15,10)) \n",
    "plt.scatter(x, y,color='grey') \n",
    "plt.scatter(wd1, wd2,color='green',s=100) \n",
    "plt.scatter(wd3, wd4,color='red',s=100) \n",
    "plt.plot(x, worldclass_defenders_model.predict(x),color='k') \n",
    "plt.title('Worldclass Defenders', fontsize=20) \n",
    "plt.xlabel(\"Overall Rating (FIFA)\", fontsize=12)\n",
    "plt.ylabel(\"Average Form (Fantasy)\", fontsize=12)\n",
    "plt.show()"
   ]
  },
  {
   "cell_type": "markdown",
   "metadata": {},
   "source": [
    "## Midfielders"
   ]
  },
  {
   "cell_type": "code",
   "execution_count": 455,
   "metadata": {
    "collapsed": true
   },
   "outputs": [],
   "source": [
    "RQ1_Midfielders = RQ1[RQ1['Position'] == 'Midfielder']"
   ]
  },
  {
   "cell_type": "code",
   "execution_count": 456,
   "metadata": {
    "collapsed": true
   },
   "outputs": [],
   "source": [
    "average_midfielders = RQ1_Midfielders[RQ1_Midfielders['overall']<85]\n",
    "worldclass_midfielders = RQ1_Midfielders[RQ1_Midfielders['overall']>84]"
   ]
  },
  {
   "cell_type": "code",
   "execution_count": 457,
   "metadata": {},
   "outputs": [
    {
     "data": {
      "text/plain": [
       "LinearRegression(copy_X=True, fit_intercept=True, n_jobs=1, normalize=False)"
      ]
     },
     "execution_count": 457,
     "metadata": {},
     "output_type": "execute_result"
    }
   ],
   "source": [
    "w = average_midfielders['overall'].values[:,np.newaxis]\n",
    "z = average_midfielders['Previous Average Form'].values\n",
    "average_midfielders_model = LinearRegression()\n",
    "average_midfielders_model.fit(w, z)"
   ]
  },
  {
   "cell_type": "code",
   "execution_count": 458,
   "metadata": {},
   "outputs": [
    {
     "data": {
      "text/plain": [
       "LinearRegression(copy_X=True, fit_intercept=True, n_jobs=1, normalize=False)"
      ]
     },
     "execution_count": 458,
     "metadata": {},
     "output_type": "execute_result"
    }
   ],
   "source": [
    "x = worldclass_midfielders['overall'].values[:,np.newaxis]\n",
    "y = worldclass_midfielders['Previous Average Form'].values\n",
    "worldclass_midfielders_model = LinearRegression()\n",
    "worldclass_midfielders_model.fit(x, y)"
   ]
  },
  {
   "cell_type": "code",
   "execution_count": 459,
   "metadata": {},
   "outputs": [
    {
     "name": "stderr",
     "output_type": "stream",
     "text": [
      "C:\\Users\\Mark\\Desktop\\Anaconda3\\lib\\site-packages\\ipykernel_launcher.py:1: SettingWithCopyWarning: \n",
      "A value is trying to be set on a copy of a slice from a DataFrame.\n",
      "Try using .loc[row_indexer,col_indexer] = value instead\n",
      "\n",
      "See the caveats in the documentation: http://pandas.pydata.org/pandas-docs/stable/indexing.html#indexing-view-versus-copy\n",
      "  \"\"\"Entry point for launching an IPython kernel.\n"
     ]
    }
   ],
   "source": [
    "average_midfielders[\"Distance\"] = average_midfielders['Previous Average Form'].values - average_midfielders_model.predict(average_midfielders['overall'].values[:,np.newaxis])"
   ]
  },
  {
   "cell_type": "code",
   "execution_count": 460,
   "metadata": {},
   "outputs": [
    {
     "name": "stderr",
     "output_type": "stream",
     "text": [
      "C:\\Users\\Mark\\Desktop\\Anaconda3\\lib\\site-packages\\ipykernel_launcher.py:1: SettingWithCopyWarning: \n",
      "A value is trying to be set on a copy of a slice from a DataFrame.\n",
      "Try using .loc[row_indexer,col_indexer] = value instead\n",
      "\n",
      "See the caveats in the documentation: http://pandas.pydata.org/pandas-docs/stable/indexing.html#indexing-view-versus-copy\n",
      "  \"\"\"Entry point for launching an IPython kernel.\n"
     ]
    }
   ],
   "source": [
    "worldclass_midfielders[\"Distance\"] = worldclass_midfielders['Previous Average Form'].values - worldclass_midfielders_model.predict(worldclass_midfielders['overall'].values[:,np.newaxis])"
   ]
  },
  {
   "cell_type": "code",
   "execution_count": 461,
   "metadata": {
    "collapsed": true
   },
   "outputs": [],
   "source": [
    "pos_dist_mid0 = average_midfielders[average_midfielders['Distance']>=0]['Distance'].mean()\n",
    "pos_dist_mid1 = worldclass_midfielders[worldclass_midfielders['Distance']>=0]['Distance'].mean()"
   ]
  },
  {
   "cell_type": "code",
   "execution_count": 462,
   "metadata": {
    "collapsed": true
   },
   "outputs": [],
   "source": [
    "neg_dist_mid0 = average_midfielders[average_midfielders['Distance']<0]['Distance'].mean()\n",
    "neg_dist_mid1 = worldclass_midfielders[worldclass_midfielders['Distance']<0]['Distance'].mean()"
   ]
  },
  {
   "cell_type": "code",
   "execution_count": 463,
   "metadata": {
    "collapsed": true
   },
   "outputs": [],
   "source": [
    "underrated_average_mid = average_midfielders[average_midfielders['Distance']>(pos_dist_mid0*2)]\n",
    "underrated_worldclass_mid = worldclass_midfielders[worldclass_midfielders['Distance']>pos_dist_mid1]"
   ]
  },
  {
   "cell_type": "code",
   "execution_count": 464,
   "metadata": {
    "collapsed": true
   },
   "outputs": [],
   "source": [
    "overrated_average_mid = average_midfielders[average_midfielders['Distance']<(neg_dist_mid0*2)]\n",
    "overrated_worldclass_mid = worldclass_midfielders[worldclass_midfielders['Distance']<neg_dist_mid1]"
   ]
  },
  {
   "cell_type": "code",
   "execution_count": 465,
   "metadata": {},
   "outputs": [
    {
     "name": "stderr",
     "output_type": "stream",
     "text": [
      "C:\\Users\\Mark\\Desktop\\Anaconda3\\lib\\site-packages\\ipykernel_launcher.py:1: SettingWithCopyWarning: \n",
      "A value is trying to be set on a copy of a slice from a DataFrame.\n",
      "Try using .loc[row_indexer,col_indexer] = value instead\n",
      "\n",
      "See the caveats in the documentation: http://pandas.pydata.org/pandas-docs/stable/indexing.html#indexing-view-versus-copy\n",
      "  \"\"\"Entry point for launching an IPython kernel.\n",
      "C:\\Users\\Mark\\Desktop\\Anaconda3\\lib\\site-packages\\ipykernel_launcher.py:2: SettingWithCopyWarning: \n",
      "A value is trying to be set on a copy of a slice from a DataFrame.\n",
      "Try using .loc[row_indexer,col_indexer] = value instead\n",
      "\n",
      "See the caveats in the documentation: http://pandas.pydata.org/pandas-docs/stable/indexing.html#indexing-view-versus-copy\n",
      "  \n"
     ]
    }
   ],
   "source": [
    "underrated_average_mid['Predicted Form'] = average_midfielders_model.predict(underrated_average_mid['overall'].values[:,np.newaxis])\n",
    "underrated_worldclass_mid['Predicted Form'] = worldclass_midfielders_model.predict(underrated_worldclass_mid['overall'].values[:,np.newaxis])"
   ]
  },
  {
   "cell_type": "code",
   "execution_count": 466,
   "metadata": {},
   "outputs": [
    {
     "name": "stderr",
     "output_type": "stream",
     "text": [
      "C:\\Users\\Mark\\Desktop\\Anaconda3\\lib\\site-packages\\ipykernel_launcher.py:1: SettingWithCopyWarning: \n",
      "A value is trying to be set on a copy of a slice from a DataFrame.\n",
      "Try using .loc[row_indexer,col_indexer] = value instead\n",
      "\n",
      "See the caveats in the documentation: http://pandas.pydata.org/pandas-docs/stable/indexing.html#indexing-view-versus-copy\n",
      "  \"\"\"Entry point for launching an IPython kernel.\n",
      "C:\\Users\\Mark\\Desktop\\Anaconda3\\lib\\site-packages\\ipykernel_launcher.py:2: SettingWithCopyWarning: \n",
      "A value is trying to be set on a copy of a slice from a DataFrame.\n",
      "Try using .loc[row_indexer,col_indexer] = value instead\n",
      "\n",
      "See the caveats in the documentation: http://pandas.pydata.org/pandas-docs/stable/indexing.html#indexing-view-versus-copy\n",
      "  \n"
     ]
    }
   ],
   "source": [
    "overrated_average_mid['Predicted Form'] = average_midfielders_model.predict(overrated_average_mid['overall'].values[:,np.newaxis])\n",
    "overrated_worldclass_mid['Predicted Form'] = worldclass_midfielders_model.predict(overrated_worldclass_mid['overall'].values[:,np.newaxis])"
   ]
  },
  {
   "cell_type": "code",
   "execution_count": 467,
   "metadata": {
    "collapsed": true
   },
   "outputs": [],
   "source": [
    "underrated_midfielders = pd.concat([underrated_average_mid ,underrated_worldclass_mid ],axis=0)"
   ]
  },
  {
   "cell_type": "code",
   "execution_count": 468,
   "metadata": {
    "collapsed": true
   },
   "outputs": [],
   "source": [
    "overrated_midfielders = pd.concat([overrated_average_mid ,overrated_worldclass_mid ],axis=0)"
   ]
  },
  {
   "cell_type": "code",
   "execution_count": 469,
   "metadata": {
    "collapsed": true
   },
   "outputs": [],
   "source": [
    "am1 = underrated_average_mid['overall'].values[:,np.newaxis] \n",
    "am2 = underrated_average_mid['Previous Average Form'].values \n",
    "am3 = overrated_average_mid['overall'].values[:,np.newaxis] \n",
    "am4 = overrated_average_mid['Previous Average Form'].values "
   ]
  },
  {
   "cell_type": "code",
   "execution_count": 470,
   "metadata": {},
   "outputs": [
    {
     "data": {
      "image/png": "[encoded data removed]",
      "text/plain": [
       "<matplotlib.figure.Figure at 0x1cc0a76ceb8>"
      ]
     },
     "metadata": {},
     "output_type": "display_data"
    }
   ],
   "source": [
    "plt.figure(figsize=(18,10)) \n",
    "plt.scatter(w, z,color='grey') \n",
    "plt.scatter(am1, am2,color='green',s=100) \n",
    "plt.scatter(am3, am4,color='red',s=100) \n",
    "plt.plot(w, average_midfielders_model.predict(w),color='k') \n",
    "plt.title('Average Midfielders', fontsize=20) \n",
    "plt.xlabel(\"Overall Rating (FIFA)\", fontsize=12)\n",
    "plt.ylabel(\"Average Form (Fantasy)\", fontsize=12)\n",
    "plt.show() "
   ]
  },
  {
   "cell_type": "code",
   "execution_count": 471,
   "metadata": {
    "collapsed": true
   },
   "outputs": [],
   "source": [
    "wm1 = underrated_worldclass_mid['overall'].values[:,np.newaxis] \n",
    "wm2 = underrated_worldclass_mid['Previous Average Form'].values \n",
    "wm3 = overrated_worldclass_mid['overall'].values[:,np.newaxis] \n",
    "wm4 = overrated_worldclass_mid['Previous Average Form'].values"
   ]
  },
  {
   "cell_type": "code",
   "execution_count": 472,
   "metadata": {},
   "outputs": [
    {
     "data": {
      "image/png": "[encoded data removed]",
      "text/plain": [
       "<matplotlib.figure.Figure at 0x1cc0b3e3438>"
      ]
     },
     "metadata": {},
     "output_type": "display_data"
    }
   ],
   "source": [
    "plt.figure(figsize=(18,10)) \n",
    "plt.scatter(x, y,color='grey') \n",
    "plt.scatter(wm1, wm2,color='green',s=100) \n",
    "plt.scatter(wm3, wm4,color='red',s=100) \n",
    "plt.plot(x, worldclass_midfielders_model.predict(x),color='k') \n",
    "plt.title('Worldclass Midfielders', fontsize=20) \n",
    "plt.xlabel(\"Overall Rating (FIFA)\", fontsize=12)\n",
    "plt.ylabel(\"Average Form (Fantasy)\", fontsize=12)\n",
    "plt.show()"
   ]
  },
  {
   "cell_type": "markdown",
   "metadata": {},
   "source": [
    "## Forwards"
   ]
  },
  {
   "cell_type": "code",
   "execution_count": 473,
   "metadata": {
    "collapsed": true
   },
   "outputs": [],
   "source": [
    "RQ1_Forwards = RQ1[RQ1['Position'] == 'Forward']"
   ]
  },
  {
   "cell_type": "code",
   "execution_count": 474,
   "metadata": {
    "collapsed": true
   },
   "outputs": [],
   "source": [
    "average_forwards = RQ1_Forwards[RQ1_Forwards['overall']<85]\n",
    "worldclass_forwards = RQ1_Forwards[RQ1_Forwards['overall']>84]"
   ]
  },
  {
   "cell_type": "code",
   "execution_count": 475,
   "metadata": {},
   "outputs": [
    {
     "data": {
      "text/plain": [
       "LinearRegression(copy_X=True, fit_intercept=True, n_jobs=1, normalize=False)"
      ]
     },
     "execution_count": 475,
     "metadata": {},
     "output_type": "execute_result"
    }
   ],
   "source": [
    "w = average_forwards['overall'].values[:,np.newaxis]\n",
    "z = average_forwards['Previous Average Form'].values\n",
    "average_forwards_model = LinearRegression()\n",
    "average_forwards_model.fit(w, z)"
   ]
  },
  {
   "cell_type": "code",
   "execution_count": 476,
   "metadata": {},
   "outputs": [
    {
     "data": {
      "text/plain": [
       "LinearRegression(copy_X=True, fit_intercept=True, n_jobs=1, normalize=False)"
      ]
     },
     "execution_count": 476,
     "metadata": {},
     "output_type": "execute_result"
    }
   ],
   "source": [
    "x = worldclass_forwards['overall'].values[:,np.newaxis]\n",
    "y = worldclass_forwards['Previous Average Form'].values\n",
    "worldclass_forwards_model = LinearRegression()\n",
    "worldclass_forwards_model.fit(x, y)"
   ]
  },
  {
   "cell_type": "code",
   "execution_count": 477,
   "metadata": {},
   "outputs": [
    {
     "name": "stderr",
     "output_type": "stream",
     "text": [
      "C:\\Users\\Mark\\Desktop\\Anaconda3\\lib\\site-packages\\ipykernel_launcher.py:1: SettingWithCopyWarning: \n",
      "A value is trying to be set on a copy of a slice from a DataFrame.\n",
      "Try using .loc[row_indexer,col_indexer] = value instead\n",
      "\n",
      "See the caveats in the documentation: http://pandas.pydata.org/pandas-docs/stable/indexing.html#indexing-view-versus-copy\n",
      "  \"\"\"Entry point for launching an IPython kernel.\n"
     ]
    }
   ],
   "source": [
    "average_forwards[\"Distance\"] = average_forwards['Previous Average Form'].values - average_forwards_model.predict(average_forwards['overall'].values[:,np.newaxis])"
   ]
  },
  {
   "cell_type": "code",
   "execution_count": 478,
   "metadata": {},
   "outputs": [
    {
     "name": "stderr",
     "output_type": "stream",
     "text": [
      "C:\\Users\\Mark\\Desktop\\Anaconda3\\lib\\site-packages\\ipykernel_launcher.py:1: SettingWithCopyWarning: \n",
      "A value is trying to be set on a copy of a slice from a DataFrame.\n",
      "Try using .loc[row_indexer,col_indexer] = value instead\n",
      "\n",
      "See the caveats in the documentation: http://pandas.pydata.org/pandas-docs/stable/indexing.html#indexing-view-versus-copy\n",
      "  \"\"\"Entry point for launching an IPython kernel.\n"
     ]
    }
   ],
   "source": [
    "worldclass_forwards[\"Distance\"] = worldclass_forwards['Previous Average Form'].values - worldclass_forwards_model.predict(worldclass_forwards['overall'].values[:,np.newaxis])"
   ]
  },
  {
   "cell_type": "code",
   "execution_count": 479,
   "metadata": {
    "collapsed": true
   },
   "outputs": [],
   "source": [
    "pos_dist_fwd0 = average_forwards[average_forwards['Distance']>=0]['Distance'].mean()\n",
    "pos_dist_fwd1 = worldclass_forwards[worldclass_forwards['Distance']>=0]['Distance'].mean()"
   ]
  },
  {
   "cell_type": "code",
   "execution_count": 480,
   "metadata": {
    "collapsed": true
   },
   "outputs": [],
   "source": [
    "neg_dist_fwd0 = average_forwards[average_forwards['Distance']<0]['Distance'].mean()\n",
    "neg_dist_fwd1 = worldclass_forwards[worldclass_forwards['Distance']<0]['Distance'].mean()"
   ]
  },
  {
   "cell_type": "code",
   "execution_count": 481,
   "metadata": {
    "collapsed": true
   },
   "outputs": [],
   "source": [
    "underrated_average_fwd = average_forwards[average_forwards['Distance']>(pos_dist_mid0*2)]\n",
    "underrated_worldclass_fwd = worldclass_forwards[worldclass_forwards['Distance']>pos_dist_mid1]"
   ]
  },
  {
   "cell_type": "code",
   "execution_count": 482,
   "metadata": {
    "collapsed": true
   },
   "outputs": [],
   "source": [
    "overrated_average_fwd = average_forwards[average_forwards['Distance']<(neg_dist_mid0*2)]\n",
    "overrated_worldclass_fwd = worldclass_forwards[worldclass_forwards['Distance']<neg_dist_mid1]"
   ]
  },
  {
   "cell_type": "code",
   "execution_count": 483,
   "metadata": {},
   "outputs": [
    {
     "name": "stderr",
     "output_type": "stream",
     "text": [
      "C:\\Users\\Mark\\Desktop\\Anaconda3\\lib\\site-packages\\ipykernel_launcher.py:1: SettingWithCopyWarning: \n",
      "A value is trying to be set on a copy of a slice from a DataFrame.\n",
      "Try using .loc[row_indexer,col_indexer] = value instead\n",
      "\n",
      "See the caveats in the documentation: http://pandas.pydata.org/pandas-docs/stable/indexing.html#indexing-view-versus-copy\n",
      "  \"\"\"Entry point for launching an IPython kernel.\n",
      "C:\\Users\\Mark\\Desktop\\Anaconda3\\lib\\site-packages\\ipykernel_launcher.py:2: SettingWithCopyWarning: \n",
      "A value is trying to be set on a copy of a slice from a DataFrame.\n",
      "Try using .loc[row_indexer,col_indexer] = value instead\n",
      "\n",
      "See the caveats in the documentation: http://pandas.pydata.org/pandas-docs/stable/indexing.html#indexing-view-versus-copy\n",
      "  \n"
     ]
    }
   ],
   "source": [
    "underrated_average_fwd['Predicted Form'] = average_forwards_model.predict(underrated_average_fwd['overall'].values[:,np.newaxis])\n",
    "underrated_worldclass_fwd['Predicted Form'] = worldclass_forwards_model.predict(underrated_worldclass_fwd['overall'].values[:,np.newaxis])"
   ]
  },
  {
   "cell_type": "code",
   "execution_count": 484,
   "metadata": {},
   "outputs": [
    {
     "name": "stderr",
     "output_type": "stream",
     "text": [
      "C:\\Users\\Mark\\Desktop\\Anaconda3\\lib\\site-packages\\ipykernel_launcher.py:1: SettingWithCopyWarning: \n",
      "A value is trying to be set on a copy of a slice from a DataFrame.\n",
      "Try using .loc[row_indexer,col_indexer] = value instead\n",
      "\n",
      "See the caveats in the documentation: http://pandas.pydata.org/pandas-docs/stable/indexing.html#indexing-view-versus-copy\n",
      "  \"\"\"Entry point for launching an IPython kernel.\n",
      "C:\\Users\\Mark\\Desktop\\Anaconda3\\lib\\site-packages\\ipykernel_launcher.py:2: SettingWithCopyWarning: \n",
      "A value is trying to be set on a copy of a slice from a DataFrame.\n",
      "Try using .loc[row_indexer,col_indexer] = value instead\n",
      "\n",
      "See the caveats in the documentation: http://pandas.pydata.org/pandas-docs/stable/indexing.html#indexing-view-versus-copy\n",
      "  \n"
     ]
    }
   ],
   "source": [
    "overrated_average_fwd['Predicted Form'] = average_forwards_model.predict(overrated_average_fwd['overall'].values[:,np.newaxis])\n",
    "overrated_worldclass_fwd['Predicted Form'] = worldclass_forwards_model.predict(overrated_worldclass_fwd['overall'].values[:,np.newaxis])"
   ]
  },
  {
   "cell_type": "code",
   "execution_count": 485,
   "metadata": {
    "collapsed": true
   },
   "outputs": [],
   "source": [
    "underrated_forwards = pd.concat([underrated_average_fwd ,underrated_worldclass_fwd ],axis=0)"
   ]
  },
  {
   "cell_type": "code",
   "execution_count": 486,
   "metadata": {
    "collapsed": true
   },
   "outputs": [],
   "source": [
    "overrated_forwards = pd.concat([overrated_average_fwd ,overrated_worldclass_fwd ],axis=0)"
   ]
  },
  {
   "cell_type": "code",
   "execution_count": 487,
   "metadata": {
    "collapsed": true
   },
   "outputs": [],
   "source": [
    "af1 = underrated_average_fwd['overall'].values[:,np.newaxis] \n",
    "af2 = underrated_average_fwd['Previous Average Form'].values \n",
    "af3 = overrated_average_fwd['overall'].values[:,np.newaxis] \n",
    "af4 = overrated_average_fwd['Previous Average Form'].values "
   ]
  },
  {
   "cell_type": "code",
   "execution_count": 488,
   "metadata": {},
   "outputs": [
    {
     "data": {
      "image/png": "[encoded data removed]",
      "text/plain": [
       "<matplotlib.figure.Figure at 0x1cc0b414320>"
      ]
     },
     "metadata": {},
     "output_type": "display_data"
    }
   ],
   "source": [
    "plt.figure(figsize=(18,10))\n",
    "plt.scatter(w, z,color='grey') \n",
    "plt.scatter(af1, af2,color='green',s=100) \n",
    "plt.scatter(af3, af4,color='red',s=100) \n",
    "plt.plot(w, average_forwards_model.predict(w),color='k') \n",
    "plt.title('Average Forwards', fontsize=20)\n",
    "plt.xlabel(\"Overall Rating (FIFA)\", fontsize=12)\n",
    "plt.ylabel(\"Average Form (Fantasy)\", fontsize=12)\n",
    "plt.savefig('../../data/analysis/Average Forwards.png')\n",
    "plt.show() "
   ]
  },
  {
   "cell_type": "code",
   "execution_count": 489,
   "metadata": {
    "collapsed": true
   },
   "outputs": [],
   "source": [
    "wf1 = underrated_worldclass_fwd['overall'].values[:,np.newaxis] \n",
    "wf2 = underrated_worldclass_fwd['Previous Average Form'].values \n",
    "wf3 = overrated_worldclass_fwd['overall'].values[:,np.newaxis] \n",
    "wf4 = overrated_worldclass_fwd['Previous Average Form'].values"
   ]
  },
  {
   "cell_type": "code",
   "execution_count": 490,
   "metadata": {},
   "outputs": [
    {
     "data": {
      "image/png": "[encoded data removed]",
      "text/plain": [
       "<matplotlib.figure.Figure at 0x1cc0cc25be0>"
      ]
     },
     "metadata": {},
     "output_type": "display_data"
    }
   ],
   "source": [
    "plt.figure(figsize=(18,10)) \n",
    "plt.scatter(x, y,color='grey') \n",
    "plt.scatter(wf1, wf2,color='green',s=100) \n",
    "plt.scatter(wf3, wf4,color='red',s=100) \n",
    "plt.plot(x, worldclass_forwards_model.predict(x),color='k') \n",
    "plt.title('Worldclass Forwards', fontsize=20) \n",
    "plt.xlabel(\"Overall Rating (FIFA)\", fontsize=12)\n",
    "plt.ylabel(\"Average Form (Fantasy)\", fontsize=12)\n",
    "plt.savefig('../../data/analysis/World Class Forwards.png')\n",
    "plt.show()"
   ]
  },
  {
   "cell_type": "markdown",
   "metadata": {},
   "source": [
    "## Which is more accurate at predicting real-life form: Underrated Players"
   ]
  },
  {
   "cell_type": "code",
   "execution_count": 491,
   "metadata": {
    "collapsed": true
   },
   "outputs": [],
   "source": [
    "underrated_players = pd.concat([underrated_goalkeepers,underrated_defenders,underrated_midfielders,underrated_forwards], axis=0).reset_index().drop('index',1)"
   ]
  },
  {
   "cell_type": "code",
   "execution_count": 492,
   "metadata": {
    "collapsed": true
   },
   "outputs": [],
   "source": [
    "underrated_players = underrated_players[underrated_players['Apps This Season']>0]"
   ]
  },
  {
   "cell_type": "code",
   "execution_count": 493,
   "metadata": {
    "collapsed": true
   },
   "outputs": [],
   "source": [
    "underrated_players['FIFA Rating Distance'] = abs(underrated_players['Current Average Form'] - underrated_players['Predicted Form'])\n",
    "underrated_players['Previous Form Distance'] = abs(underrated_players['Current Average Form'] - underrated_players['Previous Average Form'])\n",
    "underrated_players['Difference'] = abs(underrated_players['FIFA Rating Distance'] - underrated_players['Previous Form Distance'])"
   ]
  },
  {
   "cell_type": "code",
   "execution_count": 494,
   "metadata": {
    "collapsed": true
   },
   "outputs": [],
   "source": [
    "underrated_players.loc[underrated_players['FIFA Rating Distance']<underrated_players['Previous Form Distance'],'Verdict'] = 'FIFA Rating'\n",
    "underrated_players.loc[underrated_players['FIFA Rating Distance']>underrated_players['Previous Form Distance'],'Verdict'] = 'Previous Form'\n",
    "underrated_players.loc[underrated_players['FIFA Rating Distance'] == underrated_players['Previous Form Distance'],'Verdict'] = 'Equal'"
   ]
  },
  {
   "cell_type": "code",
   "execution_count": 495,
   "metadata": {
    "collapsed": true
   },
   "outputs": [],
   "source": [
    "x = underrated_players['Verdict'].value_counts()"
   ]
  },
  {
   "cell_type": "code",
   "execution_count": 496,
   "metadata": {},
   "outputs": [
    {
     "data": {
      "text/plain": [
       "Text(0.5,1,'Underrated Verdict')"
      ]
     },
     "execution_count": 496,
     "metadata": {},
     "output_type": "execute_result"
    },
    {
     "data": {
      "image/png": "[encoded data removed]",
      "text/plain": [
       "<matplotlib.figure.Figure at 0x1cc0b102ba8>"
      ]
     },
     "metadata": {},
     "output_type": "display_data"
    }
   ],
   "source": [
    "explode = (0.15, 0)\n",
    "labels = ['','']\n",
    "x.plot(subplots=True,kind='pie',figsize=(9,9),fontsize=14,explode=explode,autopct='%1.1f%%',shadow=True,labels=labels,colors=['lightskyblue','gold'],labeldistance=1.4)\n",
    "plt.legend(bbox_to_anchor=(1, 1, 0, 0),prop={'size':25},labels=x.index)\n",
    "plt.gca().set_title('',color='white',fontsize=30)\n",
    "plt.title('Underrated Verdict',fontsize=35,color='Black')"
   ]
  },
  {
   "cell_type": "code",
   "execution_count": 497,
   "metadata": {
    "collapsed": true
   },
   "outputs": [],
   "source": [
    "underrated_players_result = underrated_players[underrated_players['Verdict']=='Previous Form']\n",
    "underrated_players_result = underrated_players_result.sort_values('Difference', ascending=False).reset_index().drop('index',1)"
   ]
  },
  {
   "cell_type": "code",
   "execution_count": 498,
   "metadata": {},
   "outputs": [
    {
     "data": {
      "text/html": [
       "<div>\n",
       "<style>\n",
       "    .dataframe thead tr:only-child th {\n",
       "        text-align: right;\n",
       "    }\n",
       "\n",
       "    .dataframe thead th {\n",
       "        text-align: left;\n",
       "    }\n",
       "\n",
       "    .dataframe tbody tr th {\n",
       "        vertical-align: top;\n",
       "    }\n",
       "</style>\n",
       "<table border=\"1\" class=\"dataframe\">\n",
       "  <thead>\n",
       "    <tr style=\"text-align: right;\">\n",
       "      <th></th>\n",
       "      <th>Players</th>\n",
       "      <th>Position</th>\n",
       "      <th>club</th>\n",
       "      <th>league</th>\n",
       "      <th>age</th>\n",
       "      <th>nationality</th>\n",
       "      <th>overall</th>\n",
       "      <th>photo</th>\n",
       "      <th>injury_prone_trait</th>\n",
       "      <th>fan's_favourite_trait</th>\n",
       "      <th>...</th>\n",
       "      <th>Average Apps/Season</th>\n",
       "      <th>Previous Average Form</th>\n",
       "      <th>Apps This Season</th>\n",
       "      <th>Current Average Form</th>\n",
       "      <th>Distance</th>\n",
       "      <th>Predicted Form</th>\n",
       "      <th>FIFA Rating Distance</th>\n",
       "      <th>Previous Form Distance</th>\n",
       "      <th>Difference</th>\n",
       "      <th>Verdict</th>\n",
       "    </tr>\n",
       "  </thead>\n",
       "  <tbody>\n",
       "    <tr>\n",
       "      <th>0</th>\n",
       "      <td>Marco Reus</td>\n",
       "      <td>Midfielder</td>\n",
       "      <td>Borussia Dortmund</td>\n",
       "      <td>German Bundesliga</td>\n",
       "      <td>28</td>\n",
       "      <td>Germany</td>\n",
       "      <td>86</td>\n",
       "      <td>https://cdn.sofifa.org/18/players/188350.png</td>\n",
       "      <td>True</td>\n",
       "      <td>False</td>\n",
       "      <td>...</td>\n",
       "      <td>31.000000</td>\n",
       "      <td>4.806452</td>\n",
       "      <td>9.0</td>\n",
       "      <td>5.111111</td>\n",
       "      <td>1.540520</td>\n",
       "      <td>3.265931</td>\n",
       "      <td>1.845180</td>\n",
       "      <td>0.304659</td>\n",
       "      <td>1.540520</td>\n",
       "      <td>Previous Form</td>\n",
       "    </tr>\n",
       "    <tr>\n",
       "      <th>1</th>\n",
       "      <td>Junior Stanislas</td>\n",
       "      <td>Midfielder</td>\n",
       "      <td>Bournemouth</td>\n",
       "      <td>English Premier League</td>\n",
       "      <td>27</td>\n",
       "      <td>England</td>\n",
       "      <td>73</td>\n",
       "      <td>https://cdn.sofifa.org/18/players/189446.png</td>\n",
       "      <td>False</td>\n",
       "      <td>False</td>\n",
       "      <td>...</td>\n",
       "      <td>21.000000</td>\n",
       "      <td>3.476190</td>\n",
       "      <td>19.0</td>\n",
       "      <td>3.473684</td>\n",
       "      <td>1.359537</td>\n",
       "      <td>2.116653</td>\n",
       "      <td>1.357031</td>\n",
       "      <td>0.002506</td>\n",
       "      <td>1.354525</td>\n",
       "      <td>Previous Form</td>\n",
       "    </tr>\n",
       "    <tr>\n",
       "      <th>2</th>\n",
       "      <td>Roberto Firmino</td>\n",
       "      <td>Midfielder</td>\n",
       "      <td>Liverpool</td>\n",
       "      <td>English Premier League</td>\n",
       "      <td>25</td>\n",
       "      <td>Brazil</td>\n",
       "      <td>83</td>\n",
       "      <td>https://cdn.sofifa.org/18/players/201942.png</td>\n",
       "      <td>False</td>\n",
       "      <td>False</td>\n",
       "      <td>...</td>\n",
       "      <td>41.250000</td>\n",
       "      <td>3.890909</td>\n",
       "      <td>35.0</td>\n",
       "      <td>4.571429</td>\n",
       "      <td>1.156426</td>\n",
       "      <td>2.734483</td>\n",
       "      <td>1.836946</td>\n",
       "      <td>0.680519</td>\n",
       "      <td>1.156426</td>\n",
       "      <td>Previous Form</td>\n",
       "    </tr>\n",
       "    <tr>\n",
       "      <th>3</th>\n",
       "      <td>Sadio Mane</td>\n",
       "      <td>Midfielder</td>\n",
       "      <td>Liverpool</td>\n",
       "      <td>English Premier League</td>\n",
       "      <td>25</td>\n",
       "      <td>Senegal</td>\n",
       "      <td>84</td>\n",
       "      <td>https://cdn.sofifa.org/18/players/208722.png</td>\n",
       "      <td>False</td>\n",
       "      <td>False</td>\n",
       "      <td>...</td>\n",
       "      <td>31.333333</td>\n",
       "      <td>3.936170</td>\n",
       "      <td>27.0</td>\n",
       "      <td>4.370370</td>\n",
       "      <td>1.139904</td>\n",
       "      <td>2.796266</td>\n",
       "      <td>1.574105</td>\n",
       "      <td>0.434200</td>\n",
       "      <td>1.139904</td>\n",
       "      <td>Previous Form</td>\n",
       "    </tr>\n",
       "    <tr>\n",
       "      <th>4</th>\n",
       "      <td>Lucas Hernandez</td>\n",
       "      <td>Defender</td>\n",
       "      <td>Atletico Madrid</td>\n",
       "      <td>Spanish Primera Division</td>\n",
       "      <td>21</td>\n",
       "      <td>France</td>\n",
       "      <td>77</td>\n",
       "      <td>https://cdn.sofifa.org/18/players/220814.png</td>\n",
       "      <td>False</td>\n",
       "      <td>False</td>\n",
       "      <td>...</td>\n",
       "      <td>8.666667</td>\n",
       "      <td>3.576923</td>\n",
       "      <td>25.0</td>\n",
       "      <td>4.400000</td>\n",
       "      <td>1.136721</td>\n",
       "      <td>2.440202</td>\n",
       "      <td>1.959798</td>\n",
       "      <td>0.823077</td>\n",
       "      <td>1.136721</td>\n",
       "      <td>Previous Form</td>\n",
       "    </tr>\n",
       "    <tr>\n",
       "      <th>5</th>\n",
       "      <td>Nabil Fekir</td>\n",
       "      <td>Midfielder</td>\n",
       "      <td>Olympique Lyonnais</td>\n",
       "      <td>French Ligue 1</td>\n",
       "      <td>23</td>\n",
       "      <td>France</td>\n",
       "      <td>82</td>\n",
       "      <td>https://cdn.sofifa.org/18/players/216594.png</td>\n",
       "      <td>False</td>\n",
       "      <td>False</td>\n",
       "      <td>...</td>\n",
       "      <td>21.250000</td>\n",
       "      <td>3.764706</td>\n",
       "      <td>27.0</td>\n",
       "      <td>5.481481</td>\n",
       "      <td>1.092006</td>\n",
       "      <td>2.672700</td>\n",
       "      <td>2.808782</td>\n",
       "      <td>1.716776</td>\n",
       "      <td>1.092006</td>\n",
       "      <td>Previous Form</td>\n",
       "    </tr>\n",
       "    <tr>\n",
       "      <th>6</th>\n",
       "      <td>James Rodriguez</td>\n",
       "      <td>Midfielder</td>\n",
       "      <td>FC Bayern Munich</td>\n",
       "      <td>German Bundesliga</td>\n",
       "      <td>25</td>\n",
       "      <td>Colombia</td>\n",
       "      <td>86</td>\n",
       "      <td>https://cdn.sofifa.org/18/players/198710.png</td>\n",
       "      <td>False</td>\n",
       "      <td>False</td>\n",
       "      <td>...</td>\n",
       "      <td>28.000000</td>\n",
       "      <td>4.357143</td>\n",
       "      <td>21.0</td>\n",
       "      <td>4.428571</td>\n",
       "      <td>1.091212</td>\n",
       "      <td>3.265931</td>\n",
       "      <td>1.162640</td>\n",
       "      <td>0.071429</td>\n",
       "      <td>1.091212</td>\n",
       "      <td>Previous Form</td>\n",
       "    </tr>\n",
       "    <tr>\n",
       "      <th>7</th>\n",
       "      <td>Dele Alli</td>\n",
       "      <td>Midfielder</td>\n",
       "      <td>Tottenham Hotspur</td>\n",
       "      <td>English Premier League</td>\n",
       "      <td>21</td>\n",
       "      <td>England</td>\n",
       "      <td>84</td>\n",
       "      <td>https://cdn.sofifa.org/18/players/211117.png</td>\n",
       "      <td>False</td>\n",
       "      <td>False</td>\n",
       "      <td>...</td>\n",
       "      <td>35.000000</td>\n",
       "      <td>4.428571</td>\n",
       "      <td>32.0</td>\n",
       "      <td>4.156250</td>\n",
       "      <td>1.632306</td>\n",
       "      <td>2.796266</td>\n",
       "      <td>1.359984</td>\n",
       "      <td>0.272321</td>\n",
       "      <td>1.087663</td>\n",
       "      <td>Previous Form</td>\n",
       "    </tr>\n",
       "    <tr>\n",
       "      <th>8</th>\n",
       "      <td>Mauro Icardi</td>\n",
       "      <td>Forward</td>\n",
       "      <td>Inter</td>\n",
       "      <td>Italian Serie A</td>\n",
       "      <td>24</td>\n",
       "      <td>Argentina</td>\n",
       "      <td>84</td>\n",
       "      <td>https://cdn.sofifa.org/18/players/201399.png</td>\n",
       "      <td>False</td>\n",
       "      <td>False</td>\n",
       "      <td>...</td>\n",
       "      <td>38.750000</td>\n",
       "      <td>4.793548</td>\n",
       "      <td>31.0</td>\n",
       "      <td>6.483871</td>\n",
       "      <td>1.041475</td>\n",
       "      <td>3.752074</td>\n",
       "      <td>2.731797</td>\n",
       "      <td>1.690323</td>\n",
       "      <td>1.041475</td>\n",
       "      <td>Previous Form</td>\n",
       "    </tr>\n",
       "    <tr>\n",
       "      <th>9</th>\n",
       "      <td>Anthony Martial</td>\n",
       "      <td>Midfielder</td>\n",
       "      <td>Manchester United</td>\n",
       "      <td>English Premier League</td>\n",
       "      <td>21</td>\n",
       "      <td>France</td>\n",
       "      <td>82</td>\n",
       "      <td>https://cdn.sofifa.org/18/players/211300.png</td>\n",
       "      <td>False</td>\n",
       "      <td>False</td>\n",
       "      <td>...</td>\n",
       "      <td>29.500000</td>\n",
       "      <td>3.593220</td>\n",
       "      <td>29.0</td>\n",
       "      <td>3.620690</td>\n",
       "      <td>0.920520</td>\n",
       "      <td>2.672700</td>\n",
       "      <td>0.947990</td>\n",
       "      <td>0.027469</td>\n",
       "      <td>0.920520</td>\n",
       "      <td>Previous Form</td>\n",
       "    </tr>\n",
       "  </tbody>\n",
       "</table>\n",
       "<p>10 rows × 21 columns</p>\n",
       "</div>"
      ],
      "text/plain": [
       "            Players    Position                club                    league  \\\n",
       "0        Marco Reus  Midfielder   Borussia Dortmund         German Bundesliga   \n",
       "1  Junior Stanislas  Midfielder         Bournemouth    English Premier League   \n",
       "2   Roberto Firmino  Midfielder           Liverpool    English Premier League   \n",
       "3        Sadio Mane  Midfielder           Liverpool    English Premier League   \n",
       "4   Lucas Hernandez    Defender     Atletico Madrid  Spanish Primera Division   \n",
       "5       Nabil Fekir  Midfielder  Olympique Lyonnais            French Ligue 1   \n",
       "6   James Rodriguez  Midfielder    FC Bayern Munich         German Bundesliga   \n",
       "7         Dele Alli  Midfielder   Tottenham Hotspur    English Premier League   \n",
       "8      Mauro Icardi     Forward               Inter           Italian Serie A   \n",
       "9   Anthony Martial  Midfielder   Manchester United    English Premier League   \n",
       "\n",
       "   age nationality  overall                                         photo  \\\n",
       "0   28     Germany       86  https://cdn.sofifa.org/18/players/188350.png   \n",
       "1   27     England       73  https://cdn.sofifa.org/18/players/189446.png   \n",
       "2   25      Brazil       83  https://cdn.sofifa.org/18/players/201942.png   \n",
       "3   25     Senegal       84  https://cdn.sofifa.org/18/players/208722.png   \n",
       "4   21      France       77  https://cdn.sofifa.org/18/players/220814.png   \n",
       "5   23      France       82  https://cdn.sofifa.org/18/players/216594.png   \n",
       "6   25    Colombia       86  https://cdn.sofifa.org/18/players/198710.png   \n",
       "7   21     England       84  https://cdn.sofifa.org/18/players/211117.png   \n",
       "8   24   Argentina       84  https://cdn.sofifa.org/18/players/201399.png   \n",
       "9   21      France       82  https://cdn.sofifa.org/18/players/211300.png   \n",
       "\n",
       "   injury_prone_trait  fan's_favourite_trait      ...        \\\n",
       "0                True                  False      ...         \n",
       "1               False                  False      ...         \n",
       "2               False                  False      ...         \n",
       "3               False                  False      ...         \n",
       "4               False                  False      ...         \n",
       "5               False                  False      ...         \n",
       "6               False                  False      ...         \n",
       "7               False                  False      ...         \n",
       "8               False                  False      ...         \n",
       "9               False                  False      ...         \n",
       "\n",
       "   Average Apps/Season  Previous Average Form  Apps This Season  \\\n",
       "0            31.000000               4.806452               9.0   \n",
       "1            21.000000               3.476190              19.0   \n",
       "2            41.250000               3.890909              35.0   \n",
       "3            31.333333               3.936170              27.0   \n",
       "4             8.666667               3.576923              25.0   \n",
       "5            21.250000               3.764706              27.0   \n",
       "6            28.000000               4.357143              21.0   \n",
       "7            35.000000               4.428571              32.0   \n",
       "8            38.750000               4.793548              31.0   \n",
       "9            29.500000               3.593220              29.0   \n",
       "\n",
       "   Current Average Form  Distance  Predicted Form  FIFA Rating Distance  \\\n",
       "0              5.111111  1.540520        3.265931              1.845180   \n",
       "1              3.473684  1.359537        2.116653              1.357031   \n",
       "2              4.571429  1.156426        2.734483              1.836946   \n",
       "3              4.370370  1.139904        2.796266              1.574105   \n",
       "4              4.400000  1.136721        2.440202              1.959798   \n",
       "5              5.481481  1.092006        2.672700              2.808782   \n",
       "6              4.428571  1.091212        3.265931              1.162640   \n",
       "7              4.156250  1.632306        2.796266              1.359984   \n",
       "8              6.483871  1.041475        3.752074              2.731797   \n",
       "9              3.620690  0.920520        2.672700              0.947990   \n",
       "\n",
       "   Previous Form Distance  Difference        Verdict  \n",
       "0                0.304659    1.540520  Previous Form  \n",
       "1                0.002506    1.354525  Previous Form  \n",
       "2                0.680519    1.156426  Previous Form  \n",
       "3                0.434200    1.139904  Previous Form  \n",
       "4                0.823077    1.136721  Previous Form  \n",
       "5                1.716776    1.092006  Previous Form  \n",
       "6                0.071429    1.091212  Previous Form  \n",
       "7                0.272321    1.087663  Previous Form  \n",
       "8                1.690323    1.041475  Previous Form  \n",
       "9                0.027469    0.920520  Previous Form  \n",
       "\n",
       "[10 rows x 21 columns]"
      ]
     },
     "execution_count": 498,
     "metadata": {},
     "output_type": "execute_result"
    }
   ],
   "source": [
    "underrated_players_result.head(10)"
   ]
  },
  {
   "cell_type": "markdown",
   "metadata": {},
   "source": [
    "## Which is more accurate at predicting real-life form: Overerrated Players"
   ]
  },
  {
   "cell_type": "code",
   "execution_count": 499,
   "metadata": {
    "collapsed": true
   },
   "outputs": [],
   "source": [
    "overrated_players = pd.concat([overrated_goalkeepers,overrated_defenders,overrated_midfielders,overrated_forwards], axis=0).reset_index().drop('index',1)"
   ]
  },
  {
   "cell_type": "code",
   "execution_count": 500,
   "metadata": {
    "collapsed": true
   },
   "outputs": [],
   "source": [
    "overrated_players = overrated_players[overrated_players['Apps This Season']>0]"
   ]
  },
  {
   "cell_type": "code",
   "execution_count": 501,
   "metadata": {
    "collapsed": true
   },
   "outputs": [],
   "source": [
    "overrated_players['FIFA Rating Distance'] = abs(overrated_players['Current Average Form'] - overrated_players['Predicted Form'])\n",
    "overrated_players['Previous Form Distance'] = abs(overrated_players['Current Average Form'] - overrated_players['Previous Average Form'])\n",
    "overrated_players['Difference'] = abs(overrated_players['FIFA Rating Distance'] - overrated_players['Previous Form Distance'])"
   ]
  },
  {
   "cell_type": "code",
   "execution_count": 502,
   "metadata": {
    "collapsed": true
   },
   "outputs": [],
   "source": [
    "overrated_players.loc[overrated_players['FIFA Rating Distance']<overrated_players['Previous Form Distance'],'Verdict'] = 'FIFA Rating'\n",
    "overrated_players.loc[overrated_players['FIFA Rating Distance']>overrated_players['Previous Form Distance'],'Verdict'] = 'Previous Form'\n",
    "overrated_players.loc[overrated_players['FIFA Rating Distance'] == overrated_players['Previous Form Distance'],'Verdict'] = 'Equal'"
   ]
  },
  {
   "cell_type": "code",
   "execution_count": 503,
   "metadata": {
    "collapsed": true
   },
   "outputs": [],
   "source": [
    "y = overrated_players['Verdict'].value_counts()"
   ]
  },
  {
   "cell_type": "code",
   "execution_count": 504,
   "metadata": {},
   "outputs": [
    {
     "data": {
      "text/plain": [
       "Text(0.5,1,'Overrated Verdict')"
      ]
     },
     "execution_count": 504,
     "metadata": {},
     "output_type": "execute_result"
    },
    {
     "data": {
      "image/png": "[encoded data removed]",
      "text/plain": [
       "<matplotlib.figure.Figure at 0x1cc0af56198>"
      ]
     },
     "metadata": {},
     "output_type": "display_data"
    }
   ],
   "source": [
    "explode = (0.15, 0)\n",
    "labels = ['','']\n",
    "y.plot(subplots=True,kind='pie',figsize=(9,9),fontsize=14,explode=explode,autopct='%1.1f%%',shadow=True,labels=labels,colors=['gold','lightskyblue'],labeldistance=1.4)\n",
    "plt.legend(bbox_to_anchor=(1, 1, 0, 0),prop={'size':25},labels=y.index)\n",
    "plt.gca().set_title('',color='white',fontsize=30)\n",
    "plt.title('Overrated Verdict',fontsize=35,color='Black')"
   ]
  },
  {
   "cell_type": "code",
   "execution_count": 505,
   "metadata": {
    "collapsed": true
   },
   "outputs": [],
   "source": [
    "overrated_players_result = overrated_players[overrated_players['Verdict']=='Previous Form']\n",
    "overrated_players_result = overrated_players_result.sort_values('Difference', ascending=False).reset_index().drop('index',1)"
   ]
  },
  {
   "cell_type": "code",
   "execution_count": 506,
   "metadata": {},
   "outputs": [
    {
     "data": {
      "text/html": [
       "<div>\n",
       "<style>\n",
       "    .dataframe thead tr:only-child th {\n",
       "        text-align: right;\n",
       "    }\n",
       "\n",
       "    .dataframe thead th {\n",
       "        text-align: left;\n",
       "    }\n",
       "\n",
       "    .dataframe tbody tr th {\n",
       "        vertical-align: top;\n",
       "    }\n",
       "</style>\n",
       "<table border=\"1\" class=\"dataframe\">\n",
       "  <thead>\n",
       "    <tr style=\"text-align: right;\">\n",
       "      <th></th>\n",
       "      <th>Players</th>\n",
       "      <th>Position</th>\n",
       "      <th>club</th>\n",
       "      <th>league</th>\n",
       "      <th>age</th>\n",
       "      <th>nationality</th>\n",
       "      <th>overall</th>\n",
       "      <th>photo</th>\n",
       "      <th>injury_prone_trait</th>\n",
       "      <th>fan's_favourite_trait</th>\n",
       "      <th>...</th>\n",
       "      <th>Average Apps/Season</th>\n",
       "      <th>Previous Average Form</th>\n",
       "      <th>Apps This Season</th>\n",
       "      <th>Current Average Form</th>\n",
       "      <th>Distance</th>\n",
       "      <th>Predicted Form</th>\n",
       "      <th>FIFA Rating Distance</th>\n",
       "      <th>Previous Form Distance</th>\n",
       "      <th>Difference</th>\n",
       "      <th>Verdict</th>\n",
       "    </tr>\n",
       "  </thead>\n",
       "  <tbody>\n",
       "    <tr>\n",
       "      <th>0</th>\n",
       "      <td>Manu Trigueros</td>\n",
       "      <td>Forward</td>\n",
       "      <td>Villarreal CF</td>\n",
       "      <td>Spanish Primera Division</td>\n",
       "      <td>25</td>\n",
       "      <td>Spain</td>\n",
       "      <td>82</td>\n",
       "      <td>https://cdn.sofifa.org/18/players/206545.png</td>\n",
       "      <td>False</td>\n",
       "      <td>False</td>\n",
       "      <td>...</td>\n",
       "      <td>34.250000</td>\n",
       "      <td>2.094891</td>\n",
       "      <td>31.0</td>\n",
       "      <td>2.129032</td>\n",
       "      <td>-1.423461</td>\n",
       "      <td>3.518352</td>\n",
       "      <td>1.389319</td>\n",
       "      <td>0.034142</td>\n",
       "      <td>1.355178</td>\n",
       "      <td>Previous Form</td>\n",
       "    </tr>\n",
       "    <tr>\n",
       "      <th>1</th>\n",
       "      <td>Marco Verratti</td>\n",
       "      <td>Midfielder</td>\n",
       "      <td>Paris Saint-Germain</td>\n",
       "      <td>French Ligue 1</td>\n",
       "      <td>24</td>\n",
       "      <td>Italy</td>\n",
       "      <td>87</td>\n",
       "      <td>https://cdn.sofifa.org/18/players/199556.png</td>\n",
       "      <td>False</td>\n",
       "      <td>False</td>\n",
       "      <td>...</td>\n",
       "      <td>33.500000</td>\n",
       "      <td>2.231343</td>\n",
       "      <td>22.0</td>\n",
       "      <td>1.909091</td>\n",
       "      <td>-1.258388</td>\n",
       "      <td>3.489731</td>\n",
       "      <td>1.580641</td>\n",
       "      <td>0.322252</td>\n",
       "      <td>1.258388</td>\n",
       "      <td>Previous Form</td>\n",
       "    </tr>\n",
       "    <tr>\n",
       "      <th>2</th>\n",
       "      <td>N'Golo Kante</td>\n",
       "      <td>Midfielder</td>\n",
       "      <td>Chelsea</td>\n",
       "      <td>English Premier League</td>\n",
       "      <td>26</td>\n",
       "      <td>France</td>\n",
       "      <td>87</td>\n",
       "      <td>https://cdn.sofifa.org/18/players/215914.png</td>\n",
       "      <td>False</td>\n",
       "      <td>False</td>\n",
       "      <td>...</td>\n",
       "      <td>36.333333</td>\n",
       "      <td>2.284404</td>\n",
       "      <td>31.0</td>\n",
       "      <td>2.161290</td>\n",
       "      <td>-1.205328</td>\n",
       "      <td>3.489731</td>\n",
       "      <td>1.328441</td>\n",
       "      <td>0.123113</td>\n",
       "      <td>1.205328</td>\n",
       "      <td>Previous Form</td>\n",
       "    </tr>\n",
       "    <tr>\n",
       "      <th>3</th>\n",
       "      <td>Luka Modric</td>\n",
       "      <td>Midfielder</td>\n",
       "      <td>Real Madrid CF</td>\n",
       "      <td>Spanish Primera Division</td>\n",
       "      <td>31</td>\n",
       "      <td>Croatia</td>\n",
       "      <td>89</td>\n",
       "      <td>https://cdn.sofifa.org/18/players/177003.png</td>\n",
       "      <td>False</td>\n",
       "      <td>False</td>\n",
       "      <td>...</td>\n",
       "      <td>35.000000</td>\n",
       "      <td>2.400000</td>\n",
       "      <td>23.0</td>\n",
       "      <td>2.608696</td>\n",
       "      <td>-1.537332</td>\n",
       "      <td>3.937332</td>\n",
       "      <td>1.328636</td>\n",
       "      <td>0.208696</td>\n",
       "      <td>1.119941</td>\n",
       "      <td>Previous Form</td>\n",
       "    </tr>\n",
       "    <tr>\n",
       "      <th>4</th>\n",
       "      <td>Erik Moran</td>\n",
       "      <td>Forward</td>\n",
       "      <td>CD Leganes</td>\n",
       "      <td>Spanish Primera Division</td>\n",
       "      <td>26</td>\n",
       "      <td>Spain</td>\n",
       "      <td>72</td>\n",
       "      <td>https://cdn.sofifa.org/18/players/201991.png</td>\n",
       "      <td>False</td>\n",
       "      <td>False</td>\n",
       "      <td>...</td>\n",
       "      <td>9.666667</td>\n",
       "      <td>1.275862</td>\n",
       "      <td>6.0</td>\n",
       "      <td>1.000000</td>\n",
       "      <td>-1.073880</td>\n",
       "      <td>2.349742</td>\n",
       "      <td>1.349742</td>\n",
       "      <td>0.275862</td>\n",
       "      <td>1.073880</td>\n",
       "      <td>Previous Form</td>\n",
       "    </tr>\n",
       "    <tr>\n",
       "      <th>5</th>\n",
       "      <td>Jorge Mere</td>\n",
       "      <td>Defender</td>\n",
       "      <td>1. FC Koln</td>\n",
       "      <td>German Bundesliga</td>\n",
       "      <td>20</td>\n",
       "      <td>Spain</td>\n",
       "      <td>78</td>\n",
       "      <td>https://cdn.sofifa.org/18/players/223033.png</td>\n",
       "      <td>False</td>\n",
       "      <td>False</td>\n",
       "      <td>...</td>\n",
       "      <td>28.000000</td>\n",
       "      <td>1.339286</td>\n",
       "      <td>21.0</td>\n",
       "      <td>1.428571</td>\n",
       "      <td>-1.182865</td>\n",
       "      <td>2.522151</td>\n",
       "      <td>1.093580</td>\n",
       "      <td>0.089286</td>\n",
       "      <td>1.004294</td>\n",
       "      <td>Previous Form</td>\n",
       "    </tr>\n",
       "    <tr>\n",
       "      <th>6</th>\n",
       "      <td>Muhamed Besic</td>\n",
       "      <td>Midfielder</td>\n",
       "      <td>Everton</td>\n",
       "      <td>English Premier League</td>\n",
       "      <td>24</td>\n",
       "      <td>Bosnia Herzegovina</td>\n",
       "      <td>76</td>\n",
       "      <td>https://cdn.sofifa.org/18/players/200765.png</td>\n",
       "      <td>True</td>\n",
       "      <td>False</td>\n",
       "      <td>...</td>\n",
       "      <td>17.500000</td>\n",
       "      <td>1.371429</td>\n",
       "      <td>2.0</td>\n",
       "      <td>1.000000</td>\n",
       "      <td>-0.930574</td>\n",
       "      <td>2.302002</td>\n",
       "      <td>1.302002</td>\n",
       "      <td>0.371429</td>\n",
       "      <td>0.930574</td>\n",
       "      <td>Previous Form</td>\n",
       "    </tr>\n",
       "    <tr>\n",
       "      <th>7</th>\n",
       "      <td>Nordin Amrabat</td>\n",
       "      <td>Forward</td>\n",
       "      <td>CD Leganes</td>\n",
       "      <td>Spanish Primera Division</td>\n",
       "      <td>30</td>\n",
       "      <td>Morocco</td>\n",
       "      <td>79</td>\n",
       "      <td>https://cdn.sofifa.org/18/players/183108.png</td>\n",
       "      <td>False</td>\n",
       "      <td>False</td>\n",
       "      <td>...</td>\n",
       "      <td>25.000000</td>\n",
       "      <td>2.300000</td>\n",
       "      <td>31.0</td>\n",
       "      <td>2.000000</td>\n",
       "      <td>-0.867769</td>\n",
       "      <td>3.167769</td>\n",
       "      <td>1.167769</td>\n",
       "      <td>0.300000</td>\n",
       "      <td>0.867769</td>\n",
       "      <td>Previous Form</td>\n",
       "    </tr>\n",
       "    <tr>\n",
       "      <th>8</th>\n",
       "      <td>Tobias Strobl</td>\n",
       "      <td>Defender</td>\n",
       "      <td>Borussia Monchengladbach</td>\n",
       "      <td>German Bundesliga</td>\n",
       "      <td>27</td>\n",
       "      <td>Germany</td>\n",
       "      <td>76</td>\n",
       "      <td>https://cdn.sofifa.org/18/players/207894.png</td>\n",
       "      <td>False</td>\n",
       "      <td>False</td>\n",
       "      <td>...</td>\n",
       "      <td>27.250000</td>\n",
       "      <td>1.513761</td>\n",
       "      <td>3.0</td>\n",
       "      <td>0.333333</td>\n",
       "      <td>-0.844491</td>\n",
       "      <td>2.358253</td>\n",
       "      <td>2.024919</td>\n",
       "      <td>1.180428</td>\n",
       "      <td>0.844491</td>\n",
       "      <td>Previous Form</td>\n",
       "    </tr>\n",
       "    <tr>\n",
       "      <th>9</th>\n",
       "      <td>Alexis Sanchez</td>\n",
       "      <td>Forward</td>\n",
       "      <td>Arsenal</td>\n",
       "      <td>English Premier League</td>\n",
       "      <td>28</td>\n",
       "      <td>Chile</td>\n",
       "      <td>89</td>\n",
       "      <td>https://cdn.sofifa.org/18/players/184941.png</td>\n",
       "      <td>False</td>\n",
       "      <td>False</td>\n",
       "      <td>...</td>\n",
       "      <td>41.500000</td>\n",
       "      <td>4.879518</td>\n",
       "      <td>29.0</td>\n",
       "      <td>3.862069</td>\n",
       "      <td>-0.841256</td>\n",
       "      <td>5.720774</td>\n",
       "      <td>1.858705</td>\n",
       "      <td>1.017449</td>\n",
       "      <td>0.841256</td>\n",
       "      <td>Previous Form</td>\n",
       "    </tr>\n",
       "  </tbody>\n",
       "</table>\n",
       "<p>10 rows × 21 columns</p>\n",
       "</div>"
      ],
      "text/plain": [
       "          Players    Position                      club  \\\n",
       "0  Manu Trigueros     Forward             Villarreal CF   \n",
       "1  Marco Verratti  Midfielder       Paris Saint-Germain   \n",
       "2    N'Golo Kante  Midfielder                   Chelsea   \n",
       "3     Luka Modric  Midfielder            Real Madrid CF   \n",
       "4      Erik Moran     Forward                CD Leganes   \n",
       "5      Jorge Mere    Defender                1. FC Koln   \n",
       "6   Muhamed Besic  Midfielder                   Everton   \n",
       "7  Nordin Amrabat     Forward                CD Leganes   \n",
       "8   Tobias Strobl    Defender  Borussia Monchengladbach   \n",
       "9  Alexis Sanchez     Forward                   Arsenal   \n",
       "\n",
       "                     league  age         nationality  overall  \\\n",
       "0  Spanish Primera Division   25               Spain       82   \n",
       "1            French Ligue 1   24               Italy       87   \n",
       "2    English Premier League   26              France       87   \n",
       "3  Spanish Primera Division   31             Croatia       89   \n",
       "4  Spanish Primera Division   26               Spain       72   \n",
       "5         German Bundesliga   20               Spain       78   \n",
       "6    English Premier League   24  Bosnia Herzegovina       76   \n",
       "7  Spanish Primera Division   30             Morocco       79   \n",
       "8         German Bundesliga   27             Germany       76   \n",
       "9    English Premier League   28               Chile       89   \n",
       "\n",
       "                                          photo  injury_prone_trait  \\\n",
       "0  https://cdn.sofifa.org/18/players/206545.png               False   \n",
       "1  https://cdn.sofifa.org/18/players/199556.png               False   \n",
       "2  https://cdn.sofifa.org/18/players/215914.png               False   \n",
       "3  https://cdn.sofifa.org/18/players/177003.png               False   \n",
       "4  https://cdn.sofifa.org/18/players/201991.png               False   \n",
       "5  https://cdn.sofifa.org/18/players/223033.png               False   \n",
       "6  https://cdn.sofifa.org/18/players/200765.png                True   \n",
       "7  https://cdn.sofifa.org/18/players/183108.png               False   \n",
       "8  https://cdn.sofifa.org/18/players/207894.png               False   \n",
       "9  https://cdn.sofifa.org/18/players/184941.png               False   \n",
       "\n",
       "   fan's_favourite_trait      ...        Average Apps/Season  \\\n",
       "0                  False      ...                  34.250000   \n",
       "1                  False      ...                  33.500000   \n",
       "2                  False      ...                  36.333333   \n",
       "3                  False      ...                  35.000000   \n",
       "4                  False      ...                   9.666667   \n",
       "5                  False      ...                  28.000000   \n",
       "6                  False      ...                  17.500000   \n",
       "7                  False      ...                  25.000000   \n",
       "8                  False      ...                  27.250000   \n",
       "9                  False      ...                  41.500000   \n",
       "\n",
       "   Previous Average Form  Apps This Season  Current Average Form  Distance  \\\n",
       "0               2.094891              31.0              2.129032 -1.423461   \n",
       "1               2.231343              22.0              1.909091 -1.258388   \n",
       "2               2.284404              31.0              2.161290 -1.205328   \n",
       "3               2.400000              23.0              2.608696 -1.537332   \n",
       "4               1.275862               6.0              1.000000 -1.073880   \n",
       "5               1.339286              21.0              1.428571 -1.182865   \n",
       "6               1.371429               2.0              1.000000 -0.930574   \n",
       "7               2.300000              31.0              2.000000 -0.867769   \n",
       "8               1.513761               3.0              0.333333 -0.844491   \n",
       "9               4.879518              29.0              3.862069 -0.841256   \n",
       "\n",
       "   Predicted Form  FIFA Rating Distance  Previous Form Distance  Difference  \\\n",
       "0        3.518352              1.389319                0.034142    1.355178   \n",
       "1        3.489731              1.580641                0.322252    1.258388   \n",
       "2        3.489731              1.328441                0.123113    1.205328   \n",
       "3        3.937332              1.328636                0.208696    1.119941   \n",
       "4        2.349742              1.349742                0.275862    1.073880   \n",
       "5        2.522151              1.093580                0.089286    1.004294   \n",
       "6        2.302002              1.302002                0.371429    0.930574   \n",
       "7        3.167769              1.167769                0.300000    0.867769   \n",
       "8        2.358253              2.024919                1.180428    0.844491   \n",
       "9        5.720774              1.858705                1.017449    0.841256   \n",
       "\n",
       "         Verdict  \n",
       "0  Previous Form  \n",
       "1  Previous Form  \n",
       "2  Previous Form  \n",
       "3  Previous Form  \n",
       "4  Previous Form  \n",
       "5  Previous Form  \n",
       "6  Previous Form  \n",
       "7  Previous Form  \n",
       "8  Previous Form  \n",
       "9  Previous Form  \n",
       "\n",
       "[10 rows x 21 columns]"
      ]
     },
     "execution_count": 506,
     "metadata": {},
     "output_type": "execute_result"
    }
   ],
   "source": [
    "overrated_players_result.head(10)"
   ]
  },
  {
   "cell_type": "markdown",
   "metadata": {},
   "source": [
    "## Reasons for players being over/underrated "
   ]
  },
  {
   "cell_type": "code",
   "execution_count": 507,
   "metadata": {},
   "outputs": [],
   "source": [
    "underrated_goalkeepers = underrated_players_result[underrated_players_result['Position'] == 'Goalkeeper']\n",
    "underrated_defenders = underrated_players_result[underrated_players_result['Position'] == 'Defender']\n",
    "underrated_midfielders = underrated_players_result[underrated_players_result['Position'] == 'Midfielder']\n",
    "underrated_forwards = underrated_players_result[underrated_players_result['Position'] == 'Forward']"
   ]
  },
  {
   "cell_type": "code",
   "execution_count": 508,
   "metadata": {
    "collapsed": true
   },
   "outputs": [],
   "source": [
    "overrated_goalkeepers = overrated_players_result[overrated_players_result['Position'] == 'Goalkeeper']\n",
    "overrated_defenders = overrated_players_result[overrated_players_result['Position'] == 'Defender']\n",
    "overrated_midfielders = overrated_players_result[overrated_players_result['Position'] == 'Midfielder']\n",
    "overrated_forwards = overrated_players_result[overrated_players_result['Position'] == 'Forward']"
   ]
  },
  {
   "cell_type": "markdown",
   "metadata": {},
   "source": [
    "#### 1. Age"
   ]
  },
  {
   "cell_type": "code",
   "execution_count": 509,
   "metadata": {},
   "outputs": [
    {
     "data": {
      "text/html": [
       "<div>\n",
       "<style>\n",
       "    .dataframe thead tr:only-child th {\n",
       "        text-align: right;\n",
       "    }\n",
       "\n",
       "    .dataframe thead th {\n",
       "        text-align: left;\n",
       "    }\n",
       "\n",
       "    .dataframe tbody tr th {\n",
       "        vertical-align: top;\n",
       "    }\n",
       "</style>\n",
       "<table border=\"1\" class=\"dataframe\">\n",
       "  <thead>\n",
       "    <tr style=\"text-align: right;\">\n",
       "      <th></th>\n",
       "      <th>Goalkeepers</th>\n",
       "      <th>Defenders</th>\n",
       "      <th>Midfielders</th>\n",
       "      <th>Forwards</th>\n",
       "    </tr>\n",
       "  </thead>\n",
       "  <tbody>\n",
       "    <tr>\n",
       "      <th>All</th>\n",
       "      <td>30.0977</td>\n",
       "      <td>28.3292</td>\n",
       "      <td>27.4818</td>\n",
       "      <td>27.3324</td>\n",
       "    </tr>\n",
       "    <tr>\n",
       "      <th>Overrated</th>\n",
       "      <td>NaN</td>\n",
       "      <td>26.75</td>\n",
       "      <td>25.88</td>\n",
       "      <td>25.3846</td>\n",
       "    </tr>\n",
       "    <tr>\n",
       "      <th>Underrated</th>\n",
       "      <td>29</td>\n",
       "      <td>26</td>\n",
       "      <td>25.8824</td>\n",
       "      <td>28</td>\n",
       "    </tr>\n",
       "  </tbody>\n",
       "</table>\n",
       "</div>"
      ],
      "text/plain": [
       "           Goalkeepers Defenders Midfielders Forwards\n",
       "All            30.0977   28.3292     27.4818  27.3324\n",
       "Overrated          NaN     26.75       25.88  25.3846\n",
       "Underrated          29        26     25.8824       28"
      ]
     },
     "execution_count": 509,
     "metadata": {},
     "output_type": "execute_result"
    }
   ],
   "source": [
    "age = pd.DataFrame(columns = ['Goalkeepers','Defenders','Midfielders','Forwards'])\n",
    "age.set_value('All','Goalkeepers',RQ1_Goalkeepers.mean()['age'])\n",
    "age.set_value('Overrated ','Goalkeepers',overrated_goalkeepers.mean()['age'])\n",
    "age.set_value('Underrated','Goalkeepers',underrated_goalkeepers.mean()['age'])\n",
    "age.set_value('All','Defenders',RQ1_Defenders.mean()['age'])\n",
    "age.set_value('Overrated ','Defenders',overrated_defenders.mean()['age'])\n",
    "age.set_value('Underrated','Defenders',underrated_defenders.mean()['age'])\n",
    "age.set_value('All','Midfielders',RQ1_Midfielders.mean()['age'])\n",
    "age.set_value('Overrated ','Midfielders',overrated_midfielders.mean()['age'])\n",
    "age.set_value('Underrated','Midfielders',underrated_midfielders.mean()['age'])\n",
    "age.set_value('All','Forwards',RQ1_Forwards.mean()['age'])\n",
    "age.set_value('Overrated ','Forwards',overrated_forwards.mean()['age'])\n",
    "age.set_value('Underrated','Forwards',underrated_forwards.mean()['age'])"
   ]
  },
  {
   "cell_type": "markdown",
   "metadata": {},
   "source": [
    "#### 2. Apps"
   ]
  },
  {
   "cell_type": "code",
   "execution_count": 510,
   "metadata": {},
   "outputs": [
    {
     "data": {
      "text/html": [
       "<div>\n",
       "<style>\n",
       "    .dataframe thead tr:only-child th {\n",
       "        text-align: right;\n",
       "    }\n",
       "\n",
       "    .dataframe thead th {\n",
       "        text-align: left;\n",
       "    }\n",
       "\n",
       "    .dataframe tbody tr th {\n",
       "        vertical-align: top;\n",
       "    }\n",
       "</style>\n",
       "<table border=\"1\" class=\"dataframe\">\n",
       "  <thead>\n",
       "    <tr style=\"text-align: right;\">\n",
       "      <th></th>\n",
       "      <th>All Players</th>\n",
       "      <th>Underrated Players</th>\n",
       "      <th>Overrated Players</th>\n",
       "    </tr>\n",
       "  </thead>\n",
       "  <tbody>\n",
       "    <tr>\n",
       "      <th>Average Apps/Season</th>\n",
       "      <td>29.0289</td>\n",
       "      <td>28.6789</td>\n",
       "      <td>30.6105</td>\n",
       "    </tr>\n",
       "    <tr>\n",
       "      <th>Apps This Season</th>\n",
       "      <td>14.2808</td>\n",
       "      <td>25.8235</td>\n",
       "      <td>21.7174</td>\n",
       "    </tr>\n",
       "  </tbody>\n",
       "</table>\n",
       "</div>"
      ],
      "text/plain": [
       "                    All Players Underrated Players Overrated Players\n",
       "Average Apps/Season     29.0289            28.6789           30.6105\n",
       "Apps This Season        14.2808            25.8235           21.7174"
      ]
     },
     "execution_count": 510,
     "metadata": {},
     "output_type": "execute_result"
    }
   ],
   "source": [
    "apps = pd.DataFrame(columns = [\"All Players\",\"Underrated Players\", \"Overrated Players\"])\n",
    "apps.set_value('Average Apps/Season','All Players',RQ1.mean()['Average Apps/Season'])\n",
    "apps.set_value('Average Apps/Season','Underrated Players',underrated_players_result.mean()['Average Apps/Season'])\n",
    "apps.set_value('Average Apps/Season','Overrated Players',overrated_players_result.mean()['Average Apps/Season'])\n",
    "apps.set_value('Apps This Season','All Players',RQ1.mean()['Apps This Season'])\n",
    "apps.set_value('Apps This Season','Underrated Players',underrated_players_result.mean()['Apps This Season'])\n",
    "apps.set_value('Apps This Season','Overrated Players',overrated_players_result.mean()['Apps This Season'])"
   ]
  },
  {
   "cell_type": "code",
   "execution_count": 511,
   "metadata": {},
   "outputs": [
    {
     "data": {
      "image/png": "[encoded data removed]",
      "text/plain": [
       "<matplotlib.figure.Figure at 0x1cc0af0a2e8>"
      ]
     },
     "metadata": {},
     "output_type": "display_data"
    }
   ],
   "source": [
    "colors = ['skyblue','green','r']\n",
    "ax = apps.plot(kind='bar', figsize=(15, 10), legend=True, fontsize=12,color=colors)\n",
    "ax.set_title(\"Apperances This Season vs Last Season\",size=20)\n",
    "ax.set_xlabel(\"\")\n",
    "ax.set_ylabel(\"Apperances\", fontsize=20)\n",
    "plt.setp(ax.get_xticklabels(), rotation='horizontal', fontsize=25)\n",
    "plt.show()"
   ]
  },
  {
   "cell_type": "markdown",
   "metadata": {},
   "source": [
    "#### 3. Position"
   ]
  },
  {
   "cell_type": "code",
   "execution_count": 556,
   "metadata": {},
   "outputs": [
    {
     "data": {
      "text/plain": [
       "Position\n",
       "Midfielder    33\n",
       "Defender      20\n",
       "Forward       11\n",
       "Goalkeeper     9\n",
       "Name: Players, dtype: int64"
      ]
     },
     "execution_count": 556,
     "metadata": {},
     "output_type": "execute_result"
    }
   ],
   "source": [
    "position_underrated = underrated_players.groupby('Position').count().sort_values('Players', ascending=False)['Players']\n",
    "position_underrated"
   ]
  },
  {
   "cell_type": "code",
   "execution_count": 557,
   "metadata": {},
   "outputs": [
    {
     "data": {
      "text/plain": [
       "Position\n",
       "Midfielder    17\n",
       "Defender       9\n",
       "Forward        3\n",
       "Goalkeeper     5\n",
       "Name: Players, dtype: int64"
      ]
     },
     "execution_count": 557,
     "metadata": {},
     "output_type": "execute_result"
    }
   ],
   "source": [
    "position_underrated_result = underrated_players_result.groupby('Position').count().sort_values('Players', ascending=False)['Players']\n",
    "position_underrated_result = position_underrated_result.reindex(['Midfielder','Defender','Forward','Goalkeeper'])\n",
    "position_underrated_result"
   ]
  },
  {
   "cell_type": "code",
   "execution_count": 560,
   "metadata": {},
   "outputs": [
    {
     "data": {
      "text/plain": [
       "Position\n",
       "Midfielder    16\n",
       "Defender      11\n",
       "Forward        8\n",
       "Goalkeeper     4\n",
       "Name: Players, dtype: int64"
      ]
     },
     "execution_count": 560,
     "metadata": {},
     "output_type": "execute_result"
    }
   ],
   "source": [
    "difference = position_underrated - position_underrated_result\n",
    "difference"
   ]
  },
  {
   "cell_type": "code",
   "execution_count": 559,
   "metadata": {},
   "outputs": [
    {
     "data": {
      "image/png": "[encoded data removed]",
      "text/plain": [
       "<matplotlib.figure.Figure at 0x1cc0e384710>"
      ]
     },
     "metadata": {},
     "output_type": "display_data"
    }
   ],
   "source": [
    "X = range(4)\n",
    "\n",
    "plt.bar(X, position_underrated_result, color = 'b')\n",
    "plt.bar(X, difference, color = 'r', bottom = position_underrated_result)\n",
    "plt.show()"
   ]
  },
  {
   "cell_type": "code",
   "execution_count": 563,
   "metadata": {},
   "outputs": [
    {
     "data": {
      "text/plain": [
       "Position\n",
       "Midfielder    32\n",
       "Defender      21\n",
       "Forward       19\n",
       "Goalkeeper     6\n",
       "Name: Players, dtype: int64"
      ]
     },
     "execution_count": 563,
     "metadata": {},
     "output_type": "execute_result"
    }
   ],
   "source": [
    "position_overrated = overrated_players.groupby('Position').count().sort_values('Players', ascending=False)['Players']\n",
    "position_overrated"
   ]
  },
  {
   "cell_type": "code",
   "execution_count": 570,
   "metadata": {},
   "outputs": [
    {
     "data": {
      "text/plain": [
       "Position\n",
       "Midfielder    25.0\n",
       "Defender       8.0\n",
       "Forward       13.0\n",
       "Goalkeeper     NaN\n",
       "Name: Players, dtype: float64"
      ]
     },
     "execution_count": 570,
     "metadata": {},
     "output_type": "execute_result"
    }
   ],
   "source": [
    "position_overrated_result = overrated_players_result.groupby('Position').count().sort_values('Players', ascending=False)['Players']\n",
    "position_overrated_result = position_overrated_result.reindex(['Midfielder','Defender','Forward','Goalkeeper'])\n",
    "position_overrated_result"
   ]
  },
  {
   "cell_type": "code",
   "execution_count": 571,
   "metadata": {},
   "outputs": [
    {
     "data": {
      "text/plain": [
       "Position\n",
       "Midfielder     7.0\n",
       "Defender      13.0\n",
       "Forward        6.0\n",
       "Goalkeeper     NaN\n",
       "Name: Players, dtype: float64"
      ]
     },
     "execution_count": 571,
     "metadata": {},
     "output_type": "execute_result"
    }
   ],
   "source": [
    "difference = position_overrated - position_overrated_result\n",
    "difference"
   ]
  },
  {
   "cell_type": "code",
   "execution_count": 572,
   "metadata": {},
   "outputs": [
    {
     "data": {
      "image/png": "[encoded data removed]",
      "text/plain": [
       "<matplotlib.figure.Figure at 0x1cc0e8a3eb8>"
      ]
     },
     "metadata": {},
     "output_type": "display_data"
    }
   ],
   "source": [
    "X = range(4)\n",
    "\n",
    "plt.bar(X, position_overrated_result, color = 'b')\n",
    "plt.bar(X, difference, color = 'r', bottom = position_overrated_result)\n",
    "plt.show()"
   ]
  },
  {
   "cell_type": "markdown",
   "metadata": {},
   "source": [
    "#### 4. League"
   ]
  },
  {
   "cell_type": "markdown",
   "metadata": {},
   "source": [
    "#### 5. Injury Prone"
   ]
  },
  {
   "cell_type": "code",
   "execution_count": 573,
   "metadata": {},
   "outputs": [
    {
     "data": {
      "text/plain": [
       "<matplotlib.patches.Circle at 0x1cc0ce5ee10>"
      ]
     },
     "execution_count": 573,
     "metadata": {},
     "output_type": "execute_result"
    },
    {
     "data": {
      "image/png": "[encoded data removed]",
      "text/plain": [
       "<matplotlib.figure.Figure at 0x1cc0e334c50>"
      ]
     },
     "metadata": {},
     "output_type": "display_data"
    }
   ],
   "source": [
    "mpl.rcParams['font.size'] = 15\n",
    "the_grid = GridSpec(6,6)\n",
    "\n",
    "RQ1['injury_prone_trait'].plot(figsize=(20,20))\n",
    "\n",
    "plt.subplot(the_grid[1,2], aspect=1)\n",
    "explode2 = (0.1, 0)\n",
    "plt.pie(underrated_players['injury_prone_trait'].value_counts(),labels=['',''],labeldistance=1.2,startangle=0,autopct='%.1f%%',shadow=True, radius=2,colors=['limegreen','r'],explode=explode2)\n",
    "plt.gca().set_title('Underrated',color='white',fontsize=25)\n",
    "centre_circle = plt.Circle((0,0),0.79,fc='white')\n",
    "fig = plt.gcf()\n",
    "fig.gca().add_artist(centre_circle)\n",
    "\n",
    "plt.subplot(the_grid[1, 4], aspect=1)\n",
    "explode2 = (0.1, 0)\n",
    "plt.pie(overrated_players['injury_prone_trait'].value_counts(),labels=['',''],labeldistance=1.2,startangle=0,autopct='%.1f%%',shadow=True, radius=2,colors=['limegreen','r'],explode=explode2)\n",
    "plt.gca().set_title('Overrated',color='white',fontsize=25)\n",
    "centre_circle = plt.Circle((0,0),0.79,fc='white')\n",
    "fig = plt.gcf()\n",
    "fig.gca().add_artist(centre_circle)"
   ]
  },
  {
   "cell_type": "markdown",
   "metadata": {},
   "source": [
    "#### 6. Homegrown"
   ]
  },
  {
   "cell_type": "code",
   "execution_count": 574,
   "metadata": {},
   "outputs": [
    {
     "data": {
      "text/plain": [
       "<matplotlib.patches.Circle at 0x1cc0df9f208>"
      ]
     },
     "execution_count": 574,
     "metadata": {},
     "output_type": "execute_result"
    },
    {
     "data": {
      "image/png": "[encoded data removed]",
      "text/plain": [
       "<matplotlib.figure.Figure at 0x1cc0e334240>"
      ]
     },
     "metadata": {},
     "output_type": "display_data"
    }
   ],
   "source": [
    "mpl.rcParams['font.size'] = 15\n",
    "the_grid = GridSpec(6,6)\n",
    "\n",
    "RQ1['Homegrown'].plot(figsize=(20,20))\n",
    "\n",
    "plt.subplot(the_grid[4, 2], aspect=1)\n",
    "explode2 = (0.1, 0)\n",
    "plt.pie(underrated_players['Homegrown'].value_counts(),labels=['',''],labeldistance=1.2,startangle=0,autopct='%.1f%%',shadow=True, radius=2,colors=['limegreen','r'],explode=explode2)\n",
    "plt.gca().set_title('Underrated',color='white',fontsize=25)\n",
    "centre_circle = plt.Circle((0,0),0.79,fc='white')\n",
    "fig = plt.gcf()\n",
    "fig.gca().add_artist(centre_circle)\n",
    "\n",
    "plt.subplot(the_grid[4, 4], aspect=1)\n",
    "explode2 = (0.1, 0)\n",
    "plt.pie(overrated_players['Homegrown'].value_counts(),labels=['',''],labeldistance=1.2,startangle=0,autopct='%.1f%%',shadow=True, radius=2,colors=['limegreen','r'],explode=explode2)\n",
    "plt.gca().set_title('Overrated',color='white',fontsize=25)\n",
    "centre_circle = plt.Circle((0,0),0.79,fc='white')\n",
    "fig = plt.gcf()\n",
    "fig.gca().add_artist(centre_circle)"
   ]
  },
  {
   "cell_type": "markdown",
   "metadata": {},
   "source": [
    "# Under/Overrated XI's\n"
   ]
  },
  {
   "cell_type": "code",
   "execution_count": null,
   "metadata": {
    "collapsed": true
   },
   "outputs": [],
   "source": [
    "underrated_goalkeepers = underrated_players[underrated_players['Position']=='Goalkeeper']\n",
    "underrated_defenders = underrated_players[underrated_players['Position']=='Defender']\n",
    "underrated_midfielders = underrated_players[underrated_players['Position']=='Midfielder']\n",
    "underrated_forwards = underrated_players[underrated_players['Position']=='Forward']"
   ]
  },
  {
   "cell_type": "code",
   "execution_count": null,
   "metadata": {
    "collapsed": true
   },
   "outputs": [],
   "source": [
    "underrated_goalkeepers = underrated_goalkeepers.sort_values('Difference',ascending=False)\n",
    "underrated_goalkeeper = underrated_goalkeepers.head(1)\n",
    "\n",
    "underrated_defenders = underrated_defenders.sort_values('Difference',ascending=False)\n",
    "underrated_defender = underrated_defenders.head(4)\n",
    "\n",
    "\n",
    "underrated_midfielders = underrated_midfielders.sort_values('Difference',ascending=False)\n",
    "underrated_midfielder = underrated_midfielders.head(4)\n",
    "\n",
    "\n",
    "underrated_forwards = underrated_forwards.sort_values('Difference',ascending=False)\n",
    "underrated_forward = underrated_forwards.head(2)\n",
    "\n",
    "underrated_XI= pd.concat([underrated_goalkeeper,underrated_defender,underrated_midfielder,underrated_forward])"
   ]
  },
  {
   "cell_type": "code",
   "execution_count": null,
   "metadata": {
    "collapsed": true
   },
   "outputs": [],
   "source": [
    "underrated_XI['photo'] = underrated_XI['photo'].replace('/18/','/1x/18/', regex=True)\n",
    "underrated_XI = underrated_XI.reset_index()\n",
    "underrated_XI['Predicted Form'] = underrated_XI['Predicted Form'].round(2)\n",
    "underrated_XI['Predicted Form'] = underrated_XI['Predicted Form'].astype(str)\n",
    "Squad_Rating = underrated_XI['overall'].sum()/11\n",
    "Squad_Rating = str(Squad_Rating)"
   ]
  },
  {
   "cell_type": "code",
   "execution_count": null,
   "metadata": {},
   "outputs": [],
   "source": [
    "underrated_XI.round(2)"
   ]
  },
  {
   "cell_type": "code",
   "execution_count": null,
   "metadata": {
    "collapsed": true
   },
   "outputs": [],
   "source": [
    "JoinedUnderratedImages = underrated_XI['photo'].as_matrix() \n",
    "GK1 = mpimg.imread(JoinedUnderratedImages [0]) \n",
    "DF1 = mpimg.imread(JoinedUnderratedImages [1]) \n",
    "DF2 = mpimg.imread(JoinedUnderratedImages [2]) \n",
    "DF3 = mpimg.imread(JoinedUnderratedImages [3]) \n",
    "DF4 = mpimg.imread(JoinedUnderratedImages [4]) \n",
    "MD1 = mpimg.imread(JoinedUnderratedImages [5]) \n",
    "MD2 = mpimg.imread(JoinedUnderratedImages [6]) \n",
    "MD3 = mpimg.imread(JoinedUnderratedImages [7]) \n",
    "MD4 = mpimg.imread(JoinedUnderratedImages [8]) \n",
    "FW1 = mpimg.imread(JoinedUnderratedImages [9]) \n",
    "FW2 = mpimg.imread(JoinedUnderratedImages [10])"
   ]
  },
  {
   "cell_type": "code",
   "execution_count": null,
   "metadata": {},
   "outputs": [],
   "source": [
    "f, axarr = plt.subplots(4,7,figsize=(15,15))\n",
    "fig = plt.figure()\n",
    "axarr[0,0].set_visible(False)\n",
    "axarr[0,1].set_visible(False)\n",
    "axarr[0,3].set_visible(False)\n",
    "axarr[0,5].set_visible(False)\n",
    "axarr[0,6].set_visible(False)\n",
    "axarr[1,0].set_visible(False)\n",
    "axarr[1,1].set_visible(False)\n",
    "axarr[2,0].set_visible(False)\n",
    "axarr[2,1].set_visible(False)\n",
    "axarr[1,4].set_visible(False)\n",
    "axarr[2,4].set_visible(False)\n",
    "axarr[3,0].set_visible(False)\n",
    "axarr[3,1].set_visible(False)\n",
    "axarr[3,4].set_visible(False)\n",
    "axarr[3,6].set_visible(False)\n",
    "axarr[3,4].set_visible(False)\n",
    "axarr[3,2].set_visible(False)\n",
    "axarr[3,6].set_visible(False)\n",
    "\n",
    "\n",
    "axarr[0,2].set_title('Squad Rating: ' + Squad_Rating[:5])\n",
    "axarr[0,2].axis('off')\n",
    "\n",
    "axarr[0,4].imshow(GK1)\n",
    "axarr[0,4].set_title(underrated_XI['Players'].loc[0] + '\\n' + ' Pred: ' + underrated_XI['Predicted Form'].loc[0] + '\\n' ) \n",
    "axarr[0,4].axis('off')\n",
    "\n",
    "\n",
    "axarr[1,2].imshow(DF1)\n",
    "axarr[1,2].set_title(underrated_XI['Players'].loc[1] + '\\n' + ' Pred: ' + underrated_XI['Predicted Form'].loc[1] + '\\n' ) \n",
    "axarr[1,2].axis('off')\n",
    "\n",
    "\n",
    "axarr[1,3].imshow(DF2)\n",
    "axarr[1,3].set_title(underrated_XI['Players'].loc[2] + '\\n' + ' Pred: ' + underrated_XI['Predicted Form'].loc[2] + '\\n')\n",
    "axarr[1,3].axis('off')\n",
    "\n",
    "\n",
    "axarr[1,5].imshow(DF3)\n",
    "axarr[1,5].set_title(underrated_XI['Players'].loc[3] + '\\n' + ' Pred: ' + underrated_XI['Predicted Form'].loc[3] + '\\n') \n",
    "axarr[1,5].axis('off')\n",
    "\n",
    "\n",
    "axarr[1,6].imshow(DF4)\n",
    "axarr[1,6].set_title(underrated_XI['Players'].loc[4] + '\\n' + ' Pred: ' + underrated_XI['Predicted Form'].loc[4] + '\\n') \n",
    "axarr[1,6].axis('off')\n",
    "\n",
    "\n",
    "axarr[2,2].imshow(MD1)\n",
    "axarr[2,2].set_title(underrated_XI['Players'].loc[5] + '\\n' + ' Pred: ' + underrated_XI['Predicted Form'].loc[5] + '\\n') \n",
    "axarr[2,2].axis('off')\n",
    "\n",
    "\n",
    "axarr[2,3].imshow(MD2)\n",
    "axarr[2,3].set_title(underrated_XI['Players'].loc[6] + '\\n' + ' Pred: ' + underrated_XI['Predicted Form'].loc[6] + '\\n') \n",
    "axarr[2,3].axis('off')\n",
    "\n",
    "\n",
    "axarr[2,5].imshow(MD3)\n",
    "axarr[2,5].set_title(underrated_XI['Players'].loc[7] + '\\n' + ' Pred: ' + underrated_XI['Predicted Form'].loc[7] + '\\n') \n",
    "axarr[2,5].axis('off')\n",
    "\n",
    "\n",
    "axarr[2,6].imshow(MD4)\n",
    "axarr[2,6].set_title(underrated_XI['Players'].loc[8] + '\\n' + ' Pred: ' + underrated_XI['Predicted Form'].loc[8] + '\\n') \n",
    "axarr[2,6].axis('off')\n",
    "\n",
    "\n",
    "axarr[3,3].imshow(FW1)\n",
    "axarr[3,3].set_title(underrated_XI['Players'].loc[9] + '\\n' + ' Pred: ' + underrated_XI['Predicted Form'].loc[9] + '\\n') \n",
    "axarr[3,3].axis('off')\n",
    "\n",
    "axarr[3,5].imshow(FW2)\n",
    "axarr[3,5].set_title(underrated_XI['Players'].loc[10] + '\\n' + ' Pred: ' + underrated_XI['Predicted Form'].loc[10] + '\\n') \n",
    "axarr[3,5].axis('off')\n",
    "\n",
    "\n",
    "f.savefig('../../data/analysis/Underrated_XI.png')\n"
   ]
  },
  {
   "cell_type": "code",
   "execution_count": null,
   "metadata": {
    "collapsed": true
   },
   "outputs": [],
   "source": [
    "overrated_goalkeepers = overrated_players[overrated_players['Position']=='Goalkeeper']\n",
    "overrated_defenders = overrated_players[overrated_players['Position']=='Defender']\n",
    "overrated_midfielders = overrated_players[overrated_players['Position']=='Midfielder']\n",
    "overrated_forwards = overrated_players[overrated_players['Position']=='Forward']"
   ]
  },
  {
   "cell_type": "code",
   "execution_count": null,
   "metadata": {
    "collapsed": true
   },
   "outputs": [],
   "source": [
    "overrated_goalkeepers = overrated_goalkeepers.sort_values('Difference',ascending=False)\n",
    "overrated_goalkeeper = overrated_goalkeepers.head(1)\n",
    "\n",
    "overrated_defenders = overrated_defenders.sort_values('Difference',ascending=False)\n",
    "overrated_defender = overrated_defenders.head(4)\n",
    "\n",
    "\n",
    "overrated_midfielders = overrated_midfielders.sort_values('Difference',ascending=False)\n",
    "overrated_midfielder = overrated_midfielders.head(4)\n",
    "\n",
    "\n",
    "overrated_forwards = overrated_forwards.sort_values('Difference',ascending=False)\n",
    "overrated_forward = overrated_forwards.head(2)\n",
    "\n",
    "overrated_XI= pd.concat([overrated_goalkeeper,overrated_defender,overrated_midfielder,overrated_forward])"
   ]
  },
  {
   "cell_type": "code",
   "execution_count": null,
   "metadata": {
    "collapsed": true
   },
   "outputs": [],
   "source": [
    "overrated_XI['photo'] = overrated_XI['photo'].replace('/18/','/1x/18/', regex=True)\n",
    "overrated_XI = overrated_XI.reset_index()\n",
    "overrated_XI['Predicted Form'] = overrated_XI['Predicted Form'].round(2)\n",
    "overrated_XI['Predicted Form'] = overrated_XI['Predicted Form'].astype(str)\n",
    "Squad_Rating = overrated_XI['overall'].sum()/11\n",
    "Squad_Rating = str(Squad_Rating)"
   ]
  },
  {
   "cell_type": "code",
   "execution_count": null,
   "metadata": {},
   "outputs": [],
   "source": [
    "overrated_XI.round(2)"
   ]
  },
  {
   "cell_type": "code",
   "execution_count": null,
   "metadata": {
    "collapsed": true
   },
   "outputs": [],
   "source": [
    "JoinedOverratedImages = overrated_XI['photo'].as_matrix()\n",
    "\n",
    "QM = mpimg.imread('../../data/raw/blankface.png')\n",
    "DF1 = mpimg.imread(JoinedOverratedImages [0])\n",
    "DF2 = mpimg.imread(JoinedOverratedImages [1])\n",
    "DF3 = mpimg.imread(JoinedOverratedImages [2])\n",
    "DF4 = mpimg.imread(JoinedOverratedImages [3])\n",
    "MD1 = mpimg.imread(JoinedOverratedImages [4])\n",
    "MD2 = mpimg.imread(JoinedOverratedImages [5])\n",
    "MD3 = mpimg.imread(JoinedOverratedImages [6])\n",
    "MD4 = mpimg.imread(JoinedOverratedImages [7])\n",
    "FW1 = mpimg.imread(JoinedOverratedImages [8])\n",
    "FW2 = mpimg.imread(JoinedOverratedImages [9])"
   ]
  },
  {
   "cell_type": "code",
   "execution_count": null,
   "metadata": {},
   "outputs": [],
   "source": [
    "f, axarr = plt.subplots(4,7,figsize=(15,15))\n",
    "fig = plt.figure()\n",
    "\n",
    "axarr[0,0].set_visible(False)\n",
    "axarr[0,1].set_visible(False)\n",
    "axarr[0,3].set_visible(False)\n",
    "axarr[0,5].set_visible(False)\n",
    "axarr[0,6].set_visible(False)\n",
    "axarr[1,0].set_visible(False)\n",
    "axarr[1,1].set_visible(False)\n",
    "axarr[1,4].set_visible(False)\n",
    "axarr[2,0].set_visible(False)\n",
    "axarr[2,1].set_visible(False)\n",
    "axarr[2,4].set_visible(False)\n",
    "axarr[3,0].set_visible(False)\n",
    "axarr[3,1].set_visible(False)\n",
    "axarr[3,4].set_visible(False)\n",
    "axarr[3,6].set_visible(False)\n",
    "axarr[3,4].set_visible(False)\n",
    "axarr[3,2].set_visible(False)\n",
    "axarr[3,6].set_visible(False)\n",
    "\n",
    "\n",
    "axarr[0,2].set_title('Squad Rating: ' + Squad_Rating[:5])\n",
    "axarr[0,2].axis('off')\n",
    "\n",
    "axarr[0,4].imshow(QM)\n",
    "axarr[0,4].axis('off')\n",
    "\n",
    "axarr[1,2].imshow(DF1)\n",
    "axarr[1,2].set_title(overrated_XI['Players'].loc[0] + '\\n' + ' Pred: ' + overrated_XI['Predicted Form'].loc[0] + '\\n') \n",
    "axarr[1,2].axis('off')\n",
    "\n",
    "\n",
    "axarr[1,3].imshow(DF2)\n",
    "axarr[1,3].set_title(overrated_XI['Players'].loc[1] + '\\n' + ' Pred: ' + overrated_XI['Predicted Form'].loc[1] + '\\n')\n",
    "axarr[1,3].axis('off')\n",
    "\n",
    "\n",
    "axarr[1,5].imshow(DF3)\n",
    "axarr[1,5].set_title(overrated_XI['Players'].loc[2] + '\\n' + ' Pred: ' + overrated_XI['Predicted Form'].loc[2] + '\\n') \n",
    "\n",
    "axarr[1,5].axis('off')\n",
    "\n",
    "\n",
    "axarr[1,6].imshow(DF4)\n",
    "axarr[1,6].set_title(overrated_XI['Players'].loc[3] + '\\n' + ' Pred: ' + overrated_XI['Predicted Form'].loc[3] + '\\n') \n",
    "axarr[1,6].axis('off')\n",
    "\n",
    "\n",
    "axarr[2,2].imshow(MD1)\n",
    "axarr[2,2].set_title(overrated_XI['Players'].loc[4] + '\\n' + ' Pred: ' + overrated_XI['Predicted Form'].loc[4] + '\\n') \n",
    "\n",
    "axarr[2,2].axis('off')\n",
    "\n",
    "\n",
    "axarr[2,3].imshow(MD2)\n",
    "axarr[2,3].set_title(overrated_XI['Players'].loc[5] + '\\n' + ' Pred: ' + overrated_XI['Predicted Form'].loc[5] + '\\n') \n",
    "axarr[2,3].axis('off')\n",
    "\n",
    "\n",
    "axarr[2,5].imshow(MD3)\n",
    "axarr[2,5].set_title(overrated_XI['Players'].loc[6] + '\\n' + ' Pred: ' + overrated_XI['Predicted Form'].loc[6] + '\\n') \n",
    "axarr[2,5].axis('off')\n",
    "\n",
    "\n",
    "axarr[2,6].imshow(MD4)\n",
    "axarr[2,6].set_title(overrated_XI['Players'].loc[7] + '\\n' + ' Pred: ' + overrated_XI['Predicted Form'].loc[7] + '\\n') \n",
    "axarr[2,6].axis('off')\n",
    "\n",
    "\n",
    "axarr[3,3].imshow(FW1)\n",
    "axarr[3,3].set_title(overrated_XI['Players'].loc[8] + '\\n' + ' Pred: ' + overrated_XI['Predicted Form'].loc[8] + '\\n') \n",
    "axarr[3,3].axis('off')\n",
    "\n",
    "axarr[3,5].imshow(FW2)\n",
    "axarr[3,5].set_title(overrated_XI['Players'].loc[9] + '\\n' + ' Pred: ' + overrated_XI['Predicted Form'].loc[9] + '\\n' ) \n",
    "axarr[3,5].axis('off')\n",
    "\n",
    "\n",
    "\n",
    "f.savefig('../../data/analysis/Overrated_XI.png')"
   ]
  }
 ],
 "metadata": {
  "kernelspec": {
   "display_name": "Python 3",
   "language": "python",
   "name": "python3"
  },
  "language_info": {
   "codemirror_mode": {
    "name": "ipython",
    "version": 3
   },
   "file_extension": ".py",
   "mimetype": "text/x-python",
   "name": "python",
   "nbconvert_exporter": "python",
   "pygments_lexer": "ipython3",
   "version": "3.6.3"
  }
 },
 "nbformat": 4,
 "nbformat_minor": 2
}
