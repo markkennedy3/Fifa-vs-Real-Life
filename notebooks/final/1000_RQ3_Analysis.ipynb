{
 "cells": [
  {
   "cell_type": "markdown",
   "metadata": {},
   "source": [
    "# Accuracy of Attributes"
   ]
  },
  {
   "cell_type": "code",
   "execution_count": 236,
   "metadata": {
    "collapsed": true
   },
   "outputs": [],
   "source": [
    "import os.path\n",
    "import pandas as pd\n",
    "import numpy as np\n",
    "import matplotlib\n",
    "import matplotlib.pylab as plt\n",
    "from matplotlib.gridspec import GridSpec\n",
    "import matplotlib.gridspec as gridspec\n",
    "%matplotlib inline "
   ]
  },
  {
   "cell_type": "markdown",
   "metadata": {},
   "source": [
    "## Attacking Attributes vs Goalscoring Abilities"
   ]
  },
  {
   "cell_type": "code",
   "execution_count": 237,
   "metadata": {},
   "outputs": [],
   "source": [
    "RQ3_1 = pd.read_csv(('../../data/analysis/RQ3_1.csv'))\n",
    "RQ3_1 = RQ3_1.drop('Unnamed: 0', 1)\n",
    "RQ3_1 = RQ3_1.iloc[1:]"
   ]
  },
  {
   "cell_type": "code",
   "execution_count": 238,
   "metadata": {},
   "outputs": [
    {
     "data": {
      "text/html": [
       "<div>\n",
       "<style>\n",
       "    .dataframe thead tr:only-child th {\n",
       "        text-align: right;\n",
       "    }\n",
       "\n",
       "    .dataframe thead th {\n",
       "        text-align: left;\n",
       "    }\n",
       "\n",
       "    .dataframe tbody tr th {\n",
       "        vertical-align: top;\n",
       "    }\n",
       "</style>\n",
       "<table border=\"1\" class=\"dataframe\">\n",
       "  <thead>\n",
       "    <tr style=\"text-align: right;\">\n",
       "      <th></th>\n",
       "      <th>Players</th>\n",
       "      <th>club</th>\n",
       "      <th>league</th>\n",
       "      <th>overall</th>\n",
       "      <th>age</th>\n",
       "      <th>Position</th>\n",
       "      <th>sho</th>\n",
       "      <th>crossing</th>\n",
       "      <th>finishing</th>\n",
       "      <th>heading_accuracy</th>\n",
       "      <th>short_passing</th>\n",
       "      <th>volleys</th>\n",
       "      <th>composure</th>\n",
       "      <th>preferred_foot</th>\n",
       "      <th>work_rate_att</th>\n",
       "      <th>weak_foot</th>\n",
       "      <th>Attacking Attributes</th>\n",
       "      <th>Total Apps</th>\n",
       "      <th>Total Goals</th>\n",
       "      <th>Average Goals/Game</th>\n",
       "    </tr>\n",
       "  </thead>\n",
       "  <tbody>\n",
       "    <tr>\n",
       "      <th>1</th>\n",
       "      <td>Adam Hlousek</td>\n",
       "      <td>Legia Warszawa</td>\n",
       "      <td>Polish Ekstraklasa</td>\n",
       "      <td>71</td>\n",
       "      <td>28</td>\n",
       "      <td>Forward</td>\n",
       "      <td>59</td>\n",
       "      <td>68</td>\n",
       "      <td>54</td>\n",
       "      <td>66</td>\n",
       "      <td>69</td>\n",
       "      <td>58</td>\n",
       "      <td>65</td>\n",
       "      <td>Left</td>\n",
       "      <td>High</td>\n",
       "      <td>2</td>\n",
       "      <td>63</td>\n",
       "      <td>57.0</td>\n",
       "      <td>3.0</td>\n",
       "      <td>0.052632</td>\n",
       "    </tr>\n",
       "    <tr>\n",
       "      <th>2</th>\n",
       "      <td>Adam Le Fondre</td>\n",
       "      <td>Bolton Wanderers</td>\n",
       "      <td>English Championship</td>\n",
       "      <td>68</td>\n",
       "      <td>30</td>\n",
       "      <td>Forward</td>\n",
       "      <td>70</td>\n",
       "      <td>56</td>\n",
       "      <td>74</td>\n",
       "      <td>61</td>\n",
       "      <td>62</td>\n",
       "      <td>70</td>\n",
       "      <td>72</td>\n",
       "      <td>Right</td>\n",
       "      <td>High</td>\n",
       "      <td>3</td>\n",
       "      <td>65</td>\n",
       "      <td>34.0</td>\n",
       "      <td>12.0</td>\n",
       "      <td>0.352941</td>\n",
       "    </tr>\n",
       "    <tr>\n",
       "      <th>3</th>\n",
       "      <td>Adam Szalai</td>\n",
       "      <td>TSG 1899 Hoffenheim</td>\n",
       "      <td>German Bundesliga</td>\n",
       "      <td>75</td>\n",
       "      <td>29</td>\n",
       "      <td>Forward</td>\n",
       "      <td>74</td>\n",
       "      <td>49</td>\n",
       "      <td>74</td>\n",
       "      <td>83</td>\n",
       "      <td>72</td>\n",
       "      <td>68</td>\n",
       "      <td>75</td>\n",
       "      <td>Right</td>\n",
       "      <td>Medium</td>\n",
       "      <td>3</td>\n",
       "      <td>69</td>\n",
       "      <td>121.0</td>\n",
       "      <td>32.0</td>\n",
       "      <td>0.264463</td>\n",
       "    </tr>\n",
       "    <tr>\n",
       "      <th>4</th>\n",
       "      <td>Adama Diakhaby</td>\n",
       "      <td>AS Monaco</td>\n",
       "      <td>French Ligue 1</td>\n",
       "      <td>72</td>\n",
       "      <td>20</td>\n",
       "      <td>Forward</td>\n",
       "      <td>69</td>\n",
       "      <td>68</td>\n",
       "      <td>73</td>\n",
       "      <td>70</td>\n",
       "      <td>74</td>\n",
       "      <td>61</td>\n",
       "      <td>65</td>\n",
       "      <td>Left</td>\n",
       "      <td>High</td>\n",
       "      <td>2</td>\n",
       "      <td>69</td>\n",
       "      <td>25.0</td>\n",
       "      <td>4.0</td>\n",
       "      <td>0.160000</td>\n",
       "    </tr>\n",
       "    <tr>\n",
       "      <th>5</th>\n",
       "      <td>Adama Diomande</td>\n",
       "      <td>Hull City</td>\n",
       "      <td>English Championship</td>\n",
       "      <td>69</td>\n",
       "      <td>27</td>\n",
       "      <td>Forward</td>\n",
       "      <td>67</td>\n",
       "      <td>45</td>\n",
       "      <td>68</td>\n",
       "      <td>66</td>\n",
       "      <td>53</td>\n",
       "      <td>64</td>\n",
       "      <td>61</td>\n",
       "      <td>Right</td>\n",
       "      <td>Medium</td>\n",
       "      <td>3</td>\n",
       "      <td>59</td>\n",
       "      <td>22.0</td>\n",
       "      <td>2.0</td>\n",
       "      <td>0.090909</td>\n",
       "    </tr>\n",
       "  </tbody>\n",
       "</table>\n",
       "</div>"
      ],
      "text/plain": [
       "          Players                 club                league  overall  age  \\\n",
       "1    Adam Hlousek       Legia Warszawa    Polish Ekstraklasa       71   28   \n",
       "2  Adam Le Fondre     Bolton Wanderers  English Championship       68   30   \n",
       "3     Adam Szalai  TSG 1899 Hoffenheim     German Bundesliga       75   29   \n",
       "4  Adama Diakhaby            AS Monaco        French Ligue 1       72   20   \n",
       "5  Adama Diomande            Hull City  English Championship       69   27   \n",
       "\n",
       "  Position  sho  crossing  finishing  heading_accuracy  short_passing  \\\n",
       "1  Forward   59        68         54                66             69   \n",
       "2  Forward   70        56         74                61             62   \n",
       "3  Forward   74        49         74                83             72   \n",
       "4  Forward   69        68         73                70             74   \n",
       "5  Forward   67        45         68                66             53   \n",
       "\n",
       "   volleys  composure preferred_foot work_rate_att  weak_foot  \\\n",
       "1       58         65           Left          High          2   \n",
       "2       70         72          Right          High          3   \n",
       "3       68         75          Right        Medium          3   \n",
       "4       61         65           Left          High          2   \n",
       "5       64         61          Right        Medium          3   \n",
       "\n",
       "   Attacking Attributes  Total Apps  Total Goals  Average Goals/Game  \n",
       "1                    63        57.0          3.0            0.052632  \n",
       "2                    65        34.0         12.0            0.352941  \n",
       "3                    69       121.0         32.0            0.264463  \n",
       "4                    69        25.0          4.0            0.160000  \n",
       "5                    59        22.0          2.0            0.090909  "
      ]
     },
     "execution_count": 238,
     "metadata": {},
     "output_type": "execute_result"
    }
   ],
   "source": [
    "RQ3_1.head(5)"
   ]
  },
  {
   "cell_type": "code",
   "execution_count": 239,
   "metadata": {},
   "outputs": [
    {
     "data": {
      "text/plain": [
       "0.58071898911509012"
      ]
     },
     "execution_count": 239,
     "metadata": {},
     "output_type": "execute_result"
    }
   ],
   "source": [
    "RQ3_1['Attacking Attributes'].corr(RQ3_1['Average Goals/Game'])"
   ]
  },
  {
   "cell_type": "code",
   "execution_count": 240,
   "metadata": {
    "collapsed": true
   },
   "outputs": [],
   "source": [
    "attacking_attributes = RQ3_1.groupby(['Attacking Attributes']).mean()['Average Goals/Game']"
   ]
  },
  {
   "cell_type": "code",
   "execution_count": 241,
   "metadata": {},
   "outputs": [],
   "source": [
    "attacking_attributes = attacking_attributes.to_frame().reset_index()"
   ]
  },
  {
   "cell_type": "code",
   "execution_count": 242,
   "metadata": {},
   "outputs": [
    {
     "data": {
      "text/plain": [
       "<matplotlib.axes._subplots.AxesSubplot at 0x1d289d700f0>"
      ]
     },
     "execution_count": 242,
     "metadata": {},
     "output_type": "execute_result"
    },
    {
     "data": {
      "image/png": "[encoded data removed]",
      "text/plain": [
       "<matplotlib.figure.Figure at 0x1d288865550>"
      ]
     },
     "metadata": {},
     "output_type": "display_data"
    }
   ],
   "source": [
    "axis_size=14\n",
    "color = ['r']\n",
    "\n",
    "fig = plt.figure(figsize=(30,15))\n",
    "gs = gridspec.GridSpec(2,6)\n",
    "\n",
    "ax0 = plt.subplot(gs[0,0:2],title='\\n \\n'+ 'Attacking Attributes vs Average Goals/Game')\n",
    "ax0.title.set_fontsize(20)\n",
    "ax0.set_ylabel('Average Goals/Game',size=axis_size)\n",
    "ax0.set_xlabel('Attacking Attributes',size=axis_size)\n",
    "attacking_attributes.plot(ax=ax0,kind='scatter',x='Attacking Attributes',y='Average Goals/Game',color=color)"
   ]
  },
  {
   "cell_type": "markdown",
   "metadata": {},
   "source": [
    "#### Lefty vs Righty"
   ]
  },
  {
   "cell_type": "code",
   "execution_count": 277,
   "metadata": {
    "collapsed": true
   },
   "outputs": [],
   "source": [
    "RQ3_1_left = RQ3_1[RQ3_1['preferred_foot']=='Left']"
   ]
  },
  {
   "cell_type": "code",
   "execution_count": 294,
   "metadata": {},
   "outputs": [
    {
     "data": {
      "text/html": [
       "<div>\n",
       "<style>\n",
       "    .dataframe thead tr:only-child th {\n",
       "        text-align: right;\n",
       "    }\n",
       "\n",
       "    .dataframe thead th {\n",
       "        text-align: left;\n",
       "    }\n",
       "\n",
       "    .dataframe tbody tr th {\n",
       "        vertical-align: top;\n",
       "    }\n",
       "</style>\n",
       "<table border=\"1\" class=\"dataframe\">\n",
       "  <thead>\n",
       "    <tr style=\"text-align: right;\">\n",
       "      <th></th>\n",
       "      <th>Players</th>\n",
       "      <th>club</th>\n",
       "      <th>league</th>\n",
       "      <th>overall</th>\n",
       "      <th>age</th>\n",
       "      <th>Position</th>\n",
       "      <th>sho</th>\n",
       "      <th>crossing</th>\n",
       "      <th>finishing</th>\n",
       "      <th>heading_accuracy</th>\n",
       "      <th>short_passing</th>\n",
       "      <th>volleys</th>\n",
       "      <th>composure</th>\n",
       "      <th>preferred_foot</th>\n",
       "      <th>work_rate_att</th>\n",
       "      <th>weak_foot</th>\n",
       "      <th>Attacking Attributes</th>\n",
       "      <th>Total Apps</th>\n",
       "      <th>Total Goals</th>\n",
       "      <th>Average Goals/Game</th>\n",
       "    </tr>\n",
       "  </thead>\n",
       "  <tbody>\n",
       "    <tr>\n",
       "      <th>0</th>\n",
       "      <td>Lionel Messi</td>\n",
       "      <td>FC Barcelona</td>\n",
       "      <td>Spanish Primera Division</td>\n",
       "      <td>93</td>\n",
       "      <td>30</td>\n",
       "      <td>Forward</td>\n",
       "      <td>90</td>\n",
       "      <td>77</td>\n",
       "      <td>95</td>\n",
       "      <td>71</td>\n",
       "      <td>88</td>\n",
       "      <td>85</td>\n",
       "      <td>96</td>\n",
       "      <td>Left</td>\n",
       "      <td>Medium</td>\n",
       "      <td>4</td>\n",
       "      <td>83</td>\n",
       "      <td>168.0</td>\n",
       "      <td>179.0</td>\n",
       "      <td>1.065476</td>\n",
       "    </tr>\n",
       "    <tr>\n",
       "      <th>1</th>\n",
       "      <td>Robin van Persie</td>\n",
       "      <td>Fenerbahce SK</td>\n",
       "      <td>Turkish Super Lig</td>\n",
       "      <td>77</td>\n",
       "      <td>33</td>\n",
       "      <td>Forward</td>\n",
       "      <td>79</td>\n",
       "      <td>77</td>\n",
       "      <td>76</td>\n",
       "      <td>75</td>\n",
       "      <td>74</td>\n",
       "      <td>81</td>\n",
       "      <td>79</td>\n",
       "      <td>Left</td>\n",
       "      <td>Medium</td>\n",
       "      <td>3</td>\n",
       "      <td>77</td>\n",
       "      <td>86.0</td>\n",
       "      <td>48.0</td>\n",
       "      <td>0.558140</td>\n",
       "    </tr>\n",
       "    <tr>\n",
       "      <th>2</th>\n",
       "      <td>Antoine Griezmann</td>\n",
       "      <td>Atletico Madrid</td>\n",
       "      <td>Spanish Primera Division</td>\n",
       "      <td>88</td>\n",
       "      <td>26</td>\n",
       "      <td>Forward</td>\n",
       "      <td>85</td>\n",
       "      <td>82</td>\n",
       "      <td>88</td>\n",
       "      <td>80</td>\n",
       "      <td>79</td>\n",
       "      <td>87</td>\n",
       "      <td>86</td>\n",
       "      <td>Left</td>\n",
       "      <td>High</td>\n",
       "      <td>3</td>\n",
       "      <td>83</td>\n",
       "      <td>111.0</td>\n",
       "      <td>60.0</td>\n",
       "      <td>0.540541</td>\n",
       "    </tr>\n",
       "    <tr>\n",
       "      <th>3</th>\n",
       "      <td>Daniel Sturridge</td>\n",
       "      <td>Liverpool</td>\n",
       "      <td>English Premier League</td>\n",
       "      <td>82</td>\n",
       "      <td>27</td>\n",
       "      <td>Forward</td>\n",
       "      <td>82</td>\n",
       "      <td>62</td>\n",
       "      <td>83</td>\n",
       "      <td>73</td>\n",
       "      <td>74</td>\n",
       "      <td>75</td>\n",
       "      <td>81</td>\n",
       "      <td>Left</td>\n",
       "      <td>Medium</td>\n",
       "      <td>2</td>\n",
       "      <td>73</td>\n",
       "      <td>96.0</td>\n",
       "      <td>47.0</td>\n",
       "      <td>0.489583</td>\n",
       "    </tr>\n",
       "    <tr>\n",
       "      <th>4</th>\n",
       "      <td>Romelu Lukaku</td>\n",
       "      <td>Manchester United</td>\n",
       "      <td>English Premier League</td>\n",
       "      <td>86</td>\n",
       "      <td>24</td>\n",
       "      <td>Forward</td>\n",
       "      <td>85</td>\n",
       "      <td>68</td>\n",
       "      <td>89</td>\n",
       "      <td>87</td>\n",
       "      <td>71</td>\n",
       "      <td>76</td>\n",
       "      <td>84</td>\n",
       "      <td>Left</td>\n",
       "      <td>Medium</td>\n",
       "      <td>4</td>\n",
       "      <td>78</td>\n",
       "      <td>178.0</td>\n",
       "      <td>85.0</td>\n",
       "      <td>0.477528</td>\n",
       "    </tr>\n",
       "  </tbody>\n",
       "</table>\n",
       "</div>"
      ],
      "text/plain": [
       "             Players               club                    league  overall  \\\n",
       "0       Lionel Messi       FC Barcelona  Spanish Primera Division       93   \n",
       "1   Robin van Persie      Fenerbahce SK         Turkish Super Lig       77   \n",
       "2  Antoine Griezmann    Atletico Madrid  Spanish Primera Division       88   \n",
       "3   Daniel Sturridge          Liverpool    English Premier League       82   \n",
       "4      Romelu Lukaku  Manchester United    English Premier League       86   \n",
       "\n",
       "   age Position  sho  crossing  finishing  heading_accuracy  short_passing  \\\n",
       "0   30  Forward   90        77         95                71             88   \n",
       "1   33  Forward   79        77         76                75             74   \n",
       "2   26  Forward   85        82         88                80             79   \n",
       "3   27  Forward   82        62         83                73             74   \n",
       "4   24  Forward   85        68         89                87             71   \n",
       "\n",
       "   volleys  composure preferred_foot work_rate_att  weak_foot  \\\n",
       "0       85         96           Left        Medium          4   \n",
       "1       81         79           Left        Medium          3   \n",
       "2       87         86           Left          High          3   \n",
       "3       75         81           Left        Medium          2   \n",
       "4       76         84           Left        Medium          4   \n",
       "\n",
       "   Attacking Attributes  Total Apps  Total Goals  Average Goals/Game  \n",
       "0                    83       168.0        179.0            1.065476  \n",
       "1                    77        86.0         48.0            0.558140  \n",
       "2                    83       111.0         60.0            0.540541  \n",
       "3                    73        96.0         47.0            0.489583  \n",
       "4                    78       178.0         85.0            0.477528  "
      ]
     },
     "execution_count": 294,
     "metadata": {},
     "output_type": "execute_result"
    }
   ],
   "source": [
    "RQ3_1_left = RQ3_1_left.sort_values('Average Goals/Game', ascending=False).reset_index().drop('index',1)\n",
    "RQ3_1_left.head(5)"
   ]
  },
  {
   "cell_type": "code",
   "execution_count": null,
   "metadata": {
    "collapsed": true
   },
   "outputs": [],
   "source": [
    "RQ3_1_right = RQ3_1[RQ3_1['preferred_foot']=='Right']"
   ]
  },
  {
   "cell_type": "code",
   "execution_count": 295,
   "metadata": {},
   "outputs": [
    {
     "data": {
      "text/html": [
       "<div>\n",
       "<style>\n",
       "    .dataframe thead tr:only-child th {\n",
       "        text-align: right;\n",
       "    }\n",
       "\n",
       "    .dataframe thead th {\n",
       "        text-align: left;\n",
       "    }\n",
       "\n",
       "    .dataframe tbody tr th {\n",
       "        vertical-align: top;\n",
       "    }\n",
       "</style>\n",
       "<table border=\"1\" class=\"dataframe\">\n",
       "  <thead>\n",
       "    <tr style=\"text-align: right;\">\n",
       "      <th></th>\n",
       "      <th>Players</th>\n",
       "      <th>club</th>\n",
       "      <th>league</th>\n",
       "      <th>overall</th>\n",
       "      <th>age</th>\n",
       "      <th>Position</th>\n",
       "      <th>sho</th>\n",
       "      <th>crossing</th>\n",
       "      <th>finishing</th>\n",
       "      <th>heading_accuracy</th>\n",
       "      <th>short_passing</th>\n",
       "      <th>volleys</th>\n",
       "      <th>composure</th>\n",
       "      <th>preferred_foot</th>\n",
       "      <th>work_rate_att</th>\n",
       "      <th>weak_foot</th>\n",
       "      <th>Attacking Attributes</th>\n",
       "      <th>Total Apps</th>\n",
       "      <th>Total Goals</th>\n",
       "      <th>Average Goals/Game</th>\n",
       "    </tr>\n",
       "  </thead>\n",
       "  <tbody>\n",
       "    <tr>\n",
       "      <th>0</th>\n",
       "      <td>Cristiano Ronaldo</td>\n",
       "      <td>Real Madrid CF</td>\n",
       "      <td>Spanish Primera Division</td>\n",
       "      <td>94</td>\n",
       "      <td>32</td>\n",
       "      <td>Forward</td>\n",
       "      <td>93</td>\n",
       "      <td>85</td>\n",
       "      <td>94</td>\n",
       "      <td>88</td>\n",
       "      <td>83</td>\n",
       "      <td>88</td>\n",
       "      <td>95</td>\n",
       "      <td>Right</td>\n",
       "      <td>High</td>\n",
       "      <td>4</td>\n",
       "      <td>88</td>\n",
       "      <td>164.0</td>\n",
       "      <td>173.0</td>\n",
       "      <td>1.054878</td>\n",
       "    </tr>\n",
       "    <tr>\n",
       "      <th>1</th>\n",
       "      <td>Zlatan Ibrahimovic</td>\n",
       "      <td>Manchester United</td>\n",
       "      <td>English Premier League</td>\n",
       "      <td>88</td>\n",
       "      <td>35</td>\n",
       "      <td>Forward</td>\n",
       "      <td>88</td>\n",
       "      <td>76</td>\n",
       "      <td>87</td>\n",
       "      <td>80</td>\n",
       "      <td>84</td>\n",
       "      <td>90</td>\n",
       "      <td>91</td>\n",
       "      <td>Right</td>\n",
       "      <td>Medium</td>\n",
       "      <td>4</td>\n",
       "      <td>83</td>\n",
       "      <td>150.0</td>\n",
       "      <td>130.0</td>\n",
       "      <td>0.866667</td>\n",
       "    </tr>\n",
       "    <tr>\n",
       "      <th>2</th>\n",
       "      <td>Luis Suarez</td>\n",
       "      <td>FC Barcelona</td>\n",
       "      <td>Spanish Primera Division</td>\n",
       "      <td>92</td>\n",
       "      <td>30</td>\n",
       "      <td>Forward</td>\n",
       "      <td>90</td>\n",
       "      <td>77</td>\n",
       "      <td>94</td>\n",
       "      <td>77</td>\n",
       "      <td>83</td>\n",
       "      <td>88</td>\n",
       "      <td>83</td>\n",
       "      <td>Right</td>\n",
       "      <td>High</td>\n",
       "      <td>4</td>\n",
       "      <td>84</td>\n",
       "      <td>165.0</td>\n",
       "      <td>138.0</td>\n",
       "      <td>0.836364</td>\n",
       "    </tr>\n",
       "    <tr>\n",
       "      <th>3</th>\n",
       "      <td>Robert Lewandowski</td>\n",
       "      <td>FC Bayern Munich</td>\n",
       "      <td>German Bundesliga</td>\n",
       "      <td>91</td>\n",
       "      <td>28</td>\n",
       "      <td>Forward</td>\n",
       "      <td>88</td>\n",
       "      <td>62</td>\n",
       "      <td>91</td>\n",
       "      <td>85</td>\n",
       "      <td>83</td>\n",
       "      <td>87</td>\n",
       "      <td>87</td>\n",
       "      <td>Right</td>\n",
       "      <td>High</td>\n",
       "      <td>4</td>\n",
       "      <td>82</td>\n",
       "      <td>160.0</td>\n",
       "      <td>121.0</td>\n",
       "      <td>0.756250</td>\n",
       "    </tr>\n",
       "    <tr>\n",
       "      <th>4</th>\n",
       "      <td>Edinson Cavani</td>\n",
       "      <td>Paris Saint-Germain</td>\n",
       "      <td>French Ligue 1</td>\n",
       "      <td>87</td>\n",
       "      <td>30</td>\n",
       "      <td>Forward</td>\n",
       "      <td>83</td>\n",
       "      <td>70</td>\n",
       "      <td>83</td>\n",
       "      <td>88</td>\n",
       "      <td>78</td>\n",
       "      <td>84</td>\n",
       "      <td>83</td>\n",
       "      <td>Right</td>\n",
       "      <td>High</td>\n",
       "      <td>3</td>\n",
       "      <td>81</td>\n",
       "      <td>167.0</td>\n",
       "      <td>116.0</td>\n",
       "      <td>0.694611</td>\n",
       "    </tr>\n",
       "  </tbody>\n",
       "</table>\n",
       "</div>"
      ],
      "text/plain": [
       "              Players                 club                    league  overall  \\\n",
       "0   Cristiano Ronaldo       Real Madrid CF  Spanish Primera Division       94   \n",
       "1  Zlatan Ibrahimovic    Manchester United    English Premier League       88   \n",
       "2         Luis Suarez         FC Barcelona  Spanish Primera Division       92   \n",
       "3  Robert Lewandowski     FC Bayern Munich         German Bundesliga       91   \n",
       "4      Edinson Cavani  Paris Saint-Germain            French Ligue 1       87   \n",
       "\n",
       "   age Position  sho  crossing  finishing  heading_accuracy  short_passing  \\\n",
       "0   32  Forward   93        85         94                88             83   \n",
       "1   35  Forward   88        76         87                80             84   \n",
       "2   30  Forward   90        77         94                77             83   \n",
       "3   28  Forward   88        62         91                85             83   \n",
       "4   30  Forward   83        70         83                88             78   \n",
       "\n",
       "   volleys  composure preferred_foot work_rate_att  weak_foot  \\\n",
       "0       88         95          Right          High          4   \n",
       "1       90         91          Right        Medium          4   \n",
       "2       88         83          Right          High          4   \n",
       "3       87         87          Right          High          4   \n",
       "4       84         83          Right          High          3   \n",
       "\n",
       "   Attacking Attributes  Total Apps  Total Goals  Average Goals/Game  \n",
       "0                    88       164.0        173.0            1.054878  \n",
       "1                    83       150.0        130.0            0.866667  \n",
       "2                    84       165.0        138.0            0.836364  \n",
       "3                    82       160.0        121.0            0.756250  \n",
       "4                    81       167.0        116.0            0.694611  "
      ]
     },
     "execution_count": 295,
     "metadata": {},
     "output_type": "execute_result"
    }
   ],
   "source": [
    "RQ3_1_right = RQ3_1_right.sort_values('Average Goals/Game', ascending=False).reset_index().drop('index',1)\n",
    "RQ3_1_right.head(5)"
   ]
  },
  {
   "cell_type": "code",
   "execution_count": 291,
   "metadata": {},
   "outputs": [
    {
     "data": {
      "text/html": [
       "<div>\n",
       "<style>\n",
       "    .dataframe thead tr:only-child th {\n",
       "        text-align: right;\n",
       "    }\n",
       "\n",
       "    .dataframe thead th {\n",
       "        text-align: left;\n",
       "    }\n",
       "\n",
       "    .dataframe tbody tr th {\n",
       "        vertical-align: top;\n",
       "    }\n",
       "</style>\n",
       "<table border=\"1\" class=\"dataframe\">\n",
       "  <thead>\n",
       "    <tr style=\"text-align: right;\">\n",
       "      <th></th>\n",
       "      <th>Average Goals/Game</th>\n",
       "      <th>Attacking Attributes</th>\n",
       "    </tr>\n",
       "  </thead>\n",
       "  <tbody>\n",
       "    <tr>\n",
       "      <th>Right Footed</th>\n",
       "      <td>0.19883</td>\n",
       "      <td>67.5957</td>\n",
       "    </tr>\n",
       "    <tr>\n",
       "      <th>Left Footed</th>\n",
       "      <td>0.192969</td>\n",
       "      <td>68.5663</td>\n",
       "    </tr>\n",
       "  </tbody>\n",
       "</table>\n",
       "</div>"
      ],
      "text/plain": [
       "             Average Goals/Game Attacking Attributes\n",
       "Right Footed            0.19883              67.5957\n",
       "Left Footed            0.192969              68.5663"
      ]
     },
     "execution_count": 291,
     "metadata": {},
     "output_type": "execute_result"
    }
   ],
   "source": [
    "leftyrighty = pd.DataFrame(columns = ['Average Goals/Game','Attacking Attributes'])\n",
    "leftyrighty.set_value('Right Footed','Average Goals/Game', RQ3_1_right.mean()['Average Goals/Game'])\n",
    "leftyrighty.set_value('Right Footed','Attacking Attributes', RQ3_1_right.mean()['Attacking Attributes'])\n",
    "leftyrighty.set_value('Left Footed','Average Goals/Game', RQ3_1_left.mean()['Average Goals/Game'])\n",
    "leftyrighty.set_value('Left Footed','Attacking Attributes', RQ3_1_left.mean()['Attacking Attributes'])"
   ]
  },
  {
   "cell_type": "markdown",
   "metadata": {},
   "source": [
    "## Goalkeeping Attributes vs Ability To Keep Clean Sheets"
   ]
  },
  {
   "cell_type": "code",
   "execution_count": 250,
   "metadata": {
    "collapsed": true
   },
   "outputs": [],
   "source": [
    "RQ3_3 = pd.read_csv(('../../data/analysis/RQ3_3.csv'))\n",
    "RQ3_3 = RQ3_3.drop('Unnamed: 0', 1)\n",
    "RQ3_3 = RQ3_3.iloc[1:]"
   ]
  },
  {
   "cell_type": "code",
   "execution_count": 251,
   "metadata": {},
   "outputs": [
    {
     "data": {
      "text/html": [
       "<div>\n",
       "<style>\n",
       "    .dataframe thead tr:only-child th {\n",
       "        text-align: right;\n",
       "    }\n",
       "\n",
       "    .dataframe thead th {\n",
       "        text-align: left;\n",
       "    }\n",
       "\n",
       "    .dataframe tbody tr th {\n",
       "        vertical-align: top;\n",
       "    }\n",
       "</style>\n",
       "<table border=\"1\" class=\"dataframe\">\n",
       "  <thead>\n",
       "    <tr style=\"text-align: right;\">\n",
       "      <th></th>\n",
       "      <th>Players</th>\n",
       "      <th>club</th>\n",
       "      <th>league</th>\n",
       "      <th>overall</th>\n",
       "      <th>age</th>\n",
       "      <th>Position</th>\n",
       "      <th>gk_diving</th>\n",
       "      <th>gk_handling</th>\n",
       "      <th>gk_kicking</th>\n",
       "      <th>gk_positioning</th>\n",
       "      <th>gk_reflexes</th>\n",
       "      <th>Goalkeeping Attributes</th>\n",
       "      <th>Total Apps</th>\n",
       "      <th>Total Clean Sheets</th>\n",
       "      <th>Average Clean Sheets/Game</th>\n",
       "    </tr>\n",
       "  </thead>\n",
       "  <tbody>\n",
       "    <tr>\n",
       "      <th>1</th>\n",
       "      <td>Alban Lafont</td>\n",
       "      <td>Toulouse FC</td>\n",
       "      <td>French Ligue 1</td>\n",
       "      <td>77</td>\n",
       "      <td>18</td>\n",
       "      <td>Goalkeeper</td>\n",
       "      <td>78</td>\n",
       "      <td>77</td>\n",
       "      <td>71</td>\n",
       "      <td>76</td>\n",
       "      <td>79</td>\n",
       "      <td>76</td>\n",
       "      <td>60.0</td>\n",
       "      <td>18.0</td>\n",
       "      <td>0.300000</td>\n",
       "    </tr>\n",
       "    <tr>\n",
       "      <th>2</th>\n",
       "      <td>Albano Bizzarri</td>\n",
       "      <td>Udinese</td>\n",
       "      <td>Italian Serie A</td>\n",
       "      <td>75</td>\n",
       "      <td>39</td>\n",
       "      <td>Goalkeeper</td>\n",
       "      <td>74</td>\n",
       "      <td>76</td>\n",
       "      <td>67</td>\n",
       "      <td>79</td>\n",
       "      <td>72</td>\n",
       "      <td>74</td>\n",
       "      <td>97.0</td>\n",
       "      <td>28.0</td>\n",
       "      <td>0.288660</td>\n",
       "    </tr>\n",
       "    <tr>\n",
       "      <th>3</th>\n",
       "      <td>Alex Cordaz</td>\n",
       "      <td>Crotone</td>\n",
       "      <td>Italian Serie A</td>\n",
       "      <td>72</td>\n",
       "      <td>34</td>\n",
       "      <td>Goalkeeper</td>\n",
       "      <td>68</td>\n",
       "      <td>70</td>\n",
       "      <td>62</td>\n",
       "      <td>72</td>\n",
       "      <td>74</td>\n",
       "      <td>69</td>\n",
       "      <td>37.0</td>\n",
       "      <td>4.0</td>\n",
       "      <td>0.108108</td>\n",
       "    </tr>\n",
       "    <tr>\n",
       "      <th>4</th>\n",
       "      <td>Alex McCarthy</td>\n",
       "      <td>Southampton</td>\n",
       "      <td>English Premier League</td>\n",
       "      <td>75</td>\n",
       "      <td>27</td>\n",
       "      <td>Goalkeeper</td>\n",
       "      <td>76</td>\n",
       "      <td>73</td>\n",
       "      <td>61</td>\n",
       "      <td>74</td>\n",
       "      <td>78</td>\n",
       "      <td>72</td>\n",
       "      <td>23.0</td>\n",
       "      <td>2.0</td>\n",
       "      <td>0.086957</td>\n",
       "    </tr>\n",
       "    <tr>\n",
       "      <th>5</th>\n",
       "      <td>Alexander Schwolow</td>\n",
       "      <td>SC Freiburg</td>\n",
       "      <td>German Bundesliga</td>\n",
       "      <td>75</td>\n",
       "      <td>25</td>\n",
       "      <td>Goalkeeper</td>\n",
       "      <td>75</td>\n",
       "      <td>74</td>\n",
       "      <td>71</td>\n",
       "      <td>69</td>\n",
       "      <td>77</td>\n",
       "      <td>73</td>\n",
       "      <td>36.0</td>\n",
       "      <td>6.0</td>\n",
       "      <td>0.166667</td>\n",
       "    </tr>\n",
       "  </tbody>\n",
       "</table>\n",
       "</div>"
      ],
      "text/plain": [
       "              Players         club                  league  overall  age  \\\n",
       "1        Alban Lafont  Toulouse FC          French Ligue 1       77   18   \n",
       "2     Albano Bizzarri      Udinese         Italian Serie A       75   39   \n",
       "3         Alex Cordaz      Crotone         Italian Serie A       72   34   \n",
       "4       Alex McCarthy  Southampton  English Premier League       75   27   \n",
       "5  Alexander Schwolow  SC Freiburg       German Bundesliga       75   25   \n",
       "\n",
       "     Position  gk_diving  gk_handling  gk_kicking  gk_positioning  \\\n",
       "1  Goalkeeper         78           77          71              76   \n",
       "2  Goalkeeper         74           76          67              79   \n",
       "3  Goalkeeper         68           70          62              72   \n",
       "4  Goalkeeper         76           73          61              74   \n",
       "5  Goalkeeper         75           74          71              69   \n",
       "\n",
       "   gk_reflexes  Goalkeeping Attributes  Total Apps  Total Clean Sheets  \\\n",
       "1           79                      76        60.0                18.0   \n",
       "2           72                      74        97.0                28.0   \n",
       "3           74                      69        37.0                 4.0   \n",
       "4           78                      72        23.0                 2.0   \n",
       "5           77                      73        36.0                 6.0   \n",
       "\n",
       "   Average Clean Sheets/Game  \n",
       "1                   0.300000  \n",
       "2                   0.288660  \n",
       "3                   0.108108  \n",
       "4                   0.086957  \n",
       "5                   0.166667  "
      ]
     },
     "execution_count": 251,
     "metadata": {},
     "output_type": "execute_result"
    }
   ],
   "source": [
    "RQ3_3.head(5)"
   ]
  },
  {
   "cell_type": "code",
   "execution_count": 252,
   "metadata": {},
   "outputs": [
    {
     "data": {
      "text/plain": [
       "0.59781462730880131"
      ]
     },
     "execution_count": 252,
     "metadata": {},
     "output_type": "execute_result"
    }
   ],
   "source": [
    "RQ3_3['Goalkeeping Attributes'].corr(RQ3_3['Average Clean Sheets/Game'])"
   ]
  },
  {
   "cell_type": "code",
   "execution_count": 253,
   "metadata": {
    "collapsed": true
   },
   "outputs": [],
   "source": [
    "goalkeeping_attributes = RQ3_3.groupby(['Goalkeeping Attributes']).mean()['Average Clean Sheets/Game']"
   ]
  },
  {
   "cell_type": "code",
   "execution_count": 254,
   "metadata": {
    "collapsed": true
   },
   "outputs": [],
   "source": [
    "goalkeeping_attributes = goalkeeping_attributes.to_frame().reset_index()"
   ]
  },
  {
   "cell_type": "code",
   "execution_count": 255,
   "metadata": {},
   "outputs": [
    {
     "data": {
      "text/plain": [
       "<matplotlib.axes._subplots.AxesSubplot at 0x1d28802f048>"
      ]
     },
     "execution_count": 255,
     "metadata": {},
     "output_type": "execute_result"
    },
    {
     "data": {
      "image/png": "[encoded data removed]",
      "text/plain": [
       "<matplotlib.figure.Figure at 0x1d28802fdd8>"
      ]
     },
     "metadata": {},
     "output_type": "display_data"
    }
   ],
   "source": [
    "axis_size=14\n",
    "color = ['r']\n",
    "\n",
    "fig = plt.figure(figsize=(30,15))\n",
    "gs = gridspec.GridSpec(2,6)\n",
    "\n",
    "ax0 = plt.subplot(gs[0,0:2],title='\\n \\n'+ 'Goalkeeping Attributes vs Average Goals/Game')\n",
    "ax0.title.set_fontsize(20)\n",
    "ax0.set_ylabel('Average Goals/Game',size=axis_size)\n",
    "ax0.set_xlabel('Goalkeeping Attributes',size=axis_size)\n",
    "goalkeeping_attributes.plot(ax=ax0,kind='scatter',x='Goalkeeping Attributes',y='Average Clean Sheets/Game',color=color)"
   ]
  },
  {
   "cell_type": "markdown",
   "metadata": {},
   "source": [
    "## Defending Attributes vs Ability to Keep Clean Sheets"
   ]
  },
  {
   "cell_type": "code",
   "execution_count": 256,
   "metadata": {
    "collapsed": true
   },
   "outputs": [],
   "source": [
    "RQ3_4 = pd.read_csv(('../../data/analysis/RQ3_4.csv'))\n",
    "RQ3_4 = RQ3_4 .drop('Unnamed: 0', 1)\n",
    "RQ3_4 = RQ3_4 .iloc[1:]"
   ]
  },
  {
   "cell_type": "code",
   "execution_count": 257,
   "metadata": {},
   "outputs": [
    {
     "data": {
      "text/html": [
       "<div>\n",
       "<style>\n",
       "    .dataframe thead tr:only-child th {\n",
       "        text-align: right;\n",
       "    }\n",
       "\n",
       "    .dataframe thead th {\n",
       "        text-align: left;\n",
       "    }\n",
       "\n",
       "    .dataframe tbody tr th {\n",
       "        vertical-align: top;\n",
       "    }\n",
       "</style>\n",
       "<table border=\"1\" class=\"dataframe\">\n",
       "  <thead>\n",
       "    <tr style=\"text-align: right;\">\n",
       "      <th></th>\n",
       "      <th>Players</th>\n",
       "      <th>club</th>\n",
       "      <th>league</th>\n",
       "      <th>overall</th>\n",
       "      <th>age</th>\n",
       "      <th>Position</th>\n",
       "      <th>Defending Attributes</th>\n",
       "      <th>def</th>\n",
       "      <th>marking</th>\n",
       "      <th>standing_tackle</th>\n",
       "      <th>sliding_tackle</th>\n",
       "      <th>work_rate_def</th>\n",
       "      <th>Total Apps</th>\n",
       "      <th>Total Cards</th>\n",
       "      <th>Average Clean Sheets/Game</th>\n",
       "    </tr>\n",
       "  </thead>\n",
       "  <tbody>\n",
       "    <tr>\n",
       "      <th>1</th>\n",
       "      <td>Aaron Hughes</td>\n",
       "      <td>Heart of Midlothian</td>\n",
       "      <td>Scottish Premiership</td>\n",
       "      <td>71</td>\n",
       "      <td>37</td>\n",
       "      <td>Defender</td>\n",
       "      <td>73</td>\n",
       "      <td>72</td>\n",
       "      <td>75</td>\n",
       "      <td>73</td>\n",
       "      <td>71</td>\n",
       "      <td>Medium</td>\n",
       "      <td>37.0</td>\n",
       "      <td>3.0</td>\n",
       "      <td>0.162162</td>\n",
       "    </tr>\n",
       "    <tr>\n",
       "      <th>2</th>\n",
       "      <td>Adam Bodzek</td>\n",
       "      <td>Fortuna Dusseldorf</td>\n",
       "      <td>German 2. Bundesliga</td>\n",
       "      <td>69</td>\n",
       "      <td>31</td>\n",
       "      <td>Defender</td>\n",
       "      <td>69</td>\n",
       "      <td>69</td>\n",
       "      <td>64</td>\n",
       "      <td>74</td>\n",
       "      <td>70</td>\n",
       "      <td>High</td>\n",
       "      <td>29.0</td>\n",
       "      <td>9.0</td>\n",
       "      <td>0.241379</td>\n",
       "    </tr>\n",
       "    <tr>\n",
       "      <th>3</th>\n",
       "      <td>Adam Lang</td>\n",
       "      <td>Dijon FCO</td>\n",
       "      <td>French Ligue 1</td>\n",
       "      <td>69</td>\n",
       "      <td>24</td>\n",
       "      <td>Defender</td>\n",
       "      <td>70</td>\n",
       "      <td>71</td>\n",
       "      <td>72</td>\n",
       "      <td>71</td>\n",
       "      <td>67</td>\n",
       "      <td>Medium</td>\n",
       "      <td>19.0</td>\n",
       "      <td>4.0</td>\n",
       "      <td>0.315789</td>\n",
       "    </tr>\n",
       "    <tr>\n",
       "      <th>4</th>\n",
       "      <td>Adam Masina</td>\n",
       "      <td>Bologna</td>\n",
       "      <td>Italian Serie A</td>\n",
       "      <td>74</td>\n",
       "      <td>23</td>\n",
       "      <td>Defender</td>\n",
       "      <td>71</td>\n",
       "      <td>71</td>\n",
       "      <td>66</td>\n",
       "      <td>74</td>\n",
       "      <td>74</td>\n",
       "      <td>Medium</td>\n",
       "      <td>65.0</td>\n",
       "      <td>16.0</td>\n",
       "      <td>0.276923</td>\n",
       "    </tr>\n",
       "    <tr>\n",
       "      <th>5</th>\n",
       "      <td>Adam Nagy</td>\n",
       "      <td>Bologna</td>\n",
       "      <td>Italian Serie A</td>\n",
       "      <td>74</td>\n",
       "      <td>22</td>\n",
       "      <td>Defender</td>\n",
       "      <td>68</td>\n",
       "      <td>68</td>\n",
       "      <td>68</td>\n",
       "      <td>72</td>\n",
       "      <td>64</td>\n",
       "      <td>High</td>\n",
       "      <td>25.0</td>\n",
       "      <td>4.0</td>\n",
       "      <td>0.240000</td>\n",
       "    </tr>\n",
       "  </tbody>\n",
       "</table>\n",
       "</div>"
      ],
      "text/plain": [
       "        Players                 club                league  overall  age  \\\n",
       "1  Aaron Hughes  Heart of Midlothian  Scottish Premiership       71   37   \n",
       "2   Adam Bodzek   Fortuna Dusseldorf  German 2. Bundesliga       69   31   \n",
       "3     Adam Lang            Dijon FCO        French Ligue 1       69   24   \n",
       "4   Adam Masina              Bologna       Italian Serie A       74   23   \n",
       "5     Adam Nagy              Bologna       Italian Serie A       74   22   \n",
       "\n",
       "   Position  Defending Attributes  def  marking  standing_tackle  \\\n",
       "1  Defender                    73   72       75               73   \n",
       "2  Defender                    69   69       64               74   \n",
       "3  Defender                    70   71       72               71   \n",
       "4  Defender                    71   71       66               74   \n",
       "5  Defender                    68   68       68               72   \n",
       "\n",
       "   sliding_tackle work_rate_def  Total Apps  Total Cards  \\\n",
       "1              71        Medium        37.0          3.0   \n",
       "2              70          High        29.0          9.0   \n",
       "3              67        Medium        19.0          4.0   \n",
       "4              74        Medium        65.0         16.0   \n",
       "5              64          High        25.0          4.0   \n",
       "\n",
       "   Average Clean Sheets/Game  \n",
       "1                   0.162162  \n",
       "2                   0.241379  \n",
       "3                   0.315789  \n",
       "4                   0.276923  \n",
       "5                   0.240000  "
      ]
     },
     "execution_count": 257,
     "metadata": {},
     "output_type": "execute_result"
    }
   ],
   "source": [
    "RQ3_4.head(5)"
   ]
  },
  {
   "cell_type": "code",
   "execution_count": 258,
   "metadata": {},
   "outputs": [
    {
     "data": {
      "text/plain": [
       "0.37475354979936915"
      ]
     },
     "execution_count": 258,
     "metadata": {},
     "output_type": "execute_result"
    }
   ],
   "source": [
    "RQ3_4['Defending Attributes'].corr(RQ3_4['Average Clean Sheets/Game'])"
   ]
  },
  {
   "cell_type": "code",
   "execution_count": 259,
   "metadata": {
    "collapsed": true
   },
   "outputs": [],
   "source": [
    "defending_attributes = RQ3_4.groupby(['Defending Attributes']).mean()['Average Clean Sheets/Game']"
   ]
  },
  {
   "cell_type": "code",
   "execution_count": 260,
   "metadata": {
    "collapsed": true
   },
   "outputs": [],
   "source": [
    "defending_attributes = defending_attributes.to_frame().reset_index()"
   ]
  },
  {
   "cell_type": "code",
   "execution_count": 261,
   "metadata": {},
   "outputs": [
    {
     "data": {
      "text/plain": [
       "<matplotlib.axes._subplots.AxesSubplot at 0x1d288a1bcf8>"
      ]
     },
     "execution_count": 261,
     "metadata": {},
     "output_type": "execute_result"
    },
    {
     "data": {
      "image/png": "[encoded data removed]",
      "text/plain": [
       "<matplotlib.figure.Figure at 0x1d289e495f8>"
      ]
     },
     "metadata": {},
     "output_type": "display_data"
    }
   ],
   "source": [
    "axis_size=14\n",
    "color = ['r']\n",
    "\n",
    "fig = plt.figure(figsize=(30,15))\n",
    "gs = gridspec.GridSpec(2,6)\n",
    "\n",
    "ax0 = plt.subplot(gs[0,0:2],title='\\n \\n'+ 'Defending Attributes vs Average Goals/Game')\n",
    "ax0.title.set_fontsize(20)\n",
    "ax0.set_ylabel('Average Goals/Game',size=axis_size)\n",
    "ax0.set_xlabel('Defending Attributes',size=axis_size)\n",
    "defending_attributes.plot(ax=ax0,kind='scatter',x='Defending Attributes',y='Average Clean Sheets/Game',color=color)"
   ]
  },
  {
   "cell_type": "markdown",
   "metadata": {},
   "source": [
    "## Mental Attributes (eg. Agression) vs Cards"
   ]
  },
  {
   "cell_type": "code",
   "execution_count": 262,
   "metadata": {
    "collapsed": true
   },
   "outputs": [],
   "source": [
    "RQ3_5 = pd.read_csv(('../../data/analysis/RQ3_5.csv'))\n",
    "RQ3_5 = RQ3_5 .drop('Unnamed: 0', 1)\n",
    "RQ3_5 = RQ3_5 .iloc[1:]"
   ]
  },
  {
   "cell_type": "code",
   "execution_count": 263,
   "metadata": {},
   "outputs": [
    {
     "data": {
      "text/html": [
       "<div>\n",
       "<style>\n",
       "    .dataframe thead tr:only-child th {\n",
       "        text-align: right;\n",
       "    }\n",
       "\n",
       "    .dataframe thead th {\n",
       "        text-align: left;\n",
       "    }\n",
       "\n",
       "    .dataframe tbody tr th {\n",
       "        vertical-align: top;\n",
       "    }\n",
       "</style>\n",
       "<table border=\"1\" class=\"dataframe\">\n",
       "  <thead>\n",
       "    <tr style=\"text-align: right;\">\n",
       "      <th></th>\n",
       "      <th>Players</th>\n",
       "      <th>club</th>\n",
       "      <th>league</th>\n",
       "      <th>overall</th>\n",
       "      <th>age</th>\n",
       "      <th>Position</th>\n",
       "      <th>aggression</th>\n",
       "      <th>work_rate_def</th>\n",
       "      <th>Total Apps</th>\n",
       "      <th>Total Cards</th>\n",
       "      <th>Average Cards/Game</th>\n",
       "    </tr>\n",
       "  </thead>\n",
       "  <tbody>\n",
       "    <tr>\n",
       "      <th>1</th>\n",
       "      <td>Aaron Hughes</td>\n",
       "      <td>Heart of Midlothian</td>\n",
       "      <td>Scottish Premiership</td>\n",
       "      <td>71</td>\n",
       "      <td>37</td>\n",
       "      <td>Defender</td>\n",
       "      <td>66</td>\n",
       "      <td>Medium</td>\n",
       "      <td>37.0</td>\n",
       "      <td>3.0</td>\n",
       "      <td>0.081081</td>\n",
       "    </tr>\n",
       "    <tr>\n",
       "      <th>2</th>\n",
       "      <td>Aaron Hunt</td>\n",
       "      <td>Hamburger SV</td>\n",
       "      <td>German Bundesliga</td>\n",
       "      <td>76</td>\n",
       "      <td>30</td>\n",
       "      <td>Midfielder</td>\n",
       "      <td>59</td>\n",
       "      <td>Medium</td>\n",
       "      <td>118.0</td>\n",
       "      <td>11.0</td>\n",
       "      <td>0.093220</td>\n",
       "    </tr>\n",
       "    <tr>\n",
       "      <th>3</th>\n",
       "      <td>Aaron Lennon</td>\n",
       "      <td>Everton</td>\n",
       "      <td>English Premier League</td>\n",
       "      <td>77</td>\n",
       "      <td>30</td>\n",
       "      <td>Midfielder</td>\n",
       "      <td>57</td>\n",
       "      <td>Medium</td>\n",
       "      <td>120.0</td>\n",
       "      <td>6.0</td>\n",
       "      <td>0.050000</td>\n",
       "    </tr>\n",
       "    <tr>\n",
       "      <th>4</th>\n",
       "      <td>Aaron Niguez</td>\n",
       "      <td>Real Oviedo</td>\n",
       "      <td>Spanish Segunda Division</td>\n",
       "      <td>73</td>\n",
       "      <td>28</td>\n",
       "      <td>Midfielder</td>\n",
       "      <td>55</td>\n",
       "      <td>Low</td>\n",
       "      <td>43.0</td>\n",
       "      <td>10.0</td>\n",
       "      <td>0.232558</td>\n",
       "    </tr>\n",
       "    <tr>\n",
       "      <th>5</th>\n",
       "      <td>Aaron Ramsey</td>\n",
       "      <td>Arsenal</td>\n",
       "      <td>English Premier League</td>\n",
       "      <td>82</td>\n",
       "      <td>26</td>\n",
       "      <td>Midfielder</td>\n",
       "      <td>73</td>\n",
       "      <td>High</td>\n",
       "      <td>142.0</td>\n",
       "      <td>21.0</td>\n",
       "      <td>0.147887</td>\n",
       "    </tr>\n",
       "  </tbody>\n",
       "</table>\n",
       "</div>"
      ],
      "text/plain": [
       "        Players                 club                    league  overall  age  \\\n",
       "1  Aaron Hughes  Heart of Midlothian      Scottish Premiership       71   37   \n",
       "2    Aaron Hunt         Hamburger SV         German Bundesliga       76   30   \n",
       "3  Aaron Lennon              Everton    English Premier League       77   30   \n",
       "4  Aaron Niguez          Real Oviedo  Spanish Segunda Division       73   28   \n",
       "5  Aaron Ramsey              Arsenal    English Premier League       82   26   \n",
       "\n",
       "     Position  aggression work_rate_def  Total Apps  Total Cards  \\\n",
       "1    Defender          66        Medium        37.0          3.0   \n",
       "2  Midfielder          59        Medium       118.0         11.0   \n",
       "3  Midfielder          57        Medium       120.0          6.0   \n",
       "4  Midfielder          55           Low        43.0         10.0   \n",
       "5  Midfielder          73          High       142.0         21.0   \n",
       "\n",
       "   Average Cards/Game  \n",
       "1            0.081081  \n",
       "2            0.093220  \n",
       "3            0.050000  \n",
       "4            0.232558  \n",
       "5            0.147887  "
      ]
     },
     "execution_count": 263,
     "metadata": {},
     "output_type": "execute_result"
    }
   ],
   "source": [
    "RQ3_5.head(5)"
   ]
  },
  {
   "cell_type": "code",
   "execution_count": 264,
   "metadata": {},
   "outputs": [],
   "source": [
    "aggression = RQ3_5.groupby(['aggression']).mean()['Average Cards/Game']"
   ]
  },
  {
   "cell_type": "code",
   "execution_count": 265,
   "metadata": {
    "collapsed": true
   },
   "outputs": [],
   "source": [
    "aggression_corr = aggression.corr(RQ3_5['Average Cards/Game']).round(5).astype(str)"
   ]
  },
  {
   "cell_type": "code",
   "execution_count": 266,
   "metadata": {
    "collapsed": true
   },
   "outputs": [],
   "source": [
    "aggression = RQ3_5.groupby(['aggression']).mean()['Average Cards/Game'].to_frame().reset_index()"
   ]
  },
  {
   "cell_type": "code",
   "execution_count": 267,
   "metadata": {},
   "outputs": [
    {
     "data": {
      "text/plain": [
       "<matplotlib.axes._subplots.AxesSubplot at 0x1d28a155048>"
      ]
     },
     "execution_count": 267,
     "metadata": {},
     "output_type": "execute_result"
    },
    {
     "data": {
      "image/png": "[encoded data removed]",
      "text/plain": [
       "<matplotlib.figure.Figure at 0x1d28a159940>"
      ]
     },
     "metadata": {},
     "output_type": "display_data"
    }
   ],
   "source": [
    "axis_size=14\n",
    "color = ['r']\n",
    "\n",
    "fig = plt.figure(figsize=(30,15))\n",
    "\n",
    "gs = gridspec.GridSpec(2,6)\n",
    "ax0 = plt.subplot(gs[0,2:4],title='\\n \\n'+ 'Aggression Attributes vs Average Cards/Game')\n",
    "ax0.title.set_fontsize(20)\n",
    "ax0.set_ylabel('Average Cards/Game',size=axis_size)\n",
    "ax0.set_xlabel('Aggression Attribute',size=axis_size)\n",
    "aggression.plot(ax=ax0,x='aggression',y='Average Cards/Game',kind='scatter',color=color)\n"
   ]
  },
  {
   "cell_type": "code",
   "execution_count": 268,
   "metadata": {},
   "outputs": [],
   "source": [
    "forwards = RQ3_5[RQ3_5['Position'] == 'Forward']\n",
    "forwards1 = forwards.sort_values('Average Cards/Game', ascending=False).reset_index().drop('index',1).head(50)\n",
    "workrate1 = forwards.work_rate_def.value_counts()"
   ]
  },
  {
   "cell_type": "code",
   "execution_count": 269,
   "metadata": {},
   "outputs": [
    {
     "data": {
      "text/plain": [
       "Text(0.5,1,'Most likely to be carded (Real-life)')"
      ]
     },
     "execution_count": 269,
     "metadata": {},
     "output_type": "execute_result"
    },
    {
     "data": {
      "image/png": "[encoded data removed]",
      "text/plain": [
       "<matplotlib.figure.Figure at 0x1d28a15bc18>"
      ]
     },
     "metadata": {},
     "output_type": "display_data"
    }
   ],
   "source": [
    "labels = ['','']\n",
    "workrate1.plot(subplots=True,kind='pie',figsize=(9,9),fontsize=14,autopct='%1.1f%%',shadow=True,colors=['dodgerblue','powderblue','darkblue'],labeldistance=1.4)\n",
    "plt.legend(bbox_to_anchor=(1, 1, 0, 0),prop={'size':25},labels=workrate1.index)\n",
    "plt.gca().set_title('',color='white',fontsize=30)\n",
    "plt.title('Most likely to be carded (Real-life)',fontsize=35,color='Black')"
   ]
  },
  {
   "cell_type": "code",
   "execution_count": 270,
   "metadata": {
    "collapsed": true
   },
   "outputs": [],
   "source": [
    "forwards2 = forwards.sort_values('aggression', ascending=False).reset_index().drop('index',1).head(50)\n",
    "workrate2 = forwards2.work_rate_def.value_counts()"
   ]
  },
  {
   "cell_type": "code",
   "execution_count": 271,
   "metadata": {},
   "outputs": [
    {
     "data": {
      "text/plain": [
       "Text(0.5,1,'Most Aggressive (FIFA)')"
      ]
     },
     "execution_count": 271,
     "metadata": {},
     "output_type": "execute_result"
    },
    {
     "data": {
      "image/png": "[encoded data removed]",
      "text/plain": [
       "<matplotlib.figure.Figure at 0x1d289e9deb8>"
      ]
     },
     "metadata": {},
     "output_type": "display_data"
    }
   ],
   "source": [
    "labels = ['','']\n",
    "workrate2.plot(subplots=True,kind='pie',figsize=(9,9),fontsize=14,autopct='%1.1f%%',shadow=True,colors=['dodgerblue','darkblue','powderblue'],labeldistance=1.4)\n",
    "plt.legend(bbox_to_anchor=(1, 1, 0, 0),prop={'size':25},labels=workrate2.index)\n",
    "plt.gca().set_title('',color='white',fontsize=30)\n",
    "plt.title('Most Aggressive (FIFA)',fontsize=25,color='Black')"
   ]
  },
  {
   "cell_type": "code",
   "execution_count": null,
   "metadata": {
    "collapsed": true
   },
   "outputs": [],
   "source": []
  }
 ],
 "metadata": {
  "kernelspec": {
   "display_name": "Python 3",
   "language": "python",
   "name": "python3"
  },
  "language_info": {
   "codemirror_mode": {
    "name": "ipython",
    "version": 3
   },
   "file_extension": ".py",
   "mimetype": "text/x-python",
   "name": "python",
   "nbconvert_exporter": "python",
   "pygments_lexer": "ipython3",
   "version": "3.6.3"
  }
 },
 "nbformat": 4,
 "nbformat_minor": 2
}
