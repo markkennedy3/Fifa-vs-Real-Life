{
 "cells": [
  {
   "cell_type": "markdown",
   "metadata": {},
   "source": [
    "# 800_RQ3\n",
    "## Purpose \n",
    "Final analysis of our Reseach Question 3 \n",
    "## Datasets \n",
    "* _Input_: RQ3.csv\n",
    "* _Output_: N/A"
   ]
  },
  {
   "cell_type": "markdown",
   "metadata": {},
   "source": [
    "## RQ3: Accuracy of In-Game Attributes\n",
    "### Are player's attributes a fair indication of their abilities \n",
    "\n",
    "* ### Does a players in-game attributes correlate with real-life statistics which back them up "
   ]
  },
  {
   "cell_type": "code",
   "execution_count": 4,
   "metadata": {
    "collapsed": true
   },
   "outputs": [],
   "source": [
    "import os.path\n",
    "import pandas as pd\n",
    "import numpy as np\n",
    "import matplotlib\n",
    "import matplotlib.pylab as plt\n",
    "from matplotlib.gridspec import GridSpec\n",
    "import matplotlib.gridspec as gridspec\n",
    "%matplotlib inline "
   ]
  },
  {
   "cell_type": "markdown",
   "metadata": {},
   "source": [
    "## Prerequisites:\n",
    "We define a players:\n",
    "\n",
    "##### In-Game:\n",
    "* **Attacking Attributes:** Mean Average of (Mean average of the following, Crossing, Finishing, Heading Accuracy, Short Passing & Volleys)\n",
    "* **Defending Attributes:** Mean Average of (Marking, Sliding Tackle, Standing Tackle)\n",
    "* **Goalkeeping Attributes:** Mean Average of (GK Diving, GK Reflexes, GK Handling, GK Kicking & GK Positioning)\n",
    "\n",
    "##### Real-life:\n",
    "* **Goalscoring Ability:** Total Goals Scored/ Total appearances (Forwards Only)\n",
    "* **Ability To Keep Clean Sheet:** Total Clean Sheets/ Total appearances (Goalkeepers Only)\n",
    "* **Defending Ability:** Total Goals Scored/ Total appearances (Defenders Only)\n",
    "* **Likelyhood to be cared:** Total Cards Recieved/ Total appearances"
   ]
  },
  {
   "cell_type": "markdown",
   "metadata": {},
   "source": [
    "### 1. Attacking Attributes vs Goalscoring Abilities"
   ]
  },
  {
   "cell_type": "markdown",
   "metadata": {},
   "source": [
    "#### Load in the relevant dataframe"
   ]
  },
  {
   "cell_type": "code",
   "execution_count": 5,
   "metadata": {},
   "outputs": [
    {
     "ename": "FileNotFoundError",
     "evalue": "File b'../../data/analysis/RQ3_1.csv' does not exist",
     "output_type": "error",
     "traceback": [
      "\u001b[1;31m---------------------------------------------------------------------------\u001b[0m",
      "\u001b[1;31mFileNotFoundError\u001b[0m                         Traceback (most recent call last)",
      "\u001b[1;32m<ipython-input-5-16c12b88c100>\u001b[0m in \u001b[0;36m<module>\u001b[1;34m()\u001b[0m\n\u001b[1;32m----> 1\u001b[1;33m \u001b[0mRQ3_1\u001b[0m \u001b[1;33m=\u001b[0m \u001b[0mpd\u001b[0m\u001b[1;33m.\u001b[0m\u001b[0mread_csv\u001b[0m\u001b[1;33m(\u001b[0m\u001b[1;33m(\u001b[0m\u001b[1;34m'../../data/analysis/RQ3_1.csv'\u001b[0m\u001b[1;33m)\u001b[0m\u001b[1;33m)\u001b[0m\u001b[1;33m\u001b[0m\u001b[0m\n\u001b[0m\u001b[0;32m      2\u001b[0m \u001b[0mRQ3_1\u001b[0m \u001b[1;33m=\u001b[0m \u001b[0mRQ3_1\u001b[0m\u001b[1;33m.\u001b[0m\u001b[0mdrop\u001b[0m\u001b[1;33m(\u001b[0m\u001b[1;34m'Unnamed: 0'\u001b[0m\u001b[1;33m,\u001b[0m \u001b[1;36m1\u001b[0m\u001b[1;33m)\u001b[0m\u001b[1;33m\u001b[0m\u001b[0m\n\u001b[0;32m      3\u001b[0m \u001b[0mRQ3_1\u001b[0m \u001b[1;33m=\u001b[0m \u001b[0mRQ3_1\u001b[0m\u001b[1;33m.\u001b[0m\u001b[0miloc\u001b[0m\u001b[1;33m[\u001b[0m\u001b[1;36m1\u001b[0m\u001b[1;33m:\u001b[0m\u001b[1;33m]\u001b[0m\u001b[1;33m\u001b[0m\u001b[0m\n",
      "\u001b[1;32m~\\Desktop\\Anaconda3\\lib\\site-packages\\pandas\\io\\parsers.py\u001b[0m in \u001b[0;36mparser_f\u001b[1;34m(filepath_or_buffer, sep, delimiter, header, names, index_col, usecols, squeeze, prefix, mangle_dupe_cols, dtype, engine, converters, true_values, false_values, skipinitialspace, skiprows, nrows, na_values, keep_default_na, na_filter, verbose, skip_blank_lines, parse_dates, infer_datetime_format, keep_date_col, date_parser, dayfirst, iterator, chunksize, compression, thousands, decimal, lineterminator, quotechar, quoting, escapechar, comment, encoding, dialect, tupleize_cols, error_bad_lines, warn_bad_lines, skipfooter, skip_footer, doublequote, delim_whitespace, as_recarray, compact_ints, use_unsigned, low_memory, buffer_lines, memory_map, float_precision)\u001b[0m\n\u001b[0;32m    653\u001b[0m                     skip_blank_lines=skip_blank_lines)\n\u001b[0;32m    654\u001b[0m \u001b[1;33m\u001b[0m\u001b[0m\n\u001b[1;32m--> 655\u001b[1;33m         \u001b[1;32mreturn\u001b[0m \u001b[0m_read\u001b[0m\u001b[1;33m(\u001b[0m\u001b[0mfilepath_or_buffer\u001b[0m\u001b[1;33m,\u001b[0m \u001b[0mkwds\u001b[0m\u001b[1;33m)\u001b[0m\u001b[1;33m\u001b[0m\u001b[0m\n\u001b[0m\u001b[0;32m    656\u001b[0m \u001b[1;33m\u001b[0m\u001b[0m\n\u001b[0;32m    657\u001b[0m     \u001b[0mparser_f\u001b[0m\u001b[1;33m.\u001b[0m\u001b[0m__name__\u001b[0m \u001b[1;33m=\u001b[0m \u001b[0mname\u001b[0m\u001b[1;33m\u001b[0m\u001b[0m\n",
      "\u001b[1;32m~\\Desktop\\Anaconda3\\lib\\site-packages\\pandas\\io\\parsers.py\u001b[0m in \u001b[0;36m_read\u001b[1;34m(filepath_or_buffer, kwds)\u001b[0m\n\u001b[0;32m    403\u001b[0m \u001b[1;33m\u001b[0m\u001b[0m\n\u001b[0;32m    404\u001b[0m     \u001b[1;31m# Create the parser.\u001b[0m\u001b[1;33m\u001b[0m\u001b[1;33m\u001b[0m\u001b[0m\n\u001b[1;32m--> 405\u001b[1;33m     \u001b[0mparser\u001b[0m \u001b[1;33m=\u001b[0m \u001b[0mTextFileReader\u001b[0m\u001b[1;33m(\u001b[0m\u001b[0mfilepath_or_buffer\u001b[0m\u001b[1;33m,\u001b[0m \u001b[1;33m**\u001b[0m\u001b[0mkwds\u001b[0m\u001b[1;33m)\u001b[0m\u001b[1;33m\u001b[0m\u001b[0m\n\u001b[0m\u001b[0;32m    406\u001b[0m \u001b[1;33m\u001b[0m\u001b[0m\n\u001b[0;32m    407\u001b[0m     \u001b[1;32mif\u001b[0m \u001b[0mchunksize\u001b[0m \u001b[1;32mor\u001b[0m \u001b[0miterator\u001b[0m\u001b[1;33m:\u001b[0m\u001b[1;33m\u001b[0m\u001b[0m\n",
      "\u001b[1;32m~\\Desktop\\Anaconda3\\lib\\site-packages\\pandas\\io\\parsers.py\u001b[0m in \u001b[0;36m__init__\u001b[1;34m(self, f, engine, **kwds)\u001b[0m\n\u001b[0;32m    762\u001b[0m             \u001b[0mself\u001b[0m\u001b[1;33m.\u001b[0m\u001b[0moptions\u001b[0m\u001b[1;33m[\u001b[0m\u001b[1;34m'has_index_names'\u001b[0m\u001b[1;33m]\u001b[0m \u001b[1;33m=\u001b[0m \u001b[0mkwds\u001b[0m\u001b[1;33m[\u001b[0m\u001b[1;34m'has_index_names'\u001b[0m\u001b[1;33m]\u001b[0m\u001b[1;33m\u001b[0m\u001b[0m\n\u001b[0;32m    763\u001b[0m \u001b[1;33m\u001b[0m\u001b[0m\n\u001b[1;32m--> 764\u001b[1;33m         \u001b[0mself\u001b[0m\u001b[1;33m.\u001b[0m\u001b[0m_make_engine\u001b[0m\u001b[1;33m(\u001b[0m\u001b[0mself\u001b[0m\u001b[1;33m.\u001b[0m\u001b[0mengine\u001b[0m\u001b[1;33m)\u001b[0m\u001b[1;33m\u001b[0m\u001b[0m\n\u001b[0m\u001b[0;32m    765\u001b[0m \u001b[1;33m\u001b[0m\u001b[0m\n\u001b[0;32m    766\u001b[0m     \u001b[1;32mdef\u001b[0m \u001b[0mclose\u001b[0m\u001b[1;33m(\u001b[0m\u001b[0mself\u001b[0m\u001b[1;33m)\u001b[0m\u001b[1;33m:\u001b[0m\u001b[1;33m\u001b[0m\u001b[0m\n",
      "\u001b[1;32m~\\Desktop\\Anaconda3\\lib\\site-packages\\pandas\\io\\parsers.py\u001b[0m in \u001b[0;36m_make_engine\u001b[1;34m(self, engine)\u001b[0m\n\u001b[0;32m    983\u001b[0m     \u001b[1;32mdef\u001b[0m \u001b[0m_make_engine\u001b[0m\u001b[1;33m(\u001b[0m\u001b[0mself\u001b[0m\u001b[1;33m,\u001b[0m \u001b[0mengine\u001b[0m\u001b[1;33m=\u001b[0m\u001b[1;34m'c'\u001b[0m\u001b[1;33m)\u001b[0m\u001b[1;33m:\u001b[0m\u001b[1;33m\u001b[0m\u001b[0m\n\u001b[0;32m    984\u001b[0m         \u001b[1;32mif\u001b[0m \u001b[0mengine\u001b[0m \u001b[1;33m==\u001b[0m \u001b[1;34m'c'\u001b[0m\u001b[1;33m:\u001b[0m\u001b[1;33m\u001b[0m\u001b[0m\n\u001b[1;32m--> 985\u001b[1;33m             \u001b[0mself\u001b[0m\u001b[1;33m.\u001b[0m\u001b[0m_engine\u001b[0m \u001b[1;33m=\u001b[0m \u001b[0mCParserWrapper\u001b[0m\u001b[1;33m(\u001b[0m\u001b[0mself\u001b[0m\u001b[1;33m.\u001b[0m\u001b[0mf\u001b[0m\u001b[1;33m,\u001b[0m \u001b[1;33m**\u001b[0m\u001b[0mself\u001b[0m\u001b[1;33m.\u001b[0m\u001b[0moptions\u001b[0m\u001b[1;33m)\u001b[0m\u001b[1;33m\u001b[0m\u001b[0m\n\u001b[0m\u001b[0;32m    986\u001b[0m         \u001b[1;32melse\u001b[0m\u001b[1;33m:\u001b[0m\u001b[1;33m\u001b[0m\u001b[0m\n\u001b[0;32m    987\u001b[0m             \u001b[1;32mif\u001b[0m \u001b[0mengine\u001b[0m \u001b[1;33m==\u001b[0m \u001b[1;34m'python'\u001b[0m\u001b[1;33m:\u001b[0m\u001b[1;33m\u001b[0m\u001b[0m\n",
      "\u001b[1;32m~\\Desktop\\Anaconda3\\lib\\site-packages\\pandas\\io\\parsers.py\u001b[0m in \u001b[0;36m__init__\u001b[1;34m(self, src, **kwds)\u001b[0m\n\u001b[0;32m   1603\u001b[0m         \u001b[0mkwds\u001b[0m\u001b[1;33m[\u001b[0m\u001b[1;34m'allow_leading_cols'\u001b[0m\u001b[1;33m]\u001b[0m \u001b[1;33m=\u001b[0m \u001b[0mself\u001b[0m\u001b[1;33m.\u001b[0m\u001b[0mindex_col\u001b[0m \u001b[1;32mis\u001b[0m \u001b[1;32mnot\u001b[0m \u001b[1;32mFalse\u001b[0m\u001b[1;33m\u001b[0m\u001b[0m\n\u001b[0;32m   1604\u001b[0m \u001b[1;33m\u001b[0m\u001b[0m\n\u001b[1;32m-> 1605\u001b[1;33m         \u001b[0mself\u001b[0m\u001b[1;33m.\u001b[0m\u001b[0m_reader\u001b[0m \u001b[1;33m=\u001b[0m \u001b[0mparsers\u001b[0m\u001b[1;33m.\u001b[0m\u001b[0mTextReader\u001b[0m\u001b[1;33m(\u001b[0m\u001b[0msrc\u001b[0m\u001b[1;33m,\u001b[0m \u001b[1;33m**\u001b[0m\u001b[0mkwds\u001b[0m\u001b[1;33m)\u001b[0m\u001b[1;33m\u001b[0m\u001b[0m\n\u001b[0m\u001b[0;32m   1606\u001b[0m \u001b[1;33m\u001b[0m\u001b[0m\n\u001b[0;32m   1607\u001b[0m         \u001b[1;31m# XXX\u001b[0m\u001b[1;33m\u001b[0m\u001b[1;33m\u001b[0m\u001b[0m\n",
      "\u001b[1;32mpandas/_libs/parsers.pyx\u001b[0m in \u001b[0;36mpandas._libs.parsers.TextReader.__cinit__ (pandas\\_libs\\parsers.c:4209)\u001b[1;34m()\u001b[0m\n",
      "\u001b[1;32mpandas/_libs/parsers.pyx\u001b[0m in \u001b[0;36mpandas._libs.parsers.TextReader._setup_parser_source (pandas\\_libs\\parsers.c:8873)\u001b[1;34m()\u001b[0m\n",
      "\u001b[1;31mFileNotFoundError\u001b[0m: File b'../../data/analysis/RQ3_1.csv' does not exist"
     ]
    }
   ],
   "source": [
    "RQ3_1 = pd.read_csv(('../../data/analysis/RQ3_1.csv'))\n",
    "RQ3_1 = RQ3_1.drop('Unnamed: 0', 1)\n",
    "RQ3_1 = RQ3_1.iloc[1:]"
   ]
  },
  {
   "cell_type": "markdown",
   "metadata": {},
   "source": [
    "#### Quick glance at the dataframe."
   ]
  },
  {
   "cell_type": "code",
   "execution_count": null,
   "metadata": {},
   "outputs": [],
   "source": [
    "RQ3_1.head(5)"
   ]
  },
  {
   "cell_type": "markdown",
   "metadata": {},
   "source": [
    "#### Find the correlation between the two "
   ]
  },
  {
   "cell_type": "code",
   "execution_count": null,
   "metadata": {},
   "outputs": [],
   "source": [
    "RQ3_1['Attacking Attributes'].corr(RQ3_1['Average Goals/Game'])"
   ]
  },
  {
   "cell_type": "markdown",
   "metadata": {},
   "source": [
    "#### Graph the relationship between the two values"
   ]
  },
  {
   "cell_type": "code",
   "execution_count": null,
   "metadata": {
    "collapsed": true
   },
   "outputs": [],
   "source": [
    "attacking_attributes = RQ3_1.groupby(['Attacking Attributes']).mean()['Average Goals/Game']"
   ]
  },
  {
   "cell_type": "code",
   "execution_count": null,
   "metadata": {
    "collapsed": true
   },
   "outputs": [],
   "source": [
    "attacking_attributes = attacking_attributes.to_frame().reset_index()"
   ]
  },
  {
   "cell_type": "code",
   "execution_count": null,
   "metadata": {},
   "outputs": [],
   "source": [
    "axis_size=14\n",
    "color = ['r']\n",
    "\n",
    "fig = plt.figure(figsize=(30,15))\n",
    "gs = gridspec.GridSpec(2,6)\n",
    "\n",
    "ax0 = plt.subplot(gs[0,0:2],title='\\n \\n'+ 'Attacking Attributes vs Average Goals/Game')\n",
    "ax0.title.set_fontsize(20)\n",
    "ax0.set_ylabel('Average Goals/Game',size=axis_size)\n",
    "ax0.set_xlabel('Attacking Attributes',size=axis_size)\n",
    "attacking_attributes.plot(ax=ax0,kind='scatter',x='Attacking Attributes',y='Average Goals/Game',color=color)"
   ]
  },
  {
   "cell_type": "markdown",
   "metadata": {},
   "source": [
    "#### Lefty vs Righty"
   ]
  },
  {
   "cell_type": "code",
   "execution_count": null,
   "metadata": {
    "collapsed": true
   },
   "outputs": [],
   "source": [
    "RQ3_1_left = RQ3_1[RQ3_1['preferred_foot']=='Left']"
   ]
  },
  {
   "cell_type": "code",
   "execution_count": null,
   "metadata": {},
   "outputs": [],
   "source": [
    "RQ3_1_left = RQ3_1_left.sort_values('Average Goals/Game', ascending=False).reset_index().drop('index',1)\n",
    "RQ3_1_left.head(5)"
   ]
  },
  {
   "cell_type": "code",
   "execution_count": null,
   "metadata": {
    "collapsed": true
   },
   "outputs": [],
   "source": [
    "RQ3_1_right = RQ3_1[RQ3_1['preferred_foot']=='Right']"
   ]
  },
  {
   "cell_type": "code",
   "execution_count": null,
   "metadata": {},
   "outputs": [],
   "source": [
    "RQ3_1_right = RQ3_1_right.sort_values('Average Goals/Game', ascending=False).reset_index().drop('index',1)\n",
    "RQ3_1_right.head(5)"
   ]
  },
  {
   "cell_type": "code",
   "execution_count": null,
   "metadata": {},
   "outputs": [],
   "source": [
    "leftyrighty = pd.DataFrame(columns = ['Average Goals/Game','Attacking Attributes'])\n",
    "leftyrighty.set_value('Right Footed','Average Goals/Game', RQ3_1_right.mean()['Average Goals/Game'])\n",
    "leftyrighty.set_value('Right Footed','Attacking Attributes', RQ3_1_right.mean()['Attacking Attributes'])\n",
    "leftyrighty.set_value('Left Footed','Average Goals/Game', RQ3_1_left.mean()['Average Goals/Game'])\n",
    "leftyrighty.set_value('Left Footed','Attacking Attributes', RQ3_1_left.mean()['Attacking Attributes'])"
   ]
  },
  {
   "cell_type": "markdown",
   "metadata": {},
   "source": [
    "### 2. Goalkeeping Attributes vs Ability To Keep Clean Sheets"
   ]
  },
  {
   "cell_type": "markdown",
   "metadata": {},
   "source": [
    "#### Load in the relevant dataframe"
   ]
  },
  {
   "cell_type": "code",
   "execution_count": null,
   "metadata": {
    "collapsed": true
   },
   "outputs": [],
   "source": [
    "RQ3_3 = pd.read_csv(('../../data/analysis/RQ3_3.csv'))\n",
    "RQ3_3 = RQ3_3.drop('Unnamed: 0', 1)\n",
    "RQ3_3 = RQ3_3.iloc[1:]"
   ]
  },
  {
   "cell_type": "markdown",
   "metadata": {},
   "source": [
    "#### Quick glance at the dataframe."
   ]
  },
  {
   "cell_type": "code",
   "execution_count": null,
   "metadata": {},
   "outputs": [],
   "source": [
    "RQ3_3.head(5)"
   ]
  },
  {
   "cell_type": "markdown",
   "metadata": {},
   "source": [
    "#### Find the correlation between the two "
   ]
  },
  {
   "cell_type": "code",
   "execution_count": null,
   "metadata": {},
   "outputs": [],
   "source": [
    "RQ3_3['Goalkeeping Attributes'].corr(RQ3_3['Average Clean Sheets/Game'])"
   ]
  },
  {
   "cell_type": "markdown",
   "metadata": {},
   "source": [
    "#### Graph the relationship between the two values"
   ]
  },
  {
   "cell_type": "code",
   "execution_count": null,
   "metadata": {
    "collapsed": true
   },
   "outputs": [],
   "source": [
    "goalkeeping_attributes = RQ3_3.groupby(['Goalkeeping Attributes']).mean()['Average Clean Sheets/Game']"
   ]
  },
  {
   "cell_type": "code",
   "execution_count": null,
   "metadata": {
    "collapsed": true
   },
   "outputs": [],
   "source": [
    "goalkeeping_attributes = goalkeeping_attributes.to_frame().reset_index()"
   ]
  },
  {
   "cell_type": "code",
   "execution_count": null,
   "metadata": {},
   "outputs": [],
   "source": [
    "axis_size=14\n",
    "color = ['r']\n",
    "\n",
    "fig = plt.figure(figsize=(30,15))\n",
    "gs = gridspec.GridSpec(2,6)\n",
    "\n",
    "ax0 = plt.subplot(gs[0,0:2],title='\\n \\n'+ 'Goalkeeping Attributes vs Average Goals/Game')\n",
    "ax0.title.set_fontsize(20)\n",
    "ax0.set_ylabel('Average Goals/Game',size=axis_size)\n",
    "ax0.set_xlabel('Goalkeeping Attributes',size=axis_size)\n",
    "goalkeeping_attributes.plot(ax=ax0,kind='scatter',x='Goalkeeping Attributes',y='Average Clean Sheets/Game',color=color)"
   ]
  },
  {
   "cell_type": "markdown",
   "metadata": {},
   "source": [
    "### 3. Defending Attributes vs Ability to Keep Clean Sheets"
   ]
  },
  {
   "cell_type": "markdown",
   "metadata": {},
   "source": [
    "#### Load in the relevant dataframe"
   ]
  },
  {
   "cell_type": "code",
   "execution_count": null,
   "metadata": {
    "collapsed": true
   },
   "outputs": [],
   "source": [
    "RQ3_4 = pd.read_csv(('../../data/analysis/RQ3_4.csv'))\n",
    "RQ3_4 = RQ3_4 .drop('Unnamed: 0', 1)\n",
    "RQ3_4 = RQ3_4 .iloc[1:]"
   ]
  },
  {
   "cell_type": "markdown",
   "metadata": {},
   "source": [
    "#### Quick glance at the dataframe."
   ]
  },
  {
   "cell_type": "code",
   "execution_count": null,
   "metadata": {},
   "outputs": [],
   "source": [
    "RQ3_4.head(5)"
   ]
  },
  {
   "cell_type": "markdown",
   "metadata": {},
   "source": [
    "#### Find the correlation between the two "
   ]
  },
  {
   "cell_type": "code",
   "execution_count": null,
   "metadata": {},
   "outputs": [],
   "source": [
    "RQ3_4['Defending Attributes'].corr(RQ3_4['Average Clean Sheets/Game'])"
   ]
  },
  {
   "cell_type": "markdown",
   "metadata": {},
   "source": [
    "#### Graph the relationship between the two values"
   ]
  },
  {
   "cell_type": "code",
   "execution_count": null,
   "metadata": {
    "collapsed": true
   },
   "outputs": [],
   "source": [
    "defending_attributes = RQ3_4.groupby(['Defending Attributes']).mean()['Average Clean Sheets/Game']"
   ]
  },
  {
   "cell_type": "code",
   "execution_count": null,
   "metadata": {
    "collapsed": true
   },
   "outputs": [],
   "source": [
    "defending_attributes = defending_attributes.to_frame().reset_index()"
   ]
  },
  {
   "cell_type": "code",
   "execution_count": null,
   "metadata": {},
   "outputs": [],
   "source": [
    "axis_size=14\n",
    "color = ['r']\n",
    "\n",
    "fig = plt.figure(figsize=(30,15))\n",
    "gs = gridspec.GridSpec(2,6)\n",
    "\n",
    "ax0 = plt.subplot(gs[0,0:2],title='\\n \\n'+ 'Defending Attributes vs Average Goals/Game')\n",
    "ax0.title.set_fontsize(20)\n",
    "ax0.set_ylabel('Average Goals/Game',size=axis_size)\n",
    "ax0.set_xlabel('Defending Attributes',size=axis_size)\n",
    "defending_attributes.plot(ax=ax0,kind='scatter',x='Defending Attributes',y='Average Clean Sheets/Game',color=color)"
   ]
  },
  {
   "cell_type": "markdown",
   "metadata": {},
   "source": [
    "### 3. Mental Attributes (eg. Agression) vs Likelyhood to be Carded"
   ]
  },
  {
   "cell_type": "markdown",
   "metadata": {},
   "source": [
    "#### Load in the relevant dataframe"
   ]
  },
  {
   "cell_type": "code",
   "execution_count": null,
   "metadata": {
    "collapsed": true
   },
   "outputs": [],
   "source": [
    "RQ3_5 = pd.read_csv(('../../data/analysis/RQ3_5.csv'))\n",
    "RQ3_5 = RQ3_5 .drop('Unnamed: 0', 1)\n",
    "RQ3_5 = RQ3_5 .iloc[1:]"
   ]
  },
  {
   "cell_type": "markdown",
   "metadata": {},
   "source": [
    "#### Quick glance at the dataframe."
   ]
  },
  {
   "cell_type": "code",
   "execution_count": null,
   "metadata": {},
   "outputs": [],
   "source": [
    "RQ3_5.head(5)"
   ]
  },
  {
   "cell_type": "markdown",
   "metadata": {},
   "source": [
    "#### Find the correlation between the two "
   ]
  },
  {
   "cell_type": "code",
   "execution_count": null,
   "metadata": {},
   "outputs": [],
   "source": [
    "RQ3_5['aggression'].corr(RQ3_5['Average Cards/Game'])"
   ]
  },
  {
   "cell_type": "code",
   "execution_count": null,
   "metadata": {
    "collapsed": true
   },
   "outputs": [],
   "source": [
    "aggression = RQ3_5.groupby(['aggression']).mean()['Average Cards/Game'].to_frame().reset_index()"
   ]
  },
  {
   "cell_type": "code",
   "execution_count": null,
   "metadata": {},
   "outputs": [],
   "source": [
    "axis_size=14\n",
    "color = ['r']\n",
    "\n",
    "fig = plt.figure(figsize=(30,15))\n",
    "\n",
    "gs = gridspec.GridSpec(2,6)\n",
    "ax0 = plt.subplot(gs[0,2:4],title='\\n \\n'+ 'Aggression Attributes vs Average Cards/Game')\n",
    "ax0.title.set_fontsize(20)\n",
    "ax0.set_ylabel('Average Cards/Game',size=axis_size)\n",
    "ax0.set_xlabel('Aggression Attribute',size=axis_size)\n",
    "aggression.plot(ax=ax0,x='aggression',y='Average Cards/Game',kind='scatter',color=color)\n"
   ]
  },
  {
   "cell_type": "markdown",
   "metadata": {},
   "source": [
    "#### Examine the defensive workrate of the most aggressive forwards (both in-game and real-life)"
   ]
  },
  {
   "cell_type": "code",
   "execution_count": null,
   "metadata": {
    "collapsed": true
   },
   "outputs": [],
   "source": [
    "forwards = RQ3_5[RQ3_5['Position'] == 'Forward']\n",
    "forwards1 = forwards.sort_values('Average Cards/Game', ascending=False).reset_index().drop('index',1).head(50)\n",
    "workrate1 = forwards.work_rate_def.value_counts()"
   ]
  },
  {
   "cell_type": "code",
   "execution_count": null,
   "metadata": {},
   "outputs": [],
   "source": [
    "labels = ['','','']\n",
    "workrate1.plot(subplots=True,kind='pie',figsize=(9,9),fontsize=14,autopct='%1.1f%%',shadow=True,colors=['dodgerblue','powderblue','darkblue'],labels = labels )\n",
    "plt.legend(bbox_to_anchor=(1, 1, 0, 0),prop={'size':25},labels=workrate1.index)\n",
    "plt.gca().set_title('',color='white',fontsize=30)\n",
    "plt.title('Workrate Of Most Likely To Be Carded Forwards',fontsize=25,color='Black')\n",
    "plt.ylabel('')"
   ]
  },
  {
   "cell_type": "code",
   "execution_count": null,
   "metadata": {
    "collapsed": true
   },
   "outputs": [],
   "source": [
    "forwards2 = forwards.sort_values('aggression', ascending=False).reset_index().drop('index',1).head(50)\n",
    "workrate2 = forwards2.work_rate_def.value_counts()"
   ]
  },
  {
   "cell_type": "code",
   "execution_count": null,
   "metadata": {},
   "outputs": [],
   "source": [
    "labels = ['','','']\n",
    "workrate2.plot(subplots=True,kind='pie',figsize=(9,9),fontsize=14,autopct='%1.1f%%',shadow=True,colors=['dodgerblue','darkblue','powderblue'],labels=labels)\n",
    "plt.legend(bbox_to_anchor=(1, 1, 0, 0),prop={'size':25},labels=workrate2.index)\n",
    "plt.gca().set_title('',color='white',fontsize=30)\n",
    "plt.title('Workrate Of Most Aggressive Fowards (In-Game)',fontsize=25,color='Black')\n",
    "plt.ylabel('')"
   ]
  },
  {
   "cell_type": "markdown",
   "metadata": {
    "collapsed": true
   },
   "source": [
    "##### Result:\n",
    "From the pie charts we can see that the most aggressive players in real-life have a low/medium defensive workrate (87.3%). But this is not portrayed directly into the game as the most aggressive players in the game have a high/medium defensive workrate (94%)."
   ]
  },
  {
   "cell_type": "code",
   "execution_count": null,
   "metadata": {
    "collapsed": true
   },
   "outputs": [],
   "source": []
  }
 ],
 "metadata": {
  "kernelspec": {
   "display_name": "Python 3",
   "language": "python",
   "name": "python3"
  }
 },
 "nbformat": 4,
 "nbformat_minor": 2
}
