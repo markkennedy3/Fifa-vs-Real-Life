{
 "cells": [
  {
   "cell_type": "markdown",
   "metadata": {},
   "source": [
    "# 410_prep_RQ2_Dataframe\n",
    "## Purpose \n",
    "In this notebook we prepare a dataframe for our Research Question 2.  \n",
    "## Datasets \n",
    "* _Input_: Joined1617.csv,Joined1516.csv,Joined1415.csv,Joined1314.csv,Joined1213.csv\n",
    "* _Output_: RQ2.csv"
   ]
  },
  {
   "cell_type": "code",
   "execution_count": 1,
   "metadata": {
    "collapsed": true
   },
   "outputs": [],
   "source": [
    "import math\n",
    "import os.path\n",
    "import numpy as np\n",
    "import pandas as pd"
   ]
  },
  {
   "cell_type": "markdown",
   "metadata": {},
   "source": [
    "#### Reading in our cleaned Joined datasets from 16-17 to 12-13."
   ]
  },
  {
   "cell_type": "code",
   "execution_count": 2,
   "metadata": {},
   "outputs": [],
   "source": [
    "J16_17 = pd.read_csv(\"../../data/prep/Joined1617.csv\")\n",
    "J15_16 = pd.read_csv(\"../../data/prep/Joined1516.csv\")\n",
    "J14_15 = pd.read_csv(\"../../data/prep/Joined1415.csv\")\n",
    "J13_14 = pd.read_csv(\"../../data/prep/Joined1314.csv\")\n",
    "J12_13 = pd.read_csv(\"../../data/prep/Joined1213.csv\")"
   ]
  },
  {
   "cell_type": "markdown",
   "metadata": {},
   "source": [
    "## Choosing which columns are needed for the Research Question\n",
    "* index refers to all columns that have a fixed figure.\n",
    "* fantasyinfo contains columns for the Fantasy Football datasets that change every year."
   ]
  },
  {
   "cell_type": "code",
   "execution_count": 3,
   "metadata": {
    "collapsed": true
   },
   "outputs": [],
   "source": [
    "index = ['Players','Position','league','age','nationality','photo','overall','skill_moves','pac','def','pas','dri','eur_value','eur_wage']\n",
    "fantasyinfo = ['Apps','Points','Start','Off','Goals','A','CS']"
   ]
  },
  {
   "cell_type": "markdown",
   "metadata": {},
   "source": [
    "### Concatting each years fantasyinfo using the year as a key"
   ]
  },
  {
   "cell_type": "code",
   "execution_count": 21,
   "metadata": {
    "collapsed": true
   },
   "outputs": [],
   "source": [
    "s1 = J16_17.drop_duplicates(index).set_index(index)[fantasyinfo]\n",
    "s2 = J15_16.drop_duplicates(index).set_index(index)[fantasyinfo]\n",
    "s3 = J14_15.drop_duplicates(index).set_index(index)[fantasyinfo]\n",
    "s4 = J13_14.drop_duplicates(index).set_index(index)[fantasyinfo]\n",
    "s5 = J12_13.drop_duplicates(index).set_index(index)[fantasyinfo]\n",
    "\n",
    "RQ2 = pd.concat([s1,s2,s3,s4,s5], axis=1, keys=('16/17','15/16','14/15','13/14','12/13')).fillna(0).astype(float).reset_index()"
   ]
  },
  {
   "cell_type": "markdown",
   "metadata": {},
   "source": [
    "\n",
    "## Creating New Columns\n",
    "* **Homegrown** - contains players who are playing in a league in their home country. ie: An English Player Playing in England.<br><br>\n",
    "* **Abroad** - contains all players that live in the location of the Top 5 Leagues (England,France,Italy,Spain,Germany) that play in one of the other Top 5 Leagues.  Examples: <br> A French player playing in Germany is said to be an Abroad player. <br> A Home player is the same as a homegrown player, ie: A French player playing in France.<br><br>\n",
    "* **Overall Apps** - contains the total number of appearances a player has made.<br><br>\n",
    "* **Starts/Apps** - is the probability of a player starting a game. It is calculated by the total number of starts divided by the overall appearances of a player.<br><br>\n",
    "* **Subbed Off/Apps** - is the probability of a player being subbed off in a game. It is calculated by the total number of times subbed off divided by the overall appearances of a player.<br><br>\n",
    "* **Average Form** - is the total average form of a player. This is calculated by dividing a players total points by their overall appearances producing an average points per game.<br><br>\n",
    "* **Goals/Apps** - is the probablity of a player scoring a goal in a match. This is calculated by dividing a players total goals by their overall appearances.<br><br>\n",
    "* **Assists/Apps** - is the probablity of a player assisting a goal in a match. This is calculated by dividing a players total assists by their overall appearances.<br><br>\n",
    "* **Clean Sheets/Apps** - is the probablity of a player keeping a clean sheet in a match. This is calculated by dividing a players total clean sheets by their overall appearances. This is only applicable to Goalkeepers and Defenders."
   ]
  },
  {
   "cell_type": "code",
   "execution_count": 22,
   "metadata": {},
   "outputs": [],
   "source": [
    "RQ2['Homegrown'] = (RQ2['nationality'] =='England') & (RQ2['league'] == 'English Premier League') |(RQ2['nationality'] =='Germany') & (RQ2['league'] == 'German Bundesliga')|(RQ2['nationality'] =='Spain') & (RQ2['league'] == 'Spanish Primera Division')|(RQ2['nationality'] =='France') & (RQ2['league'] == 'French Ligue 1')|(RQ2['nationality'] =='Italy') & (RQ2['league'] == 'Italian Serie A')"
   ]
  },
  {
   "cell_type": "code",
   "execution_count": 23,
   "metadata": {
    "collapsed": true
   },
   "outputs": [],
   "source": [
    "RQ2['Abroad'] = (RQ2['nationality'] =='England') & (RQ2['league'].isin(['German Bundesliga','Spanish Primera Division','French Ligue 1','Italian Serie A'])) | (RQ2['nationality'] =='Germany') & (RQ2['league'].isin(['English Premier League','Spanish Primera Division','French Ligue 1','Italian Serie A']))|(RQ2['nationality'] =='Spain') & (RQ2['league'].isin(['English Premier League','German Bundesliga','French Ligue 1','Italian Serie A']))|(RQ2['nationality'] =='France') & (RQ2['league'].isin(['English Premier League','German Bundesliga','Spanish Primera Division','Italian Serie A']))|(RQ2['nationality'] =='Italy') & (RQ2['league'].isin(['English Premier League','German Bundesliga','Spanish Primera Division','French Ligue 1']))"
   ]
  },
  {
   "cell_type": "code",
   "execution_count": 24,
   "metadata": {
    "collapsed": true
   },
   "outputs": [],
   "source": [
    "RQ2['Overall Apps'] = RQ2['16/17']['Apps']+RQ2['15/16']['Apps']+RQ2['14/15']['Apps']+RQ2['13/14']['Apps']+RQ2['12/13']['Apps']"
   ]
  },
  {
   "cell_type": "code",
   "execution_count": 25,
   "metadata": {
    "collapsed": true
   },
   "outputs": [],
   "source": [
    "RQ2['Starts/Apps'] = (RQ2['16/17']['Start']+RQ2['15/16']['Start']+RQ2['14/15']['Start']+RQ2['13/14']['Start']+RQ2['12/13']['Start'])/RQ2['Overall Apps']"
   ]
  },
  {
   "cell_type": "code",
   "execution_count": 26,
   "metadata": {
    "collapsed": true
   },
   "outputs": [],
   "source": [
    "RQ2['Subbed Off/Apps'] = (RQ2['16/17']['Off']+RQ2['15/16']['Off']+RQ2['14/15']['Off']+RQ2['13/14']['Off']+RQ2['12/13']['Off'])/RQ2['Overall Apps']"
   ]
  },
  {
   "cell_type": "code",
   "execution_count": 27,
   "metadata": {
    "collapsed": true
   },
   "outputs": [],
   "source": [
    "RQ2['Average Form'] = (RQ2['16/17']['Points']+RQ2['15/16']['Points']+RQ2['14/15']['Points']+RQ2['13/14']['Points']+RQ2['12/13']['Points'])/RQ2['Overall Apps']"
   ]
  },
  {
   "cell_type": "code",
   "execution_count": 28,
   "metadata": {
    "collapsed": true
   },
   "outputs": [],
   "source": [
    "RQ2['Goals/Apps'] = (RQ2['16/17']['Goals']+RQ2['15/16']['Goals']+RQ2['14/15']['Goals']+RQ2['13/14']['Goals']+RQ2['12/13']['Goals'])/RQ2['Overall Apps']"
   ]
  },
  {
   "cell_type": "code",
   "execution_count": 29,
   "metadata": {
    "collapsed": true
   },
   "outputs": [],
   "source": [
    "RQ2['Assists/Apps'] = (RQ2['16/17']['A']+RQ2['15/16']['A']+RQ2['14/15']['A']+RQ2['13/14']['A']+RQ2['12/13']['A'])/RQ2['Overall Apps']"
   ]
  },
  {
   "cell_type": "code",
   "execution_count": 30,
   "metadata": {
    "collapsed": true
   },
   "outputs": [],
   "source": [
    "RQ2['Clean Sheets/Apps'] = (RQ2['16/17']['CS']+RQ2['15/16']['CS']+RQ2['14/15']['CS']+RQ2['13/14']['CS']+RQ2['12/13']['CS'])/RQ2['Overall Apps']"
   ]
  },
  {
   "cell_type": "markdown",
   "metadata": {},
   "source": [
    "## Filtering\n",
    "**For reproducibility purposes**\n",
    "* Removes players with an Average Form over 50 as this is impossible\n",
    "* Removes players with less than 0 appearances."
   ]
  },
  {
   "cell_type": "code",
   "execution_count": 31,
   "metadata": {
    "collapsed": true
   },
   "outputs": [],
   "source": [
    "RQ2= RQ2[RQ2['Average Form']<50]\n",
    "RQ2 = RQ2[RQ2['Overall Apps']>=0]"
   ]
  },
  {
   "cell_type": "markdown",
   "metadata": {},
   "source": [
    "## Tidying Up\n",
    "* First checking what columns are contain in the dataframe.\n",
    "* Finally choosing all the relevant columns to the questions we wish to ask."
   ]
  },
  {
   "cell_type": "code",
   "execution_count": 32,
   "metadata": {},
   "outputs": [
    {
     "data": {
      "text/plain": [
       "[('Players', ''),\n",
       " ('Position', ''),\n",
       " ('league', ''),\n",
       " ('age', ''),\n",
       " ('nationality', ''),\n",
       " ('photo', ''),\n",
       " ('overall', ''),\n",
       " ('skill_moves', ''),\n",
       " ('pac', ''),\n",
       " ('def', ''),\n",
       " ('pas', ''),\n",
       " ('dri', ''),\n",
       " ('eur_value', ''),\n",
       " ('eur_wage', ''),\n",
       " ('16/17', 'Apps'),\n",
       " ('16/17', 'Points'),\n",
       " ('16/17', 'Start'),\n",
       " ('16/17', 'Off'),\n",
       " ('16/17', 'Goals'),\n",
       " ('16/17', 'A'),\n",
       " ('16/17', 'CS'),\n",
       " ('15/16', 'Apps'),\n",
       " ('15/16', 'Points'),\n",
       " ('15/16', 'Start'),\n",
       " ('15/16', 'Off'),\n",
       " ('15/16', 'Goals'),\n",
       " ('15/16', 'A'),\n",
       " ('15/16', 'CS'),\n",
       " ('14/15', 'Apps'),\n",
       " ('14/15', 'Points'),\n",
       " ('14/15', 'Start'),\n",
       " ('14/15', 'Off'),\n",
       " ('14/15', 'Goals'),\n",
       " ('14/15', 'A'),\n",
       " ('14/15', 'CS'),\n",
       " ('13/14', 'Apps'),\n",
       " ('13/14', 'Points'),\n",
       " ('13/14', 'Start'),\n",
       " ('13/14', 'Off'),\n",
       " ('13/14', 'Goals'),\n",
       " ('13/14', 'A'),\n",
       " ('13/14', 'CS'),\n",
       " ('12/13', 'Apps'),\n",
       " ('12/13', 'Points'),\n",
       " ('12/13', 'Start'),\n",
       " ('12/13', 'Off'),\n",
       " ('12/13', 'Goals'),\n",
       " ('12/13', 'A'),\n",
       " ('12/13', 'CS'),\n",
       " ('Homegrown', ''),\n",
       " ('Abroad', ''),\n",
       " ('Overall Apps', ''),\n",
       " ('Starts/Apps', ''),\n",
       " ('Subbed Off/Apps', ''),\n",
       " ('Average Form', ''),\n",
       " ('Goals/Apps', ''),\n",
       " ('Assists/Apps', ''),\n",
       " ('Clean Sheets/Apps', '')]"
      ]
     },
     "execution_count": 32,
     "metadata": {},
     "output_type": "execute_result"
    }
   ],
   "source": [
    "list(RQ2)"
   ]
  },
  {
   "cell_type": "code",
   "execution_count": 33,
   "metadata": {},
   "outputs": [
    {
     "data": {
      "text/html": [
       "<div>\n",
       "<style>\n",
       "    .dataframe thead tr:only-child th {\n",
       "        text-align: right;\n",
       "    }\n",
       "\n",
       "    .dataframe thead th {\n",
       "        text-align: left;\n",
       "    }\n",
       "\n",
       "    .dataframe tbody tr th {\n",
       "        vertical-align: top;\n",
       "    }\n",
       "</style>\n",
       "<table border=\"1\" class=\"dataframe\">\n",
       "  <thead>\n",
       "    <tr>\n",
       "      <th></th>\n",
       "      <th>Players</th>\n",
       "      <th>Position</th>\n",
       "      <th>league</th>\n",
       "      <th>age</th>\n",
       "      <th>nationality</th>\n",
       "      <th>overall</th>\n",
       "      <th>photo</th>\n",
       "      <th>skill_moves</th>\n",
       "      <th>pac</th>\n",
       "      <th>def</th>\n",
       "      <th>...</th>\n",
       "      <th>eur_wage</th>\n",
       "      <th>Homegrown</th>\n",
       "      <th>Abroad</th>\n",
       "      <th>Starts/Apps</th>\n",
       "      <th>Subbed Off/Apps</th>\n",
       "      <th>Overall Apps</th>\n",
       "      <th>Average Form</th>\n",
       "      <th>Goals/Apps</th>\n",
       "      <th>Assists/Apps</th>\n",
       "      <th>Clean Sheets/Apps</th>\n",
       "    </tr>\n",
       "    <tr>\n",
       "      <th></th>\n",
       "      <th></th>\n",
       "      <th></th>\n",
       "      <th></th>\n",
       "      <th></th>\n",
       "      <th></th>\n",
       "      <th></th>\n",
       "      <th></th>\n",
       "      <th></th>\n",
       "      <th></th>\n",
       "      <th></th>\n",
       "      <th>...</th>\n",
       "      <th></th>\n",
       "      <th></th>\n",
       "      <th></th>\n",
       "      <th></th>\n",
       "      <th></th>\n",
       "      <th></th>\n",
       "      <th></th>\n",
       "      <th></th>\n",
       "      <th></th>\n",
       "      <th></th>\n",
       "    </tr>\n",
       "  </thead>\n",
       "  <tbody>\n",
       "    <tr>\n",
       "      <th>0</th>\n",
       "      <td>Aaron Cresswell</td>\n",
       "      <td>Defender</td>\n",
       "      <td>English Premier League</td>\n",
       "      <td>27</td>\n",
       "      <td>England</td>\n",
       "      <td>76</td>\n",
       "      <td>https://cdn.sofifa.org/18/players/189615.png</td>\n",
       "      <td>2</td>\n",
       "      <td>76</td>\n",
       "      <td>73</td>\n",
       "      <td>...</td>\n",
       "      <td>83000.0</td>\n",
       "      <td>True</td>\n",
       "      <td>False</td>\n",
       "      <td>0.980198</td>\n",
       "      <td>0.039604</td>\n",
       "      <td>101.0</td>\n",
       "      <td>2.821782</td>\n",
       "      <td>0.039604</td>\n",
       "      <td>0.099010</td>\n",
       "      <td>0.247525</td>\n",
       "    </tr>\n",
       "    <tr>\n",
       "      <th>1</th>\n",
       "      <td>Aaron Hughes</td>\n",
       "      <td>Defender</td>\n",
       "      <td>Scottish Premiership</td>\n",
       "      <td>37</td>\n",
       "      <td>Northern Ireland</td>\n",
       "      <td>71</td>\n",
       "      <td>https://cdn.sofifa.org/18/players/17725.png</td>\n",
       "      <td>2</td>\n",
       "      <td>23</td>\n",
       "      <td>72</td>\n",
       "      <td>...</td>\n",
       "      <td>5000.0</td>\n",
       "      <td>False</td>\n",
       "      <td>False</td>\n",
       "      <td>0.918919</td>\n",
       "      <td>0.000000</td>\n",
       "      <td>37.0</td>\n",
       "      <td>1.216216</td>\n",
       "      <td>0.000000</td>\n",
       "      <td>0.000000</td>\n",
       "      <td>0.162162</td>\n",
       "    </tr>\n",
       "    <tr>\n",
       "      <th>2</th>\n",
       "      <td>Aaron Hunt</td>\n",
       "      <td>Midfielder</td>\n",
       "      <td>German Bundesliga</td>\n",
       "      <td>30</td>\n",
       "      <td>Germany</td>\n",
       "      <td>76</td>\n",
       "      <td>https://cdn.sofifa.org/18/players/158138.png</td>\n",
       "      <td>3</td>\n",
       "      <td>68</td>\n",
       "      <td>39</td>\n",
       "      <td>...</td>\n",
       "      <td>38000.0</td>\n",
       "      <td>True</td>\n",
       "      <td>False</td>\n",
       "      <td>0.788136</td>\n",
       "      <td>0.279661</td>\n",
       "      <td>118.0</td>\n",
       "      <td>3.050847</td>\n",
       "      <td>0.211864</td>\n",
       "      <td>0.118644</td>\n",
       "      <td>0.000000</td>\n",
       "    </tr>\n",
       "    <tr>\n",
       "      <th>3</th>\n",
       "      <td>Aaron Lennon</td>\n",
       "      <td>Midfielder</td>\n",
       "      <td>English Premier League</td>\n",
       "      <td>30</td>\n",
       "      <td>England</td>\n",
       "      <td>77</td>\n",
       "      <td>https://cdn.sofifa.org/18/players/152747.png</td>\n",
       "      <td>3</td>\n",
       "      <td>83</td>\n",
       "      <td>38</td>\n",
       "      <td>...</td>\n",
       "      <td>97000.0</td>\n",
       "      <td>True</td>\n",
       "      <td>False</td>\n",
       "      <td>0.808333</td>\n",
       "      <td>0.391667</td>\n",
       "      <td>120.0</td>\n",
       "      <td>2.633333</td>\n",
       "      <td>0.100000</td>\n",
       "      <td>0.125000</td>\n",
       "      <td>0.000000</td>\n",
       "    </tr>\n",
       "    <tr>\n",
       "      <th>4</th>\n",
       "      <td>Aaron Leya Iseka</td>\n",
       "      <td>Forward</td>\n",
       "      <td>Belgian First Division A</td>\n",
       "      <td>19</td>\n",
       "      <td>Belgium</td>\n",
       "      <td>68</td>\n",
       "      <td>https://cdn.sofifa.org/18/players/223929.png</td>\n",
       "      <td>3</td>\n",
       "      <td>79</td>\n",
       "      <td>21</td>\n",
       "      <td>...</td>\n",
       "      <td>9000.0</td>\n",
       "      <td>False</td>\n",
       "      <td>False</td>\n",
       "      <td>0.375000</td>\n",
       "      <td>0.375000</td>\n",
       "      <td>8.0</td>\n",
       "      <td>2.125000</td>\n",
       "      <td>0.000000</td>\n",
       "      <td>0.250000</td>\n",
       "      <td>0.000000</td>\n",
       "    </tr>\n",
       "  </tbody>\n",
       "</table>\n",
       "<p>5 rows × 23 columns</p>\n",
       "</div>"
      ],
      "text/plain": [
       "            Players    Position                    league age  \\\n",
       "                                                                \n",
       "0   Aaron Cresswell    Defender    English Premier League  27   \n",
       "1      Aaron Hughes    Defender      Scottish Premiership  37   \n",
       "2        Aaron Hunt  Midfielder         German Bundesliga  30   \n",
       "3      Aaron Lennon  Midfielder    English Premier League  30   \n",
       "4  Aaron Leya Iseka     Forward  Belgian First Division A  19   \n",
       "\n",
       "        nationality overall                                         photo  \\\n",
       "                                                                            \n",
       "0           England      76  https://cdn.sofifa.org/18/players/189615.png   \n",
       "1  Northern Ireland      71   https://cdn.sofifa.org/18/players/17725.png   \n",
       "2           Germany      76  https://cdn.sofifa.org/18/players/158138.png   \n",
       "3           England      77  https://cdn.sofifa.org/18/players/152747.png   \n",
       "4           Belgium      68  https://cdn.sofifa.org/18/players/223929.png   \n",
       "\n",
       "  skill_moves pac def        ...        eur_wage Homegrown Abroad Starts/Apps  \\\n",
       "                             ...                                                \n",
       "0           2  76  73        ...         83000.0      True  False    0.980198   \n",
       "1           2  23  72        ...          5000.0     False  False    0.918919   \n",
       "2           3  68  39        ...         38000.0      True  False    0.788136   \n",
       "3           3  83  38        ...         97000.0      True  False    0.808333   \n",
       "4           3  79  21        ...          9000.0     False  False    0.375000   \n",
       "\n",
       "  Subbed Off/Apps Overall Apps Average Form Goals/Apps Assists/Apps  \\\n",
       "                                                                      \n",
       "0        0.039604        101.0     2.821782   0.039604     0.099010   \n",
       "1        0.000000         37.0     1.216216   0.000000     0.000000   \n",
       "2        0.279661        118.0     3.050847   0.211864     0.118644   \n",
       "3        0.391667        120.0     2.633333   0.100000     0.125000   \n",
       "4        0.375000          8.0     2.125000   0.000000     0.250000   \n",
       "\n",
       "  Clean Sheets/Apps  \n",
       "                     \n",
       "0          0.247525  \n",
       "1          0.162162  \n",
       "2          0.000000  \n",
       "3          0.000000  \n",
       "4          0.000000  \n",
       "\n",
       "[5 rows x 23 columns]"
      ]
     },
     "execution_count": 33,
     "metadata": {},
     "output_type": "execute_result"
    }
   ],
   "source": [
    "RQ2 = RQ2[['Players','Position','league','age','nationality','overall','photo','skill_moves','pac','def','pas','dri','eur_value','eur_wage','Homegrown','Abroad','Starts/Apps','Subbed Off/Apps','Overall Apps','Average Form','Goals/Apps','Assists/Apps','Clean Sheets/Apps']]\n",
    "RQ2.head(5)"
   ]
  },
  {
   "cell_type": "markdown",
   "metadata": {},
   "source": [
    "#### Saving to csv file in data/analysis"
   ]
  },
  {
   "cell_type": "code",
   "execution_count": 34,
   "metadata": {
    "collapsed": true
   },
   "outputs": [],
   "source": [
    "RQ2.to_csv('../../data/analysis/RQ2.csv')"
   ]
  },
  {
   "cell_type": "code",
   "execution_count": null,
   "metadata": {},
   "outputs": [],
   "source": []
  },
  {
   "cell_type": "code",
   "execution_count": null,
   "metadata": {},
   "outputs": [],
   "source": []
  }
 ],
 "metadata": {
  "kernelspec": {
   "display_name": "Python 3",
   "language": "python",
   "name": "python3"
  },
  "language_info": {
   "codemirror_mode": {
    "name": "ipython",
    "version": 3
   },
   "file_extension": ".py",
   "mimetype": "text/x-python",
   "name": "python",
   "nbconvert_exporter": "python",
   "pygments_lexer": "ipython3",
   "version": "3.6.3"
  }
 },
 "nbformat": 4,
 "nbformat_minor": 2
}
