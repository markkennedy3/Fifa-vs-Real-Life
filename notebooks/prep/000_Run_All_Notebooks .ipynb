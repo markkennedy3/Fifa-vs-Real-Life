{
 "cells": [
  {
   "cell_type": "code",
   "execution_count": 2,
   "metadata": {
    "collapsed": true
   },
   "outputs": [],
   "source": [
    "%%capture\n",
    "%run 200_load_&_prep_Fantasy1718.ipynb\n",
    "%run 210_load_&_prep_Fantasy1617.ipynb\n",
    "%run 220_load_&_prep_Fantasy1516.ipynb\n",
    "%run 230_load_&_prep_Fantasy1415.ipynb\n",
    "%run 240_load_&_prep_Fantasy1314.ipynb\n",
    "%run 250_load_&_prep_Fantasy1213.ipynb\n",
    "%run 300_Join_FIFA_Fantasy1718.ipynb\n",
    "%run 310_Join_FIFA_Fantasy1617.ipynb\n",
    "%run 320_Join_FIFA_Fantasy1516.ipynb\n",
    "%run 330_Join_FIFA_Fantasy1415.ipynb\n",
    "%run 340_Join_FIFA_Fantasy1314.ipynb\n",
    "%run 350_Join_FIFA_Fantasy1213.ipynb\n",
    "%run 400_prep_RQ1_Dataframe.ipynb\n",
    "%run 420_prep_RQ3_Dataframe.ipynb\n",
    "%run 430_dataset_for_Kaggle.ipynb"
   ]
  },
  {
   "cell_type": "code",
   "execution_count": null,
   "metadata": {},
   "outputs": [],
   "source": []
  }
 ],
 "metadata": {
  "kernelspec": {
   "display_name": "Python 3",
   "language": "python",
   "name": "python3"
  },
  "language_info": {
   "codemirror_mode": {
    "name": "ipython",
    "version": 3
   },
   "file_extension": ".py",
   "mimetype": "text/x-python",
   "name": "python",
   "nbconvert_exporter": "python",
   "pygments_lexer": "ipython3",
   "version": "3.6.3"
  }
 },
 "nbformat": 4,
 "nbformat_minor": 2
}
