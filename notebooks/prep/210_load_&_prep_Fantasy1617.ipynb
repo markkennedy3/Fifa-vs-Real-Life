{
 "cells": [
  {
   "cell_type": "markdown",
   "metadata": {},
   "source": [
    "# 210_____load_____&_prep_Fantasy1617  \n",
    "## Purpose In this notebook we load in our FIFA complete dataset and perform any necessary cleaning.  \n",
    "## Datasets \n",
    "* _Input_: N/A\n",
    "* _Output_: SEA1617.csv"
   ]
  },
  {
   "cell_type": "code",
   "execution_count": 3,
   "metadata": {
    "collapsed": true
   },
   "outputs": [],
   "source": [
    "import os.path\n",
    "import numpy as np\n",
    "import pandas as pd"
   ]
  },
  {
   "cell_type": "markdown",
   "metadata": {},
   "source": [
    "### Reading in all player information from the Top 5 Leagues from statsbunker.com\n",
    "* Each league has its own unqique ID used when reading the table.  \n",
    "* Using pd.read_html these tables can be read in with ease."
   ]
  },
  {
   "cell_type": "code",
   "execution_count": 4,
   "metadata": {
    "collapsed": true
   },
   "outputs": [],
   "source": [
    "BPL1617 = pd.read_html(\"https://www.statbunker.com/competitions/FantasyFootballPlayersStats?comp_id=556\")[0]\n",
    "BUN1617 = pd.read_html(\"https://www.statbunker.com/competitions/FantasyFootballPlayersStats?comp_id=561\")[0]\n",
    "LAL1617 = pd.read_html(\"https://www.statbunker.com/competitions/FantasyFootballPlayersStats?comp_id=564\")[0]\n",
    "SEI1617 = pd.read_html(\"https://www.statbunker.com/competitions/FantasyFootballPlayersStats?comp_id=562\")[0]\n",
    "FRA1617 = pd.read_html(\"https://www.statbunker.com/competitions/FantasyFootballPlayersStats?comp_id=563\")[0]"
   ]
  },
  {
   "cell_type": "markdown",
   "metadata": {},
   "source": [
    "### Using pd.concat to merge each league together.  \n",
    "* Resetting index.  \n",
    "* Drop old index and column 'More' which contains no information."
   ]
  },
  {
   "cell_type": "code",
   "execution_count": 5,
   "metadata": {
    "collapsed": true
   },
   "outputs": [],
   "source": [
    "SEA1617 = [BPL1617,BUN1617,LAL1617,SEI1617,FRA1617]\n",
    "SEA1617 = pd.concat(SEA1617)\n",
    "SEA1617 = SEA1617.reset_index()\n",
    "SEA1617.drop(SEA1617.columns[[0,20]], axis=1, inplace=True)"
   ]
  },
  {
   "cell_type": "code",
   "execution_count": 6,
   "metadata": {},
   "outputs": [
    {
     "data": {
      "text/html": [
       "<div>\n",
       "<style>\n",
       "    .dataframe thead tr:only-child th {\n",
       "        text-align: right;\n",
       "    }\n",
       "\n",
       "    .dataframe thead th {\n",
       "        text-align: left;\n",
       "    }\n",
       "\n",
       "    .dataframe tbody tr th {\n",
       "        vertical-align: top;\n",
       "    }\n",
       "</style>\n",
       "<table border=\"1\" class=\"dataframe\">\n",
       "  <thead>\n",
       "    <tr style=\"text-align: right;\">\n",
       "      <th></th>\n",
       "      <th>Players</th>\n",
       "      <th>Points</th>\n",
       "      <th>Clubs</th>\n",
       "      <th>Position</th>\n",
       "      <th>Start</th>\n",
       "      <th>Goals</th>\n",
       "      <th>A</th>\n",
       "      <th>CS</th>\n",
       "      <th>CS part</th>\n",
       "      <th>Yellow</th>\n",
       "      <th>Red</th>\n",
       "      <th>Sub</th>\n",
       "      <th>CO</th>\n",
       "      <th>Off</th>\n",
       "      <th>Pen SV</th>\n",
       "      <th>Pen M</th>\n",
       "      <th>Goals conceded</th>\n",
       "      <th>Conceded 1+</th>\n",
       "      <th>OG</th>\n",
       "    </tr>\n",
       "  </thead>\n",
       "  <tbody>\n",
       "    <tr>\n",
       "      <th>0</th>\n",
       "      <td>Harry Kane</td>\n",
       "      <td>220</td>\n",
       "      <td>SPURS</td>\n",
       "      <td>Forward</td>\n",
       "      <td>29</td>\n",
       "      <td>29</td>\n",
       "      <td>7</td>\n",
       "      <td>-</td>\n",
       "      <td>-</td>\n",
       "      <td>3</td>\n",
       "      <td>0</td>\n",
       "      <td>1</td>\n",
       "      <td>1</td>\n",
       "      <td>16</td>\n",
       "      <td>-</td>\n",
       "      <td>1</td>\n",
       "      <td>-</td>\n",
       "      <td>-</td>\n",
       "      <td>0</td>\n",
       "    </tr>\n",
       "    <tr>\n",
       "      <th>1</th>\n",
       "      <td>Alexis Sanchez</td>\n",
       "      <td>219</td>\n",
       "      <td>ARSL</td>\n",
       "      <td>Forward</td>\n",
       "      <td>36</td>\n",
       "      <td>24</td>\n",
       "      <td>11</td>\n",
       "      <td>-</td>\n",
       "      <td>-</td>\n",
       "      <td>6</td>\n",
       "      <td>0</td>\n",
       "      <td>2</td>\n",
       "      <td>2</td>\n",
       "      <td>8</td>\n",
       "      <td>-</td>\n",
       "      <td>1</td>\n",
       "      <td>-</td>\n",
       "      <td>-</td>\n",
       "      <td>0</td>\n",
       "    </tr>\n",
       "    <tr>\n",
       "      <th>2</th>\n",
       "      <td>Romelu Lukaku</td>\n",
       "      <td>213</td>\n",
       "      <td>EVER</td>\n",
       "      <td>Forward</td>\n",
       "      <td>36</td>\n",
       "      <td>25</td>\n",
       "      <td>6</td>\n",
       "      <td>-</td>\n",
       "      <td>-</td>\n",
       "      <td>3</td>\n",
       "      <td>0</td>\n",
       "      <td>1</td>\n",
       "      <td>1</td>\n",
       "      <td>2</td>\n",
       "      <td>-</td>\n",
       "      <td>0</td>\n",
       "      <td>-</td>\n",
       "      <td>-</td>\n",
       "      <td>0</td>\n",
       "    </tr>\n",
       "    <tr>\n",
       "      <th>3</th>\n",
       "      <td>Diego Costa</td>\n",
       "      <td>179</td>\n",
       "      <td>CHEL</td>\n",
       "      <td>Forward</td>\n",
       "      <td>35</td>\n",
       "      <td>20</td>\n",
       "      <td>7</td>\n",
       "      <td>-</td>\n",
       "      <td>-</td>\n",
       "      <td>10</td>\n",
       "      <td>0</td>\n",
       "      <td>1</td>\n",
       "      <td>0</td>\n",
       "      <td>8</td>\n",
       "      <td>-</td>\n",
       "      <td>1</td>\n",
       "      <td>-</td>\n",
       "      <td>-</td>\n",
       "      <td>0</td>\n",
       "    </tr>\n",
       "    <tr>\n",
       "      <th>4</th>\n",
       "      <td>Dele Alli</td>\n",
       "      <td>179</td>\n",
       "      <td>SPURS</td>\n",
       "      <td>Midfielder</td>\n",
       "      <td>35</td>\n",
       "      <td>18</td>\n",
       "      <td>7</td>\n",
       "      <td>-</td>\n",
       "      <td>-</td>\n",
       "      <td>4</td>\n",
       "      <td>0</td>\n",
       "      <td>2</td>\n",
       "      <td>2</td>\n",
       "      <td>13</td>\n",
       "      <td>-</td>\n",
       "      <td>0</td>\n",
       "      <td>-</td>\n",
       "      <td>-</td>\n",
       "      <td>0</td>\n",
       "    </tr>\n",
       "  </tbody>\n",
       "</table>\n",
       "</div>"
      ],
      "text/plain": [
       "          Players  Points  Clubs    Position  Start  Goals   A CS CS part  \\\n",
       "0      Harry Kane     220  SPURS     Forward     29     29   7  -       -   \n",
       "1  Alexis Sanchez     219   ARSL     Forward     36     24  11  -       -   \n",
       "2   Romelu Lukaku     213   EVER     Forward     36     25   6  -       -   \n",
       "3     Diego Costa     179   CHEL     Forward     35     20   7  -       -   \n",
       "4       Dele Alli     179  SPURS  Midfielder     35     18   7  -       -   \n",
       "\n",
       "   Yellow  Red  Sub  CO  Off Pen SV  Pen M Goals conceded Conceded 1+  OG  \n",
       "0       3    0    1   1   16      -      1              -           -   0  \n",
       "1       6    0    2   2    8      -      1              -           -   0  \n",
       "2       3    0    1   1    2      -      0              -           -   0  \n",
       "3      10    0    1   0    8      -      1              -           -   0  \n",
       "4       4    0    2   2   13      -      0              -           -   0  "
      ]
     },
     "execution_count": 6,
     "metadata": {},
     "output_type": "execute_result"
    }
   ],
   "source": [
    "SEA1617.head(5)"
   ]
  },
  {
   "cell_type": "markdown",
   "metadata": {},
   "source": [
    "### Creating new columns Apps and Form\n",
    "* Apps is the total number of appearances a player makes (Starts plus being subbed on)\n",
    "* Form is the total number of points divided by the number of appearances.\n",
    "* All null values in Form filled in as 0"
   ]
  },
  {
   "cell_type": "code",
   "execution_count": 6,
   "metadata": {
    "collapsed": true
   },
   "outputs": [],
   "source": [
    "SEA1617['Apps'] = SEA1617['Start'] + SEA1617['CO']\n",
    "SEA1617['Form'] = SEA1617['Points']/SEA1617['Apps']\n",
    "SEA1617.loc[SEA1617['Form'].isnull(),'Form'] = 0"
   ]
  },
  {
   "cell_type": "code",
   "execution_count": 7,
   "metadata": {},
   "outputs": [
    {
     "data": {
      "text/plain": [
       "0"
      ]
     },
     "execution_count": 7,
     "metadata": {},
     "output_type": "execute_result"
    }
   ],
   "source": [
    "SEA1617.Form.isnull().sum()"
   ]
  },
  {
   "cell_type": "markdown",
   "metadata": {},
   "source": [
    "### Replacing all Hyphen values with 0\n",
    "* In this dataset hyphen represented no data so these were replaced with 0"
   ]
  },
  {
   "cell_type": "code",
   "execution_count": 11,
   "metadata": {
    "collapsed": true
   },
   "outputs": [],
   "source": [
    "DashColumns = ['Goals','A','CS','CS part','Yellow','Red','Sub','CO','Off','Pen SV','Pen M','Goals conceded','Conceded 1+','OG',]\n",
    "SEA1617[DashColumns] = SEA1617[DashColumns].replace('-' ,'0')"
   ]
  },
  {
   "cell_type": "markdown",
   "metadata": {},
   "source": [
    "### Checking dataframe data types\n",
    "* Changed the columns CS, CS part, Pen SV, Goals conceded and Conceded 1+ from type object to int"
   ]
  },
  {
   "cell_type": "code",
   "execution_count": 12,
   "metadata": {},
   "outputs": [
    {
     "name": "stdout",
     "output_type": "stream",
     "text": [
      "<class 'pandas.core.frame.DataFrame'>\n",
      "RangeIndex: 3141 entries, 0 to 3140\n",
      "Data columns (total 21 columns):\n",
      "Players           3141 non-null object\n",
      "Points            3141 non-null int64\n",
      "Clubs             2398 non-null object\n",
      "Position          3141 non-null object\n",
      "Start             3141 non-null int64\n",
      "Goals             3141 non-null int64\n",
      "A                 3141 non-null int64\n",
      "CS                3141 non-null object\n",
      "CS part           3141 non-null object\n",
      "Yellow            3141 non-null int64\n",
      "Red               3141 non-null int64\n",
      "Sub               3141 non-null int64\n",
      "CO                3141 non-null int64\n",
      "Off               3141 non-null int64\n",
      "Pen SV            3141 non-null object\n",
      "Pen M             3141 non-null int64\n",
      "Goals conceded    3141 non-null object\n",
      "Conceded 1+       3141 non-null object\n",
      "OG                3141 non-null int64\n",
      "Apps              3141 non-null int64\n",
      "Form              3141 non-null float64\n",
      "dtypes: float64(1), int64(12), object(8)\n",
      "memory usage: 515.4+ KB\n"
     ]
    }
   ],
   "source": [
    "SEA1617.info()"
   ]
  },
  {
   "cell_type": "code",
   "execution_count": 13,
   "metadata": {
    "collapsed": true
   },
   "outputs": [],
   "source": [
    "SEA1617['CS'] = SEA1617['CS'].str.replace('%','').astype(np.int)\n",
    "SEA1617['CS part'] = SEA1617['CS part'].str.replace('%','').astype(np.int)\n",
    "SEA1617['Pen SV'] = SEA1617['Pen SV'].str.replace('%','').astype(np.int)\n",
    "SEA1617['Goals conceded'] = SEA1617['Goals conceded'].str.replace('%','').astype(np.int)\n",
    "SEA1617['Conceded 1+'] = SEA1617['Conceded 1+'].str.replace('%','').astype(np.int)"
   ]
  },
  {
   "cell_type": "markdown",
   "metadata": {},
   "source": [
    "#### Spliting player names into First Initial and Surname.\n",
    "Repeating process from FIFA18 notebook in preperation for joining.  \n",
    "Each case deals with players with single, normal double and triple barrel names.  \n",
    "EG: Pierre Emerick Aubameyang is now P.Aubameyang"
   ]
  },
  {
   "cell_type": "code",
   "execution_count": 9,
   "metadata": {
    "collapsed": true
   },
   "outputs": [],
   "source": [
    "SEA1617.loc[SEA1617['Players'].str.split().str.len() == 1, 'FirstInitial'] = SEA1617['Players'].astype(str).str[0]\n",
    "SEA1617.loc[SEA1617['Players'].str.split().str.len() == 1, 'Firstname'] = SEA1617['Players'].str.split().str[0]\n",
    "SEA1617.loc[SEA1617['Players'].str.split().str.len() == 1, 'Surname'] = SEA1617['Players'].str.split().str[0]\n",
    "\n",
    "SEA1617.loc[SEA1617['Players'].str.split().str.len() == 2, 'FirstInitial'] = SEA1617['Players'].astype(str).str[0]\n",
    "SEA1617.loc[SEA1617['Players'].str.split().str.len() == 2, 'Firstname'] = SEA1617['Players'].str.split().str[0]\n",
    "SEA1617.loc[SEA1617['Players'].str.split().str.len() == 2, 'Surname'] = SEA1617['Players'].str.split().str[-1]\n",
    "\n",
    "SEA1617.loc[SEA1617['Players'].str.split().str.len() == 3, 'FirstInitial'] = SEA1617['Players'].astype(str).str[0]\n",
    "SEA1617.loc[SEA1617['Players'].str.split().str.len() == 3, 'Firstname'] = SEA1617['Players'].str.split().str[0]\n",
    "SEA1617.loc[SEA1617['Players'].str.split().str.len() == 3, 'Surname'] = SEA1617['Players'].str.split().str[-1]\n",
    "\n",
    "SEA1617.loc[SEA1617['Players'].str.split().str.len() == 4, 'FirstInitial'] = SEA1617['Players'].astype(str).str[0]\n",
    "SEA1617.loc[SEA1617['Players'].str.split().str.len() == 4, 'Firstname'] = SEA1617['Players'].str.split().str[0]\n",
    "SEA1617.loc[SEA1617['Players'].str.split().str.len() == 4, 'Surname'] = SEA1617['Players'].str.split().str[-1]"
   ]
  },
  {
   "cell_type": "markdown",
   "metadata": {},
   "source": [
    "### Cleaned dataframe now finished"
   ]
  },
  {
   "cell_type": "code",
   "execution_count": 11,
   "metadata": {},
   "outputs": [
    {
     "data": {
      "text/html": [
       "<div>\n",
       "<style>\n",
       "    .dataframe thead tr:only-child th {\n",
       "        text-align: right;\n",
       "    }\n",
       "\n",
       "    .dataframe thead th {\n",
       "        text-align: left;\n",
       "    }\n",
       "\n",
       "    .dataframe tbody tr th {\n",
       "        vertical-align: top;\n",
       "    }\n",
       "</style>\n",
       "<table border=\"1\" class=\"dataframe\">\n",
       "  <thead>\n",
       "    <tr style=\"text-align: right;\">\n",
       "      <th></th>\n",
       "      <th>Players</th>\n",
       "      <th>Points</th>\n",
       "      <th>Clubs</th>\n",
       "      <th>Position</th>\n",
       "      <th>Start</th>\n",
       "      <th>Goals</th>\n",
       "      <th>A</th>\n",
       "      <th>CS</th>\n",
       "      <th>CS part</th>\n",
       "      <th>Yellow</th>\n",
       "      <th>...</th>\n",
       "      <th>Pen SV</th>\n",
       "      <th>Pen M</th>\n",
       "      <th>Goals conceded</th>\n",
       "      <th>Conceded 1+</th>\n",
       "      <th>OG</th>\n",
       "      <th>Apps</th>\n",
       "      <th>Form</th>\n",
       "      <th>FirstInitial</th>\n",
       "      <th>Firstname</th>\n",
       "      <th>Surname</th>\n",
       "    </tr>\n",
       "  </thead>\n",
       "  <tbody>\n",
       "    <tr>\n",
       "      <th>0</th>\n",
       "      <td>Harry Kane</td>\n",
       "      <td>220</td>\n",
       "      <td>SPURS</td>\n",
       "      <td>Forward</td>\n",
       "      <td>29</td>\n",
       "      <td>29</td>\n",
       "      <td>7</td>\n",
       "      <td>-</td>\n",
       "      <td>-</td>\n",
       "      <td>3</td>\n",
       "      <td>...</td>\n",
       "      <td>-</td>\n",
       "      <td>1</td>\n",
       "      <td>-</td>\n",
       "      <td>-</td>\n",
       "      <td>0</td>\n",
       "      <td>30</td>\n",
       "      <td>7.333333</td>\n",
       "      <td>H</td>\n",
       "      <td>Harry</td>\n",
       "      <td>Kane</td>\n",
       "    </tr>\n",
       "    <tr>\n",
       "      <th>1</th>\n",
       "      <td>Alexis Sanchez</td>\n",
       "      <td>219</td>\n",
       "      <td>ARSL</td>\n",
       "      <td>Forward</td>\n",
       "      <td>36</td>\n",
       "      <td>24</td>\n",
       "      <td>11</td>\n",
       "      <td>-</td>\n",
       "      <td>-</td>\n",
       "      <td>6</td>\n",
       "      <td>...</td>\n",
       "      <td>-</td>\n",
       "      <td>1</td>\n",
       "      <td>-</td>\n",
       "      <td>-</td>\n",
       "      <td>0</td>\n",
       "      <td>38</td>\n",
       "      <td>5.763158</td>\n",
       "      <td>A</td>\n",
       "      <td>Alexis</td>\n",
       "      <td>Sanchez</td>\n",
       "    </tr>\n",
       "    <tr>\n",
       "      <th>2</th>\n",
       "      <td>Romelu Lukaku</td>\n",
       "      <td>213</td>\n",
       "      <td>EVER</td>\n",
       "      <td>Forward</td>\n",
       "      <td>36</td>\n",
       "      <td>25</td>\n",
       "      <td>6</td>\n",
       "      <td>-</td>\n",
       "      <td>-</td>\n",
       "      <td>3</td>\n",
       "      <td>...</td>\n",
       "      <td>-</td>\n",
       "      <td>0</td>\n",
       "      <td>-</td>\n",
       "      <td>-</td>\n",
       "      <td>0</td>\n",
       "      <td>37</td>\n",
       "      <td>5.756757</td>\n",
       "      <td>R</td>\n",
       "      <td>Romelu</td>\n",
       "      <td>Lukaku</td>\n",
       "    </tr>\n",
       "    <tr>\n",
       "      <th>3</th>\n",
       "      <td>Diego Costa</td>\n",
       "      <td>179</td>\n",
       "      <td>CHEL</td>\n",
       "      <td>Forward</td>\n",
       "      <td>35</td>\n",
       "      <td>20</td>\n",
       "      <td>7</td>\n",
       "      <td>-</td>\n",
       "      <td>-</td>\n",
       "      <td>10</td>\n",
       "      <td>...</td>\n",
       "      <td>-</td>\n",
       "      <td>1</td>\n",
       "      <td>-</td>\n",
       "      <td>-</td>\n",
       "      <td>0</td>\n",
       "      <td>35</td>\n",
       "      <td>5.114286</td>\n",
       "      <td>D</td>\n",
       "      <td>Diego</td>\n",
       "      <td>Costa</td>\n",
       "    </tr>\n",
       "    <tr>\n",
       "      <th>4</th>\n",
       "      <td>Dele Alli</td>\n",
       "      <td>179</td>\n",
       "      <td>SPURS</td>\n",
       "      <td>Midfielder</td>\n",
       "      <td>35</td>\n",
       "      <td>18</td>\n",
       "      <td>7</td>\n",
       "      <td>-</td>\n",
       "      <td>-</td>\n",
       "      <td>4</td>\n",
       "      <td>...</td>\n",
       "      <td>-</td>\n",
       "      <td>0</td>\n",
       "      <td>-</td>\n",
       "      <td>-</td>\n",
       "      <td>0</td>\n",
       "      <td>37</td>\n",
       "      <td>4.837838</td>\n",
       "      <td>D</td>\n",
       "      <td>Dele</td>\n",
       "      <td>Alli</td>\n",
       "    </tr>\n",
       "  </tbody>\n",
       "</table>\n",
       "<p>5 rows × 24 columns</p>\n",
       "</div>"
      ],
      "text/plain": [
       "          Players  Points  Clubs    Position  Start  Goals   A CS CS part  \\\n",
       "0      Harry Kane     220  SPURS     Forward     29     29   7  -       -   \n",
       "1  Alexis Sanchez     219   ARSL     Forward     36     24  11  -       -   \n",
       "2   Romelu Lukaku     213   EVER     Forward     36     25   6  -       -   \n",
       "3     Diego Costa     179   CHEL     Forward     35     20   7  -       -   \n",
       "4       Dele Alli     179  SPURS  Midfielder     35     18   7  -       -   \n",
       "\n",
       "   Yellow   ...     Pen SV  Pen M  Goals conceded  Conceded 1+ OG  Apps  \\\n",
       "0       3   ...          -      1               -            -  0    30   \n",
       "1       6   ...          -      1               -            -  0    38   \n",
       "2       3   ...          -      0               -            -  0    37   \n",
       "3      10   ...          -      1               -            -  0    35   \n",
       "4       4   ...          -      0               -            -  0    37   \n",
       "\n",
       "       Form FirstInitial  Firstname  Surname  \n",
       "0  7.333333            H      Harry     Kane  \n",
       "1  5.763158            A     Alexis  Sanchez  \n",
       "2  5.756757            R     Romelu   Lukaku  \n",
       "3  5.114286            D      Diego    Costa  \n",
       "4  4.837838            D       Dele     Alli  \n",
       "\n",
       "[5 rows x 24 columns]"
      ]
     },
     "execution_count": 11,
     "metadata": {},
     "output_type": "execute_result"
    }
   ],
   "source": [
    "SEA1617.head(5)"
   ]
  },
  {
   "cell_type": "markdown",
   "metadata": {},
   "source": [
    "#### Saving to csv file in data/prep"
   ]
  },
  {
   "cell_type": "code",
   "execution_count": 12,
   "metadata": {
    "collapsed": true
   },
   "outputs": [],
   "source": [
    "SEA1617.to_csv('../../data/prep/Fantasy1617.csv')"
   ]
  },
  {
   "cell_type": "code",
   "execution_count": null,
   "metadata": {},
   "outputs": [],
   "source": []
  }
 ],
 "metadata": {
  "kernelspec": {
   "display_name": "Python 3",
   "language": "python",
   "name": "python3"
  },
  "language_info": {
   "codemirror_mode": {
    "name": "ipython",
    "version": 3
   },
   "file_extension": ".py",
   "mimetype": "text/x-python",
   "name": "python",
   "nbconvert_exporter": "python",
   "pygments_lexer": "ipython3",
   "version": "3.6.3"
  }
 },
 "nbformat": 4,
 "nbformat_minor": 2
}
