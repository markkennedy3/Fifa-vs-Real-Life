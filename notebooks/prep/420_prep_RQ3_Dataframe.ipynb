{
 "cells": [
  {
   "cell_type": "code",
   "execution_count": 5,
   "metadata": {
    "collapsed": true
   },
   "outputs": [],
   "source": [
    "import os.path\n",
    "import pandas as pd\n",
    "import numpy as np"
   ]
  },
  {
   "cell_type": "code",
   "execution_count": 6,
   "metadata": {
    "collapsed": true
   },
   "outputs": [],
   "source": [
    "J16_17 = pd.read_csv(\"../../data/prep/Joined1617.csv\")\n",
    "J15_16 = pd.read_csv(\"../../data/prep/Joined1516.csv\")\n",
    "J14_15 = pd.read_csv(\"../../data/prep/Joined1415.csv\")\n",
    "J13_14 = pd.read_csv(\"../../data/prep/Joined1314.csv\")\n",
    "J12_13 = pd.read_csv(\"../../data/prep/Joined1213.csv\")"
   ]
  },
  {
   "cell_type": "code",
   "execution_count": 7,
   "metadata": {},
   "outputs": [
    {
     "ename": "KeyError",
     "evalue": "\"['Apps' 'Form'] not in index\"",
     "output_type": "error",
     "traceback": [
      "\u001b[1;31m---------------------------------------------------------------------------\u001b[0m",
      "\u001b[1;31mKeyError\u001b[0m                                  Traceback (most recent call last)",
      "\u001b[1;32m<ipython-input-7-0f464be8b841>\u001b[0m in \u001b[0;36m<module>\u001b[1;34m()\u001b[0m\n\u001b[1;32m----> 1\u001b[1;33m \u001b[0mDF1\u001b[0m \u001b[1;33m=\u001b[0m \u001b[0mJ16_17\u001b[0m\u001b[1;33m[\u001b[0m\u001b[1;33m[\u001b[0m\u001b[1;34m'Players'\u001b[0m\u001b[1;33m,\u001b[0m\u001b[1;34m'club'\u001b[0m\u001b[1;33m,\u001b[0m\u001b[1;34m'league'\u001b[0m\u001b[1;33m,\u001b[0m\u001b[1;34m'age'\u001b[0m\u001b[1;33m,\u001b[0m\u001b[1;34m'nationality'\u001b[0m\u001b[1;33m,\u001b[0m\u001b[1;34m'Position'\u001b[0m\u001b[1;33m,\u001b[0m\u001b[1;34m'overall'\u001b[0m\u001b[1;33m,\u001b[0m\u001b[1;34m'potential'\u001b[0m\u001b[1;33m,\u001b[0m\u001b[1;34m'Apps'\u001b[0m\u001b[1;33m,\u001b[0m\u001b[1;34m'Form'\u001b[0m\u001b[1;33m,\u001b[0m\u001b[1;34m'skill_moves'\u001b[0m\u001b[1;33m,\u001b[0m\u001b[1;34m'Players'\u001b[0m\u001b[1;33m,\u001b[0m\u001b[1;34m'Points'\u001b[0m\u001b[1;33m,\u001b[0m\u001b[1;34m'Clubs'\u001b[0m\u001b[1;33m,\u001b[0m\u001b[1;34m'Position'\u001b[0m\u001b[1;33m,\u001b[0m\u001b[1;34m'Start'\u001b[0m\u001b[1;33m,\u001b[0m\u001b[1;34m'Goals'\u001b[0m\u001b[1;33m,\u001b[0m\u001b[1;34m'A'\u001b[0m\u001b[1;33m,\u001b[0m\u001b[1;34m'CS'\u001b[0m\u001b[1;33m,\u001b[0m\u001b[1;34m'CS part'\u001b[0m\u001b[1;33m,\u001b[0m\u001b[1;34m'Yellow'\u001b[0m\u001b[1;33m,\u001b[0m\u001b[1;34m'Red'\u001b[0m\u001b[1;33m,\u001b[0m\u001b[1;34m'Sub'\u001b[0m\u001b[1;33m,\u001b[0m\u001b[1;34m'CO'\u001b[0m\u001b[1;33m,\u001b[0m\u001b[1;34m'Off'\u001b[0m\u001b[1;33m,\u001b[0m\u001b[1;34m'Pen SV'\u001b[0m\u001b[1;33m,\u001b[0m\u001b[1;34m'Pen M'\u001b[0m\u001b[1;33m,\u001b[0m\u001b[1;34m'Goals conceded'\u001b[0m\u001b[1;33m,\u001b[0m\u001b[1;34m'Conceded 1+'\u001b[0m\u001b[1;33m,\u001b[0m\u001b[1;34m'OG'\u001b[0m\u001b[1;33m]\u001b[0m\u001b[1;33m]\u001b[0m\u001b[1;33m\u001b[0m\u001b[0m\n\u001b[0m\u001b[0;32m      2\u001b[0m \u001b[0mDF2\u001b[0m \u001b[1;33m=\u001b[0m \u001b[0mJ15_16\u001b[0m\u001b[1;33m[\u001b[0m\u001b[1;33m[\u001b[0m\u001b[1;34m'Players'\u001b[0m\u001b[1;33m,\u001b[0m\u001b[1;34m'club'\u001b[0m\u001b[1;33m,\u001b[0m\u001b[1;34m'league'\u001b[0m\u001b[1;33m,\u001b[0m\u001b[1;34m'age'\u001b[0m\u001b[1;33m,\u001b[0m\u001b[1;34m'nationality'\u001b[0m\u001b[1;33m,\u001b[0m\u001b[1;34m'Position'\u001b[0m\u001b[1;33m,\u001b[0m\u001b[1;34m'overall'\u001b[0m\u001b[1;33m,\u001b[0m\u001b[1;34m'potential'\u001b[0m\u001b[1;33m,\u001b[0m\u001b[1;34m'Apps'\u001b[0m\u001b[1;33m,\u001b[0m\u001b[1;34m'Form'\u001b[0m\u001b[1;33m,\u001b[0m\u001b[1;34m'skill_moves'\u001b[0m\u001b[1;33m,\u001b[0m\u001b[1;34m'Players'\u001b[0m\u001b[1;33m,\u001b[0m\u001b[1;34m'Points'\u001b[0m\u001b[1;33m,\u001b[0m\u001b[1;34m'Clubs'\u001b[0m\u001b[1;33m,\u001b[0m\u001b[1;34m'Position'\u001b[0m\u001b[1;33m,\u001b[0m\u001b[1;34m'Start'\u001b[0m\u001b[1;33m,\u001b[0m\u001b[1;34m'Goals'\u001b[0m\u001b[1;33m,\u001b[0m\u001b[1;34m'A'\u001b[0m\u001b[1;33m,\u001b[0m\u001b[1;34m'CS'\u001b[0m\u001b[1;33m,\u001b[0m\u001b[1;34m'CS part'\u001b[0m\u001b[1;33m,\u001b[0m\u001b[1;34m'Yellow'\u001b[0m\u001b[1;33m,\u001b[0m\u001b[1;34m'Red'\u001b[0m\u001b[1;33m,\u001b[0m\u001b[1;34m'Sub'\u001b[0m\u001b[1;33m,\u001b[0m\u001b[1;34m'CO'\u001b[0m\u001b[1;33m,\u001b[0m\u001b[1;34m'Off'\u001b[0m\u001b[1;33m,\u001b[0m\u001b[1;34m'Pen SV'\u001b[0m\u001b[1;33m,\u001b[0m\u001b[1;34m'Pen M'\u001b[0m\u001b[1;33m,\u001b[0m\u001b[1;34m'Goals conceded'\u001b[0m\u001b[1;33m,\u001b[0m\u001b[1;34m'Conceded 1+'\u001b[0m\u001b[1;33m,\u001b[0m\u001b[1;34m'OG'\u001b[0m\u001b[1;33m]\u001b[0m\u001b[1;33m]\u001b[0m\u001b[1;33m\u001b[0m\u001b[0m\n\u001b[0;32m      3\u001b[0m \u001b[0mDF3\u001b[0m \u001b[1;33m=\u001b[0m \u001b[0mJ14_15\u001b[0m\u001b[1;33m[\u001b[0m\u001b[1;33m[\u001b[0m\u001b[1;34m'Players'\u001b[0m\u001b[1;33m,\u001b[0m\u001b[1;34m'club'\u001b[0m\u001b[1;33m,\u001b[0m\u001b[1;34m'league'\u001b[0m\u001b[1;33m,\u001b[0m\u001b[1;34m'age'\u001b[0m\u001b[1;33m,\u001b[0m\u001b[1;34m'nationality'\u001b[0m\u001b[1;33m,\u001b[0m\u001b[1;34m'Position'\u001b[0m\u001b[1;33m,\u001b[0m\u001b[1;34m'overall'\u001b[0m\u001b[1;33m,\u001b[0m\u001b[1;34m'potential'\u001b[0m\u001b[1;33m,\u001b[0m\u001b[1;34m'Apps'\u001b[0m\u001b[1;33m,\u001b[0m\u001b[1;34m'Form'\u001b[0m\u001b[1;33m,\u001b[0m\u001b[1;34m'skill_moves'\u001b[0m\u001b[1;33m,\u001b[0m\u001b[1;34m'Players'\u001b[0m\u001b[1;33m,\u001b[0m\u001b[1;34m'Points'\u001b[0m\u001b[1;33m,\u001b[0m\u001b[1;34m'Clubs'\u001b[0m\u001b[1;33m,\u001b[0m\u001b[1;34m'Position'\u001b[0m\u001b[1;33m,\u001b[0m\u001b[1;34m'Start'\u001b[0m\u001b[1;33m,\u001b[0m\u001b[1;34m'Goals'\u001b[0m\u001b[1;33m,\u001b[0m\u001b[1;34m'A'\u001b[0m\u001b[1;33m,\u001b[0m\u001b[1;34m'CS'\u001b[0m\u001b[1;33m,\u001b[0m\u001b[1;34m'CS part'\u001b[0m\u001b[1;33m,\u001b[0m\u001b[1;34m'Yellow'\u001b[0m\u001b[1;33m,\u001b[0m\u001b[1;34m'Red'\u001b[0m\u001b[1;33m,\u001b[0m\u001b[1;34m'Sub'\u001b[0m\u001b[1;33m,\u001b[0m\u001b[1;34m'CO'\u001b[0m\u001b[1;33m,\u001b[0m\u001b[1;34m'Off'\u001b[0m\u001b[1;33m,\u001b[0m\u001b[1;34m'Pen SV'\u001b[0m\u001b[1;33m,\u001b[0m\u001b[1;34m'Pen M'\u001b[0m\u001b[1;33m,\u001b[0m\u001b[1;34m'Goals conceded'\u001b[0m\u001b[1;33m,\u001b[0m\u001b[1;34m'Conceded 1+'\u001b[0m\u001b[1;33m,\u001b[0m\u001b[1;34m'OG'\u001b[0m\u001b[1;33m]\u001b[0m\u001b[1;33m]\u001b[0m\u001b[1;33m\u001b[0m\u001b[0m\n\u001b[0;32m      4\u001b[0m \u001b[0mDF4\u001b[0m \u001b[1;33m=\u001b[0m \u001b[0mJ13_14\u001b[0m\u001b[1;33m[\u001b[0m\u001b[1;33m[\u001b[0m\u001b[1;34m'Players'\u001b[0m\u001b[1;33m,\u001b[0m\u001b[1;34m'club'\u001b[0m\u001b[1;33m,\u001b[0m\u001b[1;34m'league'\u001b[0m\u001b[1;33m,\u001b[0m\u001b[1;34m'age'\u001b[0m\u001b[1;33m,\u001b[0m\u001b[1;34m'nationality'\u001b[0m\u001b[1;33m,\u001b[0m\u001b[1;34m'Position'\u001b[0m\u001b[1;33m,\u001b[0m\u001b[1;34m'overall'\u001b[0m\u001b[1;33m,\u001b[0m\u001b[1;34m'potential'\u001b[0m\u001b[1;33m,\u001b[0m\u001b[1;34m'Apps'\u001b[0m\u001b[1;33m,\u001b[0m\u001b[1;34m'Form'\u001b[0m\u001b[1;33m,\u001b[0m\u001b[1;34m'skill_moves'\u001b[0m\u001b[1;33m,\u001b[0m\u001b[1;34m'Players'\u001b[0m\u001b[1;33m,\u001b[0m\u001b[1;34m'Points'\u001b[0m\u001b[1;33m,\u001b[0m\u001b[1;34m'Clubs'\u001b[0m\u001b[1;33m,\u001b[0m\u001b[1;34m'Position'\u001b[0m\u001b[1;33m,\u001b[0m\u001b[1;34m'Start'\u001b[0m\u001b[1;33m,\u001b[0m\u001b[1;34m'Goals'\u001b[0m\u001b[1;33m,\u001b[0m\u001b[1;34m'A'\u001b[0m\u001b[1;33m,\u001b[0m\u001b[1;34m'CS'\u001b[0m\u001b[1;33m,\u001b[0m\u001b[1;34m'CS part'\u001b[0m\u001b[1;33m,\u001b[0m\u001b[1;34m'Yellow'\u001b[0m\u001b[1;33m,\u001b[0m\u001b[1;34m'Red'\u001b[0m\u001b[1;33m,\u001b[0m\u001b[1;34m'Sub'\u001b[0m\u001b[1;33m,\u001b[0m\u001b[1;34m'CO'\u001b[0m\u001b[1;33m,\u001b[0m\u001b[1;34m'Off'\u001b[0m\u001b[1;33m,\u001b[0m\u001b[1;34m'Pen SV'\u001b[0m\u001b[1;33m,\u001b[0m\u001b[1;34m'Pen M'\u001b[0m\u001b[1;33m,\u001b[0m\u001b[1;34m'Goals conceded'\u001b[0m\u001b[1;33m,\u001b[0m\u001b[1;34m'Conceded 1+'\u001b[0m\u001b[1;33m,\u001b[0m\u001b[1;34m'OG'\u001b[0m\u001b[1;33m]\u001b[0m\u001b[1;33m]\u001b[0m\u001b[1;33m\u001b[0m\u001b[0m\n\u001b[0;32m      5\u001b[0m \u001b[0mDF5\u001b[0m \u001b[1;33m=\u001b[0m \u001b[0mJ12_13\u001b[0m\u001b[1;33m[\u001b[0m\u001b[1;33m[\u001b[0m\u001b[1;34m'Players'\u001b[0m\u001b[1;33m,\u001b[0m\u001b[1;34m'club'\u001b[0m\u001b[1;33m,\u001b[0m\u001b[1;34m'league'\u001b[0m\u001b[1;33m,\u001b[0m\u001b[1;34m'age'\u001b[0m\u001b[1;33m,\u001b[0m\u001b[1;34m'nationality'\u001b[0m\u001b[1;33m,\u001b[0m\u001b[1;34m'Position'\u001b[0m\u001b[1;33m,\u001b[0m\u001b[1;34m'overall'\u001b[0m\u001b[1;33m,\u001b[0m\u001b[1;34m'potential'\u001b[0m\u001b[1;33m,\u001b[0m\u001b[1;34m'Apps'\u001b[0m\u001b[1;33m,\u001b[0m\u001b[1;34m'Form'\u001b[0m\u001b[1;33m,\u001b[0m\u001b[1;34m'skill_moves'\u001b[0m\u001b[1;33m,\u001b[0m\u001b[1;34m'Players'\u001b[0m\u001b[1;33m,\u001b[0m\u001b[1;34m'Points'\u001b[0m\u001b[1;33m,\u001b[0m\u001b[1;34m'Clubs'\u001b[0m\u001b[1;33m,\u001b[0m\u001b[1;34m'Position'\u001b[0m\u001b[1;33m,\u001b[0m\u001b[1;34m'Start'\u001b[0m\u001b[1;33m,\u001b[0m\u001b[1;34m'Goals'\u001b[0m\u001b[1;33m,\u001b[0m\u001b[1;34m'A'\u001b[0m\u001b[1;33m,\u001b[0m\u001b[1;34m'CS'\u001b[0m\u001b[1;33m,\u001b[0m\u001b[1;34m'CS part'\u001b[0m\u001b[1;33m,\u001b[0m\u001b[1;34m'Yellow'\u001b[0m\u001b[1;33m,\u001b[0m\u001b[1;34m'Red'\u001b[0m\u001b[1;33m,\u001b[0m\u001b[1;34m'Sub'\u001b[0m\u001b[1;33m,\u001b[0m\u001b[1;34m'CO'\u001b[0m\u001b[1;33m,\u001b[0m\u001b[1;34m'Off'\u001b[0m\u001b[1;33m,\u001b[0m\u001b[1;34m'Pen SV'\u001b[0m\u001b[1;33m,\u001b[0m\u001b[1;34m'Pen M'\u001b[0m\u001b[1;33m,\u001b[0m\u001b[1;34m'Goals conceded'\u001b[0m\u001b[1;33m,\u001b[0m\u001b[1;34m'Conceded 1+'\u001b[0m\u001b[1;33m,\u001b[0m\u001b[1;34m'OG'\u001b[0m\u001b[1;33m]\u001b[0m\u001b[1;33m]\u001b[0m\u001b[1;33m\u001b[0m\u001b[0m\n",
      "\u001b[1;32m~\\Desktop\\Anaconda3\\lib\\site-packages\\pandas\\core\\frame.py\u001b[0m in \u001b[0;36m__getitem__\u001b[1;34m(self, key)\u001b[0m\n\u001b[0;32m   1956\u001b[0m         \u001b[1;32mif\u001b[0m \u001b[0misinstance\u001b[0m\u001b[1;33m(\u001b[0m\u001b[0mkey\u001b[0m\u001b[1;33m,\u001b[0m \u001b[1;33m(\u001b[0m\u001b[0mSeries\u001b[0m\u001b[1;33m,\u001b[0m \u001b[0mnp\u001b[0m\u001b[1;33m.\u001b[0m\u001b[0mndarray\u001b[0m\u001b[1;33m,\u001b[0m \u001b[0mIndex\u001b[0m\u001b[1;33m,\u001b[0m \u001b[0mlist\u001b[0m\u001b[1;33m)\u001b[0m\u001b[1;33m)\u001b[0m\u001b[1;33m:\u001b[0m\u001b[1;33m\u001b[0m\u001b[0m\n\u001b[0;32m   1957\u001b[0m             \u001b[1;31m# either boolean or fancy integer index\u001b[0m\u001b[1;33m\u001b[0m\u001b[1;33m\u001b[0m\u001b[0m\n\u001b[1;32m-> 1958\u001b[1;33m             \u001b[1;32mreturn\u001b[0m \u001b[0mself\u001b[0m\u001b[1;33m.\u001b[0m\u001b[0m_getitem_array\u001b[0m\u001b[1;33m(\u001b[0m\u001b[0mkey\u001b[0m\u001b[1;33m)\u001b[0m\u001b[1;33m\u001b[0m\u001b[0m\n\u001b[0m\u001b[0;32m   1959\u001b[0m         \u001b[1;32melif\u001b[0m \u001b[0misinstance\u001b[0m\u001b[1;33m(\u001b[0m\u001b[0mkey\u001b[0m\u001b[1;33m,\u001b[0m \u001b[0mDataFrame\u001b[0m\u001b[1;33m)\u001b[0m\u001b[1;33m:\u001b[0m\u001b[1;33m\u001b[0m\u001b[0m\n\u001b[0;32m   1960\u001b[0m             \u001b[1;32mreturn\u001b[0m \u001b[0mself\u001b[0m\u001b[1;33m.\u001b[0m\u001b[0m_getitem_frame\u001b[0m\u001b[1;33m(\u001b[0m\u001b[0mkey\u001b[0m\u001b[1;33m)\u001b[0m\u001b[1;33m\u001b[0m\u001b[0m\n",
      "\u001b[1;32m~\\Desktop\\Anaconda3\\lib\\site-packages\\pandas\\core\\frame.py\u001b[0m in \u001b[0;36m_getitem_array\u001b[1;34m(self, key)\u001b[0m\n\u001b[0;32m   2000\u001b[0m             \u001b[1;32mreturn\u001b[0m \u001b[0mself\u001b[0m\u001b[1;33m.\u001b[0m\u001b[0mtake\u001b[0m\u001b[1;33m(\u001b[0m\u001b[0mindexer\u001b[0m\u001b[1;33m,\u001b[0m \u001b[0maxis\u001b[0m\u001b[1;33m=\u001b[0m\u001b[1;36m0\u001b[0m\u001b[1;33m,\u001b[0m \u001b[0mconvert\u001b[0m\u001b[1;33m=\u001b[0m\u001b[1;32mFalse\u001b[0m\u001b[1;33m)\u001b[0m\u001b[1;33m\u001b[0m\u001b[0m\n\u001b[0;32m   2001\u001b[0m         \u001b[1;32melse\u001b[0m\u001b[1;33m:\u001b[0m\u001b[1;33m\u001b[0m\u001b[0m\n\u001b[1;32m-> 2002\u001b[1;33m             \u001b[0mindexer\u001b[0m \u001b[1;33m=\u001b[0m \u001b[0mself\u001b[0m\u001b[1;33m.\u001b[0m\u001b[0mloc\u001b[0m\u001b[1;33m.\u001b[0m\u001b[0m_convert_to_indexer\u001b[0m\u001b[1;33m(\u001b[0m\u001b[0mkey\u001b[0m\u001b[1;33m,\u001b[0m \u001b[0maxis\u001b[0m\u001b[1;33m=\u001b[0m\u001b[1;36m1\u001b[0m\u001b[1;33m)\u001b[0m\u001b[1;33m\u001b[0m\u001b[0m\n\u001b[0m\u001b[0;32m   2003\u001b[0m             \u001b[1;32mreturn\u001b[0m \u001b[0mself\u001b[0m\u001b[1;33m.\u001b[0m\u001b[0mtake\u001b[0m\u001b[1;33m(\u001b[0m\u001b[0mindexer\u001b[0m\u001b[1;33m,\u001b[0m \u001b[0maxis\u001b[0m\u001b[1;33m=\u001b[0m\u001b[1;36m1\u001b[0m\u001b[1;33m,\u001b[0m \u001b[0mconvert\u001b[0m\u001b[1;33m=\u001b[0m\u001b[1;32mTrue\u001b[0m\u001b[1;33m)\u001b[0m\u001b[1;33m\u001b[0m\u001b[0m\n\u001b[0;32m   2004\u001b[0m \u001b[1;33m\u001b[0m\u001b[0m\n",
      "\u001b[1;32m~\\Desktop\\Anaconda3\\lib\\site-packages\\pandas\\core\\indexing.py\u001b[0m in \u001b[0;36m_convert_to_indexer\u001b[1;34m(self, obj, axis, is_setter)\u001b[0m\n\u001b[0;32m   1229\u001b[0m                 \u001b[0mmask\u001b[0m \u001b[1;33m=\u001b[0m \u001b[0mcheck\u001b[0m \u001b[1;33m==\u001b[0m \u001b[1;33m-\u001b[0m\u001b[1;36m1\u001b[0m\u001b[1;33m\u001b[0m\u001b[0m\n\u001b[0;32m   1230\u001b[0m                 \u001b[1;32mif\u001b[0m \u001b[0mmask\u001b[0m\u001b[1;33m.\u001b[0m\u001b[0many\u001b[0m\u001b[1;33m(\u001b[0m\u001b[1;33m)\u001b[0m\u001b[1;33m:\u001b[0m\u001b[1;33m\u001b[0m\u001b[0m\n\u001b[1;32m-> 1231\u001b[1;33m                     \u001b[1;32mraise\u001b[0m \u001b[0mKeyError\u001b[0m\u001b[1;33m(\u001b[0m\u001b[1;34m'%s not in index'\u001b[0m \u001b[1;33m%\u001b[0m \u001b[0mobjarr\u001b[0m\u001b[1;33m[\u001b[0m\u001b[0mmask\u001b[0m\u001b[1;33m]\u001b[0m\u001b[1;33m)\u001b[0m\u001b[1;33m\u001b[0m\u001b[0m\n\u001b[0m\u001b[0;32m   1232\u001b[0m \u001b[1;33m\u001b[0m\u001b[0m\n\u001b[0;32m   1233\u001b[0m                 \u001b[1;32mreturn\u001b[0m \u001b[0m_values_from_object\u001b[0m\u001b[1;33m(\u001b[0m\u001b[0mindexer\u001b[0m\u001b[1;33m)\u001b[0m\u001b[1;33m\u001b[0m\u001b[0m\n",
      "\u001b[1;31mKeyError\u001b[0m: \"['Apps' 'Form'] not in index\""
     ]
    }
   ],
   "source": [
    "DF1 = J16_17[['Players','club','league','age','nationality','Position','overall','potential','Apps','Form','skill_moves','Players','Points','Clubs','Position','Start','Goals','A','CS','CS part','Yellow','Red','Sub','CO','Off','Pen SV','Pen M','Goals conceded','Conceded 1+','OG']]\n",
    "DF2 = J15_16[['Players','club','league','age','nationality','Position','overall','potential','Apps','Form','skill_moves','Players','Points','Clubs','Position','Start','Goals','A','CS','CS part','Yellow','Red','Sub','CO','Off','Pen SV','Pen M','Goals conceded','Conceded 1+','OG']]\n",
    "DF3 = J14_15[['Players','club','league','age','nationality','Position','overall','potential','Apps','Form','skill_moves','Players','Points','Clubs','Position','Start','Goals','A','CS','CS part','Yellow','Red','Sub','CO','Off','Pen SV','Pen M','Goals conceded','Conceded 1+','OG']]\n",
    "DF4 = J13_14[['Players','club','league','age','nationality','Position','overall','potential','Apps','Form','skill_moves','Players','Points','Clubs','Position','Start','Goals','A','CS','CS part','Yellow','Red','Sub','CO','Off','Pen SV','Pen M','Goals conceded','Conceded 1+','OG']]\n",
    "DF5 = J12_13[['Players','club','league','age','nationality','Position','overall','potential','Apps','Form','skill_moves','Players','Points','Clubs','Position','Start','Goals','A','CS','CS part','Yellow','Red','Sub','CO','Off','Pen SV','Pen M','Goals conceded','Conceded 1+','OG']]"
   ]
  },
  {
   "cell_type": "code",
   "execution_count": null,
   "metadata": {
    "collapsed": true
   },
   "outputs": [],
   "source": [
    "s1 = J16_17[['Players','club','league','age','nationality','Position','overall','potential','Points','Apps']]\n",
    "s2 = J15_16[['Players','club','league','age','nationality','Position','overall','potential','Points','Apps']]\n",
    "s3 = J14_15[['Players','club','league','age','nationality','Position','overall','potential','Points','Apps']]\n",
    "s4 = J13_14[['Players','club','league','age','nationality','Position','overall','potential','Points','Apps']]\n",
    "s5 = J12_13[['Players','club','league','age','nationality','Position','overall','potential','Points','Apps']]\n",
    "s6 = J17_18[['Players','club','league','age','nationality','Position','overall','potential','Points','Apps']]"
   ]
  },
  {
   "cell_type": "code",
   "execution_count": null,
   "metadata": {
    "collapsed": true
   },
   "outputs": [],
   "source": [
    "list(s1)"
   ]
  },
  {
   "cell_type": "code",
   "execution_count": null,
   "metadata": {
    "collapsed": true
   },
   "outputs": [],
   "source": [
    "s1 = s1.drop_duplicates(['Players','club','league','age','nationality','Position','overall','potential']).set_index(['Players','club','league','age','nationality','Position','overall','potential'])[['Points','Apps']]\n",
    "s2 = s2.drop_duplicates(['Players','club','league','age','nationality','Position','overall','potential']).set_index(['Players','club','league','age','nationality','Position','overall','potential'])[['Points','Apps']]\n",
    "s3 = s3.drop_duplicates(['Players','club','league','age','nationality','Position','overall','potential']).set_index(['Players','club','league','age','nationality','Position','overall','potential'])[['Points','Apps']]\n",
    "s4 = s4.drop_duplicates(['Players','club','league','age','nationality','Position','overall','potential']).set_index(['Players','club','league','age','nationality','Position','overall','potential'])[['Points','Apps']]\n",
    "s5 = s5.drop_duplicates(['Players','club','league','age','nationality','Position','overall','potential']).set_index(['Players','club','league','age','nationality','Position','overall','potential'])[['Points','Apps']]\n",
    "s6 = s6.drop_duplicates(['Players','club','league','age','nationality','Position','overall','potential']).set_index(['Players','club','league','age','nationality','Position','overall','potential'])[['Points','Apps']]\n",
    "joined = pd.concat([s1,s2,s3,s4,s5,s6], axis=1, keys=('16/17','15/16','14/15','13/14','12/13','17/18')).fillna(0).astype(float).reset_index()"
   ]
  },
  {
   "cell_type": "code",
   "execution_count": null,
   "metadata": {
    "collapsed": true
   },
   "outputs": [],
   "source": [
    "joined"
   ]
  },
  {
   "cell_type": "code",
   "execution_count": null,
   "metadata": {
    "collapsed": true
   },
   "outputs": [],
   "source": [
    "joined.loc[joined['nationality'].str.contains(Europe), 'Continent'] = 'Europe'\n",
    "joined.loc[joined['nationality'].str.contains(Africa), 'Continent'] = 'Africa'\n",
    "joined.loc[joined['nationality'].str.contains(North_America), 'Continent'] = 'North America'\n",
    "joined.loc[joined['nationality'].str.contains(South_America), 'Continent'] = 'South America'\n",
    "joined.loc[joined['nationality'].str.contains(Asia), 'Continent'] = 'Asia'\n",
    "joined.loc[joined['nationality'].str.contains(Australia_Oceania), 'Continent'] = 'Australia / Oceania'"
   ]
  },
  {
   "cell_type": "code",
   "execution_count": null,
   "metadata": {
    "collapsed": true
   },
   "outputs": [],
   "source": [
    "list(joined)"
   ]
  },
  {
   "cell_type": "code",
   "execution_count": null,
   "metadata": {
    "collapsed": true
   },
   "outputs": [],
   "source": [
    "joined['count1'] = 0\n",
    "joined.loc[joined['16/17']['Apps']>0.5, 'count1'] = 1\n",
    "joined['count2'] = 0\n",
    "joined.loc[joined['15/16']['Apps']>0.5, 'count2'] = 1\n",
    "joined['count3'] = 0\n",
    "joined.loc[joined['14/15']['Apps']>0.5, 'count3'] = 1\n",
    "joined['count4'] = 0\n",
    "joined.loc[joined['13/14']['Apps']>0.5, 'count4'] = 1\n",
    "joined['count5'] = 0\n",
    "joined.loc[joined['12/13']['Apps']>0.5, 'count5'] = 1\n",
    "\n",
    "joined['Seasons Played'] = joined['count1'] + joined['count2'] + joined['count3'] + joined['count4'] + joined['count5']\n",
    "\n",
    "joined = joined[joined['Seasons Played']>1]\n",
    "\n",
    "joined['Overall Points'] = joined['16/17']['Points']+joined['15/16']['Points']+joined['14/15']['Points']+joined['13/14']['Points']+joined['12/13']['Points']\n",
    "                                \n",
    "joined['Overall Apps'] = joined['16/17']['Apps']+joined['15/16']['Apps']+joined['14/15']['Apps']+joined['13/14']['Apps']+joined['12/13']['Apps']\n",
    "\n",
    "joined['Average Form'] = joined['Overall Points']/joined['Overall Apps']\n",
    "\n",
    "joined.drop(joined.columns[[8,9,10,11,12,13,14,15,16,17,18,19,21,22,23,24,25,26,27,28]], axis=1, inplace=True)"
   ]
  },
  {
   "cell_type": "code",
   "execution_count": null,
   "metadata": {
    "collapsed": true
   },
   "outputs": [],
   "source": [
    "list(joined)"
   ]
  },
  {
   "cell_type": "code",
   "execution_count": null,
   "metadata": {
    "collapsed": true
   },
   "outputs": [],
   "source": [
    "joined = joined[np.isfinite(joined['Average Form'])]"
   ]
  },
  {
   "cell_type": "code",
   "execution_count": null,
   "metadata": {
    "collapsed": true
   },
   "outputs": [],
   "source": [
    "joined.head(10)"
   ]
  },
  {
   "cell_type": "code",
   "execution_count": null,
   "metadata": {
    "collapsed": true
   },
   "outputs": [],
   "source": [
    "joined.to_csv('../../data/analysis/RQ3-1.csv')"
   ]
  },
  {
   "cell_type": "code",
   "execution_count": null,
   "metadata": {
    "collapsed": true
   },
   "outputs": [],
   "source": [
    "RQ3DB = ['Players','Position','club','age','league','nationality','overall','potential',\n",
    "          'skill_moves','Points','Goals','A','Yellow','Red','Form','Apps']"
   ]
  },
  {
   "cell_type": "code",
   "execution_count": null,
   "metadata": {
    "collapsed": true
   },
   "outputs": [],
   "source": [
    "J16_17 = J16_17[RQ3DB]\n",
    "J15_16 = J15_16[RQ3DB]\n",
    "J14_15 = J14_15[RQ3DB]\n",
    "J13_14 = J13_14[RQ3DB]\n",
    "J12_13 = J12_13[RQ3DB]\n",
    "J17_18 = J17_18[RQ3DB]"
   ]
  },
  {
   "cell_type": "code",
   "execution_count": null,
   "metadata": {
    "collapsed": true
   },
   "outputs": [],
   "source": [
    "J16_17['Homegrown'] = (J16_17['nationality'] =='England') & (J16_17['league'] == 'English Premier League') |(J16_17['nationality'] =='Germany') & (J16_17['league'] == 'German Bundesliga')|(J16_17['nationality'] =='Spain') & (J16_17['league'] == 'Spanish Primera Division')|(J16_17['nationality'] =='France') & (J16_17['league'] == 'French Ligue 1')|(J16_17['nationality'] =='Italy') & (J16_17['league'] == 'Italian Serie A')\n",
    "J15_16['Homegrown'] = (J15_16['nationality'] =='England') & (J15_16['league'] == 'English Premier League')|(J15_16['nationality'] =='Germany') & (J15_16['league'] == 'German Bundesliga')|(J15_16['nationality'] =='Spain') & (J15_16['league'] == 'Spanish Primera Division')|(J15_16['nationality'] =='France') & (J15_16['league'] == 'French Ligue 1')|(J15_16['nationality'] =='Italy') & (J15_16['league'] == 'Italian Serie A')\n",
    "J14_15['Homegrown'] = (J14_15['nationality'] =='England') & (J14_15['league'] == 'English Premier League') |(J14_15['nationality'] =='Germany') & (J14_15['league'] == 'German Bundesliga')|(J14_15['nationality'] =='Spain') & (J14_15['league'] == 'Spanish Primera Division')|(J14_15['nationality'] =='France') & (J14_15['league'] == 'French Ligue 1')|(J14_15['nationality'] =='Italy') & (J14_15['league'] == 'Italian Serie A')\n",
    "J13_14['Homegrown'] = (J13_14['nationality'] =='England') & (J13_14['league'] == 'English Premier League')|(J13_14['nationality'] =='Germany') & (J13_14['league'] == 'German Bundesliga')|(J13_14['nationality'] =='Spain') & (J13_14['league'] == 'Spanish Primera Division')|(J13_14['nationality'] =='France') & (J13_14['league'] == 'French Ligue 1')|(J13_14['nationality'] =='Italy') & (J13_14['league'] == 'Italian Serie A')\n",
    "J12_13['Homegrown'] = (J12_13['nationality'] =='England') & (J12_13['league'] == 'English Premier League')|(J12_13['nationality'] =='Germany') & (J12_13['league'] == 'German Bundesliga')|(J12_13['nationality'] =='Spain') & (J12_13['league'] == 'Spanish Primera Division')|(J12_13['nationality'] =='France') & (J12_13['league'] == 'French Ligue 1')|(J12_13['nationality'] =='Italy') & (J12_13['league'] == 'Italian Serie A')\n",
    "J17_18['Homegrown'] = (J17_18['nationality'] =='England') & (J17_18['league'] == 'English Premier League') |(J17_18['nationality'] =='Germany') & (J17_18['league'] == 'German Bundesliga')|(J17_18['nationality'] =='Spain') & (J17_18['league'] == 'Spanish Primera Division')|(J17_18['nationality'] =='France') & (J17_18['league'] == 'French Ligue 1')|(J17_18['nationality'] =='Italy') & (J17_18['league'] == 'Italian Serie A')"
   ]
  },
  {
   "cell_type": "code",
   "execution_count": null,
   "metadata": {
    "collapsed": true
   },
   "outputs": [],
   "source": [
    "s1 = J16_17.drop_duplicates(['Players','club','league','age','nationality','Position','overall','potential','Homegrown']).set_index(['Players','club','league','age','nationality','Position','overall','potential','Homegrown'])[['Form','Apps','Points','Goals','A','Yellow','Red']]\n",
    "s2 = J15_16.drop_duplicates(['Players','club','league','age','nationality','Position','overall','potential','Homegrown']).set_index(['Players','club','league','age','nationality','Position','overall','potential','Homegrown'])[['Form','Apps','Points','Goals','A','Yellow','Red']]\n",
    "s3 = J14_15.drop_duplicates(['Players','club','league','age','nationality','Position','overall','potential','Homegrown']).set_index(['Players','club','league','age','nationality','Position','overall','potential','Homegrown'])[['Form','Apps','Points','Goals','A','Yellow','Red']]\n",
    "s4 = J13_14.drop_duplicates(['Players','club','league','age','nationality','Position','overall','potential','Homegrown']).set_index(['Players','club','league','age','nationality','Position','overall','potential','Homegrown'])[['Form','Apps','Points','Goals','A','Yellow','Red']]\n",
    "s5 = J12_13.drop_duplicates(['Players','club','league','age','nationality','Position','overall','potential','Homegrown']).set_index(['Players','club','league','age','nationality','Position','overall','potential','Homegrown'])[['Form','Apps','Points','Goals','A','Yellow','Red']]\n",
    "s6 = J17_18.drop_duplicates(['Players','club','league','age','nationality','Position','overall','potential','Homegrown']).set_index(['Players','club','league','age','nationality','Position','overall','potential','Homegrown'])[['Form','Apps','Points','Goals','A','Yellow','Red']]\n",
    "joined2 = pd.concat([s1,s2,s3,s4,s5,s6], axis=1, keys=('16/17','15/16','14/15','13/14','12/13','17/18')).fillna(0).astype(float).reset_index()"
   ]
  },
  {
   "cell_type": "code",
   "execution_count": null,
   "metadata": {
    "collapsed": true
   },
   "outputs": [],
   "source": [
    "joined2['count1'] = 0\n",
    "joined2.loc[joined2['16/17']['Apps']>0.5, 'count1'] = 1\n",
    "joined2['count2'] = 0\n",
    "joined2.loc[joined2['15/16']['Apps']>0.5, 'count2'] = 1\n",
    "joined2['count3'] = 0\n",
    "joined2.loc[joined2['14/15']['Apps']>0.5, 'count3'] = 1\n",
    "joined2['count4'] = 0\n",
    "joined2.loc[joined2['13/14']['Apps']>0.5, 'count4'] = 1\n",
    "joined2['count5'] = 0\n",
    "joined2.loc[joined2['12/13']['Apps']>0.5, 'count5'] = 1\n",
    "\n",
    "joined2['Seasons Played'] = joined2['count1'] + joined2['count2'] + joined2['count3'] + joined2['count4'] + joined2['count5']\n",
    "\n",
    "joined2 = joined2[joined2['Seasons Played']>1]\n",
    "\n",
    "OverallAssists = joined2['16/17']['A'] +joined2['14/15']['A']+joined2['15/16']['A']+joined2['13/14']['A']+joined2['12/13']['A']+joined2['17/18']['A']\n",
    "joined2['Average Assists'] = OverallAssists/joined2['Seasons Played']\n",
    "\n",
    "OverallGoals = joined2['16/17']['Goals'] +joined2['14/15']['Goals']+joined2['15/16']['Goals']+joined2['13/14']['Goals']+joined2['12/13']['Goals']+joined2['17/18']['Goals']\n",
    "joined2['Average Goals'] = OverallGoals/joined2['Seasons Played']\n",
    "\n",
    "OverallYellow = joined2['16/17']['Yellow'] +joined2['14/15']['Yellow']+joined2['15/16']['Yellow']+joined2['13/14']['Yellow']+joined2['12/13']['Yellow']+joined2['17/18']['Yellow']\n",
    "joined2['Average Yellow'] = OverallYellow/joined2['Seasons Played']\n",
    "\n",
    "OverallPoints = joined2['16/17']['Points'] +joined2['14/15']['Points']+joined2['15/16']['Points']+joined2['13/14']['Points']+joined2['12/13']['Points']+joined2['17/18']['Points']\n",
    "joined2['Average Points'] = OverallPoints/joined2['Seasons Played']\n",
    "\n",
    "OverallRed = joined2['16/17']['Red'] +joined2['14/15']['Red']+joined2['15/16']['Red']+joined2['13/14']['Red']+joined2['12/13']['Red']+joined2['17/18']['Red']\n",
    "joined2['Average Red'] = OverallRed/joined2['Seasons Played']\n",
    "\n",
    "\n",
    "OverallGoals = joined2['16/17']['Goals'] +joined2['14/15']['Goals']+joined2['15/16']['Goals']+joined2['13/14']['Goals']+joined2['12/13']['Goals']+joined2['17/18']['Goals']\n",
    "joined2['Average Goals'] = OverallGoals/joined2['Seasons Played']\n",
    "\n",
    "\n",
    "\n",
    "joined2['Overall Points'] = joined2['16/17']['Points']+joined2['15/16']['Points']+joined2['14/15']['Points']+joined2['13/14']['Points']+joined2['12/13']['Points']\n",
    "                                \n",
    "joined2['Overall Apps'] = joined2['16/17']['Apps']+joined2['15/16']['Apps']+joined2['14/15']['Apps']+joined2['13/14']['Apps']+joined2['12/13']['Apps']\n",
    "\n",
    "joined2['Average Form'] = joined2['Overall Points']/joined2['Overall Apps']"
   ]
  },
  {
   "cell_type": "code",
   "execution_count": null,
   "metadata": {
    "collapsed": true
   },
   "outputs": [],
   "source": [
    "joined2 = joined2[['Players','club','league','age','nationality','Position','overall','Homegrown','Average Points','Average Form','Average Goals','Average Assists','Average Red','Average Yellow']]"
   ]
  },
  {
   "cell_type": "code",
   "execution_count": null,
   "metadata": {
    "collapsed": true
   },
   "outputs": [],
   "source": [
    "joined2.head(5)"
   ]
  },
  {
   "cell_type": "code",
   "execution_count": null,
   "metadata": {
    "collapsed": true
   },
   "outputs": [],
   "source": [
    "joined2.to_csv('../../data/analysis/RQ3-2.csv')"
   ]
  },
  {
   "cell_type": "code",
   "execution_count": null,
   "metadata": {
    "collapsed": true
   },
   "outputs": [],
   "source": []
  }
 ],
 "metadata": {
  "kernelspec": {
   "display_name": "Python 3",
   "language": "python",
   "name": "python3"
  },
  "language_info": {
   "codemirror_mode": {
    "name": "ipython",
    "version": 3
   },
   "file_extension": ".py",
   "mimetype": "text/x-python",
   "name": "python",
   "nbconvert_exporter": "python",
   "pygments_lexer": "ipython3",
   "version": "3.6.3"
  }
 },
 "nbformat": 4,
 "nbformat_minor": 2
}
