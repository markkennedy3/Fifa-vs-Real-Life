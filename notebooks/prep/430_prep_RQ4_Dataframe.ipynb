{
 "cells": [
  {
   "cell_type": "code",
   "execution_count": 12,
   "metadata": {},
   "outputs": [],
   "source": [
    "import os.path\n",
    "import pandas as pd\n",
    "import numpy as np\n",
    "import matplotlib\n",
    "import matplotlib.pylab as plt\n",
    "%matplotlib inline"
   ]
  },
  {
   "cell_type": "code",
   "execution_count": 59,
   "metadata": {},
   "outputs": [],
   "source": [
    "J16_17 = pd.read_csv(\"../../data/prep/Joined1617.csv\")\n",
    "J15_16 = pd.read_csv(\"../../data/prep/Joined1516.csv\")\n",
    "J14_15 = pd.read_csv(\"../../data/prep/Joined1415.csv\")\n",
    "J13_14 = pd.read_csv(\"../../data/prep/Joined1314.csv\")\n",
    "J12_13 = pd.read_csv(\"../../data/prep/Joined1213.csv\")\n",
    "J17_18 = pd.read_csv(\"../../data/prep/Joined1718.csv\")\n",
    "\n",
    "DF1 = J16_17[['Players','club','league','age','nationality','Position','overall','potential','Apps','Form','skill_moves','Players','Points','Clubs','Position','Start','Goals','A','CS','CS part','Yellow','Red','Sub','CO','Off','Pen SV','Pen M','Goals conceded','Conceded 1+','OG']]\n",
    "DF2 = J15_16[['Players','club','league','age','nationality','Position','overall','potential','Apps','Form','skill_moves','Players','Points','Clubs','Position','Start','Goals','A','CS','CS part','Yellow','Red','Sub','CO','Off','Pen SV','Pen M','Goals conceded','Conceded 1+','OG']]\n",
    "DF3 = J14_15[['Players','club','league','age','nationality','Position','overall','potential','Apps','Form','skill_moves','Players','Points','Clubs','Position','Start','Goals','A','CS','CS part','Yellow','Red','Sub','CO','Off','Pen SV','Pen M','Goals conceded','Conceded 1+','OG']]\n",
    "DF4 = J13_14[['Players','club','league','age','nationality','Position','overall','potential','Apps','Form','skill_moves','Players','Points','Clubs','Position','Start','Goals','A','CS','CS part','Yellow','Red','Sub','CO','Off','Pen SV','Pen M','Goals conceded','Conceded 1+','OG']]\n",
    "DF5 = J12_13[['Players','club','league','age','nationality','Position','overall','potential','Apps','Form','skill_moves','Players','Points','Clubs','Position','Start','Goals','A','CS','CS part','Yellow','Red','Sub','CO','Off','Pen SV','Pen M','Goals conceded','Conceded 1+','OG']]\n",
    "DF6 = J17_18[['Players','club','league','age','nationality','Position','overall','potential','Apps','Form','skill_moves','Players','Points','Clubs','Position','Start','Goals','A','CS','CS part','Yellow','Red','Sub','CO','Off','Pen SV','Pen M','Goals conceded','Conceded 1+','OG']]\n",
    "\n",
    "s1 = J16_17[['Players','club','league','age','nationality','Position','overall','potential','Points','Apps','photo']]\n",
    "s2 = J15_16[['Players','club','league','age','nationality','Position','overall','potential','Points','Apps','photo']]\n",
    "s3 = J14_15[['Players','club','league','age','nationality','Position','overall','potential','Points','Apps','photo']]\n",
    "s4 = J13_14[['Players','club','league','age','nationality','Position','overall','potential','Points','Apps','photo']]\n",
    "s5 = J12_13[['Players','club','league','age','nationality','Position','overall','potential','Points','Apps','photo']]\n",
    "s6 = J17_18[['Players','club','league','age','nationality','Position','overall','potential','Points','Apps','photo']]\n",
    "\n",
    "s1 = s1.drop_duplicates(['Players','club','league','age','nationality','Position','overall','potential','photo']).set_index(['Players','club','league','age','nationality','Position','overall','potential','photo'])[['Points','Apps']]\n",
    "s2 = s2.drop_duplicates(['Players','club','league','age','nationality','Position','overall','potential','photo']).set_index(['Players','club','league','age','nationality','Position','overall','potential','photo'])[['Points','Apps']]\n",
    "s3 = s3.drop_duplicates(['Players','club','league','age','nationality','Position','overall','potential','photo']).set_index(['Players','club','league','age','nationality','Position','overall','potential','photo'])[['Points','Apps']]\n",
    "s4 = s4.drop_duplicates(['Players','club','league','age','nationality','Position','overall','potential','photo']).set_index(['Players','club','league','age','nationality','Position','overall','potential','photo'])[['Points','Apps']]\n",
    "s5 = s5.drop_duplicates(['Players','club','league','age','nationality','Position','overall','potential','photo']).set_index(['Players','club','league','age','nationality','Position','overall','potential','photo'])[['Points','Apps']]\n",
    "s6 = s6.drop_duplicates(['Players','club','league','age','nationality','Position','overall','potential','photo']).set_index(['Players','club','league','age','nationality','Position','overall','potential','photo'])[['Points','Apps']]\n",
    "joined = pd.concat([s1,s2,s3,s4,s5,s6], axis=1, keys=('16/17','15/16','14/15','13/14','12/13','17/18')).fillna(0).astype(float).reset_index()"
   ]
  },
  {
   "cell_type": "code",
   "execution_count": 60,
   "metadata": {},
   "outputs": [],
   "source": [
    "Europe = 'Portugal|Germany|Belgium|Poland|Spain| Belgium|Croatia|Wales|Italy|Slovenia|France|Sweden|Netherlands|Denmark|Slovakia|England|Austria|Czech Republic|Bosnia Herzegovina|Greece|Serbia|Montenegro|Switzerland|Turkey|Norway|Finland|Republic of Ireland|Romania|Northern Ireland|Albania|Ukraine|Scotland|Hungary|Moldova|Macedonia|Israel|Georgia|Liechtenstein|Kosovo|Bulgaria|Iceland|Belarus|Luxembourg|Cyprus|Lithuania'\n",
    "Africa = ('Gabon|Ivory Coast|Senegal|Guinea|Egypt|Algeria|Cameroon|Kenya|Congo|Morocco|Mauritania|Sierra Leone|Zimbabwe|African|Eritrea|Madagascar|Uganda|Comoros|Ghana|Burkina Faso|Libya|Nigeria|Mali|Tunisia|Angola|Mozambique|Benin|Togo|Congo|Gambia|South Africa|Zambia|Guinea Bissau')\n",
    "North_America = ('Costa R|United States|Bermuda|Honduras|Canada|Mexico|Montserrat|St Lucia|Dominican Republic|Cuba|Haiti')\n",
    "South_America = ('Argentina|Trinidad & Tobago|Bolivia|Brazil|Chile|Colombia|Ecuador|Guyana|Paraguay|Peru|Suriname|Uruguay|Venezuela')\n",
    "Asia = ('Afghanistan|Armenia|Azerbaijan|Korea|Bahrain|Bangladesh|Bhutan|Brunei|Cambodia|China|Cyprus|Georgia|India|Indonesia|Iran|Iraq|Israel|Japan|Jordan|Kazakhstan|Kuwait|Kyrgyzstan|Laos|Lebanon|Malaysia|Maldives|Mongolia|Myanmar|Nepal|North Korea|Oman|Pakistan|Palestine|Philippines|Qatar|Russia|Saudi|Arabia|Singapore|South Korea|Sri Lanka|Syria|Taiwan|Tajikistan|Thailand|Timor-Leste|Turkey|Turkmenistan|United Arab Emirates|Uzbekistan|Vietnam|Yemen')\n",
    "Australia_Oceania = ('Australia|Fiji|Kiribati|Marshall Islands|Micronesia|Nauru|New Zealand|Palau|Curacao|Caledonia|Cape Verde|Papua New Guinea|Samoa|Jamaica|Solomon Islands|Tonga|Tuvalu|Vanuatu')"
   ]
  },
  {
   "cell_type": "code",
   "execution_count": 61,
   "metadata": {},
   "outputs": [],
   "source": [
    "joined.loc[joined['nationality'].str.contains(Europe), 'Continent'] = 'Europe'\n",
    "joined.loc[joined['nationality'].str.contains(Africa), 'Continent'] = 'Africa'\n",
    "joined.loc[joined['nationality'].str.contains(North_America), 'Continent'] = 'North America'\n",
    "joined.loc[joined['nationality'].str.contains(South_America), 'Continent'] = 'South America'\n",
    "joined.loc[joined['nationality'].str.contains(Asia), 'Continent'] = 'Asia'\n",
    "joined.loc[joined['nationality'].str.contains(Australia_Oceania), 'Continent'] = 'Australia / Oceania'"
   ]
  },
  {
   "cell_type": "code",
   "execution_count": 62,
   "metadata": {},
   "outputs": [],
   "source": [
    "joined['count1'] = 0\n",
    "joined.loc[joined['16/17']['Apps']>0.5, 'count1'] = 1\n",
    "joined['count2'] = 0\n",
    "joined.loc[joined['15/16']['Apps']>0.5, 'count2'] = 1\n",
    "joined['count3'] = 0\n",
    "joined.loc[joined['14/15']['Apps']>0.5, 'count3'] = 1\n",
    "joined['count4'] = 0\n",
    "joined.loc[joined['13/14']['Apps']>0.5, 'count4'] = 1\n",
    "joined['count5'] = 0\n",
    "joined.loc[joined['12/13']['Apps']>0.5, 'count5'] = 1\n",
    "\n",
    "joined['Seasons Played'] = joined['count1'] + joined['count2'] + joined['count3'] + joined['count4'] + joined['count5']\n",
    "\n",
    "joined = joined[joined['Seasons Played']>1]\n",
    "\n",
    "joined['Overall Points'] = joined['16/17']['Points']+joined['15/16']['Points']+joined['14/15']['Points']+joined['13/14']['Points']+joined['12/13']['Points']\n",
    "                                \n",
    "joined['Overall Apps'] = joined['16/17']['Apps']+joined['15/16']['Apps']+joined['14/15']['Apps']+joined['13/14']['Apps']+joined['12/13']['Apps']\n",
    "\n",
    "joined['Average Form'] = joined['Overall Points']/joined['Overall Apps']\n",
    "joined.drop(joined.columns[[9,10,11,12,13,14,15,16,17,18,19,20,22,23,24,25,26,27,28,29]], axis=1, inplace=True)\n",
    "joined = joined[np.isfinite(joined['Average Form'])]"
   ]
  },
  {
   "cell_type": "markdown",
   "metadata": {},
   "source": [
    "joined.drop(joined.columns[[8,9,10,11,12,13,14,15,16,17,18,19,20,22,23,24,25,26,27,28,29]], axis=1, inplace=True)"
   ]
  },
  {
   "cell_type": "code",
   "execution_count": 63,
   "metadata": {},
   "outputs": [
    {
     "data": {
      "text/plain": [
       "[('Players', ''),\n",
       " ('club', ''),\n",
       " ('league', ''),\n",
       " ('age', ''),\n",
       " ('nationality', ''),\n",
       " ('Position', ''),\n",
       " ('overall', ''),\n",
       " ('potential', ''),\n",
       " ('photo', ''),\n",
       " ('Continent', ''),\n",
       " ('Average Form', '')]"
      ]
     },
     "execution_count": 63,
     "metadata": {},
     "output_type": "execute_result"
    }
   ],
   "source": [
    "list(joined)"
   ]
  },
  {
   "cell_type": "code",
   "execution_count": 64,
   "metadata": {},
   "outputs": [
    {
     "data": {
      "text/html": [
       "<div>\n",
       "<style>\n",
       "    .dataframe thead tr:only-child th {\n",
       "        text-align: right;\n",
       "    }\n",
       "\n",
       "    .dataframe thead th {\n",
       "        text-align: left;\n",
       "    }\n",
       "\n",
       "    .dataframe tbody tr th {\n",
       "        vertical-align: top;\n",
       "    }\n",
       "</style>\n",
       "<table border=\"1\" class=\"dataframe\">\n",
       "  <thead>\n",
       "    <tr>\n",
       "      <th></th>\n",
       "      <th>Players</th>\n",
       "      <th>club</th>\n",
       "      <th>league</th>\n",
       "      <th>age</th>\n",
       "      <th>nationality</th>\n",
       "      <th>Position</th>\n",
       "      <th>overall</th>\n",
       "      <th>potential</th>\n",
       "      <th>photo</th>\n",
       "      <th>Continent</th>\n",
       "      <th>Average Form</th>\n",
       "    </tr>\n",
       "    <tr>\n",
       "      <th></th>\n",
       "      <th></th>\n",
       "      <th></th>\n",
       "      <th></th>\n",
       "      <th></th>\n",
       "      <th></th>\n",
       "      <th></th>\n",
       "      <th></th>\n",
       "      <th></th>\n",
       "      <th></th>\n",
       "      <th></th>\n",
       "      <th></th>\n",
       "    </tr>\n",
       "  </thead>\n",
       "  <tbody>\n",
       "    <tr>\n",
       "      <th>0</th>\n",
       "      <td>Aaron Cresswell</td>\n",
       "      <td>West Ham United</td>\n",
       "      <td>English Premier League</td>\n",
       "      <td>27</td>\n",
       "      <td>England</td>\n",
       "      <td>Defender</td>\n",
       "      <td>76</td>\n",
       "      <td>77</td>\n",
       "      <td>https://cdn.sofifa.org/18/players/189615.png</td>\n",
       "      <td>Europe</td>\n",
       "      <td>2.821782</td>\n",
       "    </tr>\n",
       "    <tr>\n",
       "      <th>1</th>\n",
       "      <td>Aaron Hughes</td>\n",
       "      <td>Heart of Midlothian</td>\n",
       "      <td>Scottish Premiership</td>\n",
       "      <td>37</td>\n",
       "      <td>Northern Ireland</td>\n",
       "      <td>Defender</td>\n",
       "      <td>71</td>\n",
       "      <td>71</td>\n",
       "      <td>https://cdn.sofifa.org/18/players/17725.png</td>\n",
       "      <td>Europe</td>\n",
       "      <td>1.216216</td>\n",
       "    </tr>\n",
       "    <tr>\n",
       "      <th>2</th>\n",
       "      <td>Aaron Hunt</td>\n",
       "      <td>Hamburger SV</td>\n",
       "      <td>German Bundesliga</td>\n",
       "      <td>30</td>\n",
       "      <td>Germany</td>\n",
       "      <td>Midfielder</td>\n",
       "      <td>76</td>\n",
       "      <td>76</td>\n",
       "      <td>https://cdn.sofifa.org/18/players/158138.png</td>\n",
       "      <td>Europe</td>\n",
       "      <td>3.050847</td>\n",
       "    </tr>\n",
       "    <tr>\n",
       "      <th>3</th>\n",
       "      <td>Aaron Lennon</td>\n",
       "      <td>Everton</td>\n",
       "      <td>English Premier League</td>\n",
       "      <td>30</td>\n",
       "      <td>England</td>\n",
       "      <td>Midfielder</td>\n",
       "      <td>77</td>\n",
       "      <td>77</td>\n",
       "      <td>https://cdn.sofifa.org/18/players/152747.png</td>\n",
       "      <td>Europe</td>\n",
       "      <td>2.633333</td>\n",
       "    </tr>\n",
       "    <tr>\n",
       "      <th>6</th>\n",
       "      <td>Aaron Niguez</td>\n",
       "      <td>Real Oviedo</td>\n",
       "      <td>Spanish Segunda Division</td>\n",
       "      <td>28</td>\n",
       "      <td>Spain</td>\n",
       "      <td>Midfielder</td>\n",
       "      <td>73</td>\n",
       "      <td>73</td>\n",
       "      <td>https://cdn.sofifa.org/18/players/183853.png</td>\n",
       "      <td>Europe</td>\n",
       "      <td>1.511628</td>\n",
       "    </tr>\n",
       "  </tbody>\n",
       "</table>\n",
       "</div>"
      ],
      "text/plain": [
       "           Players                 club                    league age  \\\n",
       "                                                                        \n",
       "0  Aaron Cresswell      West Ham United    English Premier League  27   \n",
       "1     Aaron Hughes  Heart of Midlothian      Scottish Premiership  37   \n",
       "2       Aaron Hunt         Hamburger SV         German Bundesliga  30   \n",
       "3     Aaron Lennon              Everton    English Premier League  30   \n",
       "6     Aaron Niguez          Real Oviedo  Spanish Segunda Division  28   \n",
       "\n",
       "        nationality    Position overall potential  \\\n",
       "                                                    \n",
       "0           England    Defender      76        77   \n",
       "1  Northern Ireland    Defender      71        71   \n",
       "2           Germany  Midfielder      76        76   \n",
       "3           England  Midfielder      77        77   \n",
       "6             Spain  Midfielder      73        73   \n",
       "\n",
       "                                          photo Continent Average Form  \n",
       "                                                                        \n",
       "0  https://cdn.sofifa.org/18/players/189615.png    Europe     2.821782  \n",
       "1   https://cdn.sofifa.org/18/players/17725.png    Europe     1.216216  \n",
       "2  https://cdn.sofifa.org/18/players/158138.png    Europe     3.050847  \n",
       "3  https://cdn.sofifa.org/18/players/152747.png    Europe     2.633333  \n",
       "6  https://cdn.sofifa.org/18/players/183853.png    Europe     1.511628  "
      ]
     },
     "execution_count": 64,
     "metadata": {},
     "output_type": "execute_result"
    }
   ],
   "source": [
    "joined.head(5)"
   ]
  },
  {
   "cell_type": "code",
   "execution_count": 65,
   "metadata": {},
   "outputs": [],
   "source": [
    "joined.to_csv('../../data/analysis/RQ4.csv')"
   ]
  },
  {
   "cell_type": "code",
   "execution_count": null,
   "metadata": {},
   "outputs": [],
   "source": []
  }
 ],
 "metadata": {
  "kernelspec": {
   "display_name": "Python 3",
   "language": "python",
   "name": "python3"
  },
  "language_info": {
   "codemirror_mode": {
    "name": "ipython",
    "version": 3
   },
   "file_extension": ".py",
   "mimetype": "text/x-python",
   "name": "python",
   "nbconvert_exporter": "python",
   "pygments_lexer": "ipython3",
   "version": "3.6.3"
  }
 },
 "nbformat": 4,
 "nbformat_minor": 2
}
