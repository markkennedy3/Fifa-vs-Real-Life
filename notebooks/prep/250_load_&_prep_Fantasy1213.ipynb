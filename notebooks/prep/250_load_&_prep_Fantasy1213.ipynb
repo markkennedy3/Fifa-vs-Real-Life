{
 "cells": [
  {
   "cell_type": "markdown",
   "metadata": {},
   "source": [
    "# 250_____load_____&_prep_Fantasy1213  \n",
    "## Purpose \n",
    "In this notebook we read in our Fantasty dataset and perform any necessary cleaning.  \n",
    "## Datasets \n",
    "* _Input_: N/A\n",
    "* _Output_: SEA1213.csv"
   ]
  },
  {
   "cell_type": "code",
   "execution_count": 2,
   "metadata": {
    "collapsed": true
   },
   "outputs": [],
   "source": [
    "import os.path\n",
    "import numpy as np\n",
    "import pandas as pd"
   ]
  },
  {
   "cell_type": "markdown",
   "metadata": {},
   "source": [
    "### Reading in all player information from the Top 5 Leagues from statsbunker.com\n",
    "* Each league has its own unqique ID used when reading the table.  \n",
    "* Using pd.read_html these tables can be read in with ease."
   ]
  },
  {
   "cell_type": "code",
   "execution_count": 3,
   "metadata": {
    "collapsed": true
   },
   "outputs": [],
   "source": [
    "BPL1213 = pd.read_html(\"https://www.statbunker.com/competitions/FantasyFootballPlayersStats?comp_id=415\")[0]\n",
    "BUN1213 = pd.read_html(\"https://www.statbunker.com/competitions/FantasyFootballPlayersStats?comp_id=416\")[0]\n",
    "LAL1213 = pd.read_html(\"https://www.statbunker.com/competitions/FantasyFootballPlayersStats?comp_id=413\")[0]\n",
    "SEI1213 = pd.read_html(\"https://www.statbunker.com/competitions/FantasyFootballPlayersStats?comp_id=414\")[0]\n",
    "FRA1213 = pd.read_html(\"https://www.statbunker.com/competitions/FantasyFootballPlayersStats?comp_id=412\")[0]"
   ]
  },
  {
   "cell_type": "markdown",
   "metadata": {},
   "source": [
    "### Using pd.concat to merge each league together.  \n",
    "* Resetting index.  \n",
    "* Drop old index and column 'More' which contains no information."
   ]
  },
  {
   "cell_type": "code",
   "execution_count": 4,
   "metadata": {
    "collapsed": true
   },
   "outputs": [],
   "source": [
    "SEA1213 = [BPL1213,BUN1213,LAL1213,SEI1213,FRA1213]\n",
    "SEA1213 = pd.concat(SEA1213)\n",
    "SEA1213 = SEA1213.reset_index()\n",
    "SEA1213.drop(SEA1213.columns[[0,20]], axis=1, inplace=True)"
   ]
  },
  {
   "cell_type": "code",
   "execution_count": 5,
   "metadata": {},
   "outputs": [
    {
     "data": {
      "text/html": [
       "<div>\n",
       "<style>\n",
       "    .dataframe thead tr:only-child th {\n",
       "        text-align: right;\n",
       "    }\n",
       "\n",
       "    .dataframe thead th {\n",
       "        text-align: left;\n",
       "    }\n",
       "\n",
       "    .dataframe tbody tr th {\n",
       "        vertical-align: top;\n",
       "    }\n",
       "</style>\n",
       "<table border=\"1\" class=\"dataframe\">\n",
       "  <thead>\n",
       "    <tr style=\"text-align: right;\">\n",
       "      <th></th>\n",
       "      <th>Players</th>\n",
       "      <th>Points</th>\n",
       "      <th>Clubs</th>\n",
       "      <th>Position</th>\n",
       "      <th>Start</th>\n",
       "      <th>Goals</th>\n",
       "      <th>A</th>\n",
       "      <th>CS</th>\n",
       "      <th>CS part</th>\n",
       "      <th>Yellow</th>\n",
       "      <th>Red</th>\n",
       "      <th>Sub</th>\n",
       "      <th>CO</th>\n",
       "      <th>Off</th>\n",
       "      <th>Pen SV</th>\n",
       "      <th>Pen M</th>\n",
       "      <th>Goals conceded</th>\n",
       "      <th>Conceded 1+</th>\n",
       "      <th>OG</th>\n",
       "    </tr>\n",
       "  </thead>\n",
       "  <tbody>\n",
       "    <tr>\n",
       "      <th>0</th>\n",
       "      <td>Robin van Persie</td>\n",
       "      <td>225</td>\n",
       "      <td>MUFC</td>\n",
       "      <td>Forward</td>\n",
       "      <td>35</td>\n",
       "      <td>26</td>\n",
       "      <td>10</td>\n",
       "      <td>-</td>\n",
       "      <td>-</td>\n",
       "      <td>6</td>\n",
       "      <td>0</td>\n",
       "      <td>3</td>\n",
       "      <td>3</td>\n",
       "      <td>4</td>\n",
       "      <td>-</td>\n",
       "      <td>1</td>\n",
       "      <td>-</td>\n",
       "      <td>-</td>\n",
       "      <td>0</td>\n",
       "    </tr>\n",
       "    <tr>\n",
       "      <th>1</th>\n",
       "      <td>Luis Suarez</td>\n",
       "      <td>186</td>\n",
       "      <td>LPOOL</td>\n",
       "      <td>Forward</td>\n",
       "      <td>33</td>\n",
       "      <td>23</td>\n",
       "      <td>5</td>\n",
       "      <td>-</td>\n",
       "      <td>-</td>\n",
       "      <td>10</td>\n",
       "      <td>0</td>\n",
       "      <td>0</td>\n",
       "      <td>0</td>\n",
       "      <td>2</td>\n",
       "      <td>-</td>\n",
       "      <td>0</td>\n",
       "      <td>-</td>\n",
       "      <td>-</td>\n",
       "      <td>0</td>\n",
       "    </tr>\n",
       "    <tr>\n",
       "      <th>2</th>\n",
       "      <td>Gareth Bale</td>\n",
       "      <td>180</td>\n",
       "      <td>SPURS</td>\n",
       "      <td>Midfielder</td>\n",
       "      <td>33</td>\n",
       "      <td>21</td>\n",
       "      <td>6</td>\n",
       "      <td>-</td>\n",
       "      <td>-</td>\n",
       "      <td>6</td>\n",
       "      <td>0</td>\n",
       "      <td>0</td>\n",
       "      <td>0</td>\n",
       "      <td>4</td>\n",
       "      <td>-</td>\n",
       "      <td>0</td>\n",
       "      <td>-</td>\n",
       "      <td>-</td>\n",
       "      <td>1</td>\n",
       "    </tr>\n",
       "    <tr>\n",
       "      <th>3</th>\n",
       "      <td>Christian Benteke</td>\n",
       "      <td>165</td>\n",
       "      <td>AVILLA</td>\n",
       "      <td>Forward</td>\n",
       "      <td>32</td>\n",
       "      <td>19</td>\n",
       "      <td>4</td>\n",
       "      <td>-</td>\n",
       "      <td>-</td>\n",
       "      <td>8</td>\n",
       "      <td>0</td>\n",
       "      <td>2</td>\n",
       "      <td>2</td>\n",
       "      <td>4</td>\n",
       "      <td>-</td>\n",
       "      <td>0</td>\n",
       "      <td>-</td>\n",
       "      <td>-</td>\n",
       "      <td>0</td>\n",
       "    </tr>\n",
       "    <tr>\n",
       "      <th>4</th>\n",
       "      <td>Santi Cazorla</td>\n",
       "      <td>164</td>\n",
       "      <td>ARSL</td>\n",
       "      <td>Midfielder</td>\n",
       "      <td>37</td>\n",
       "      <td>12</td>\n",
       "      <td>10</td>\n",
       "      <td>-</td>\n",
       "      <td>-</td>\n",
       "      <td>1</td>\n",
       "      <td>0</td>\n",
       "      <td>1</td>\n",
       "      <td>1</td>\n",
       "      <td>11</td>\n",
       "      <td>-</td>\n",
       "      <td>0</td>\n",
       "      <td>-</td>\n",
       "      <td>-</td>\n",
       "      <td>0</td>\n",
       "    </tr>\n",
       "  </tbody>\n",
       "</table>\n",
       "</div>"
      ],
      "text/plain": [
       "             Players  Points   Clubs    Position  Start  Goals   A CS CS part  \\\n",
       "0   Robin van Persie     225    MUFC     Forward     35     26  10  -       -   \n",
       "1        Luis Suarez     186   LPOOL     Forward     33     23   5  -       -   \n",
       "2        Gareth Bale     180   SPURS  Midfielder     33     21   6  -       -   \n",
       "3  Christian Benteke     165  AVILLA     Forward     32     19   4  -       -   \n",
       "4      Santi Cazorla     164    ARSL  Midfielder     37     12  10  -       -   \n",
       "\n",
       "   Yellow  Red  Sub  CO  Off Pen SV  Pen M Goals conceded Conceded 1+  OG  \n",
       "0       6    0    3   3    4      -      1              -           -   0  \n",
       "1      10    0    0   0    2      -      0              -           -   0  \n",
       "2       6    0    0   0    4      -      0              -           -   1  \n",
       "3       8    0    2   2    4      -      0              -           -   0  \n",
       "4       1    0    1   1   11      -      0              -           -   0  "
      ]
     },
     "execution_count": 5,
     "metadata": {},
     "output_type": "execute_result"
    }
   ],
   "source": [
    "SEA1213.head(5)"
   ]
  },
  {
   "cell_type": "markdown",
   "metadata": {},
   "source": [
    "### Creating new columns Apps and Form\n",
    "* Apps is the total number of appearances a player makes (Starts plus being subbed on)\n",
    "* Form is the total number of points divided by the number of appearances.\n",
    "* All null values in Form filled in as 0"
   ]
  },
  {
   "cell_type": "code",
   "execution_count": 6,
   "metadata": {
    "collapsed": true
   },
   "outputs": [],
   "source": [
    "SEA1213['Apps'] = SEA1213['Start'] + SEA1213['CO']\n",
    "SEA1213['Form'] = SEA1213['Points']/SEA1213['Apps']\n",
    "SEA1213.loc[SEA1213['Form'].isnull(),'Form'] = 0"
   ]
  },
  {
   "cell_type": "code",
   "execution_count": 7,
   "metadata": {},
   "outputs": [
    {
     "data": {
      "text/plain": [
       "0"
      ]
     },
     "execution_count": 7,
     "metadata": {},
     "output_type": "execute_result"
    }
   ],
   "source": [
    "SEA1213.Form.isnull().sum()"
   ]
  },
  {
   "cell_type": "markdown",
   "metadata": {},
   "source": [
    "### Replacing all Hyphen values with 0\n",
    "* In this dataset hyphen represented no data so these were replaced with 0"
   ]
  },
  {
   "cell_type": "code",
   "execution_count": 8,
   "metadata": {
    "collapsed": true
   },
   "outputs": [],
   "source": [
    "DashColumns = ['Goals','A','CS','CS part','Yellow','Red','Sub','CO','Off','Pen SV','Pen M','Goals conceded','Conceded 1+','OG',]\n",
    "SEA1213[DashColumns] = SEA1213[DashColumns].replace('-' ,'0')"
   ]
  },
  {
   "cell_type": "markdown",
   "metadata": {},
   "source": [
    "### Checking dataframe data types\n",
    "* Changed the columns CS, CS part, Pen SV, Goals conceded and Conceded 1+ from type object to int"
   ]
  },
  {
   "cell_type": "code",
   "execution_count": 9,
   "metadata": {},
   "outputs": [
    {
     "name": "stdout",
     "output_type": "stream",
     "text": [
      "<class 'pandas.core.frame.DataFrame'>\n",
      "RangeIndex: 3096 entries, 0 to 3095\n",
      "Data columns (total 21 columns):\n",
      "Players           3096 non-null object\n",
      "Points            3096 non-null int64\n",
      "Clubs             2408 non-null object\n",
      "Position          3096 non-null object\n",
      "Start             3096 non-null int64\n",
      "Goals             3096 non-null int64\n",
      "A                 3096 non-null int64\n",
      "CS                3096 non-null object\n",
      "CS part           3096 non-null object\n",
      "Yellow            3096 non-null int64\n",
      "Red               3096 non-null int64\n",
      "Sub               3096 non-null int64\n",
      "CO                3096 non-null int64\n",
      "Off               3096 non-null int64\n",
      "Pen SV            3096 non-null object\n",
      "Pen M             3096 non-null int64\n",
      "Goals conceded    3096 non-null object\n",
      "Conceded 1+       3096 non-null object\n",
      "OG                3096 non-null int64\n",
      "Apps              3096 non-null int64\n",
      "Form              3096 non-null float64\n",
      "dtypes: float64(1), int64(12), object(8)\n",
      "memory usage: 508.0+ KB\n"
     ]
    }
   ],
   "source": [
    "SEA1213.info()"
   ]
  },
  {
   "cell_type": "code",
   "execution_count": 10,
   "metadata": {
    "collapsed": true
   },
   "outputs": [],
   "source": [
    "SEA1213['CS'] = SEA1213['CS'].str.replace('%','').astype(np.int)\n",
    "SEA1213['CS part'] = SEA1213['CS part'].str.replace('%','').astype(np.int)\n",
    "SEA1213['Pen SV'] = SEA1213['Pen SV'].str.replace('%','').astype(np.int)\n",
    "SEA1213['Goals conceded'] = SEA1213['Goals conceded'].str.replace('%','').astype(np.int)\n",
    "SEA1213['Conceded 1+'] = SEA1213['Conceded 1+'].str.replace('%','').astype(np.int)"
   ]
  },
  {
   "cell_type": "markdown",
   "metadata": {},
   "source": [
    "#### Spliting player names into First Initial and Surname.\n",
    "Repeating process from FIFA18 notebook in preperation for joining.  \n",
    "Each case deals with players with single, normal double and triple barrel names.  \n",
    "EG: Wayne Rooney is now W.Rooney"
   ]
  },
  {
   "cell_type": "code",
   "execution_count": 11,
   "metadata": {
    "collapsed": true
   },
   "outputs": [],
   "source": [
    "SEA1213.loc[SEA1213['Players'].str.split().str.len() == 1, 'FirstInitial'] = SEA1213['Players'].astype(str).str[0]\n",
    "SEA1213.loc[SEA1213['Players'].str.split().str.len() == 1, 'Firstname'] = SEA1213['Players'].str.split().str[0]\n",
    "SEA1213.loc[SEA1213['Players'].str.split().str.len() == 1, 'Surname'] = SEA1213['Players'].str.split().str[0]\n",
    "\n",
    "SEA1213.loc[SEA1213['Players'].str.split().str.len() == 2, 'FirstInitial'] = SEA1213['Players'].astype(str).str[0]\n",
    "SEA1213.loc[SEA1213['Players'].str.split().str.len() == 2, 'Firstname'] = SEA1213['Players'].str.split().str[0]\n",
    "SEA1213.loc[SEA1213['Players'].str.split().str.len() == 2, 'Surname'] = SEA1213['Players'].str.split().str[-1]\n",
    "\n",
    "SEA1213.loc[SEA1213['Players'].str.split().str.len() == 3, 'FirstInitial'] = SEA1213['Players'].astype(str).str[0]\n",
    "SEA1213.loc[SEA1213['Players'].str.split().str.len() == 3, 'Firstname'] = SEA1213['Players'].str.split().str[0]\n",
    "SEA1213.loc[SEA1213['Players'].str.split().str.len() == 3, 'Surname'] = SEA1213['Players'].str.split().str[-1]\n",
    "\n",
    "SEA1213.loc[SEA1213['Players'].str.split().str.len() == 4, 'FirstInitial'] = SEA1213['Players'].astype(str).str[0]\n",
    "SEA1213.loc[SEA1213['Players'].str.split().str.len() == 4, 'Firstname'] = SEA1213['Players'].str.split().str[0]\n",
    "SEA1213.loc[SEA1213['Players'].str.split().str.len() == 4, 'Surname'] = SEA1213['Players'].str.split().str[-1]"
   ]
  },
  {
   "cell_type": "markdown",
   "metadata": {},
   "source": [
    "### Cleaned dataframe now finished"
   ]
  },
  {
   "cell_type": "code",
   "execution_count": 12,
   "metadata": {},
   "outputs": [
    {
     "data": {
      "text/html": [
       "<div>\n",
       "<style>\n",
       "    .dataframe thead tr:only-child th {\n",
       "        text-align: right;\n",
       "    }\n",
       "\n",
       "    .dataframe thead th {\n",
       "        text-align: left;\n",
       "    }\n",
       "\n",
       "    .dataframe tbody tr th {\n",
       "        vertical-align: top;\n",
       "    }\n",
       "</style>\n",
       "<table border=\"1\" class=\"dataframe\">\n",
       "  <thead>\n",
       "    <tr style=\"text-align: right;\">\n",
       "      <th></th>\n",
       "      <th>Players</th>\n",
       "      <th>Points</th>\n",
       "      <th>Clubs</th>\n",
       "      <th>Position</th>\n",
       "      <th>Start</th>\n",
       "      <th>Goals</th>\n",
       "      <th>A</th>\n",
       "      <th>CS</th>\n",
       "      <th>CS part</th>\n",
       "      <th>Yellow</th>\n",
       "      <th>...</th>\n",
       "      <th>Pen SV</th>\n",
       "      <th>Pen M</th>\n",
       "      <th>Goals conceded</th>\n",
       "      <th>Conceded 1+</th>\n",
       "      <th>OG</th>\n",
       "      <th>Apps</th>\n",
       "      <th>Form</th>\n",
       "      <th>FirstInitial</th>\n",
       "      <th>Firstname</th>\n",
       "      <th>Surname</th>\n",
       "    </tr>\n",
       "  </thead>\n",
       "  <tbody>\n",
       "    <tr>\n",
       "      <th>0</th>\n",
       "      <td>Robin van Persie</td>\n",
       "      <td>225</td>\n",
       "      <td>MUFC</td>\n",
       "      <td>Forward</td>\n",
       "      <td>35</td>\n",
       "      <td>26</td>\n",
       "      <td>10</td>\n",
       "      <td>0</td>\n",
       "      <td>0</td>\n",
       "      <td>6</td>\n",
       "      <td>...</td>\n",
       "      <td>0</td>\n",
       "      <td>1</td>\n",
       "      <td>0</td>\n",
       "      <td>0</td>\n",
       "      <td>0</td>\n",
       "      <td>38</td>\n",
       "      <td>5.921053</td>\n",
       "      <td>R</td>\n",
       "      <td>Robin</td>\n",
       "      <td>Persie</td>\n",
       "    </tr>\n",
       "    <tr>\n",
       "      <th>1</th>\n",
       "      <td>Luis Suarez</td>\n",
       "      <td>186</td>\n",
       "      <td>LPOOL</td>\n",
       "      <td>Forward</td>\n",
       "      <td>33</td>\n",
       "      <td>23</td>\n",
       "      <td>5</td>\n",
       "      <td>0</td>\n",
       "      <td>0</td>\n",
       "      <td>10</td>\n",
       "      <td>...</td>\n",
       "      <td>0</td>\n",
       "      <td>0</td>\n",
       "      <td>0</td>\n",
       "      <td>0</td>\n",
       "      <td>0</td>\n",
       "      <td>33</td>\n",
       "      <td>5.636364</td>\n",
       "      <td>L</td>\n",
       "      <td>Luis</td>\n",
       "      <td>Suarez</td>\n",
       "    </tr>\n",
       "    <tr>\n",
       "      <th>2</th>\n",
       "      <td>Gareth Bale</td>\n",
       "      <td>180</td>\n",
       "      <td>SPURS</td>\n",
       "      <td>Midfielder</td>\n",
       "      <td>33</td>\n",
       "      <td>21</td>\n",
       "      <td>6</td>\n",
       "      <td>0</td>\n",
       "      <td>0</td>\n",
       "      <td>6</td>\n",
       "      <td>...</td>\n",
       "      <td>0</td>\n",
       "      <td>0</td>\n",
       "      <td>0</td>\n",
       "      <td>0</td>\n",
       "      <td>1</td>\n",
       "      <td>33</td>\n",
       "      <td>5.454545</td>\n",
       "      <td>G</td>\n",
       "      <td>Gareth</td>\n",
       "      <td>Bale</td>\n",
       "    </tr>\n",
       "    <tr>\n",
       "      <th>3</th>\n",
       "      <td>Christian Benteke</td>\n",
       "      <td>165</td>\n",
       "      <td>AVILLA</td>\n",
       "      <td>Forward</td>\n",
       "      <td>32</td>\n",
       "      <td>19</td>\n",
       "      <td>4</td>\n",
       "      <td>0</td>\n",
       "      <td>0</td>\n",
       "      <td>8</td>\n",
       "      <td>...</td>\n",
       "      <td>0</td>\n",
       "      <td>0</td>\n",
       "      <td>0</td>\n",
       "      <td>0</td>\n",
       "      <td>0</td>\n",
       "      <td>34</td>\n",
       "      <td>4.852941</td>\n",
       "      <td>C</td>\n",
       "      <td>Christian</td>\n",
       "      <td>Benteke</td>\n",
       "    </tr>\n",
       "    <tr>\n",
       "      <th>4</th>\n",
       "      <td>Santi Cazorla</td>\n",
       "      <td>164</td>\n",
       "      <td>ARSL</td>\n",
       "      <td>Midfielder</td>\n",
       "      <td>37</td>\n",
       "      <td>12</td>\n",
       "      <td>10</td>\n",
       "      <td>0</td>\n",
       "      <td>0</td>\n",
       "      <td>1</td>\n",
       "      <td>...</td>\n",
       "      <td>0</td>\n",
       "      <td>0</td>\n",
       "      <td>0</td>\n",
       "      <td>0</td>\n",
       "      <td>0</td>\n",
       "      <td>38</td>\n",
       "      <td>4.315789</td>\n",
       "      <td>S</td>\n",
       "      <td>Santi</td>\n",
       "      <td>Cazorla</td>\n",
       "    </tr>\n",
       "  </tbody>\n",
       "</table>\n",
       "<p>5 rows × 24 columns</p>\n",
       "</div>"
      ],
      "text/plain": [
       "             Players  Points   Clubs    Position  Start  Goals   A  CS  \\\n",
       "0   Robin van Persie     225    MUFC     Forward     35     26  10   0   \n",
       "1        Luis Suarez     186   LPOOL     Forward     33     23   5   0   \n",
       "2        Gareth Bale     180   SPURS  Midfielder     33     21   6   0   \n",
       "3  Christian Benteke     165  AVILLA     Forward     32     19   4   0   \n",
       "4      Santi Cazorla     164    ARSL  Midfielder     37     12  10   0   \n",
       "\n",
       "   CS part  Yellow   ...     Pen SV  Pen M  Goals conceded  Conceded 1+  OG  \\\n",
       "0        0       6   ...          0      1               0            0   0   \n",
       "1        0      10   ...          0      0               0            0   0   \n",
       "2        0       6   ...          0      0               0            0   1   \n",
       "3        0       8   ...          0      0               0            0   0   \n",
       "4        0       1   ...          0      0               0            0   0   \n",
       "\n",
       "   Apps      Form  FirstInitial  Firstname  Surname  \n",
       "0    38  5.921053             R      Robin   Persie  \n",
       "1    33  5.636364             L       Luis   Suarez  \n",
       "2    33  5.454545             G     Gareth     Bale  \n",
       "3    34  4.852941             C  Christian  Benteke  \n",
       "4    38  4.315789             S      Santi  Cazorla  \n",
       "\n",
       "[5 rows x 24 columns]"
      ]
     },
     "execution_count": 12,
     "metadata": {},
     "output_type": "execute_result"
    }
   ],
   "source": [
    "SEA1213.head(5)"
   ]
  },
  {
   "cell_type": "markdown",
   "metadata": {},
   "source": [
    "#### Saving to csv file in data/prep"
   ]
  },
  {
   "cell_type": "code",
   "execution_count": 13,
   "metadata": {
    "collapsed": true
   },
   "outputs": [],
   "source": [
    "SEA1213.to_csv('../../data/prep/Fantasy1213.csv')"
   ]
  },
  {
   "cell_type": "code",
   "execution_count": null,
   "metadata": {
    "collapsed": true
   },
   "outputs": [],
   "source": []
  }
 ],
 "metadata": {
  "kernelspec": {
   "display_name": "Python 3",
   "language": "python",
   "name": "python3"
  },
  "language_info": {
   "codemirror_mode": {
    "name": "ipython",
    "version": 3
   },
   "file_extension": ".py",
   "mimetype": "text/x-python",
   "name": "python",
   "nbconvert_exporter": "python",
   "pygments_lexer": "ipython3",
   "version": "3.6.3"
  }
 },
 "nbformat": 4,
 "nbformat_minor": 2
}
