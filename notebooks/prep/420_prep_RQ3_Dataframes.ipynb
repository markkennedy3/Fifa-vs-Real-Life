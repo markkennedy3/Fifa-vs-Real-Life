{
 "cells": [
  {
   "cell_type": "markdown",
   "metadata": {},
   "source": [
    "# 420_prep_RQ3_Dataframes\n",
    "## Purpose \n",
    "In this notebook we prepare a dataframe for our Research Question 3.  \n",
    "## Datasets \n",
    "* _Input_: Joined1617.csv,Joined1516.csv,Joined1415.csv,Joined1314.csv,Joined1213.csv\n",
    "* _Output_: RQ3.csv"
   ]
  },
  {
   "cell_type": "code",
   "execution_count": 1,
   "metadata": {
    "collapsed": true
   },
   "outputs": [],
   "source": [
    "import math\n",
    "import os.path\n",
    "import numpy as np\n",
    "import pandas as pd"
   ]
  },
  {
   "cell_type": "markdown",
   "metadata": {},
   "source": [
    "### Reading in our cleaned Joined datasets from 16-17 to 12-13."
   ]
  },
  {
   "cell_type": "code",
   "execution_count": 2,
   "metadata": {
    "collapsed": true
   },
   "outputs": [],
   "source": [
    "DF1 = pd.read_csv(\"../../data/prep/Joined1617.csv\")\n",
    "DF2 = pd.read_csv(\"../../data/prep/Joined1516.csv\")\n",
    "DF3 = pd.read_csv(\"../../data/prep/Joined1415.csv\")\n",
    "DF4 = pd.read_csv(\"../../data/prep/Joined1314.csv\")\n",
    "DF5 = pd.read_csv(\"../../data/prep/Joined1213.csv\")"
   ]
  },
  {
   "cell_type": "markdown",
   "metadata": {},
   "source": [
    "## Choosing which columns are needed for the Research Question\n",
    "* index refers to all columns that have a fixed figure in FIFA."
   ]
  },
  {
   "cell_type": "code",
   "execution_count": 3,
   "metadata": {
    "collapsed": true
   },
   "outputs": [],
   "source": [
    "index = ['Players','club','league','age','nationality','Position','overall',\n",
    " 'pac','sho','pas','dri','def','phy','international_reputation','skill_moves',\n",
    " 'weak_foot','work_rate_att','work_rate_def','preferred_foot','crossing','finishing',\n",
    " 'heading_accuracy','short_passing','volleys','dribbling','curve','free_kick_accuracy','long_passing',\n",
    " 'ball_control','acceleration','sprint_speed','agility','reactions','balance',\n",
    " 'shot_power','jumping','stamina','strength','long_shots','aggression','interceptions',\n",
    " 'positioning', 'vision', 'penalties', 'composure', 'marking', 'standing_tackle',\n",
    " 'sliding_tackle','gk_diving','gk_handling','gk_kicking','gk_positioning','gk_reflexes']"
   ]
  },
  {
   "cell_type": "markdown",
   "metadata": {},
   "source": [
    "### Concatting each years using index and relevant Fantasy info"
   ]
  },
  {
   "cell_type": "code",
   "execution_count": 4,
   "metadata": {
    "collapsed": true
   },
   "outputs": [],
   "source": [
    "s1 = DF1.drop_duplicates(index).set_index(index)[['Apps','Goals','A','CS','CS part','Yellow','Red']]\n",
    "s2 = DF2.drop_duplicates(index).set_index(index)[['Apps','Goals','A','CS','CS part','Yellow','Red']]\n",
    "s3 = DF3.drop_duplicates(index).set_index(index)[['Apps','Goals','A','CS','CS part','Yellow','Red']]\n",
    "s4 = DF4.drop_duplicates(index).set_index(index)[['Apps','Goals','A','CS','CS part','Yellow','Red']]\n",
    "s5 = DF5.drop_duplicates(index).set_index(index)[['Apps','Goals','A','CS','CS part','Yellow','Red']]\n",
    "\n",
    "RQ3 = pd.concat([s1,s2,s3,s4,s5], axis=1, keys=('16/17','15/16','14/15','13/14','12/13')).fillna(0).astype(float).reset_index()"
   ]
  },
  {
   "cell_type": "markdown",
   "metadata": {},
   "source": [
    "## Creating New Columns\n",
    "* **Total Apps** - contains the total number of appearances a player has made.<br><br>\n",
    "\n",
    "* **Average Goals/Game** - is the Total Goals divided by Total Apps a player has played.<br><br>\n",
    "\n",
    "* **Average Assists/Game** - is the Total Assists divided by Total Apps a player has played.<br><br>\n",
    "\n",
    "* **Clean Sheets** - contains the total number of clean sheets a player has kept.<br><br>\n",
    "\n",
    "* **Partial Clean Sheets** - contains the total number of partial clean sheets a player has kept.<br><br>\n",
    "\n",
    "* **Total Clean Sheets** - contains the total number of clean sheets addded to the number of partial clean sheets.<br><br>\n",
    "\n",
    "* **Average Clean Sheets/Game** - is the Total Clean Sheets divided by Total Apps a player has played.<br><br>\n",
    "\n",
    "* **Average Yellows/Game** - is the Total Yellow Cards divided by Total Apps a player has played.<br><br>\n",
    "\n",
    "* **Average Red/Game** - is the Total Red Cards divided by Total Apps a player has played.<br><br>\n",
    "\n",
    "* **Average Cards/Game** - is the Total Red Cards + Total Yellow Cards divided by Total Apps a player has played.<br><br>\n",
    "\n",
    "* **Attacking Attributes** - is all Attacking Attributes added together divided by the total number of Attacking Attributes giving an average. This is then rounded to an even number<br><br>\n",
    "\n",
    "* **Defending Attributes** - is all Defending Attributes added together divided by the total number of Defending Attributes giving an average. This is then rounded to an even number<br><br>\n",
    "\n",
    "* **Goalkeeping Attributes** - is all Goalkeeping Attributes added together divided by the total number of Goalkeeping Attributes giving an average. This is then rounded to an even number<br><br>\n"
   ]
  },
  {
   "cell_type": "code",
   "execution_count": 5,
   "metadata": {
    "collapsed": true
   },
   "outputs": [],
   "source": [
    "RQ3['Total Apps'] = RQ3['16/17']['Apps'] + RQ3['15/16']['Apps'] + RQ3['14/15']['Apps'] + RQ3['13/14']['Apps'] + RQ3['12/13']['Apps']"
   ]
  },
  {
   "cell_type": "code",
   "execution_count": 6,
   "metadata": {
    "collapsed": true
   },
   "outputs": [],
   "source": [
    "RQ3['Total Goals'] = RQ3['16/17']['Goals']+RQ3['15/16']['Goals']+RQ3['14/15']['Goals']+RQ3['13/14']['Goals']+RQ3['12/13']['Goals']"
   ]
  },
  {
   "cell_type": "code",
   "execution_count": 7,
   "metadata": {
    "collapsed": true
   },
   "outputs": [],
   "source": [
    "RQ3['Average Goals/Game'] = RQ3['Total Goals']/RQ3['Total Apps']"
   ]
  },
  {
   "cell_type": "code",
   "execution_count": 8,
   "metadata": {
    "collapsed": true
   },
   "outputs": [],
   "source": [
    "RQ3['Total Assists'] = RQ3['16/17']['A']+RQ3['15/16']['A']+RQ3['14/15']['A']+RQ3['13/14']['A']+RQ3['12/13']['A']"
   ]
  },
  {
   "cell_type": "code",
   "execution_count": 9,
   "metadata": {
    "collapsed": true
   },
   "outputs": [],
   "source": [
    "RQ3['Average Assists/Game'] = RQ3['Total Assists']/RQ3['Total Apps']"
   ]
  },
  {
   "cell_type": "code",
   "execution_count": 10,
   "metadata": {
    "collapsed": true
   },
   "outputs": [],
   "source": [
    "RQ3['Clean Sheets'] = RQ3['16/17']['CS']+RQ3['15/16']['CS']+RQ3['14/15']['CS']+RQ3['13/14']['CS']+RQ3['12/13']['CS']"
   ]
  },
  {
   "cell_type": "code",
   "execution_count": 11,
   "metadata": {
    "collapsed": true
   },
   "outputs": [],
   "source": [
    "RQ3['Partial Clean Sheets'] = RQ3['16/17']['CS part']+RQ3['15/16']['CS part']+RQ3['14/15']['CS part']+RQ3['13/14']['CS part']+RQ3['12/13']['CS part']"
   ]
  },
  {
   "cell_type": "code",
   "execution_count": 12,
   "metadata": {
    "collapsed": true
   },
   "outputs": [],
   "source": [
    "RQ3['Total Clean Sheets'] = RQ3['Clean Sheets'] + RQ3['Partial Clean Sheets'] "
   ]
  },
  {
   "cell_type": "code",
   "execution_count": 13,
   "metadata": {
    "collapsed": true
   },
   "outputs": [],
   "source": [
    "RQ3['Average Clean Sheets/Game'] = RQ3['Total Clean Sheets']/RQ3['Total Apps']"
   ]
  },
  {
   "cell_type": "code",
   "execution_count": 14,
   "metadata": {
    "collapsed": true
   },
   "outputs": [],
   "source": [
    "RQ3['Total Yellows'] = RQ3['16/17']['Yellow']+RQ3['15/16']['Yellow']+RQ3['14/15']['Yellow']+RQ3['13/14']['Yellow']+RQ3['12/13']['Yellow']"
   ]
  },
  {
   "cell_type": "code",
   "execution_count": 15,
   "metadata": {
    "collapsed": true
   },
   "outputs": [],
   "source": [
    "RQ3['Average Yellows/Game'] = RQ3['Total Yellows']/RQ3['Total Apps']"
   ]
  },
  {
   "cell_type": "code",
   "execution_count": 16,
   "metadata": {
    "collapsed": true
   },
   "outputs": [],
   "source": [
    "RQ3['Total Reds'] = RQ3['16/17']['Red']+RQ3['15/16']['Red']+RQ3['14/15']['Red']+RQ3['13/14']['Red']+RQ3['12/13']['Red']"
   ]
  },
  {
   "cell_type": "code",
   "execution_count": 17,
   "metadata": {
    "collapsed": true
   },
   "outputs": [],
   "source": [
    "RQ3['Average Reds/Game'] = RQ3['Total Reds']/RQ3['Total Apps']"
   ]
  },
  {
   "cell_type": "code",
   "execution_count": 18,
   "metadata": {
    "collapsed": true
   },
   "outputs": [],
   "source": [
    "RQ3['Total Cards'] = RQ3['Total Yellows']+RQ3['Total Reds']"
   ]
  },
  {
   "cell_type": "code",
   "execution_count": 19,
   "metadata": {
    "collapsed": true
   },
   "outputs": [],
   "source": [
    "RQ3['Average Cards/Game'] = (RQ3['Total Reds']+RQ3['Total Yellows'])/RQ3['Total Apps']"
   ]
  },
  {
   "cell_type": "code",
   "execution_count": 20,
   "metadata": {},
   "outputs": [],
   "source": [
    "RQ3['Attacking Attributes'] = (RQ3['crossing']+RQ3['finishing']+RQ3['heading_accuracy']+RQ3['short_passing']+RQ3['volleys'])/5"
   ]
  },
  {
   "cell_type": "code",
   "execution_count": 21,
   "metadata": {
    "collapsed": true
   },
   "outputs": [],
   "source": [
    "RQ3['Attacking Attributes'] = RQ3['Attacking Attributes'].round(0).apply(int)"
   ]
  },
  {
   "cell_type": "code",
   "execution_count": 22,
   "metadata": {
    "collapsed": true
   },
   "outputs": [],
   "source": [
    "RQ3['Defending Attributes'] = (RQ3['marking']+RQ3['standing_tackle']+RQ3['sliding_tackle'])/3"
   ]
  },
  {
   "cell_type": "code",
   "execution_count": 23,
   "metadata": {
    "collapsed": true
   },
   "outputs": [],
   "source": [
    "RQ3['Defending Attributes'] = RQ3['Defending Attributes'].round(0).apply(int)"
   ]
  },
  {
   "cell_type": "code",
   "execution_count": 24,
   "metadata": {
    "collapsed": true
   },
   "outputs": [],
   "source": [
    "RQ3['Goalkeeping Attributes'] = (RQ3['gk_diving']+RQ3['gk_handling']+RQ3['gk_kicking']+RQ3['gk_positioning']+RQ3['gk_reflexes'])/5"
   ]
  },
  {
   "cell_type": "code",
   "execution_count": 25,
   "metadata": {
    "collapsed": true
   },
   "outputs": [],
   "source": [
    "RQ3['Goalkeeping Attributes'] = RQ3['Goalkeeping Attributes'].round(0).apply(int)"
   ]
  },
  {
   "cell_type": "markdown",
   "metadata": {},
   "source": [
    "## Filtering\n",
    "* Removing players who have played less than 15 games in the last 5 seasons"
   ]
  },
  {
   "cell_type": "code",
   "execution_count": 26,
   "metadata": {
    "collapsed": true
   },
   "outputs": [],
   "source": [
    "RQ3 = RQ3[RQ3['Total Apps']>15]"
   ]
  },
  {
   "cell_type": "markdown",
   "metadata": {},
   "source": [
    "## Tidying Up\n",
    "* First checking what columns are contain in the dataframe.\n",
    "* Splitting into 5 dataframes each with individual columns for each graph and picking the positions they are applicable too."
   ]
  },
  {
   "cell_type": "code",
   "execution_count": 27,
   "metadata": {},
   "outputs": [
    {
     "data": {
      "text/plain": [
       "[('Players', ''),\n",
       " ('club', ''),\n",
       " ('league', ''),\n",
       " ('age', ''),\n",
       " ('nationality', ''),\n",
       " ('Position', ''),\n",
       " ('overall', ''),\n",
       " ('pac', ''),\n",
       " ('sho', ''),\n",
       " ('pas', ''),\n",
       " ('dri', ''),\n",
       " ('def', ''),\n",
       " ('phy', ''),\n",
       " ('international_reputation', ''),\n",
       " ('skill_moves', ''),\n",
       " ('weak_foot', ''),\n",
       " ('work_rate_att', ''),\n",
       " ('work_rate_def', ''),\n",
       " ('preferred_foot', ''),\n",
       " ('crossing', ''),\n",
       " ('finishing', ''),\n",
       " ('heading_accuracy', ''),\n",
       " ('short_passing', ''),\n",
       " ('volleys', ''),\n",
       " ('dribbling', ''),\n",
       " ('curve', ''),\n",
       " ('free_kick_accuracy', ''),\n",
       " ('long_passing', ''),\n",
       " ('ball_control', ''),\n",
       " ('acceleration', ''),\n",
       " ('sprint_speed', ''),\n",
       " ('agility', ''),\n",
       " ('reactions', ''),\n",
       " ('balance', ''),\n",
       " ('shot_power', ''),\n",
       " ('jumping', ''),\n",
       " ('stamina', ''),\n",
       " ('strength', ''),\n",
       " ('long_shots', ''),\n",
       " ('aggression', ''),\n",
       " ('interceptions', ''),\n",
       " ('positioning', ''),\n",
       " ('vision', ''),\n",
       " ('penalties', ''),\n",
       " ('composure', ''),\n",
       " ('marking', ''),\n",
       " ('standing_tackle', ''),\n",
       " ('sliding_tackle', ''),\n",
       " ('gk_diving', ''),\n",
       " ('gk_handling', ''),\n",
       " ('gk_kicking', ''),\n",
       " ('gk_positioning', ''),\n",
       " ('gk_reflexes', ''),\n",
       " ('16/17', 'Apps'),\n",
       " ('16/17', 'Goals'),\n",
       " ('16/17', 'A'),\n",
       " ('16/17', 'CS'),\n",
       " ('16/17', 'CS part'),\n",
       " ('16/17', 'Yellow'),\n",
       " ('16/17', 'Red'),\n",
       " ('15/16', 'Apps'),\n",
       " ('15/16', 'Goals'),\n",
       " ('15/16', 'A'),\n",
       " ('15/16', 'CS'),\n",
       " ('15/16', 'CS part'),\n",
       " ('15/16', 'Yellow'),\n",
       " ('15/16', 'Red'),\n",
       " ('14/15', 'Apps'),\n",
       " ('14/15', 'Goals'),\n",
       " ('14/15', 'A'),\n",
       " ('14/15', 'CS'),\n",
       " ('14/15', 'CS part'),\n",
       " ('14/15', 'Yellow'),\n",
       " ('14/15', 'Red'),\n",
       " ('13/14', 'Apps'),\n",
       " ('13/14', 'Goals'),\n",
       " ('13/14', 'A'),\n",
       " ('13/14', 'CS'),\n",
       " ('13/14', 'CS part'),\n",
       " ('13/14', 'Yellow'),\n",
       " ('13/14', 'Red'),\n",
       " ('12/13', 'Apps'),\n",
       " ('12/13', 'Goals'),\n",
       " ('12/13', 'A'),\n",
       " ('12/13', 'CS'),\n",
       " ('12/13', 'CS part'),\n",
       " ('12/13', 'Yellow'),\n",
       " ('12/13', 'Red'),\n",
       " ('Total Apps', ''),\n",
       " ('Total Goals', ''),\n",
       " ('Average Goals/Game', ''),\n",
       " ('Total Assists', ''),\n",
       " ('Average Assists/Game', ''),\n",
       " ('Clean Sheets', ''),\n",
       " ('Partial Clean Sheets', ''),\n",
       " ('Total Clean Sheets', ''),\n",
       " ('Average Clean Sheets/Game', ''),\n",
       " ('Total Yellows', ''),\n",
       " ('Average Yellows/Game', ''),\n",
       " ('Total Reds', ''),\n",
       " ('Average Reds/Game', ''),\n",
       " ('Total Cards', ''),\n",
       " ('Average Cards/Game', ''),\n",
       " ('Attacking Attributes', ''),\n",
       " ('Defending Attributes', ''),\n",
       " ('Goalkeeping Attributes', '')]"
      ]
     },
     "execution_count": 27,
     "metadata": {},
     "output_type": "execute_result"
    }
   ],
   "source": [
    "list(RQ3)"
   ]
  },
  {
   "cell_type": "markdown",
   "metadata": {},
   "source": [
    "### RQ3_1 : Shooting\n"
   ]
  },
  {
   "cell_type": "code",
   "execution_count": 28,
   "metadata": {
    "collapsed": true
   },
   "outputs": [],
   "source": [
    "RQ3_1 = RQ3[['Players','club','league','overall','age','Position','sho','crossing','finishing','heading_accuracy','short_passing','volleys','composure','preferred_foot','work_rate_att','weak_foot','Attacking Attributes','Total Apps','Total Goals','Average Goals/Game']]"
   ]
  },
  {
   "cell_type": "code",
   "execution_count": 29,
   "metadata": {
    "collapsed": true
   },
   "outputs": [],
   "source": [
    "RQ3_1 = RQ3_1[RQ3_1['Position']=='Forward']"
   ]
  },
  {
   "cell_type": "markdown",
   "metadata": {},
   "source": [
    "#### Saving to csv file in data/analysis"
   ]
  },
  {
   "cell_type": "code",
   "execution_count": 30,
   "metadata": {
    "collapsed": true
   },
   "outputs": [],
   "source": [
    "RQ3_1.to_csv('../../data/analysis/RQ3_1.csv')"
   ]
  },
  {
   "cell_type": "markdown",
   "metadata": {},
   "source": [
    "### RQ3_2: Assists"
   ]
  },
  {
   "cell_type": "code",
   "execution_count": 31,
   "metadata": {
    "collapsed": true
   },
   "outputs": [],
   "source": [
    "RQ3_2 = RQ3[['Players','club','league','overall','age','Position','pas','crossing','vision','short_passing','long_passing','dribbling','Total Apps','Total Assists','Average Assists/Game']]"
   ]
  },
  {
   "cell_type": "code",
   "execution_count": 32,
   "metadata": {
    "collapsed": true
   },
   "outputs": [],
   "source": [
    "RQ3_2 = RQ3_2[(RQ3_2['Position']=='Midfielder')|(RQ3_2['Position']=='Forward')]"
   ]
  },
  {
   "cell_type": "markdown",
   "metadata": {},
   "source": [
    "#### Saving to csv file in data/analysis"
   ]
  },
  {
   "cell_type": "code",
   "execution_count": 33,
   "metadata": {
    "collapsed": true
   },
   "outputs": [],
   "source": [
    "RQ3_2.to_csv('../../data/analysis/RQ3_2.csv')"
   ]
  },
  {
   "cell_type": "markdown",
   "metadata": {},
   "source": [
    "### RQ3_3: Goalkeeping"
   ]
  },
  {
   "cell_type": "code",
   "execution_count": 34,
   "metadata": {
    "collapsed": true
   },
   "outputs": [],
   "source": [
    "RQ3_3 = RQ3[['Players','club','league','overall','age','Position','gk_diving','gk_handling','gk_kicking','gk_positioning','gk_reflexes','Goalkeeping Attributes','Total Apps','Total Clean Sheets','Average Clean Sheets/Game']]"
   ]
  },
  {
   "cell_type": "code",
   "execution_count": 35,
   "metadata": {
    "collapsed": true
   },
   "outputs": [],
   "source": [
    "RQ3_3 = RQ3_3[RQ3_3['Position']=='Goalkeeper']"
   ]
  },
  {
   "cell_type": "markdown",
   "metadata": {},
   "source": [
    "#### Saving to csv file in data/analysis"
   ]
  },
  {
   "cell_type": "code",
   "execution_count": 36,
   "metadata": {
    "collapsed": true
   },
   "outputs": [],
   "source": [
    "RQ3_3.to_csv('../../data/analysis/RQ3_3.csv')"
   ]
  },
  {
   "cell_type": "markdown",
   "metadata": {},
   "source": [
    "### RQ3_4: Defending"
   ]
  },
  {
   "cell_type": "code",
   "execution_count": 37,
   "metadata": {
    "collapsed": true
   },
   "outputs": [],
   "source": [
    "RQ3_4 = RQ3[['Players','club','league','overall','age','Position','Defending Attributes','def','marking','standing_tackle','sliding_tackle','work_rate_def','Total Apps','Total Cards','Average Clean Sheets/Game']]"
   ]
  },
  {
   "cell_type": "code",
   "execution_count": 38,
   "metadata": {
    "collapsed": true
   },
   "outputs": [],
   "source": [
    "RQ3_4 = RQ3_4[RQ3_4['Position']=='Defender']"
   ]
  },
  {
   "cell_type": "markdown",
   "metadata": {},
   "source": [
    "#### Saving to csv file in data/analysis"
   ]
  },
  {
   "cell_type": "code",
   "execution_count": 39,
   "metadata": {
    "collapsed": true
   },
   "outputs": [],
   "source": [
    "RQ3_4.to_csv('../../data/analysis/RQ3_4.csv')"
   ]
  },
  {
   "cell_type": "markdown",
   "metadata": {},
   "source": [
    "### RQ3_5: Mentality(Agression)"
   ]
  },
  {
   "cell_type": "code",
   "execution_count": 40,
   "metadata": {
    "collapsed": true
   },
   "outputs": [],
   "source": [
    "RQ3_5 = RQ3[['Players','club','league','overall','age','Position','aggression','work_rate_def','Total Apps','Total Cards','Average Cards/Game']]"
   ]
  },
  {
   "cell_type": "code",
   "execution_count": 41,
   "metadata": {
    "collapsed": true
   },
   "outputs": [],
   "source": [
    "RQ3_5 = RQ3_5[RQ3_5['Position']!='Goalkeeper']"
   ]
  },
  {
   "cell_type": "markdown",
   "metadata": {},
   "source": [
    "#### Saving to csv file in data/analysis"
   ]
  },
  {
   "cell_type": "code",
   "execution_count": 42,
   "metadata": {
    "collapsed": true
   },
   "outputs": [],
   "source": [
    "RQ3_5.to_csv('../../data/analysis/RQ3_5.csv')"
   ]
  },
  {
   "cell_type": "code",
   "execution_count": null,
   "metadata": {
    "collapsed": true
   },
   "outputs": [],
   "source": []
  }
 ],
 "metadata": {
  "kernelspec": {
   "display_name": "Python 3",
   "language": "python",
   "name": "python3"
  },
  "language_info": {
   "codemirror_mode": {
    "name": "ipython",
    "version": 3
   },
   "file_extension": ".py",
   "mimetype": "text/x-python",
   "name": "python",
   "nbconvert_exporter": "python",
   "pygments_lexer": "ipython3",
   "version": "3.6.3"
  }
 },
 "nbformat": 4,
 "nbformat_minor": 2
}
