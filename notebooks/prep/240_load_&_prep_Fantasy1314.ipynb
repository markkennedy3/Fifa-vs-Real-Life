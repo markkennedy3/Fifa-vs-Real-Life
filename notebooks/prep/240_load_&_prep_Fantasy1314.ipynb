{
 "cells": [
  {
   "cell_type": "markdown",
   "metadata": {},
   "source": [
    "# 240_____load_____&_prep_Fantasy1314\n",
    "## Purpose In this notebook we load in our our Fantasty dataset and perform any necessary cleaning.  \n",
    "## Datasets \n",
    "* _Input_: N/A\n",
    "* _Output_: SEA1314.csv"
   ]
  },
  {
   "cell_type": "code",
   "execution_count": 1,
   "metadata": {
    "collapsed": true
   },
   "outputs": [],
   "source": [
    "import os.path\n",
    "import numpy as np\n",
    "import pandas as pd"
   ]
  },
  {
   "cell_type": "markdown",
   "metadata": {},
   "source": [
    "### Reading in all player information from the Top 5 Leagues from statsbunker.com\n",
    "* Each league has its own unqique ID used when reading the table.  \n",
    "* Using pd.read_html these tables can be read in with ease."
   ]
  },
  {
   "cell_type": "code",
   "execution_count": 2,
   "metadata": {
    "collapsed": true
   },
   "outputs": [],
   "source": [
    "BPL1314 = pd.read_html(\"https://www.statbunker.com/competitions/FantasyFootballPlayersStats?comp_id=449\")[0]\n",
    "BUN1314 = pd.read_html(\"https://www.statbunker.com/competitions/FantasyFootballPlayersStats?comp_id=447\")[0]\n",
    "LAL1314 = pd.read_html(\"https://www.statbunker.com/competitions/FantasyFootballPlayersStats?comp_id=461\")[0]\n",
    "SEI1314 = pd.read_html(\"https://www.statbunker.com/competitions/FantasyFootballPlayersStats?comp_id=462\")[0]\n",
    "FRA1314 = pd.read_html(\"https://www.statbunker.com/competitions/FantasyFootballPlayersStats?comp_id=454\")[0]"
   ]
  },
  {
   "cell_type": "markdown",
   "metadata": {},
   "source": [
    "### Using pd.concat to merge each league together.  \n",
    "* Resetting index.  \n",
    "* Drop old index and column 'More' which contains no information."
   ]
  },
  {
   "cell_type": "code",
   "execution_count": 3,
   "metadata": {
    "collapsed": true
   },
   "outputs": [],
   "source": [
    "SEA1314 = [BPL1314,BUN1314,LAL1314,SEI1314,FRA1314]\n",
    "SEA1314 = pd.concat(SEA1314)\n",
    "SEA1314 = SEA1314.reset_index()\n",
    "SEA1314.drop(SEA1314.columns[[0,20]], axis=1, inplace=True)"
   ]
  },
  {
   "cell_type": "code",
   "execution_count": 5,
   "metadata": {},
   "outputs": [
    {
     "data": {
      "text/html": [
       "<div>\n",
       "<style>\n",
       "    .dataframe thead tr:only-child th {\n",
       "        text-align: right;\n",
       "    }\n",
       "\n",
       "    .dataframe thead th {\n",
       "        text-align: left;\n",
       "    }\n",
       "\n",
       "    .dataframe tbody tr th {\n",
       "        vertical-align: top;\n",
       "    }\n",
       "</style>\n",
       "<table border=\"1\" class=\"dataframe\">\n",
       "  <thead>\n",
       "    <tr style=\"text-align: right;\">\n",
       "      <th></th>\n",
       "      <th>Players</th>\n",
       "      <th>Points</th>\n",
       "      <th>Clubs</th>\n",
       "      <th>Position</th>\n",
       "      <th>Start</th>\n",
       "      <th>Goals</th>\n",
       "      <th>A</th>\n",
       "      <th>CS</th>\n",
       "      <th>CS part</th>\n",
       "      <th>Yellow</th>\n",
       "      <th>Red</th>\n",
       "      <th>Sub</th>\n",
       "      <th>CO</th>\n",
       "      <th>Off</th>\n",
       "      <th>Pen SV</th>\n",
       "      <th>Pen M</th>\n",
       "      <th>Goals conceded</th>\n",
       "      <th>Conceded 1+</th>\n",
       "      <th>OG</th>\n",
       "    </tr>\n",
       "  </thead>\n",
       "  <tbody>\n",
       "    <tr>\n",
       "      <th>0</th>\n",
       "      <td>Luis Suarez</td>\n",
       "      <td>254</td>\n",
       "      <td>LPOOL</td>\n",
       "      <td>Forward</td>\n",
       "      <td>33</td>\n",
       "      <td>31</td>\n",
       "      <td>13</td>\n",
       "      <td>-</td>\n",
       "      <td>-</td>\n",
       "      <td>6</td>\n",
       "      <td>0</td>\n",
       "      <td>0</td>\n",
       "      <td>0</td>\n",
       "      <td>3</td>\n",
       "      <td>-</td>\n",
       "      <td>0</td>\n",
       "      <td>-</td>\n",
       "      <td>-</td>\n",
       "      <td>0</td>\n",
       "    </tr>\n",
       "    <tr>\n",
       "      <th>1</th>\n",
       "      <td>Yaya Toure</td>\n",
       "      <td>193</td>\n",
       "      <td>MCFC</td>\n",
       "      <td>Midfielder</td>\n",
       "      <td>35</td>\n",
       "      <td>20</td>\n",
       "      <td>9</td>\n",
       "      <td>-</td>\n",
       "      <td>-</td>\n",
       "      <td>4</td>\n",
       "      <td>0</td>\n",
       "      <td>1</td>\n",
       "      <td>0</td>\n",
       "      <td>10</td>\n",
       "      <td>-</td>\n",
       "      <td>0</td>\n",
       "      <td>-</td>\n",
       "      <td>-</td>\n",
       "      <td>0</td>\n",
       "    </tr>\n",
       "    <tr>\n",
       "      <th>2</th>\n",
       "      <td>Daniel Sturridge</td>\n",
       "      <td>177</td>\n",
       "      <td>LPOOL</td>\n",
       "      <td>Forward</td>\n",
       "      <td>26</td>\n",
       "      <td>21</td>\n",
       "      <td>7</td>\n",
       "      <td>-</td>\n",
       "      <td>-</td>\n",
       "      <td>2</td>\n",
       "      <td>0</td>\n",
       "      <td>3</td>\n",
       "      <td>3</td>\n",
       "      <td>13</td>\n",
       "      <td>-</td>\n",
       "      <td>1</td>\n",
       "      <td>-</td>\n",
       "      <td>-</td>\n",
       "      <td>0</td>\n",
       "    </tr>\n",
       "    <tr>\n",
       "      <th>3</th>\n",
       "      <td>Olivier Giroud</td>\n",
       "      <td>172</td>\n",
       "      <td>ARSL</td>\n",
       "      <td>Forward</td>\n",
       "      <td>36</td>\n",
       "      <td>16</td>\n",
       "      <td>8</td>\n",
       "      <td>-</td>\n",
       "      <td>-</td>\n",
       "      <td>4</td>\n",
       "      <td>0</td>\n",
       "      <td>1</td>\n",
       "      <td>0</td>\n",
       "      <td>16</td>\n",
       "      <td>-</td>\n",
       "      <td>0</td>\n",
       "      <td>-</td>\n",
       "      <td>-</td>\n",
       "      <td>0</td>\n",
       "    </tr>\n",
       "    <tr>\n",
       "      <th>4</th>\n",
       "      <td>Steven Gerrard</td>\n",
       "      <td>162</td>\n",
       "      <td>LPOOL</td>\n",
       "      <td>Midfielder</td>\n",
       "      <td>33</td>\n",
       "      <td>13</td>\n",
       "      <td>13</td>\n",
       "      <td>-</td>\n",
       "      <td>-</td>\n",
       "      <td>7</td>\n",
       "      <td>0</td>\n",
       "      <td>1</td>\n",
       "      <td>1</td>\n",
       "      <td>6</td>\n",
       "      <td>-</td>\n",
       "      <td>1</td>\n",
       "      <td>-</td>\n",
       "      <td>-</td>\n",
       "      <td>0</td>\n",
       "    </tr>\n",
       "  </tbody>\n",
       "</table>\n",
       "</div>"
      ],
      "text/plain": [
       "            Players  Points  Clubs    Position  Start  Goals   A CS CS part  \\\n",
       "0       Luis Suarez     254  LPOOL     Forward     33     31  13  -       -   \n",
       "1        Yaya Toure     193   MCFC  Midfielder     35     20   9  -       -   \n",
       "2  Daniel Sturridge     177  LPOOL     Forward     26     21   7  -       -   \n",
       "3    Olivier Giroud     172   ARSL     Forward     36     16   8  -       -   \n",
       "4    Steven Gerrard     162  LPOOL  Midfielder     33     13  13  -       -   \n",
       "\n",
       "   Yellow  Red  Sub  CO  Off Pen SV  Pen M Goals conceded Conceded 1+  OG  \n",
       "0       6    0    0   0    3      -      0              -           -   0  \n",
       "1       4    0    1   0   10      -      0              -           -   0  \n",
       "2       2    0    3   3   13      -      1              -           -   0  \n",
       "3       4    0    1   0   16      -      0              -           -   0  \n",
       "4       7    0    1   1    6      -      1              -           -   0  "
      ]
     },
     "execution_count": 5,
     "metadata": {},
     "output_type": "execute_result"
    }
   ],
   "source": [
    "SEA1314.head(5)"
   ]
  },
  {
   "cell_type": "markdown",
   "metadata": {},
   "source": [
    "### Creating new columns Apps and Form\n",
    "* Apps is the total number of appearances a player makes (Starts plus being subbed on)\n",
    "* Form is the total number of points divided by the number of appearances.\n",
    "* All null values in Form filled in as 0"
   ]
  },
  {
   "cell_type": "code",
   "execution_count": 6,
   "metadata": {
    "collapsed": true
   },
   "outputs": [],
   "source": [
    "SEA1314['Apps'] = SEA1314['Start'] + SEA1314['CO']\n",
    "SEA1314['Form'] = SEA1314['Points']/SEA1314['Apps']\n",
    "SEA1314.loc[SEA1314['Form'].isnull(),'Form'] = 0"
   ]
  },
  {
   "cell_type": "code",
   "execution_count": 7,
   "metadata": {},
   "outputs": [
    {
     "data": {
      "text/plain": [
       "0"
      ]
     },
     "execution_count": 7,
     "metadata": {},
     "output_type": "execute_result"
    }
   ],
   "source": [
    "SEA1314.Form.isnull().sum()"
   ]
  },
  {
   "cell_type": "markdown",
   "metadata": {},
   "source": [
    "### Replacing all Hyphen values with 0\n",
    "* In this dataset hyphen represented no data so these were replaced with 0"
   ]
  },
  {
   "cell_type": "code",
   "execution_count": 8,
   "metadata": {
    "collapsed": true
   },
   "outputs": [],
   "source": [
    "DashColumns = ['Goals','A','CS','CS part','Yellow','Red','Sub','CO','Off','Pen SV','Pen M','Goals conceded','Conceded 1+','OG',]\n",
    "SEA1314[DashColumns] = SEA1314[DashColumns].replace('-' ,'0')"
   ]
  },
  {
   "cell_type": "markdown",
   "metadata": {},
   "source": [
    "### Checking dataframe data types\n",
    "* Changed the columns CS, CS part, Pen SV, Goals conceded and Conceded 1+ from type object to int"
   ]
  },
  {
   "cell_type": "code",
   "execution_count": 9,
   "metadata": {},
   "outputs": [
    {
     "name": "stdout",
     "output_type": "stream",
     "text": [
      "<class 'pandas.core.frame.DataFrame'>\n",
      "RangeIndex: 2999 entries, 0 to 2998\n",
      "Data columns (total 21 columns):\n",
      "Players           2999 non-null object\n",
      "Points            2999 non-null int64\n",
      "Clubs             2420 non-null object\n",
      "Position          2999 non-null object\n",
      "Start             2999 non-null int64\n",
      "Goals             2999 non-null int64\n",
      "A                 2999 non-null int64\n",
      "CS                2999 non-null object\n",
      "CS part           2999 non-null object\n",
      "Yellow            2999 non-null int64\n",
      "Red               2999 non-null int64\n",
      "Sub               2999 non-null int64\n",
      "CO                2999 non-null int64\n",
      "Off               2999 non-null int64\n",
      "Pen SV            2999 non-null object\n",
      "Pen M             2999 non-null int64\n",
      "Goals conceded    2999 non-null object\n",
      "Conceded 1+       2999 non-null object\n",
      "OG                2999 non-null int64\n",
      "Apps              2999 non-null int64\n",
      "Form              2999 non-null float64\n",
      "dtypes: float64(1), int64(12), object(8)\n",
      "memory usage: 492.1+ KB\n"
     ]
    }
   ],
   "source": [
    "SEA1314.info()"
   ]
  },
  {
   "cell_type": "code",
   "execution_count": 10,
   "metadata": {
    "collapsed": true
   },
   "outputs": [],
   "source": [
    "SEA1314['CS'] = SEA1314['CS'].str.replace('%','').astype(np.int)\n",
    "SEA1314['CS part'] = SEA1314['CS part'].str.replace('%','').astype(np.int)\n",
    "SEA1314['Pen SV'] = SEA1314['Pen SV'].str.replace('%','').astype(np.int)\n",
    "SEA1314['Goals conceded'] = SEA1314['Goals conceded'].str.replace('%','').astype(np.int)\n",
    "SEA1314['Conceded 1+'] = SEA1314['Conceded 1+'].str.replace('%','').astype(np.int)"
   ]
  },
  {
   "cell_type": "markdown",
   "metadata": {},
   "source": [
    "#### Spliting player names into First Initial and Surname.\n",
    "Repeating process from FIFA18 notebook in preperation for joining.  \n",
    "Each case deals with players with single, normal double and triple barrel names.  \n",
    "EG: Aaron Moy is now A.Moy"
   ]
  },
  {
   "cell_type": "code",
   "execution_count": 15,
   "metadata": {
    "collapsed": true
   },
   "outputs": [],
   "source": [
    "SEA1314.loc[SEA1314['Players'].str.split().str.len() == 1, 'FirstInitial'] = SEA1314['Players'].astype(str).str[0]\n",
    "SEA1314.loc[SEA1314['Players'].str.split().str.len() == 1, 'Firstname'] = SEA1314['Players'].str.split().str[0]\n",
    "SEA1314.loc[SEA1314['Players'].str.split().str.len() == 1, 'Surname'] = SEA1314['Players'].str.split().str[0]\n",
    "\n",
    "SEA1314.loc[SEA1314['Players'].str.split().str.len() == 2, 'FirstInitial'] = SEA1314['Players'].astype(str).str[0]\n",
    "SEA1314.loc[SEA1314['Players'].str.split().str.len() == 2, 'Firstname'] = SEA1314['Players'].str.split().str[0]\n",
    "SEA1314.loc[SEA1314['Players'].str.split().str.len() == 2, 'Surname'] = SEA1314['Players'].str.split().str[-1]\n",
    "\n",
    "SEA1314.loc[SEA1314['Players'].str.split().str.len() == 3, 'FirstInitial'] = SEA1314['Players'].astype(str).str[0]\n",
    "SEA1314.loc[SEA1314['Players'].str.split().str.len() == 3, 'Firstname'] = SEA1314['Players'].str.split().str[0]\n",
    "SEA1314.loc[SEA1314['Players'].str.split().str.len() == 3, 'Surname'] = SEA1314['Players'].str.split().str[-1]\n",
    "\n",
    "SEA1314.loc[SEA1314['Players'].str.split().str.len() == 4, 'FirstInitial'] = SEA1314['Players'].astype(str).str[0]\n",
    "SEA1314.loc[SEA1314['Players'].str.split().str.len() == 4, 'Firstname'] = SEA1314['Players'].str.split().str[0]\n",
    "SEA1314.loc[SEA1314['Players'].str.split().str.len() == 4, 'Surname'] = SEA1314['Players'].str.split().str[-1]"
   ]
  },
  {
   "cell_type": "markdown",
   "metadata": {},
   "source": [
    "### Cleaned dataframe now finished"
   ]
  },
  {
   "cell_type": "code",
   "execution_count": 16,
   "metadata": {},
   "outputs": [
    {
     "data": {
      "text/html": [
       "<div>\n",
       "<style>\n",
       "    .dataframe thead tr:only-child th {\n",
       "        text-align: right;\n",
       "    }\n",
       "\n",
       "    .dataframe thead th {\n",
       "        text-align: left;\n",
       "    }\n",
       "\n",
       "    .dataframe tbody tr th {\n",
       "        vertical-align: top;\n",
       "    }\n",
       "</style>\n",
       "<table border=\"1\" class=\"dataframe\">\n",
       "  <thead>\n",
       "    <tr style=\"text-align: right;\">\n",
       "      <th></th>\n",
       "      <th>Players</th>\n",
       "      <th>Points</th>\n",
       "      <th>Clubs</th>\n",
       "      <th>Position</th>\n",
       "      <th>Start</th>\n",
       "      <th>Goals</th>\n",
       "      <th>A</th>\n",
       "      <th>CS</th>\n",
       "      <th>CS part</th>\n",
       "      <th>Yellow</th>\n",
       "      <th>...</th>\n",
       "      <th>Pen SV</th>\n",
       "      <th>Pen M</th>\n",
       "      <th>Goals conceded</th>\n",
       "      <th>Conceded 1+</th>\n",
       "      <th>OG</th>\n",
       "      <th>Apps</th>\n",
       "      <th>Form</th>\n",
       "      <th>FirstInitial</th>\n",
       "      <th>Firstname</th>\n",
       "      <th>Surname</th>\n",
       "    </tr>\n",
       "  </thead>\n",
       "  <tbody>\n",
       "    <tr>\n",
       "      <th>0</th>\n",
       "      <td>Luis Suarez</td>\n",
       "      <td>254</td>\n",
       "      <td>LPOOL</td>\n",
       "      <td>Forward</td>\n",
       "      <td>33</td>\n",
       "      <td>31</td>\n",
       "      <td>13</td>\n",
       "      <td>0</td>\n",
       "      <td>0</td>\n",
       "      <td>6</td>\n",
       "      <td>...</td>\n",
       "      <td>0</td>\n",
       "      <td>0</td>\n",
       "      <td>0</td>\n",
       "      <td>0</td>\n",
       "      <td>0</td>\n",
       "      <td>33</td>\n",
       "      <td>7.696970</td>\n",
       "      <td>L</td>\n",
       "      <td>Luis</td>\n",
       "      <td>Suarez</td>\n",
       "    </tr>\n",
       "    <tr>\n",
       "      <th>1</th>\n",
       "      <td>Yaya Toure</td>\n",
       "      <td>193</td>\n",
       "      <td>MCFC</td>\n",
       "      <td>Midfielder</td>\n",
       "      <td>35</td>\n",
       "      <td>20</td>\n",
       "      <td>9</td>\n",
       "      <td>0</td>\n",
       "      <td>0</td>\n",
       "      <td>4</td>\n",
       "      <td>...</td>\n",
       "      <td>0</td>\n",
       "      <td>0</td>\n",
       "      <td>0</td>\n",
       "      <td>0</td>\n",
       "      <td>0</td>\n",
       "      <td>35</td>\n",
       "      <td>5.514286</td>\n",
       "      <td>Y</td>\n",
       "      <td>Yaya</td>\n",
       "      <td>Toure</td>\n",
       "    </tr>\n",
       "    <tr>\n",
       "      <th>2</th>\n",
       "      <td>Daniel Sturridge</td>\n",
       "      <td>177</td>\n",
       "      <td>LPOOL</td>\n",
       "      <td>Forward</td>\n",
       "      <td>26</td>\n",
       "      <td>21</td>\n",
       "      <td>7</td>\n",
       "      <td>0</td>\n",
       "      <td>0</td>\n",
       "      <td>2</td>\n",
       "      <td>...</td>\n",
       "      <td>0</td>\n",
       "      <td>1</td>\n",
       "      <td>0</td>\n",
       "      <td>0</td>\n",
       "      <td>0</td>\n",
       "      <td>29</td>\n",
       "      <td>6.103448</td>\n",
       "      <td>D</td>\n",
       "      <td>Daniel</td>\n",
       "      <td>Sturridge</td>\n",
       "    </tr>\n",
       "    <tr>\n",
       "      <th>3</th>\n",
       "      <td>Olivier Giroud</td>\n",
       "      <td>172</td>\n",
       "      <td>ARSL</td>\n",
       "      <td>Forward</td>\n",
       "      <td>36</td>\n",
       "      <td>16</td>\n",
       "      <td>8</td>\n",
       "      <td>0</td>\n",
       "      <td>0</td>\n",
       "      <td>4</td>\n",
       "      <td>...</td>\n",
       "      <td>0</td>\n",
       "      <td>0</td>\n",
       "      <td>0</td>\n",
       "      <td>0</td>\n",
       "      <td>0</td>\n",
       "      <td>36</td>\n",
       "      <td>4.777778</td>\n",
       "      <td>O</td>\n",
       "      <td>Olivier</td>\n",
       "      <td>Giroud</td>\n",
       "    </tr>\n",
       "    <tr>\n",
       "      <th>4</th>\n",
       "      <td>Steven Gerrard</td>\n",
       "      <td>162</td>\n",
       "      <td>LPOOL</td>\n",
       "      <td>Midfielder</td>\n",
       "      <td>33</td>\n",
       "      <td>13</td>\n",
       "      <td>13</td>\n",
       "      <td>0</td>\n",
       "      <td>0</td>\n",
       "      <td>7</td>\n",
       "      <td>...</td>\n",
       "      <td>0</td>\n",
       "      <td>1</td>\n",
       "      <td>0</td>\n",
       "      <td>0</td>\n",
       "      <td>0</td>\n",
       "      <td>34</td>\n",
       "      <td>4.764706</td>\n",
       "      <td>S</td>\n",
       "      <td>Steven</td>\n",
       "      <td>Gerrard</td>\n",
       "    </tr>\n",
       "  </tbody>\n",
       "</table>\n",
       "<p>5 rows × 24 columns</p>\n",
       "</div>"
      ],
      "text/plain": [
       "            Players  Points  Clubs    Position  Start  Goals   A  CS  CS part  \\\n",
       "0       Luis Suarez     254  LPOOL     Forward     33     31  13   0        0   \n",
       "1        Yaya Toure     193   MCFC  Midfielder     35     20   9   0        0   \n",
       "2  Daniel Sturridge     177  LPOOL     Forward     26     21   7   0        0   \n",
       "3    Olivier Giroud     172   ARSL     Forward     36     16   8   0        0   \n",
       "4    Steven Gerrard     162  LPOOL  Midfielder     33     13  13   0        0   \n",
       "\n",
       "   Yellow    ...      Pen SV  Pen M  Goals conceded  Conceded 1+  OG  Apps  \\\n",
       "0       6    ...           0      0               0            0   0    33   \n",
       "1       4    ...           0      0               0            0   0    35   \n",
       "2       2    ...           0      1               0            0   0    29   \n",
       "3       4    ...           0      0               0            0   0    36   \n",
       "4       7    ...           0      1               0            0   0    34   \n",
       "\n",
       "       Form  FirstInitial  Firstname    Surname  \n",
       "0  7.696970             L       Luis     Suarez  \n",
       "1  5.514286             Y       Yaya      Toure  \n",
       "2  6.103448             D     Daniel  Sturridge  \n",
       "3  4.777778             O    Olivier     Giroud  \n",
       "4  4.764706             S     Steven    Gerrard  \n",
       "\n",
       "[5 rows x 24 columns]"
      ]
     },
     "execution_count": 16,
     "metadata": {},
     "output_type": "execute_result"
    }
   ],
   "source": [
    "SEA1314.head(5)"
   ]
  },
  {
   "cell_type": "markdown",
   "metadata": {},
   "source": [
    "#### Saving to csv file in data/prep"
   ]
  },
  {
   "cell_type": "code",
   "execution_count": 14,
   "metadata": {
    "collapsed": true
   },
   "outputs": [],
   "source": [
    "SEA1314.to_csv('../../data/prep/Fantasy1314.csv')"
   ]
  },
  {
   "cell_type": "code",
   "execution_count": null,
   "metadata": {
    "collapsed": true
   },
   "outputs": [],
   "source": []
  },
  {
   "cell_type": "code",
   "execution_count": null,
   "metadata": {},
   "outputs": [],
   "source": []
  }
 ],
 "metadata": {
  "kernelspec": {
   "display_name": "Python 3",
   "language": "python",
   "name": "python3"
  },
  "language_info": {
   "codemirror_mode": {
    "name": "ipython",
    "version": 3
   },
   "file_extension": ".py",
   "mimetype": "text/x-python",
   "name": "python",
   "nbconvert_exporter": "python",
   "pygments_lexer": "ipython3",
   "version": "3.6.3"
  }
 },
 "nbformat": 4,
 "nbformat_minor": 2
}
