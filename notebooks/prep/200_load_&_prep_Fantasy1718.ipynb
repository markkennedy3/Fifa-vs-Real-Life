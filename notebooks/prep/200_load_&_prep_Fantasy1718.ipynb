{
 "cells": [
  {
   "cell_type": "markdown",
   "metadata": {},
   "source": [
    "# 200_____load_____&_prep_Fantasy1718  \n",
    "## Purpose \n",
    "In this notebook we load in our Fantasty dataset and perform any necessary cleaning.  \n",
    "## Datasets \n",
    "* _Input_: N/A\n",
    "* _Output_: SEA1718.csv"
   ]
  },
  {
   "cell_type": "code",
   "execution_count": 38,
   "metadata": {
    "collapsed": true
   },
   "outputs": [],
   "source": [
    "import os.path\n",
    "import numpy as np\n",
    "import pandas as pd"
   ]
  },
  {
   "cell_type": "markdown",
   "metadata": {},
   "source": [
    "### Reading in all player information from the Top 5 Leagues from statsbunker.com\n",
    "* Each league has its own unqique ID used when reading the table.  \n",
    "* Using pd.read_html these tables can be read in with ease."
   ]
  },
  {
   "cell_type": "code",
   "execution_count": 39,
   "metadata": {
    "collapsed": true
   },
   "outputs": [],
   "source": [
    "BPL1718 = pd.read_html(\"https://www.statbunker.com/competitions/FantasyFootballPlayersStats?comp_id=586\")[0]\n",
    "BUN1718 = pd.read_html(\"https://www.statbunker.com/competitions/FantasyFootballPlayersStats?comp_id=600\")[0]\n",
    "LAL1718 = pd.read_html(\"https://www.statbunker.com/competitions/FantasyFootballPlayersStats?comp_id=591\")[0]\n",
    "SEI1718 = pd.read_html(\"https://www.statbunker.com/competitions/FantasyFootballPlayersStats?comp_id=593\")[0]\n",
    "FRA1718 = pd.read_html(\"https://www.statbunker.com/competitions/FantasyFootballPlayersStats?comp_id=594\")[0]"
   ]
  },
  {
   "cell_type": "markdown",
   "metadata": {},
   "source": [
    "### Using pd.concat to merge each league together.  \n",
    "* Resetting index.  \n",
    "* Drop old index and column 'More' which contains no information."
   ]
  },
  {
   "cell_type": "code",
   "execution_count": 40,
   "metadata": {
    "collapsed": true
   },
   "outputs": [],
   "source": [
    "SEA1718 = [BPL1718,BUN1718,LAL1718,SEI1718,FRA1718]\n",
    "SEA1718 = pd.concat(SEA1718)\n",
    "SEA1718 = SEA1718.reset_index()\n",
    "SEA1718.drop(SEA1718.columns[[0,20]], axis=1, inplace=True)"
   ]
  },
  {
   "cell_type": "code",
   "execution_count": 41,
   "metadata": {},
   "outputs": [
    {
     "data": {
      "text/html": [
       "<div>\n",
       "<style>\n",
       "    .dataframe thead tr:only-child th {\n",
       "        text-align: right;\n",
       "    }\n",
       "\n",
       "    .dataframe thead th {\n",
       "        text-align: left;\n",
       "    }\n",
       "\n",
       "    .dataframe tbody tr th {\n",
       "        vertical-align: top;\n",
       "    }\n",
       "</style>\n",
       "<table border=\"1\" class=\"dataframe\">\n",
       "  <thead>\n",
       "    <tr style=\"text-align: right;\">\n",
       "      <th></th>\n",
       "      <th>Players</th>\n",
       "      <th>Points</th>\n",
       "      <th>Clubs</th>\n",
       "      <th>Position</th>\n",
       "      <th>Start</th>\n",
       "      <th>Goals</th>\n",
       "      <th>A</th>\n",
       "      <th>CS</th>\n",
       "      <th>CS part</th>\n",
       "      <th>Yellow</th>\n",
       "      <th>Red</th>\n",
       "      <th>Sub</th>\n",
       "      <th>CO</th>\n",
       "      <th>Off</th>\n",
       "      <th>Pen SV</th>\n",
       "      <th>Pen M</th>\n",
       "      <th>Goals conceded</th>\n",
       "      <th>Conceded 1+</th>\n",
       "      <th>OG</th>\n",
       "    </tr>\n",
       "  </thead>\n",
       "  <tbody>\n",
       "    <tr>\n",
       "      <th>0</th>\n",
       "      <td>Mohamed Salah</td>\n",
       "      <td>246</td>\n",
       "      <td>LPOOL</td>\n",
       "      <td>Forward</td>\n",
       "      <td>32</td>\n",
       "      <td>31</td>\n",
       "      <td>9</td>\n",
       "      <td>-</td>\n",
       "      <td>-</td>\n",
       "      <td>0</td>\n",
       "      <td>0</td>\n",
       "      <td>2</td>\n",
       "      <td>2</td>\n",
       "      <td>16</td>\n",
       "      <td>-</td>\n",
       "      <td>1</td>\n",
       "      <td>-</td>\n",
       "      <td>-</td>\n",
       "      <td>0</td>\n",
       "    </tr>\n",
       "    <tr>\n",
       "      <th>1</th>\n",
       "      <td>Harry Kane</td>\n",
       "      <td>193</td>\n",
       "      <td>SPURS</td>\n",
       "      <td>Forward</td>\n",
       "      <td>31</td>\n",
       "      <td>26</td>\n",
       "      <td>2</td>\n",
       "      <td>-</td>\n",
       "      <td>-</td>\n",
       "      <td>5</td>\n",
       "      <td>0</td>\n",
       "      <td>2</td>\n",
       "      <td>2</td>\n",
       "      <td>9</td>\n",
       "      <td>-</td>\n",
       "      <td>1</td>\n",
       "      <td>-</td>\n",
       "      <td>-</td>\n",
       "      <td>0</td>\n",
       "    </tr>\n",
       "    <tr>\n",
       "      <th>2</th>\n",
       "      <td>Raheem Sterling</td>\n",
       "      <td>174</td>\n",
       "      <td>MCFC</td>\n",
       "      <td>Midfielder</td>\n",
       "      <td>27</td>\n",
       "      <td>18</td>\n",
       "      <td>10</td>\n",
       "      <td>-</td>\n",
       "      <td>-</td>\n",
       "      <td>4</td>\n",
       "      <td>0</td>\n",
       "      <td>5</td>\n",
       "      <td>4</td>\n",
       "      <td>9</td>\n",
       "      <td>-</td>\n",
       "      <td>0</td>\n",
       "      <td>-</td>\n",
       "      <td>-</td>\n",
       "      <td>0</td>\n",
       "    </tr>\n",
       "    <tr>\n",
       "      <th>3</th>\n",
       "      <td>Sergio Aguero</td>\n",
       "      <td>168</td>\n",
       "      <td>MCFC</td>\n",
       "      <td>Forward</td>\n",
       "      <td>22</td>\n",
       "      <td>21</td>\n",
       "      <td>6</td>\n",
       "      <td>-</td>\n",
       "      <td>-</td>\n",
       "      <td>2</td>\n",
       "      <td>0</td>\n",
       "      <td>7</td>\n",
       "      <td>3</td>\n",
       "      <td>9</td>\n",
       "      <td>-</td>\n",
       "      <td>0</td>\n",
       "      <td>-</td>\n",
       "      <td>-</td>\n",
       "      <td>0</td>\n",
       "    </tr>\n",
       "    <tr>\n",
       "      <th>4</th>\n",
       "      <td>Romelu Lukaku</td>\n",
       "      <td>160</td>\n",
       "      <td>MUFC</td>\n",
       "      <td>Forward</td>\n",
       "      <td>32</td>\n",
       "      <td>16</td>\n",
       "      <td>7</td>\n",
       "      <td>-</td>\n",
       "      <td>-</td>\n",
       "      <td>4</td>\n",
       "      <td>0</td>\n",
       "      <td>1</td>\n",
       "      <td>1</td>\n",
       "      <td>2</td>\n",
       "      <td>-</td>\n",
       "      <td>1</td>\n",
       "      <td>-</td>\n",
       "      <td>-</td>\n",
       "      <td>0</td>\n",
       "    </tr>\n",
       "  </tbody>\n",
       "</table>\n",
       "</div>"
      ],
      "text/plain": [
       "           Players  Points  Clubs    Position  Start  Goals   A CS CS part  \\\n",
       "0    Mohamed Salah     246  LPOOL     Forward     32     31   9  -       -   \n",
       "1       Harry Kane     193  SPURS     Forward     31     26   2  -       -   \n",
       "2  Raheem Sterling     174   MCFC  Midfielder     27     18  10  -       -   \n",
       "3    Sergio Aguero     168   MCFC     Forward     22     21   6  -       -   \n",
       "4    Romelu Lukaku     160   MUFC     Forward     32     16   7  -       -   \n",
       "\n",
       "   Yellow  Red  Sub  CO  Off Pen SV  Pen M Goals conceded Conceded 1+  OG  \n",
       "0       0    0    2   2   16      -      1              -           -   0  \n",
       "1       5    0    2   2    9      -      1              -           -   0  \n",
       "2       4    0    5   4    9      -      0              -           -   0  \n",
       "3       2    0    7   3    9      -      0              -           -   0  \n",
       "4       4    0    1   1    2      -      1              -           -   0  "
      ]
     },
     "execution_count": 41,
     "metadata": {},
     "output_type": "execute_result"
    }
   ],
   "source": [
    "SEA1718.head(5)"
   ]
  },
  {
   "cell_type": "markdown",
   "metadata": {},
   "source": [
    "### Creating new columns Apps and Form\n",
    "* Apps is the total number of appearances a player makes (Starts plus being subbed on)\n",
    "* Form is the total number of points divided by the number of appearances.\n",
    "* All null values in Form filled in as 0"
   ]
  },
  {
   "cell_type": "code",
   "execution_count": 42,
   "metadata": {
    "collapsed": true
   },
   "outputs": [],
   "source": [
    "SEA1718['Apps'] = SEA1718['Start'] + SEA1718['CO']\n",
    "SEA1718['Form'] = SEA1718['Points']/SEA1718['Apps']\n",
    "SEA1718.loc[SEA1718['Form'].isnull(),'Form'] = 0"
   ]
  },
  {
   "cell_type": "code",
   "execution_count": 43,
   "metadata": {},
   "outputs": [
    {
     "data": {
      "text/plain": [
       "0"
      ]
     },
     "execution_count": 43,
     "metadata": {},
     "output_type": "execute_result"
    }
   ],
   "source": [
    "SEA1718.Form.isnull().sum()"
   ]
  },
  {
   "cell_type": "markdown",
   "metadata": {},
   "source": [
    "### Replacing all Hyphen values with 0\n",
    "* In this dataset hyphen represented no data so these were replaced with 0"
   ]
  },
  {
   "cell_type": "code",
   "execution_count": 44,
   "metadata": {
    "collapsed": true
   },
   "outputs": [],
   "source": [
    "DashColumns = ['Goals','A','CS','CS part','Yellow','Red','Sub','CO','Off','Pen SV','Pen M','Goals conceded','Conceded 1+','OG',]\n",
    "SEA1718[DashColumns] = SEA1718[DashColumns].replace('-' ,'0')"
   ]
  },
  {
   "cell_type": "markdown",
   "metadata": {},
   "source": [
    "### Checking dataframe data types\n",
    "* Changed the columns CS, CS part, Pen SV, Goals conceded and Conceded 1+ from type object to int"
   ]
  },
  {
   "cell_type": "code",
   "execution_count": 45,
   "metadata": {},
   "outputs": [
    {
     "name": "stdout",
     "output_type": "stream",
     "text": [
      "<class 'pandas.core.frame.DataFrame'>\n",
      "RangeIndex: 3025 entries, 0 to 3024\n",
      "Data columns (total 21 columns):\n",
      "Players           3025 non-null object\n",
      "Points            3025 non-null int64\n",
      "Clubs             2362 non-null object\n",
      "Position          3025 non-null object\n",
      "Start             3025 non-null int64\n",
      "Goals             3025 non-null int64\n",
      "A                 3025 non-null int64\n",
      "CS                3025 non-null object\n",
      "CS part           3025 non-null object\n",
      "Yellow            3025 non-null int64\n",
      "Red               3025 non-null int64\n",
      "Sub               3025 non-null int64\n",
      "CO                3025 non-null int64\n",
      "Off               3025 non-null int64\n",
      "Pen SV            3025 non-null object\n",
      "Pen M             3025 non-null int64\n",
      "Goals conceded    3025 non-null object\n",
      "Conceded 1+       3025 non-null object\n",
      "OG                3025 non-null int64\n",
      "Apps              3025 non-null int64\n",
      "Form              3025 non-null float64\n",
      "dtypes: float64(1), int64(12), object(8)\n",
      "memory usage: 496.4+ KB\n"
     ]
    }
   ],
   "source": [
    "SEA1718.info()"
   ]
  },
  {
   "cell_type": "code",
   "execution_count": 46,
   "metadata": {
    "collapsed": true
   },
   "outputs": [],
   "source": [
    "SEA1718['CS'] = SEA1718['CS'].str.replace('%','').astype(np.int)\n",
    "SEA1718['CS part'] = SEA1718['CS part'].str.replace('%','').astype(np.int)\n",
    "SEA1718['Pen SV'] = SEA1718['Pen SV'].str.replace('%','').astype(np.int)\n",
    "SEA1718['Goals conceded'] = SEA1718['Goals conceded'].str.replace('%','').astype(np.int)\n",
    "SEA1718['Conceded 1+'] = SEA1718['Conceded 1+'].str.replace('%','').astype(np.int)"
   ]
  },
  {
   "cell_type": "markdown",
   "metadata": {},
   "source": [
    "#### Spliting player names into First Initial and Surname.\n",
    "Repeating process from FIFA18 notebook in preperation for joining.  \n",
    "Each case deals with players with single, normal double and triple barrel names.  \n",
    "EG: Harry Kane is now H.Kane"
   ]
  },
  {
   "cell_type": "code",
   "execution_count": 47,
   "metadata": {
    "collapsed": true
   },
   "outputs": [],
   "source": [
    "SEA1718.loc[SEA1718['Players'].str.split().str.len() == 1, 'FirstInitial'] = SEA1718['Players'].astype(str).str[0]\n",
    "SEA1718.loc[SEA1718['Players'].str.split().str.len() == 1, 'Firstname'] = SEA1718['Players'].str.split().str[0]\n",
    "SEA1718.loc[SEA1718['Players'].str.split().str.len() == 1, 'Surname'] = SEA1718['Players'].str.split().str[0]\n",
    "\n",
    "SEA1718.loc[SEA1718['Players'].str.split().str.len() == 2, 'FirstInitial'] = SEA1718['Players'].astype(str).str[0]\n",
    "SEA1718.loc[SEA1718['Players'].str.split().str.len() == 2, 'Firstname'] = SEA1718['Players'].str.split().str[0]\n",
    "SEA1718.loc[SEA1718['Players'].str.split().str.len() == 2, 'Surname'] = SEA1718['Players'].str.split().str[-1]\n",
    "\n",
    "SEA1718.loc[SEA1718['Players'].str.split().str.len() == 3, 'FirstInitial'] = SEA1718['Players'].astype(str).str[0]\n",
    "SEA1718.loc[SEA1718['Players'].str.split().str.len() == 3, 'Firstname'] = SEA1718['Players'].str.split().str[0]\n",
    "SEA1718.loc[SEA1718['Players'].str.split().str.len() == 3, 'Surname'] = SEA1718['Players'].str.split().str[-1]\n",
    "\n",
    "SEA1718.loc[SEA1718['Players'].str.split().str.len() == 4, 'FirstInitial'] = SEA1718['Players'].astype(str).str[0]\n",
    "SEA1718.loc[SEA1718['Players'].str.split().str.len() == 4, 'Firstname'] = SEA1718['Players'].str.split().str[0]\n",
    "SEA1718.loc[SEA1718['Players'].str.split().str.len() == 4, 'Surname'] = SEA1718['Players'].str.split().str[-1]"
   ]
  },
  {
   "cell_type": "markdown",
   "metadata": {},
   "source": [
    "### Cleaned dataframe now finished"
   ]
  },
  {
   "cell_type": "code",
   "execution_count": 48,
   "metadata": {},
   "outputs": [
    {
     "data": {
      "text/html": [
       "<div>\n",
       "<style>\n",
       "    .dataframe thead tr:only-child th {\n",
       "        text-align: right;\n",
       "    }\n",
       "\n",
       "    .dataframe thead th {\n",
       "        text-align: left;\n",
       "    }\n",
       "\n",
       "    .dataframe tbody tr th {\n",
       "        vertical-align: top;\n",
       "    }\n",
       "</style>\n",
       "<table border=\"1\" class=\"dataframe\">\n",
       "  <thead>\n",
       "    <tr style=\"text-align: right;\">\n",
       "      <th></th>\n",
       "      <th>Players</th>\n",
       "      <th>Points</th>\n",
       "      <th>Clubs</th>\n",
       "      <th>Position</th>\n",
       "      <th>Start</th>\n",
       "      <th>Goals</th>\n",
       "      <th>A</th>\n",
       "      <th>CS</th>\n",
       "      <th>CS part</th>\n",
       "      <th>Yellow</th>\n",
       "      <th>...</th>\n",
       "      <th>Pen SV</th>\n",
       "      <th>Pen M</th>\n",
       "      <th>Goals conceded</th>\n",
       "      <th>Conceded 1+</th>\n",
       "      <th>OG</th>\n",
       "      <th>Apps</th>\n",
       "      <th>Form</th>\n",
       "      <th>FirstInitial</th>\n",
       "      <th>Firstname</th>\n",
       "      <th>Surname</th>\n",
       "    </tr>\n",
       "  </thead>\n",
       "  <tbody>\n",
       "    <tr>\n",
       "      <th>0</th>\n",
       "      <td>Mohamed Salah</td>\n",
       "      <td>246</td>\n",
       "      <td>LPOOL</td>\n",
       "      <td>Forward</td>\n",
       "      <td>32</td>\n",
       "      <td>31</td>\n",
       "      <td>9</td>\n",
       "      <td>0</td>\n",
       "      <td>0</td>\n",
       "      <td>0</td>\n",
       "      <td>...</td>\n",
       "      <td>0</td>\n",
       "      <td>1</td>\n",
       "      <td>0</td>\n",
       "      <td>0</td>\n",
       "      <td>0</td>\n",
       "      <td>34</td>\n",
       "      <td>7.235294</td>\n",
       "      <td>M</td>\n",
       "      <td>Mohamed</td>\n",
       "      <td>Salah</td>\n",
       "    </tr>\n",
       "    <tr>\n",
       "      <th>1</th>\n",
       "      <td>Harry Kane</td>\n",
       "      <td>193</td>\n",
       "      <td>SPURS</td>\n",
       "      <td>Forward</td>\n",
       "      <td>31</td>\n",
       "      <td>26</td>\n",
       "      <td>2</td>\n",
       "      <td>0</td>\n",
       "      <td>0</td>\n",
       "      <td>5</td>\n",
       "      <td>...</td>\n",
       "      <td>0</td>\n",
       "      <td>1</td>\n",
       "      <td>0</td>\n",
       "      <td>0</td>\n",
       "      <td>0</td>\n",
       "      <td>33</td>\n",
       "      <td>5.848485</td>\n",
       "      <td>H</td>\n",
       "      <td>Harry</td>\n",
       "      <td>Kane</td>\n",
       "    </tr>\n",
       "    <tr>\n",
       "      <th>2</th>\n",
       "      <td>Raheem Sterling</td>\n",
       "      <td>174</td>\n",
       "      <td>MCFC</td>\n",
       "      <td>Midfielder</td>\n",
       "      <td>27</td>\n",
       "      <td>18</td>\n",
       "      <td>10</td>\n",
       "      <td>0</td>\n",
       "      <td>0</td>\n",
       "      <td>4</td>\n",
       "      <td>...</td>\n",
       "      <td>0</td>\n",
       "      <td>0</td>\n",
       "      <td>0</td>\n",
       "      <td>0</td>\n",
       "      <td>0</td>\n",
       "      <td>31</td>\n",
       "      <td>5.612903</td>\n",
       "      <td>R</td>\n",
       "      <td>Raheem</td>\n",
       "      <td>Sterling</td>\n",
       "    </tr>\n",
       "    <tr>\n",
       "      <th>3</th>\n",
       "      <td>Sergio Aguero</td>\n",
       "      <td>168</td>\n",
       "      <td>MCFC</td>\n",
       "      <td>Forward</td>\n",
       "      <td>22</td>\n",
       "      <td>21</td>\n",
       "      <td>6</td>\n",
       "      <td>0</td>\n",
       "      <td>0</td>\n",
       "      <td>2</td>\n",
       "      <td>...</td>\n",
       "      <td>0</td>\n",
       "      <td>0</td>\n",
       "      <td>0</td>\n",
       "      <td>0</td>\n",
       "      <td>0</td>\n",
       "      <td>25</td>\n",
       "      <td>6.720000</td>\n",
       "      <td>S</td>\n",
       "      <td>Sergio</td>\n",
       "      <td>Aguero</td>\n",
       "    </tr>\n",
       "    <tr>\n",
       "      <th>4</th>\n",
       "      <td>Romelu Lukaku</td>\n",
       "      <td>160</td>\n",
       "      <td>MUFC</td>\n",
       "      <td>Forward</td>\n",
       "      <td>32</td>\n",
       "      <td>16</td>\n",
       "      <td>7</td>\n",
       "      <td>0</td>\n",
       "      <td>0</td>\n",
       "      <td>4</td>\n",
       "      <td>...</td>\n",
       "      <td>0</td>\n",
       "      <td>1</td>\n",
       "      <td>0</td>\n",
       "      <td>0</td>\n",
       "      <td>0</td>\n",
       "      <td>33</td>\n",
       "      <td>4.848485</td>\n",
       "      <td>R</td>\n",
       "      <td>Romelu</td>\n",
       "      <td>Lukaku</td>\n",
       "    </tr>\n",
       "  </tbody>\n",
       "</table>\n",
       "<p>5 rows × 24 columns</p>\n",
       "</div>"
      ],
      "text/plain": [
       "           Players  Points  Clubs    Position  Start  Goals   A  CS  CS part  \\\n",
       "0    Mohamed Salah     246  LPOOL     Forward     32     31   9   0        0   \n",
       "1       Harry Kane     193  SPURS     Forward     31     26   2   0        0   \n",
       "2  Raheem Sterling     174   MCFC  Midfielder     27     18  10   0        0   \n",
       "3    Sergio Aguero     168   MCFC     Forward     22     21   6   0        0   \n",
       "4    Romelu Lukaku     160   MUFC     Forward     32     16   7   0        0   \n",
       "\n",
       "   Yellow    ...     Pen SV  Pen M  Goals conceded  Conceded 1+  OG  Apps  \\\n",
       "0       0    ...          0      1               0            0   0    34   \n",
       "1       5    ...          0      1               0            0   0    33   \n",
       "2       4    ...          0      0               0            0   0    31   \n",
       "3       2    ...          0      0               0            0   0    25   \n",
       "4       4    ...          0      1               0            0   0    33   \n",
       "\n",
       "       Form  FirstInitial  Firstname   Surname  \n",
       "0  7.235294             M    Mohamed     Salah  \n",
       "1  5.848485             H      Harry      Kane  \n",
       "2  5.612903             R     Raheem  Sterling  \n",
       "3  6.720000             S     Sergio    Aguero  \n",
       "4  4.848485             R     Romelu    Lukaku  \n",
       "\n",
       "[5 rows x 24 columns]"
      ]
     },
     "execution_count": 48,
     "metadata": {},
     "output_type": "execute_result"
    }
   ],
   "source": [
    "SEA1718.head(5)"
   ]
  },
  {
   "cell_type": "markdown",
   "metadata": {},
   "source": [
    "#### Saving to csv file in data/prep"
   ]
  },
  {
   "cell_type": "code",
   "execution_count": 49,
   "metadata": {
    "collapsed": true
   },
   "outputs": [],
   "source": [
    "SEA1718.to_csv('../../data/prep/Fantasy1718.csv')"
   ]
  }
 ],
 "metadata": {
  "kernelspec": {
   "display_name": "Python 3",
   "language": "python",
   "name": "python3"
  },
  "language_info": {
   "codemirror_mode": {
    "name": "ipython",
    "version": 3
   },
   "file_extension": ".py",
   "mimetype": "text/x-python",
   "name": "python",
   "nbconvert_exporter": "python",
   "pygments_lexer": "ipython3",
   "version": "3.6.3"
  }
 },
 "nbformat": 4,
 "nbformat_minor": 2
}
