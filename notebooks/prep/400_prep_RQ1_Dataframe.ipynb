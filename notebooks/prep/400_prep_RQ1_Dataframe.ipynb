{
 "cells": [
  {
   "cell_type": "code",
   "execution_count": 19,
   "metadata": {
    "collapsed": true
   },
   "outputs": [],
   "source": [
    "import os.path\n",
    "import numpy as np\n",
    "import pandas as pd"
   ]
  },
  {
   "cell_type": "code",
   "execution_count": 20,
   "metadata": {
    "collapsed": true
   },
   "outputs": [],
   "source": [
    "DF1 = pd.read_csv(\"../../data/prep/Joined1617.csv\")\n",
    "DF2 = pd.read_csv(\"../../data/prep/Joined1516.csv\")\n",
    "DF3 = pd.read_csv(\"../../data/prep/Joined1415.csv\")\n",
    "DF4 = pd.read_csv(\"../../data/prep/Joined1314.csv\")\n",
    "DF5 = pd.read_csv(\"../../data/prep/Joined1213.csv\")\n",
    "DF6 = pd.read_csv(\"../../data/prep/Joined1718.csv\")"
   ]
  },
  {
   "cell_type": "code",
   "execution_count": 21,
   "metadata": {},
   "outputs": [
    {
     "ename": "KeyError",
     "evalue": "\"['Form'] not in index\"",
     "output_type": "error",
     "traceback": [
      "\u001b[1;31m---------------------------------------------------------------------------\u001b[0m",
      "\u001b[1;31mKeyError\u001b[0m                                  Traceback (most recent call last)",
      "\u001b[1;32m<ipython-input-21-8626a353f478>\u001b[0m in \u001b[0;36m<module>\u001b[1;34m()\u001b[0m\n\u001b[0;32m      2\u001b[0m \u001b[0ms2\u001b[0m \u001b[1;33m=\u001b[0m \u001b[0mDF2\u001b[0m\u001b[1;33m.\u001b[0m\u001b[0mdrop_duplicates\u001b[0m\u001b[1;33m(\u001b[0m\u001b[1;33m[\u001b[0m\u001b[1;34m'Players'\u001b[0m\u001b[1;33m,\u001b[0m\u001b[1;34m'club'\u001b[0m\u001b[1;33m,\u001b[0m\u001b[1;34m'league'\u001b[0m\u001b[1;33m,\u001b[0m\u001b[1;34m'age'\u001b[0m\u001b[1;33m,\u001b[0m\u001b[1;34m'nationality'\u001b[0m\u001b[1;33m,\u001b[0m\u001b[1;34m'Position'\u001b[0m\u001b[1;33m,\u001b[0m\u001b[1;34m'overall'\u001b[0m\u001b[1;33m,\u001b[0m\u001b[1;34m'potential'\u001b[0m\u001b[1;33m,\u001b[0m\u001b[1;34m'eur_value'\u001b[0m\u001b[1;33m]\u001b[0m\u001b[1;33m)\u001b[0m\u001b[1;33m.\u001b[0m\u001b[0mset_index\u001b[0m\u001b[1;33m(\u001b[0m\u001b[1;33m[\u001b[0m\u001b[1;34m'Players'\u001b[0m\u001b[1;33m,\u001b[0m\u001b[1;34m'club'\u001b[0m\u001b[1;33m,\u001b[0m\u001b[1;34m'league'\u001b[0m\u001b[1;33m,\u001b[0m\u001b[1;34m'age'\u001b[0m\u001b[1;33m,\u001b[0m\u001b[1;34m'nationality'\u001b[0m\u001b[1;33m,\u001b[0m\u001b[1;34m'Position'\u001b[0m\u001b[1;33m,\u001b[0m\u001b[1;34m'overall'\u001b[0m\u001b[1;33m,\u001b[0m\u001b[1;34m'potential'\u001b[0m\u001b[1;33m,\u001b[0m\u001b[1;34m'eur_value'\u001b[0m\u001b[1;33m]\u001b[0m\u001b[1;33m)\u001b[0m\u001b[1;33m[\u001b[0m\u001b[1;33m[\u001b[0m\u001b[1;34m'Form'\u001b[0m\u001b[1;33m]\u001b[0m\u001b[1;33m]\u001b[0m\u001b[1;33m\u001b[0m\u001b[0m\n\u001b[0;32m      3\u001b[0m \u001b[0ms3\u001b[0m \u001b[1;33m=\u001b[0m \u001b[0mDF3\u001b[0m\u001b[1;33m.\u001b[0m\u001b[0mdrop_duplicates\u001b[0m\u001b[1;33m(\u001b[0m\u001b[1;33m[\u001b[0m\u001b[1;34m'Players'\u001b[0m\u001b[1;33m,\u001b[0m\u001b[1;34m'club'\u001b[0m\u001b[1;33m,\u001b[0m\u001b[1;34m'league'\u001b[0m\u001b[1;33m,\u001b[0m\u001b[1;34m'age'\u001b[0m\u001b[1;33m,\u001b[0m\u001b[1;34m'nationality'\u001b[0m\u001b[1;33m,\u001b[0m\u001b[1;34m'Position'\u001b[0m\u001b[1;33m,\u001b[0m\u001b[1;34m'overall'\u001b[0m\u001b[1;33m,\u001b[0m\u001b[1;34m'potential'\u001b[0m\u001b[1;33m,\u001b[0m\u001b[1;34m'eur_value'\u001b[0m\u001b[1;33m]\u001b[0m\u001b[1;33m)\u001b[0m\u001b[1;33m.\u001b[0m\u001b[0mset_index\u001b[0m\u001b[1;33m(\u001b[0m\u001b[1;33m[\u001b[0m\u001b[1;34m'Players'\u001b[0m\u001b[1;33m,\u001b[0m\u001b[1;34m'club'\u001b[0m\u001b[1;33m,\u001b[0m\u001b[1;34m'league'\u001b[0m\u001b[1;33m,\u001b[0m\u001b[1;34m'age'\u001b[0m\u001b[1;33m,\u001b[0m\u001b[1;34m'nationality'\u001b[0m\u001b[1;33m,\u001b[0m\u001b[1;34m'Position'\u001b[0m\u001b[1;33m,\u001b[0m\u001b[1;34m'overall'\u001b[0m\u001b[1;33m,\u001b[0m\u001b[1;34m'potential'\u001b[0m\u001b[1;33m,\u001b[0m\u001b[1;34m'eur_value'\u001b[0m\u001b[1;33m]\u001b[0m\u001b[1;33m)\u001b[0m\u001b[1;33m[\u001b[0m\u001b[1;33m[\u001b[0m\u001b[1;34m'Form'\u001b[0m\u001b[1;33m]\u001b[0m\u001b[1;33m]\u001b[0m\u001b[1;33m\u001b[0m\u001b[0m\n\u001b[1;32m----> 4\u001b[1;33m \u001b[0ms4\u001b[0m \u001b[1;33m=\u001b[0m \u001b[0mDF4\u001b[0m\u001b[1;33m.\u001b[0m\u001b[0mdrop_duplicates\u001b[0m\u001b[1;33m(\u001b[0m\u001b[1;33m[\u001b[0m\u001b[1;34m'Players'\u001b[0m\u001b[1;33m,\u001b[0m\u001b[1;34m'club'\u001b[0m\u001b[1;33m,\u001b[0m\u001b[1;34m'league'\u001b[0m\u001b[1;33m,\u001b[0m\u001b[1;34m'age'\u001b[0m\u001b[1;33m,\u001b[0m\u001b[1;34m'nationality'\u001b[0m\u001b[1;33m,\u001b[0m\u001b[1;34m'Position'\u001b[0m\u001b[1;33m,\u001b[0m\u001b[1;34m'overall'\u001b[0m\u001b[1;33m,\u001b[0m\u001b[1;34m'potential'\u001b[0m\u001b[1;33m,\u001b[0m\u001b[1;34m'eur_value'\u001b[0m\u001b[1;33m]\u001b[0m\u001b[1;33m)\u001b[0m\u001b[1;33m.\u001b[0m\u001b[0mset_index\u001b[0m\u001b[1;33m(\u001b[0m\u001b[1;33m[\u001b[0m\u001b[1;34m'Players'\u001b[0m\u001b[1;33m,\u001b[0m\u001b[1;34m'club'\u001b[0m\u001b[1;33m,\u001b[0m\u001b[1;34m'league'\u001b[0m\u001b[1;33m,\u001b[0m\u001b[1;34m'age'\u001b[0m\u001b[1;33m,\u001b[0m\u001b[1;34m'nationality'\u001b[0m\u001b[1;33m,\u001b[0m\u001b[1;34m'Position'\u001b[0m\u001b[1;33m,\u001b[0m\u001b[1;34m'overall'\u001b[0m\u001b[1;33m,\u001b[0m\u001b[1;34m'potential'\u001b[0m\u001b[1;33m,\u001b[0m\u001b[1;34m'eur_value'\u001b[0m\u001b[1;33m]\u001b[0m\u001b[1;33m)\u001b[0m\u001b[1;33m[\u001b[0m\u001b[1;33m[\u001b[0m\u001b[1;34m'Form'\u001b[0m\u001b[1;33m]\u001b[0m\u001b[1;33m]\u001b[0m\u001b[1;33m\u001b[0m\u001b[0m\n\u001b[0m\u001b[0;32m      5\u001b[0m \u001b[0ms5\u001b[0m \u001b[1;33m=\u001b[0m \u001b[0mDF5\u001b[0m\u001b[1;33m.\u001b[0m\u001b[0mdrop_duplicates\u001b[0m\u001b[1;33m(\u001b[0m\u001b[1;33m[\u001b[0m\u001b[1;34m'Players'\u001b[0m\u001b[1;33m,\u001b[0m\u001b[1;34m'club'\u001b[0m\u001b[1;33m,\u001b[0m\u001b[1;34m'league'\u001b[0m\u001b[1;33m,\u001b[0m\u001b[1;34m'age'\u001b[0m\u001b[1;33m,\u001b[0m\u001b[1;34m'nationality'\u001b[0m\u001b[1;33m,\u001b[0m\u001b[1;34m'Position'\u001b[0m\u001b[1;33m,\u001b[0m\u001b[1;34m'overall'\u001b[0m\u001b[1;33m,\u001b[0m\u001b[1;34m'potential'\u001b[0m\u001b[1;33m,\u001b[0m\u001b[1;34m'eur_value'\u001b[0m\u001b[1;33m]\u001b[0m\u001b[1;33m)\u001b[0m\u001b[1;33m.\u001b[0m\u001b[0mset_index\u001b[0m\u001b[1;33m(\u001b[0m\u001b[1;33m[\u001b[0m\u001b[1;34m'Players'\u001b[0m\u001b[1;33m,\u001b[0m\u001b[1;34m'club'\u001b[0m\u001b[1;33m,\u001b[0m\u001b[1;34m'league'\u001b[0m\u001b[1;33m,\u001b[0m\u001b[1;34m'age'\u001b[0m\u001b[1;33m,\u001b[0m\u001b[1;34m'nationality'\u001b[0m\u001b[1;33m,\u001b[0m\u001b[1;34m'Position'\u001b[0m\u001b[1;33m,\u001b[0m\u001b[1;34m'overall'\u001b[0m\u001b[1;33m,\u001b[0m\u001b[1;34m'potential'\u001b[0m\u001b[1;33m,\u001b[0m\u001b[1;34m'eur_value'\u001b[0m\u001b[1;33m]\u001b[0m\u001b[1;33m)\u001b[0m\u001b[1;33m[\u001b[0m\u001b[1;33m[\u001b[0m\u001b[1;34m'Form'\u001b[0m\u001b[1;33m]\u001b[0m\u001b[1;33m]\u001b[0m\u001b[1;33m\u001b[0m\u001b[0m\n\u001b[0;32m      6\u001b[0m \u001b[0ms6\u001b[0m \u001b[1;33m=\u001b[0m \u001b[0mDF6\u001b[0m\u001b[1;33m.\u001b[0m\u001b[0mdrop_duplicates\u001b[0m\u001b[1;33m(\u001b[0m\u001b[1;33m[\u001b[0m\u001b[1;34m'Players'\u001b[0m\u001b[1;33m,\u001b[0m\u001b[1;34m'club'\u001b[0m\u001b[1;33m,\u001b[0m\u001b[1;34m'league'\u001b[0m\u001b[1;33m,\u001b[0m\u001b[1;34m'age'\u001b[0m\u001b[1;33m,\u001b[0m\u001b[1;34m'nationality'\u001b[0m\u001b[1;33m,\u001b[0m\u001b[1;34m'Position'\u001b[0m\u001b[1;33m,\u001b[0m\u001b[1;34m'overall'\u001b[0m\u001b[1;33m,\u001b[0m\u001b[1;34m'potential'\u001b[0m\u001b[1;33m,\u001b[0m\u001b[1;34m'eur_value'\u001b[0m\u001b[1;33m]\u001b[0m\u001b[1;33m)\u001b[0m\u001b[1;33m.\u001b[0m\u001b[0mset_index\u001b[0m\u001b[1;33m(\u001b[0m\u001b[1;33m[\u001b[0m\u001b[1;34m'Players'\u001b[0m\u001b[1;33m,\u001b[0m\u001b[1;34m'club'\u001b[0m\u001b[1;33m,\u001b[0m\u001b[1;34m'league'\u001b[0m\u001b[1;33m,\u001b[0m\u001b[1;34m'age'\u001b[0m\u001b[1;33m,\u001b[0m\u001b[1;34m'nationality'\u001b[0m\u001b[1;33m,\u001b[0m\u001b[1;34m'Position'\u001b[0m\u001b[1;33m,\u001b[0m\u001b[1;34m'overall'\u001b[0m\u001b[1;33m,\u001b[0m\u001b[1;34m'potential'\u001b[0m\u001b[1;33m,\u001b[0m\u001b[1;34m'eur_value'\u001b[0m\u001b[1;33m]\u001b[0m\u001b[1;33m)\u001b[0m\u001b[1;33m[\u001b[0m\u001b[1;33m[\u001b[0m\u001b[1;34m'Form'\u001b[0m\u001b[1;33m]\u001b[0m\u001b[1;33m]\u001b[0m\u001b[1;33m\u001b[0m\u001b[0m\n",
      "\u001b[1;32m~\\Desktop\\Anaconda3\\lib\\site-packages\\pandas\\core\\frame.py\u001b[0m in \u001b[0;36m__getitem__\u001b[1;34m(self, key)\u001b[0m\n\u001b[0;32m   1956\u001b[0m         \u001b[1;32mif\u001b[0m \u001b[0misinstance\u001b[0m\u001b[1;33m(\u001b[0m\u001b[0mkey\u001b[0m\u001b[1;33m,\u001b[0m \u001b[1;33m(\u001b[0m\u001b[0mSeries\u001b[0m\u001b[1;33m,\u001b[0m \u001b[0mnp\u001b[0m\u001b[1;33m.\u001b[0m\u001b[0mndarray\u001b[0m\u001b[1;33m,\u001b[0m \u001b[0mIndex\u001b[0m\u001b[1;33m,\u001b[0m \u001b[0mlist\u001b[0m\u001b[1;33m)\u001b[0m\u001b[1;33m)\u001b[0m\u001b[1;33m:\u001b[0m\u001b[1;33m\u001b[0m\u001b[0m\n\u001b[0;32m   1957\u001b[0m             \u001b[1;31m# either boolean or fancy integer index\u001b[0m\u001b[1;33m\u001b[0m\u001b[1;33m\u001b[0m\u001b[0m\n\u001b[1;32m-> 1958\u001b[1;33m             \u001b[1;32mreturn\u001b[0m \u001b[0mself\u001b[0m\u001b[1;33m.\u001b[0m\u001b[0m_getitem_array\u001b[0m\u001b[1;33m(\u001b[0m\u001b[0mkey\u001b[0m\u001b[1;33m)\u001b[0m\u001b[1;33m\u001b[0m\u001b[0m\n\u001b[0m\u001b[0;32m   1959\u001b[0m         \u001b[1;32melif\u001b[0m \u001b[0misinstance\u001b[0m\u001b[1;33m(\u001b[0m\u001b[0mkey\u001b[0m\u001b[1;33m,\u001b[0m \u001b[0mDataFrame\u001b[0m\u001b[1;33m)\u001b[0m\u001b[1;33m:\u001b[0m\u001b[1;33m\u001b[0m\u001b[0m\n\u001b[0;32m   1960\u001b[0m             \u001b[1;32mreturn\u001b[0m \u001b[0mself\u001b[0m\u001b[1;33m.\u001b[0m\u001b[0m_getitem_frame\u001b[0m\u001b[1;33m(\u001b[0m\u001b[0mkey\u001b[0m\u001b[1;33m)\u001b[0m\u001b[1;33m\u001b[0m\u001b[0m\n",
      "\u001b[1;32m~\\Desktop\\Anaconda3\\lib\\site-packages\\pandas\\core\\frame.py\u001b[0m in \u001b[0;36m_getitem_array\u001b[1;34m(self, key)\u001b[0m\n\u001b[0;32m   2000\u001b[0m             \u001b[1;32mreturn\u001b[0m \u001b[0mself\u001b[0m\u001b[1;33m.\u001b[0m\u001b[0mtake\u001b[0m\u001b[1;33m(\u001b[0m\u001b[0mindexer\u001b[0m\u001b[1;33m,\u001b[0m \u001b[0maxis\u001b[0m\u001b[1;33m=\u001b[0m\u001b[1;36m0\u001b[0m\u001b[1;33m,\u001b[0m \u001b[0mconvert\u001b[0m\u001b[1;33m=\u001b[0m\u001b[1;32mFalse\u001b[0m\u001b[1;33m)\u001b[0m\u001b[1;33m\u001b[0m\u001b[0m\n\u001b[0;32m   2001\u001b[0m         \u001b[1;32melse\u001b[0m\u001b[1;33m:\u001b[0m\u001b[1;33m\u001b[0m\u001b[0m\n\u001b[1;32m-> 2002\u001b[1;33m             \u001b[0mindexer\u001b[0m \u001b[1;33m=\u001b[0m \u001b[0mself\u001b[0m\u001b[1;33m.\u001b[0m\u001b[0mloc\u001b[0m\u001b[1;33m.\u001b[0m\u001b[0m_convert_to_indexer\u001b[0m\u001b[1;33m(\u001b[0m\u001b[0mkey\u001b[0m\u001b[1;33m,\u001b[0m \u001b[0maxis\u001b[0m\u001b[1;33m=\u001b[0m\u001b[1;36m1\u001b[0m\u001b[1;33m)\u001b[0m\u001b[1;33m\u001b[0m\u001b[0m\n\u001b[0m\u001b[0;32m   2003\u001b[0m             \u001b[1;32mreturn\u001b[0m \u001b[0mself\u001b[0m\u001b[1;33m.\u001b[0m\u001b[0mtake\u001b[0m\u001b[1;33m(\u001b[0m\u001b[0mindexer\u001b[0m\u001b[1;33m,\u001b[0m \u001b[0maxis\u001b[0m\u001b[1;33m=\u001b[0m\u001b[1;36m1\u001b[0m\u001b[1;33m,\u001b[0m \u001b[0mconvert\u001b[0m\u001b[1;33m=\u001b[0m\u001b[1;32mTrue\u001b[0m\u001b[1;33m)\u001b[0m\u001b[1;33m\u001b[0m\u001b[0m\n\u001b[0;32m   2004\u001b[0m \u001b[1;33m\u001b[0m\u001b[0m\n",
      "\u001b[1;32m~\\Desktop\\Anaconda3\\lib\\site-packages\\pandas\\core\\indexing.py\u001b[0m in \u001b[0;36m_convert_to_indexer\u001b[1;34m(self, obj, axis, is_setter)\u001b[0m\n\u001b[0;32m   1229\u001b[0m                 \u001b[0mmask\u001b[0m \u001b[1;33m=\u001b[0m \u001b[0mcheck\u001b[0m \u001b[1;33m==\u001b[0m \u001b[1;33m-\u001b[0m\u001b[1;36m1\u001b[0m\u001b[1;33m\u001b[0m\u001b[0m\n\u001b[0;32m   1230\u001b[0m                 \u001b[1;32mif\u001b[0m \u001b[0mmask\u001b[0m\u001b[1;33m.\u001b[0m\u001b[0many\u001b[0m\u001b[1;33m(\u001b[0m\u001b[1;33m)\u001b[0m\u001b[1;33m:\u001b[0m\u001b[1;33m\u001b[0m\u001b[0m\n\u001b[1;32m-> 1231\u001b[1;33m                     \u001b[1;32mraise\u001b[0m \u001b[0mKeyError\u001b[0m\u001b[1;33m(\u001b[0m\u001b[1;34m'%s not in index'\u001b[0m \u001b[1;33m%\u001b[0m \u001b[0mobjarr\u001b[0m\u001b[1;33m[\u001b[0m\u001b[0mmask\u001b[0m\u001b[1;33m]\u001b[0m\u001b[1;33m)\u001b[0m\u001b[1;33m\u001b[0m\u001b[0m\n\u001b[0m\u001b[0;32m   1232\u001b[0m \u001b[1;33m\u001b[0m\u001b[0m\n\u001b[0;32m   1233\u001b[0m                 \u001b[1;32mreturn\u001b[0m \u001b[0m_values_from_object\u001b[0m\u001b[1;33m(\u001b[0m\u001b[0mindexer\u001b[0m\u001b[1;33m)\u001b[0m\u001b[1;33m\u001b[0m\u001b[0m\n",
      "\u001b[1;31mKeyError\u001b[0m: \"['Form'] not in index\""
     ]
    }
   ],
   "source": [
    "s1 = DF1.drop_duplicates(['Players','club','league','age','nationality','Position','overall','potential','eur_value']).set_index(['Players','club','league','age','nationality','Position','overall','potential','eur_value'])[['Form']]\n",
    "s2 = DF2.drop_duplicates(['Players','club','league','age','nationality','Position','overall','potential','eur_value']).set_index(['Players','club','league','age','nationality','Position','overall','potential','eur_value'])[['Form']]\n",
    "s3 = DF3.drop_duplicates(['Players','club','league','age','nationality','Position','overall','potential','eur_value']).set_index(['Players','club','league','age','nationality','Position','overall','potential','eur_value'])[['Form']]\n",
    "s4 = DF4.drop_duplicates(['Players','club','league','age','nationality','Position','overall','potential','eur_value']).set_index(['Players','club','league','age','nationality','Position','overall','potential','eur_value'])[['Form']]\n",
    "s5 = DF5.drop_duplicates(['Players','club','league','age','nationality','Position','overall','potential','eur_value']).set_index(['Players','club','league','age','nationality','Position','overall','potential','eur_value'])[['Form']]\n",
    "s6 = DF6.drop_duplicates(['Players','club','league','age','nationality','Position','overall','potential','eur_value']).set_index(['Players','club','league','age','nationality','Position','overall','potential','eur_value'])[['Form']]\n",
    "RQ1 = pd.concat([s1,s2,s3,s4,s5,s6], axis=1, keys=('Season 16/17','Season 15/16','Season 14/15','Season 13/14','Season 12/13','Season 16/17 to-date')).fillna(0).astype(int).reset_index()"
   ]
  },
  {
   "cell_type": "code",
   "execution_count": null,
   "metadata": {},
   "outputs": [],
   "source": [
    "RQ1"
   ]
  },
  {
   "cell_type": "code",
   "execution_count": null,
   "metadata": {},
   "outputs": [],
   "source": [
    "RQ1.to_csv('../../data/analysis/RQ1.csv')"
   ]
  },
  {
   "cell_type": "code",
   "execution_count": null,
   "metadata": {
    "collapsed": true
   },
   "outputs": [],
   "source": []
  }
 ],
 "metadata": {
  "kernelspec": {
   "display_name": "Python 3",
   "language": "python",
   "name": "python3"
  },
  "language_info": {
   "codemirror_mode": {
    "name": "ipython",
    "version": 3
   },
   "file_extension": ".py",
   "mimetype": "text/x-python",
   "name": "python",
   "nbconvert_exporter": "python",
   "pygments_lexer": "ipython3",
   "version": "3.6.3"
  }
 },
 "nbformat": 4,
 "nbformat_minor": 2
}
