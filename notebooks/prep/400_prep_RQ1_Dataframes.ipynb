{
 "cells": [
  {
   "cell_type": "markdown",
   "metadata": {},
   "source": [
    "# 400_prep_RQ1_Dataframe\n",
    "## Purpose \n",
    "In this notebook we prepare a dataframe for our Research Question 1.  \n",
    "## Datasets \n",
    "* _Input_: Joined1617.csv,Joined1516.csv,Joined1415.csv,Joined1314.csv,Joined1213.csv\n",
    "* _Output_: RQ1.csv"
   ]
  },
  {
   "cell_type": "code",
   "execution_count": 1,
   "metadata": {
    "collapsed": true
   },
   "outputs": [],
   "source": [
    "import math\n",
    "import os.path\n",
    "import numpy as np\n",
    "import pandas as pd"
   ]
  },
  {
   "cell_type": "markdown",
   "metadata": {},
   "source": [
    "### Reading in our cleaned Joined datasets from 16-17 to 12-13."
   ]
  },
  {
   "cell_type": "code",
   "execution_count": 2,
   "metadata": {
    "collapsed": true
   },
   "outputs": [],
   "source": [
    "DF1 = pd.read_csv(\"../../data/prep/Joined1617.csv\")\n",
    "DF2 = pd.read_csv(\"../../data/prep/Joined1516.csv\")\n",
    "DF3 = pd.read_csv(\"../../data/prep/Joined1415.csv\")\n",
    "DF4 = pd.read_csv(\"../../data/prep/Joined1314.csv\")\n",
    "DF5 = pd.read_csv(\"../../data/prep/Joined1213.csv\")\n",
    "DF6 = pd.read_csv(\"../../data/prep/Joined1718.csv\")"
   ]
  },
  {
   "cell_type": "markdown",
   "metadata": {},
   "source": [
    "## Choosing which columns are needed for the Research Question\n",
    "* index refers to all columns that have a fixed figure in FIFA."
   ]
  },
  {
   "cell_type": "code",
   "execution_count": 3,
   "metadata": {
    "collapsed": true
   },
   "outputs": [],
   "source": [
    "index = ['Players','club','league','age','nationality','Position','overall','photo','injury_prone_trait',\"fan's_favourite_trait\"]"
   ]
  },
  {
   "cell_type": "markdown",
   "metadata": {},
   "source": [
    "### Concatting each years using index and Points & Apps"
   ]
  },
  {
   "cell_type": "code",
   "execution_count": 4,
   "metadata": {
    "collapsed": true
   },
   "outputs": [],
   "source": [
    "s1 = DF1.drop_duplicates(index).set_index(index)[['Points','Apps']]\n",
    "s2 = DF2.drop_duplicates(index).set_index(index)[['Points','Apps']]\n",
    "s3 = DF3.drop_duplicates(index).set_index(index)[['Points','Apps']]\n",
    "s4 = DF4.drop_duplicates(index).set_index(index)[['Points','Apps']]\n",
    "s5 = DF5.drop_duplicates(index).set_index(index)[['Points','Apps']]\n",
    "s6 = DF6.drop_duplicates(index).set_index(index)[['Form','Apps']]\n",
    "\n",
    "RQ1 = pd.concat([s1,s2,s3,s4,s5,s6], axis=1, keys=('16/17','15/16','14/15','13/14','12/13','17/18')).fillna(0).astype(float).reset_index()"
   ]
  },
  {
   "cell_type": "markdown",
   "metadata": {},
   "source": [
    "## Filtering\n",
    "**For reproducibility purposes**\n",
    "* Removes players with no appearances."
   ]
  },
  {
   "cell_type": "code",
   "execution_count": 5,
   "metadata": {
    "collapsed": true
   },
   "outputs": [],
   "source": [
    "RQ1 = RQ1.loc[~((RQ1['16/17']['Apps'] == 0) & (RQ1['15/16']['Apps'] == 0) & (RQ1['14/15']['Apps'] == 0) & (RQ1['13/14']['Apps'] == 0) & (RQ1['12/13']['Apps'] == 0) & (RQ1['17/18']['Apps'] == 0))]"
   ]
  },
  {
   "cell_type": "markdown",
   "metadata": {},
   "source": [
    "### Creating a new column 'Valid Seasons'\n",
    "* This checks if a player has played more than 9 games in a season if true it adds one to a count column.\n",
    "* If the total of columns is greater than 2 seasons they are included in the research question.\n",
    "* This is used because to truly judge a player accurately you need atleast two seasons of information "
   ]
  },
  {
   "cell_type": "code",
   "execution_count": 6,
   "metadata": {
    "collapsed": true
   },
   "outputs": [],
   "source": [
    "RQ1['count1'] = 0\n",
    "RQ1.loc[RQ1['16/17']['Apps']>9.0, 'count1'] = 1\n",
    "RQ1['count2'] = 0\n",
    "RQ1.loc[RQ1['15/16']['Apps']>9.0, 'count2'] = 1\n",
    "RQ1['count3'] = 0\n",
    "RQ1.loc[RQ1['14/15']['Apps']>9.0, 'count3'] = 1\n",
    "RQ1['count4'] = 0\n",
    "RQ1.loc[RQ1['13/14']['Apps']>9.0, 'count4'] = 1\n",
    "RQ1['count5'] = 0\n",
    "RQ1.loc[RQ1['12/13']['Apps']>9.0, 'count5'] = 1\n",
    "\n",
    "RQ1['Valid Seasons'] = RQ1['count1'] + RQ1['count2'] + RQ1['count3'] + RQ1['count4'] + RQ1['count5']\n",
    "\n",
    "RQ1 = RQ1[RQ1['Valid Seasons'] >= 2] "
   ]
  },
  {
   "cell_type": "markdown",
   "metadata": {},
   "source": [
    "## Creating New Columns\n",
    "* **Overall Points** - contains the total number of points a player has had.<br><br>\n",
    "* **Overall Apps** - contains the total number of appearances a player has made.<br><br>\n",
    "* **Seasons Played** - is the total number of Seasons a player has played.<br><br>\n",
    "\n",
    "* **Average Apps/Season** - is the Overall Pointed divided by Overall Apps.<br><br>\n",
    "\n",
    "* **Current Form** - is the current form of a player in the 17/18 season.<br><br>\n",
    "\n",
    "* **Apps This Season** -  is the total appearances a player has made this season.<br><br>"
   ]
  },
  {
   "cell_type": "code",
   "execution_count": 7,
   "metadata": {
    "collapsed": true
   },
   "outputs": [],
   "source": [
    "RQ1['Overall Points'] = RQ1['16/17']['Points']+RQ1['15/16']['Points']+RQ1['14/15']['Points']+RQ1['13/14']['Points']+RQ1['12/13']['Points']"
   ]
  },
  {
   "cell_type": "code",
   "execution_count": 8,
   "metadata": {
    "collapsed": true
   },
   "outputs": [],
   "source": [
    "RQ1['Overall Apps'] = RQ1['16/17']['Apps']+RQ1['15/16']['Apps']+RQ1['14/15']['Apps']+RQ1['13/14']['Apps']+RQ1['12/13']['Apps']"
   ]
  },
  {
   "cell_type": "code",
   "execution_count": 9,
   "metadata": {
    "collapsed": true
   },
   "outputs": [],
   "source": [
    "RQ1['count6'] = 0\n",
    "RQ1.loc[RQ1['16/17']['Apps']>0.0, 'count6'] = 1\n",
    "RQ1['count7'] = 0\n",
    "RQ1.loc[RQ1['15/16']['Apps']>0.0, 'count7'] = 1\n",
    "RQ1['count8'] = 0\n",
    "RQ1.loc[RQ1['14/15']['Apps']>0.0, 'count8'] = 1\n",
    "RQ1['count9'] = 0\n",
    "RQ1.loc[RQ1['13/14']['Apps']>0.0, 'count9'] = 1\n",
    "RQ1['count10'] = 0\n",
    "RQ1.loc[RQ1['12/13']['Apps']>0.0, 'count1='] = 1\n",
    "\n",
    "RQ1['Seasons Played'] = RQ1['count6'] + RQ1['count7'] + RQ1['count8'] + RQ1['count9'] + RQ1['count10']"
   ]
  },
  {
   "cell_type": "code",
   "execution_count": 10,
   "metadata": {
    "collapsed": true
   },
   "outputs": [],
   "source": [
    "RQ1['Average Apps/Season'] = RQ1['Overall Apps']/RQ1['Seasons Played']"
   ]
  },
  {
   "cell_type": "code",
   "execution_count": 11,
   "metadata": {
    "collapsed": true
   },
   "outputs": [],
   "source": [
    "RQ1['Previous Average Form'] = RQ1['Overall Points']/RQ1['Overall Apps']"
   ]
  },
  {
   "cell_type": "code",
   "execution_count": 12,
   "metadata": {
    "collapsed": true
   },
   "outputs": [],
   "source": [
    "RQ1['Current Average Form'] = RQ1['17/18']['Form']"
   ]
  },
  {
   "cell_type": "code",
   "execution_count": 13,
   "metadata": {
    "collapsed": true
   },
   "outputs": [],
   "source": [
    "RQ1['Apps This Season'] = RQ1['17/18']['Apps']"
   ]
  },
  {
   "cell_type": "markdown",
   "metadata": {},
   "source": [
    "## Tidying Up\n",
    "* Choosing all the relevant columns to the questions we wish to ask."
   ]
  },
  {
   "cell_type": "code",
   "execution_count": 14,
   "metadata": {},
   "outputs": [
    {
     "data": {
      "text/html": [
       "<div>\n",
       "<style>\n",
       "    .dataframe thead tr:only-child th {\n",
       "        text-align: right;\n",
       "    }\n",
       "\n",
       "    .dataframe thead th {\n",
       "        text-align: left;\n",
       "    }\n",
       "\n",
       "    .dataframe tbody tr th {\n",
       "        vertical-align: top;\n",
       "    }\n",
       "</style>\n",
       "<table border=\"1\" class=\"dataframe\">\n",
       "  <thead>\n",
       "    <tr>\n",
       "      <th></th>\n",
       "      <th>Players</th>\n",
       "      <th>Position</th>\n",
       "      <th>club</th>\n",
       "      <th>league</th>\n",
       "      <th>age</th>\n",
       "      <th>nationality</th>\n",
       "      <th>overall</th>\n",
       "      <th>photo</th>\n",
       "      <th>injury_prone_trait</th>\n",
       "      <th>fan's_favourite_trait</th>\n",
       "      <th>Average Apps/Season</th>\n",
       "      <th>Previous Average Form</th>\n",
       "      <th>Apps This Season</th>\n",
       "      <th>Current Average Form</th>\n",
       "    </tr>\n",
       "    <tr>\n",
       "      <th></th>\n",
       "      <th></th>\n",
       "      <th></th>\n",
       "      <th></th>\n",
       "      <th></th>\n",
       "      <th></th>\n",
       "      <th></th>\n",
       "      <th></th>\n",
       "      <th></th>\n",
       "      <th></th>\n",
       "      <th></th>\n",
       "      <th></th>\n",
       "      <th></th>\n",
       "      <th></th>\n",
       "      <th></th>\n",
       "    </tr>\n",
       "  </thead>\n",
       "  <tbody>\n",
       "    <tr>\n",
       "      <th>0</th>\n",
       "      <td>Aaron Cresswell</td>\n",
       "      <td>Defender</td>\n",
       "      <td>West Ham United</td>\n",
       "      <td>English Premier League</td>\n",
       "      <td>27</td>\n",
       "      <td>England</td>\n",
       "      <td>76</td>\n",
       "      <td>https://cdn.sofifa.org/18/players/189615.png</td>\n",
       "      <td>False</td>\n",
       "      <td>False</td>\n",
       "      <td>33.666667</td>\n",
       "      <td>2.821782</td>\n",
       "      <td>34.0</td>\n",
       "      <td>2.500000</td>\n",
       "    </tr>\n",
       "    <tr>\n",
       "      <th>1</th>\n",
       "      <td>Aaron Hughes</td>\n",
       "      <td>Defender</td>\n",
       "      <td>Heart of Midlothian</td>\n",
       "      <td>Scottish Premiership</td>\n",
       "      <td>37</td>\n",
       "      <td>Northern Ireland</td>\n",
       "      <td>71</td>\n",
       "      <td>https://cdn.sofifa.org/18/players/17725.png</td>\n",
       "      <td>True</td>\n",
       "      <td>False</td>\n",
       "      <td>37.000000</td>\n",
       "      <td>1.216216</td>\n",
       "      <td>0.0</td>\n",
       "      <td>0.000000</td>\n",
       "    </tr>\n",
       "    <tr>\n",
       "      <th>2</th>\n",
       "      <td>Aaron Hunt</td>\n",
       "      <td>Midfielder</td>\n",
       "      <td>Hamburger SV</td>\n",
       "      <td>German Bundesliga</td>\n",
       "      <td>30</td>\n",
       "      <td>Germany</td>\n",
       "      <td>76</td>\n",
       "      <td>https://cdn.sofifa.org/18/players/158138.png</td>\n",
       "      <td>True</td>\n",
       "      <td>False</td>\n",
       "      <td>29.500000</td>\n",
       "      <td>3.050847</td>\n",
       "      <td>28.0</td>\n",
       "      <td>2.428571</td>\n",
       "    </tr>\n",
       "    <tr>\n",
       "      <th>3</th>\n",
       "      <td>Aaron Lennon</td>\n",
       "      <td>Midfielder</td>\n",
       "      <td>Everton</td>\n",
       "      <td>English Premier League</td>\n",
       "      <td>30</td>\n",
       "      <td>England</td>\n",
       "      <td>77</td>\n",
       "      <td>https://cdn.sofifa.org/18/players/152747.png</td>\n",
       "      <td>False</td>\n",
       "      <td>False</td>\n",
       "      <td>30.000000</td>\n",
       "      <td>2.633333</td>\n",
       "      <td>27.0</td>\n",
       "      <td>1.888889</td>\n",
       "    </tr>\n",
       "    <tr>\n",
       "      <th>6</th>\n",
       "      <td>Aaron Niguez</td>\n",
       "      <td>Midfielder</td>\n",
       "      <td>Real Oviedo</td>\n",
       "      <td>Spanish Segunda Division</td>\n",
       "      <td>28</td>\n",
       "      <td>Spain</td>\n",
       "      <td>73</td>\n",
       "      <td>https://cdn.sofifa.org/18/players/183853.png</td>\n",
       "      <td>False</td>\n",
       "      <td>False</td>\n",
       "      <td>21.500000</td>\n",
       "      <td>1.511628</td>\n",
       "      <td>0.0</td>\n",
       "      <td>0.000000</td>\n",
       "    </tr>\n",
       "  </tbody>\n",
       "</table>\n",
       "</div>"
      ],
      "text/plain": [
       "           Players    Position                 club                    league  \\\n",
       "                                                                                \n",
       "0  Aaron Cresswell    Defender      West Ham United    English Premier League   \n",
       "1     Aaron Hughes    Defender  Heart of Midlothian      Scottish Premiership   \n",
       "2       Aaron Hunt  Midfielder         Hamburger SV         German Bundesliga   \n",
       "3     Aaron Lennon  Midfielder              Everton    English Premier League   \n",
       "6     Aaron Niguez  Midfielder          Real Oviedo  Spanish Segunda Division   \n",
       "\n",
       "  age       nationality overall                                         photo  \\\n",
       "                                                                                \n",
       "0  27           England      76  https://cdn.sofifa.org/18/players/189615.png   \n",
       "1  37  Northern Ireland      71   https://cdn.sofifa.org/18/players/17725.png   \n",
       "2  30           Germany      76  https://cdn.sofifa.org/18/players/158138.png   \n",
       "3  30           England      77  https://cdn.sofifa.org/18/players/152747.png   \n",
       "6  28             Spain      73  https://cdn.sofifa.org/18/players/183853.png   \n",
       "\n",
       "  injury_prone_trait fan's_favourite_trait Average Apps/Season  \\\n",
       "                                                                 \n",
       "0              False                 False           33.666667   \n",
       "1               True                 False           37.000000   \n",
       "2               True                 False           29.500000   \n",
       "3              False                 False           30.000000   \n",
       "6              False                 False           21.500000   \n",
       "\n",
       "  Previous Average Form Apps This Season Current Average Form  \n",
       "                                                               \n",
       "0              2.821782             34.0             2.500000  \n",
       "1              1.216216              0.0             0.000000  \n",
       "2              3.050847             28.0             2.428571  \n",
       "3              2.633333             27.0             1.888889  \n",
       "6              1.511628              0.0             0.000000  "
      ]
     },
     "execution_count": 14,
     "metadata": {},
     "output_type": "execute_result"
    }
   ],
   "source": [
    "RQ1 = RQ1[['Players','Position','club','league','age','nationality','overall','photo','injury_prone_trait',\"fan's_favourite_trait\",'Average Apps/Season','Previous Average Form','Apps This Season','Current Average Form']]\n",
    "RQ1.head(5)"
   ]
  },
  {
   "cell_type": "code",
   "execution_count": 15,
   "metadata": {
    "collapsed": true
   },
   "outputs": [
    {
     "name": "stdout",
     "output_type": "stream",
     "text": [
      "<class 'pandas.core.frame.DataFrame'>\n",
      "Int64Index: 1791 entries, 0 to 4322\n",
      "Data columns (total 14 columns):\n",
      "(Players, )                  1791 non-null object\n",
      "(Position, )                 1791 non-null object\n",
      "(club, )                     1791 non-null object\n",
      "(league, )                   1791 non-null object\n",
      "(age, )                      1791 non-null int64\n",
      "(nationality, )              1791 non-null object\n",
      "(overall, )                  1791 non-null int64\n",
      "(photo, )                    1791 non-null object\n",
      "(injury_prone_trait, )       1791 non-null bool\n",
      "(fan's_favourite_trait, )    1791 non-null bool\n",
      "(Average Apps/Season, )      1791 non-null float64\n",
      "(Previous Average Form, )    1791 non-null float64\n",
      "(Apps This Season, )         1791 non-null float64\n",
      "(Current Average Form, )     1791 non-null float64\n",
      "dtypes: bool(2), float64(4), int64(2), object(6)\n",
      "memory usage: 185.4+ KB\n"
     ]
    }
   ],
   "source": [
    "RQ1.info()"
   ]
  },
  {
   "cell_type": "markdown",
   "metadata": {},
   "source": [
    "#### Saving to csv file in data/analysis"
   ]
  },
  {
   "cell_type": "code",
   "execution_count": 16,
   "metadata": {
    "collapsed": true
   },
   "outputs": [],
   "source": [
    "RQ1.to_csv('../../data/analysis/RQ1.csv')"
   ]
  },
  {
   "cell_type": "code",
   "execution_count": null,
   "metadata": {
    "collapsed": true
   },
   "outputs": [],
   "source": []
  },
  {
   "cell_type": "code",
   "execution_count": null,
   "metadata": {
    "collapsed": true
   },
   "outputs": [],
   "source": []
  }
 ],
 "metadata": {
  "kernelspec": {
   "display_name": "Python 3",
   "language": "python",
   "name": "python3"
  },
  "language_info": {
   "codemirror_mode": {
    "name": "ipython",
    "version": 3
   },
   "file_extension": ".py",
   "mimetype": "text/x-python",
   "name": "python",
   "nbconvert_exporter": "python",
   "pygments_lexer": "ipython3",
   "version": "3.6.3"
  }
 },
 "nbformat": 4,
 "nbformat_minor": 2
}
