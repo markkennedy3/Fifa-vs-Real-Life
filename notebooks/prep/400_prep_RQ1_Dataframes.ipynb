{
 "cells": [
  {
   "cell_type": "markdown",
   "metadata": {},
   "source": [
    "# 400_prep_RQ1_Dataframes"
   ]
  },
  {
   "cell_type": "code",
   "execution_count": 1,
   "metadata": {
    "collapsed": true
   },
   "outputs": [],
   "source": [
    "import math\n",
    "import os.path\n",
    "import numpy as np\n",
    "import pandas as pd"
   ]
  },
  {
   "cell_type": "markdown",
   "metadata": {},
   "source": [
    "### Loading"
   ]
  },
  {
   "cell_type": "code",
   "execution_count": 2,
   "metadata": {
    "collapsed": true
   },
   "outputs": [],
   "source": [
    "DF1 = pd.read_csv(\"../../data/prep/Joined1617.csv\")\n",
    "DF2 = pd.read_csv(\"../../data/prep/Joined1516.csv\")\n",
    "DF3 = pd.read_csv(\"../../data/prep/Joined1415.csv\")\n",
    "DF4 = pd.read_csv(\"../../data/prep/Joined1314.csv\")\n",
    "DF5 = pd.read_csv(\"../../data/prep/Joined1213.csv\")\n",
    "DF6 = pd.read_csv(\"../../data/prep/Joined1718.csv\")"
   ]
  },
  {
   "cell_type": "code",
   "execution_count": 3,
   "metadata": {
    "collapsed": true
   },
   "outputs": [],
   "source": [
    "index = ['Players','club','league','age','nationality','Position','photo','overall','potential','eur_value','injury_prone_trait']"
   ]
  },
  {
   "cell_type": "code",
   "execution_count": 4,
   "metadata": {
    "collapsed": true
   },
   "outputs": [],
   "source": [
    "s1 = DF1.drop_duplicates(index).set_index(index)[['Points','Apps']]\n",
    "s2 = DF2.drop_duplicates(index).set_index(index)[['Points','Apps']]\n",
    "s3 = DF3.drop_duplicates(index).set_index(index)[['Points','Apps']]\n",
    "s4 = DF4.drop_duplicates(index).set_index(index)[['Points','Apps']]\n",
    "s5 = DF5.drop_duplicates(index).set_index(index)[['Points','Apps']]\n",
    "s6 = DF6.drop_duplicates(index).set_index(index)[['Form','Apps']]"
   ]
  },
  {
   "cell_type": "code",
   "execution_count": 5,
   "metadata": {
    "collapsed": true
   },
   "outputs": [],
   "source": [
    "RQ1 = pd.concat([s1,s2,s3,s4,s5,s6], axis=1, keys=('16/17','15/16','14/15','13/14','12/13','17/18')).fillna(0).astype(float).reset_index()"
   ]
  },
  {
   "cell_type": "markdown",
   "metadata": {},
   "source": [
    "### Filtering"
   ]
  },
  {
   "cell_type": "code",
   "execution_count": 6,
   "metadata": {
    "collapsed": true
   },
   "outputs": [],
   "source": [
    "RQ1 = RQ1.loc[~((RQ1['16/17']['Apps'] == 0) & (RQ1['15/16']['Apps'] == 0) & (RQ1['14/15']['Apps'] == 0) & (RQ1['13/14']['Apps'] == 0) & (RQ1['12/13']['Apps'] == 0) & (RQ1['17/18']['Apps'] == 0))]"
   ]
  },
  {
   "cell_type": "code",
   "execution_count": 7,
   "metadata": {
    "collapsed": true
   },
   "outputs": [],
   "source": [
    "RQ1['count1'] = 0\n",
    "RQ1.loc[RQ1['16/17']['Apps']>9.0, 'count1'] = 1\n",
    "RQ1['count2'] = 0\n",
    "RQ1.loc[RQ1['15/16']['Apps']>9.0, 'count2'] = 1\n",
    "RQ1['count3'] = 0\n",
    "RQ1.loc[RQ1['14/15']['Apps']>9.0, 'count3'] = 1\n",
    "RQ1['count4'] = 0\n",
    "RQ1.loc[RQ1['13/14']['Apps']>9.0, 'count4'] = 1\n",
    "RQ1['count5'] = 0\n",
    "RQ1.loc[RQ1['12/13']['Apps']>9.0, 'count5'] = 1\n",
    "\n",
    "RQ1['Valid Seasons'] = RQ1['count1'] + RQ1['count2'] + RQ1['count3'] + RQ1['count4'] + RQ1['count5']"
   ]
  },
  {
   "cell_type": "code",
   "execution_count": 8,
   "metadata": {},
   "outputs": [
    {
     "data": {
      "text/plain": [
       "[('Players', ''),\n",
       " ('club', ''),\n",
       " ('league', ''),\n",
       " ('age', ''),\n",
       " ('nationality', ''),\n",
       " ('Position', ''),\n",
       " ('photo', ''),\n",
       " ('overall', ''),\n",
       " ('potential', ''),\n",
       " ('eur_value', ''),\n",
       " ('injury_prone_trait', ''),\n",
       " ('16/17', 'Points'),\n",
       " ('16/17', 'Apps'),\n",
       " ('15/16', 'Points'),\n",
       " ('15/16', 'Apps'),\n",
       " ('14/15', 'Points'),\n",
       " ('14/15', 'Apps'),\n",
       " ('13/14', 'Points'),\n",
       " ('13/14', 'Apps'),\n",
       " ('12/13', 'Points'),\n",
       " ('12/13', 'Apps'),\n",
       " ('17/18', 'Form'),\n",
       " ('17/18', 'Apps'),\n",
       " ('count1', ''),\n",
       " ('count2', ''),\n",
       " ('count3', ''),\n",
       " ('count4', ''),\n",
       " ('count5', ''),\n",
       " ('Valid Seasons', '')]"
      ]
     },
     "execution_count": 8,
     "metadata": {},
     "output_type": "execute_result"
    }
   ],
   "source": [
    "list(RQ1)"
   ]
  },
  {
   "cell_type": "code",
   "execution_count": 9,
   "metadata": {
    "collapsed": true
   },
   "outputs": [],
   "source": [
    "RQ1.drop(RQ1.columns[[23,24,25,26,27]], axis=1, inplace=True)"
   ]
  },
  {
   "cell_type": "code",
   "execution_count": 10,
   "metadata": {
    "collapsed": true
   },
   "outputs": [],
   "source": [
    "RQ1 = RQ1[RQ1['Valid Seasons'] >= 2] "
   ]
  },
  {
   "cell_type": "markdown",
   "metadata": {},
   "source": [
    "### Creating New Columns"
   ]
  },
  {
   "cell_type": "code",
   "execution_count": 11,
   "metadata": {
    "collapsed": true
   },
   "outputs": [],
   "source": [
    "RQ1['Overall Points'] = RQ1['16/17']['Points']+RQ1['15/16']['Points']+RQ1['14/15']['Points']+RQ1['13/14']['Points']+RQ1['12/13']['Points']"
   ]
  },
  {
   "cell_type": "code",
   "execution_count": 12,
   "metadata": {
    "collapsed": true
   },
   "outputs": [],
   "source": [
    "RQ1['Overall Apps'] = RQ1['16/17']['Apps']+RQ1['15/16']['Apps']+RQ1['14/15']['Apps']+RQ1['13/14']['Apps']+RQ1['12/13']['Apps']"
   ]
  },
  {
   "cell_type": "code",
   "execution_count": 13,
   "metadata": {
    "collapsed": true
   },
   "outputs": [],
   "source": [
    "RQ1['Previous Average Form'] = RQ1['Overall Points']/RQ1['Overall Apps']"
   ]
  },
  {
   "cell_type": "code",
   "execution_count": 14,
   "metadata": {
    "collapsed": true
   },
   "outputs": [],
   "source": [
    "RQ1['Current Average Form'] = RQ1['17/18']['Form']"
   ]
  },
  {
   "cell_type": "code",
   "execution_count": 15,
   "metadata": {
    "collapsed": true
   },
   "outputs": [],
   "source": [
    "RQ1['Apps This Season'] = RQ1['17/18']['Apps']"
   ]
  },
  {
   "cell_type": "code",
   "execution_count": 16,
   "metadata": {
    "collapsed": true
   },
   "outputs": [],
   "source": [
    "RQ1.loc[RQ1['league'].isin(['Spanish Primera Division','English Premier League','German Bundesliga','French Ligue 1','Italian Serie A']) ,'Plays in Top 5 Leagues']=True\n",
    "RQ1.loc[~RQ1['league'].isin(['Spanish Primera Division','English Premier League','German Bundesliga','French Ligue 1','Italian Serie A']) ,'Plays in Top 5 Leagues']=False"
   ]
  },
  {
   "cell_type": "code",
   "execution_count": 17,
   "metadata": {
    "collapsed": true
   },
   "outputs": [],
   "source": [
    "RQ1.loc[RQ1['nationality'].isin(['Germany','England','Italy','Spain','France']) ,'Homegrown']=True\n",
    "RQ1.loc[~RQ1['nationality'].isin(['Germany','England','Italy','Spain','France']) ,'Homegrown']=False"
   ]
  },
  {
   "cell_type": "markdown",
   "metadata": {},
   "source": [
    "### Tidying Up"
   ]
  },
  {
   "cell_type": "code",
   "execution_count": 18,
   "metadata": {
    "collapsed": true
   },
   "outputs": [],
   "source": [
    "RQ1.columns = [col[0] for col in RQ1.columns]"
   ]
  },
  {
   "cell_type": "code",
   "execution_count": 19,
   "metadata": {},
   "outputs": [
    {
     "data": {
      "text/plain": [
       "['Players',\n",
       " 'club',\n",
       " 'league',\n",
       " 'age',\n",
       " 'nationality',\n",
       " 'Position',\n",
       " 'photo',\n",
       " 'overall',\n",
       " 'potential',\n",
       " 'eur_value',\n",
       " 'injury_prone_trait',\n",
       " '16/17',\n",
       " '16/17',\n",
       " '15/16',\n",
       " '15/16',\n",
       " '14/15',\n",
       " '14/15',\n",
       " '13/14',\n",
       " '13/14',\n",
       " '12/13',\n",
       " '12/13',\n",
       " '17/18',\n",
       " '17/18',\n",
       " 'Valid Seasons',\n",
       " 'Overall Points',\n",
       " 'Overall Apps',\n",
       " 'Previous Average Form',\n",
       " 'Current Average Form',\n",
       " 'Apps This Season',\n",
       " 'Plays in Top 5 Leagues',\n",
       " 'Homegrown']"
      ]
     },
     "execution_count": 19,
     "metadata": {},
     "output_type": "execute_result"
    }
   ],
   "source": [
    "list(RQ1)"
   ]
  },
  {
   "cell_type": "code",
   "execution_count": 20,
   "metadata": {
    "collapsed": true
   },
   "outputs": [],
   "source": [
    "RQ1.drop(RQ1.columns[[11,12,13,14,15,16,17,18,19,20,21,22,23,24,25]], axis=1, inplace=True)"
   ]
  },
  {
   "cell_type": "code",
   "execution_count": 21,
   "metadata": {},
   "outputs": [
    {
     "data": {
      "text/plain": [
       "['Players',\n",
       " 'club',\n",
       " 'league',\n",
       " 'age',\n",
       " 'nationality',\n",
       " 'Position',\n",
       " 'photo',\n",
       " 'overall',\n",
       " 'potential',\n",
       " 'eur_value',\n",
       " 'injury_prone_trait',\n",
       " 'Previous Average Form',\n",
       " 'Current Average Form',\n",
       " 'Apps This Season',\n",
       " 'Plays in Top 5 Leagues',\n",
       " 'Homegrown']"
      ]
     },
     "execution_count": 21,
     "metadata": {},
     "output_type": "execute_result"
    }
   ],
   "source": [
    "list(RQ1)"
   ]
  },
  {
   "cell_type": "code",
   "execution_count": null,
   "metadata": {
    "collapsed": true
   },
   "outputs": [],
   "source": [
    "RQ1 = RQ1.sort_values('Previous Average Form', ascending=False).reset_index().drop('index',1)"
   ]
  },
  {
   "cell_type": "code",
   "execution_count": null,
   "metadata": {},
   "outputs": [],
   "source": [
    "RQ1"
   ]
  },
  {
   "cell_type": "code",
   "execution_count": null,
   "metadata": {
    "collapsed": true
   },
   "outputs": [],
   "source": [
    "RQ1.to_csv('../../data/analysis/RQ1.csv')"
   ]
  },
  {
   "cell_type": "code",
   "execution_count": null,
   "metadata": {
    "collapsed": true
   },
   "outputs": [],
   "source": [
    "RQ1.info()"
   ]
  },
  {
   "cell_type": "code",
   "execution_count": null,
   "metadata": {},
   "outputs": [],
   "source": []
  }
 ],
 "metadata": {
  "kernelspec": {
   "display_name": "Python 3",
   "language": "python",
   "name": "python3"
  },
  "language_info": {
   "codemirror_mode": {
    "name": "ipython",
    "version": 3
   },
   "file_extension": ".py",
   "mimetype": "text/x-python",
   "name": "python",
   "nbconvert_exporter": "python",
   "pygments_lexer": "ipython3",
   "version": "3.6.3"
  }
 },
 "nbformat": 4,
 "nbformat_minor": 2
}
