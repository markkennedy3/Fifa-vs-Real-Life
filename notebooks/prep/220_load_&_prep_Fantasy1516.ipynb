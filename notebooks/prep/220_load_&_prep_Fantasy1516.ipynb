{
 "cells": [
  {
   "cell_type": "markdown",
   "metadata": {},
   "source": [
    "# 220_____load_____&_prep_Fantasy1516  \n",
    "## Purpose \n",
    "In this notebook we load in our Fantasty dataset and perform any necessary cleaning.  \n",
    "## Datasets \n",
    "* _Input_: N/A\n",
    "* _Output_: SEA1516.csv"
   ]
  },
  {
   "cell_type": "code",
   "execution_count": 2,
   "metadata": {
    "collapsed": true
   },
   "outputs": [],
   "source": [
    "import os.path\n",
    "import numpy as np\n",
    "import pandas as pd"
   ]
  },
  {
   "cell_type": "markdown",
   "metadata": {},
   "source": [
    "### Reading in all player information from the Top 5 Leagues from statsbunker.com\n",
    "* Each league has its own unqique ID used when reading the table.  \n",
    "* Using pd.read_html these tables can be read in with ease."
   ]
  },
  {
   "cell_type": "code",
   "execution_count": 3,
   "metadata": {
    "collapsed": true
   },
   "outputs": [],
   "source": [
    "BPL1516 = pd.read_html(\"https://www.statbunker.com/competitions/FantasyFootballPlayersStats?comp_id=515\")[0]\n",
    "BUN1516 = pd.read_html(\"https://www.statbunker.com/competitions/FantasyFootballPlayersStats?comp_id=516\")[0]\n",
    "LAL1516 = pd.read_html(\"https://www.statbunker.com/competitions/FantasyFootballPlayersStats?comp_id=518\")[0]\n",
    "SEI1516 = pd.read_html(\"https://www.statbunker.com/competitions/FantasyFootballPlayersStats?comp_id=517\")[0]\n",
    "FRA1516 = pd.read_html(\"https://www.statbunker.com/competitions/FantasyFootballPlayersStats?comp_id=514\")[0]"
   ]
  },
  {
   "cell_type": "markdown",
   "metadata": {},
   "source": [
    "### Using pd.concat to merge each league together.  \n",
    "* Resetting index.  \n",
    "* Drop old index and column 'More' which contains no information."
   ]
  },
  {
   "cell_type": "code",
   "execution_count": 4,
   "metadata": {
    "collapsed": true
   },
   "outputs": [],
   "source": [
    "SEA1516 = [BPL1516,BUN1516,LAL1516,SEI1516,FRA1516]\n",
    "SEA1516 = pd.concat(SEA1516)\n",
    "SEA1516 = SEA1516.reset_index()\n",
    "SEA1516.drop(SEA1516.columns[[0,20]], axis=1, inplace=True)"
   ]
  },
  {
   "cell_type": "code",
   "execution_count": 7,
   "metadata": {},
   "outputs": [
    {
     "data": {
      "text/html": [
       "<div>\n",
       "<style>\n",
       "    .dataframe thead tr:only-child th {\n",
       "        text-align: right;\n",
       "    }\n",
       "\n",
       "    .dataframe thead th {\n",
       "        text-align: left;\n",
       "    }\n",
       "\n",
       "    .dataframe tbody tr th {\n",
       "        vertical-align: top;\n",
       "    }\n",
       "</style>\n",
       "<table border=\"1\" class=\"dataframe\">\n",
       "  <thead>\n",
       "    <tr style=\"text-align: right;\">\n",
       "      <th></th>\n",
       "      <th>Players</th>\n",
       "      <th>Points</th>\n",
       "      <th>Clubs</th>\n",
       "      <th>Position</th>\n",
       "      <th>Start</th>\n",
       "      <th>Goals</th>\n",
       "      <th>A</th>\n",
       "      <th>CS</th>\n",
       "      <th>CS part</th>\n",
       "      <th>Yellow</th>\n",
       "      <th>Red</th>\n",
       "      <th>Sub</th>\n",
       "      <th>CO</th>\n",
       "      <th>Off</th>\n",
       "      <th>Pen SV</th>\n",
       "      <th>Pen M</th>\n",
       "      <th>Goals conceded</th>\n",
       "      <th>Conceded 1+</th>\n",
       "      <th>OG</th>\n",
       "    </tr>\n",
       "  </thead>\n",
       "  <tbody>\n",
       "    <tr>\n",
       "      <th>0</th>\n",
       "      <td>Jamie Vardy</td>\n",
       "      <td>202</td>\n",
       "      <td>LEICSC</td>\n",
       "      <td>Forward</td>\n",
       "      <td>36</td>\n",
       "      <td>24</td>\n",
       "      <td>6</td>\n",
       "      <td>-</td>\n",
       "      <td>-</td>\n",
       "      <td>6</td>\n",
       "      <td>0</td>\n",
       "      <td>0</td>\n",
       "      <td>0</td>\n",
       "      <td>7</td>\n",
       "      <td>-</td>\n",
       "      <td>1</td>\n",
       "      <td>-</td>\n",
       "      <td>-</td>\n",
       "      <td>0</td>\n",
       "    </tr>\n",
       "    <tr>\n",
       "      <th>1</th>\n",
       "      <td>Harry Kane</td>\n",
       "      <td>199</td>\n",
       "      <td>SPURS</td>\n",
       "      <td>Forward</td>\n",
       "      <td>38</td>\n",
       "      <td>25</td>\n",
       "      <td>2</td>\n",
       "      <td>-</td>\n",
       "      <td>-</td>\n",
       "      <td>5</td>\n",
       "      <td>0</td>\n",
       "      <td>0</td>\n",
       "      <td>0</td>\n",
       "      <td>9</td>\n",
       "      <td>-</td>\n",
       "      <td>0</td>\n",
       "      <td>-</td>\n",
       "      <td>-</td>\n",
       "      <td>1</td>\n",
       "    </tr>\n",
       "    <tr>\n",
       "      <th>2</th>\n",
       "      <td>Riyad Mahrez</td>\n",
       "      <td>189</td>\n",
       "      <td>LEICSC</td>\n",
       "      <td>Midfielder</td>\n",
       "      <td>36</td>\n",
       "      <td>17</td>\n",
       "      <td>12</td>\n",
       "      <td>-</td>\n",
       "      <td>-</td>\n",
       "      <td>1</td>\n",
       "      <td>0</td>\n",
       "      <td>2</td>\n",
       "      <td>1</td>\n",
       "      <td>24</td>\n",
       "      <td>-</td>\n",
       "      <td>2</td>\n",
       "      <td>-</td>\n",
       "      <td>-</td>\n",
       "      <td>0</td>\n",
       "    </tr>\n",
       "    <tr>\n",
       "      <th>3</th>\n",
       "      <td>Sergio Aguero</td>\n",
       "      <td>182</td>\n",
       "      <td>MCFC</td>\n",
       "      <td>Forward</td>\n",
       "      <td>29</td>\n",
       "      <td>24</td>\n",
       "      <td>2</td>\n",
       "      <td>-</td>\n",
       "      <td>-</td>\n",
       "      <td>1</td>\n",
       "      <td>0</td>\n",
       "      <td>3</td>\n",
       "      <td>1</td>\n",
       "      <td>16</td>\n",
       "      <td>-</td>\n",
       "      <td>1</td>\n",
       "      <td>-</td>\n",
       "      <td>-</td>\n",
       "      <td>0</td>\n",
       "    </tr>\n",
       "    <tr>\n",
       "      <th>4</th>\n",
       "      <td>Romelu Lukaku</td>\n",
       "      <td>179</td>\n",
       "      <td>EVER</td>\n",
       "      <td>Forward</td>\n",
       "      <td>36</td>\n",
       "      <td>18</td>\n",
       "      <td>7</td>\n",
       "      <td>-</td>\n",
       "      <td>-</td>\n",
       "      <td>3</td>\n",
       "      <td>0</td>\n",
       "      <td>2</td>\n",
       "      <td>1</td>\n",
       "      <td>8</td>\n",
       "      <td>-</td>\n",
       "      <td>1</td>\n",
       "      <td>-</td>\n",
       "      <td>-</td>\n",
       "      <td>0</td>\n",
       "    </tr>\n",
       "  </tbody>\n",
       "</table>\n",
       "</div>"
      ],
      "text/plain": [
       "         Players  Points   Clubs    Position  Start  Goals   A CS CS part  \\\n",
       "0    Jamie Vardy     202  LEICSC     Forward     36     24   6  -       -   \n",
       "1     Harry Kane     199   SPURS     Forward     38     25   2  -       -   \n",
       "2   Riyad Mahrez     189  LEICSC  Midfielder     36     17  12  -       -   \n",
       "3  Sergio Aguero     182    MCFC     Forward     29     24   2  -       -   \n",
       "4  Romelu Lukaku     179    EVER     Forward     36     18   7  -       -   \n",
       "\n",
       "   Yellow  Red  Sub  CO  Off Pen SV  Pen M Goals conceded Conceded 1+  OG  \n",
       "0       6    0    0   0    7      -      1              -           -   0  \n",
       "1       5    0    0   0    9      -      0              -           -   1  \n",
       "2       1    0    2   1   24      -      2              -           -   0  \n",
       "3       1    0    3   1   16      -      1              -           -   0  \n",
       "4       3    0    2   1    8      -      1              -           -   0  "
      ]
     },
     "execution_count": 7,
     "metadata": {},
     "output_type": "execute_result"
    }
   ],
   "source": [
    "SEA1516.head(5)"
   ]
  },
  {
   "cell_type": "markdown",
   "metadata": {},
   "source": [
    "### Creating new columns Apps and Form\n",
    "* Apps is the total number of appearances a player makes (Starts plus being subbed on)\n",
    "* Form is the total number of points divided by the number of appearances.\n",
    "* All null values in Form filled in as 0"
   ]
  },
  {
   "cell_type": "code",
   "execution_count": 8,
   "metadata": {
    "collapsed": true
   },
   "outputs": [],
   "source": [
    "SEA1516['Apps'] = SEA1516['Start'] + SEA1516['CO']\n",
    "SEA1516['Form'] = SEA1516['Points']/SEA1516['Apps']\n",
    "SEA1516.loc[SEA1516['Form'].isnull(),'Form'] = 0"
   ]
  },
  {
   "cell_type": "code",
   "execution_count": 18,
   "metadata": {},
   "outputs": [
    {
     "data": {
      "text/plain": [
       "0"
      ]
     },
     "execution_count": 18,
     "metadata": {},
     "output_type": "execute_result"
    }
   ],
   "source": [
    "SEA1516.Form.isnull().sum()"
   ]
  },
  {
   "cell_type": "markdown",
   "metadata": {},
   "source": [
    "### Replacing all Hyphen values with 0\n",
    "* In this dataset hyphen represented no data so these were replaced with 0"
   ]
  },
  {
   "cell_type": "code",
   "execution_count": 12,
   "metadata": {
    "collapsed": true
   },
   "outputs": [],
   "source": [
    "DashColumns = ['Goals','A','CS','CS part','Yellow','Red','Sub','CO','Off','Pen SV','Pen M','Goals conceded','Conceded 1+','OG',]\n",
    "SEA1516[DashColumns] = SEA1516[DashColumns].replace('-' ,'0')"
   ]
  },
  {
   "cell_type": "markdown",
   "metadata": {},
   "source": [
    "### Checking dataframe data types\n",
    "* Changed the columns CS, CS part, Pen SV, Goals conceded and Conceded 1+ from type object to int"
   ]
  },
  {
   "cell_type": "code",
   "execution_count": 13,
   "metadata": {},
   "outputs": [
    {
     "name": "stdout",
     "output_type": "stream",
     "text": [
      "<class 'pandas.core.frame.DataFrame'>\n",
      "RangeIndex: 3121 entries, 0 to 3120\n",
      "Data columns (total 21 columns):\n",
      "Players           3121 non-null object\n",
      "Points            3121 non-null int64\n",
      "Clubs             2435 non-null object\n",
      "Position          3121 non-null object\n",
      "Start             3121 non-null int64\n",
      "Goals             3121 non-null int64\n",
      "A                 3121 non-null int64\n",
      "CS                3121 non-null object\n",
      "CS part           3121 non-null object\n",
      "Yellow            3121 non-null int64\n",
      "Red               3121 non-null int64\n",
      "Sub               3121 non-null int64\n",
      "CO                3121 non-null int64\n",
      "Off               3121 non-null int64\n",
      "Pen SV            3121 non-null object\n",
      "Pen M             3121 non-null int64\n",
      "Goals conceded    3121 non-null object\n",
      "Conceded 1+       3121 non-null object\n",
      "OG                3121 non-null int64\n",
      "Apps              3121 non-null int64\n",
      "Form              3121 non-null float64\n",
      "dtypes: float64(1), int64(12), object(8)\n",
      "memory usage: 512.1+ KB\n"
     ]
    }
   ],
   "source": [
    "SEA1516.info()"
   ]
  },
  {
   "cell_type": "code",
   "execution_count": 14,
   "metadata": {
    "collapsed": true
   },
   "outputs": [],
   "source": [
    "SEA1516['CS'] = SEA1516['CS'].str.replace('%','').astype(np.int)\n",
    "SEA1516['CS part'] = SEA1516['CS part'].str.replace('%','').astype(np.int)\n",
    "SEA1516['Pen SV'] = SEA1516['Pen SV'].str.replace('%','').astype(np.int)\n",
    "SEA1516['Goals conceded'] = SEA1516['Goals conceded'].str.replace('%','').astype(np.int)\n",
    "SEA1516['Conceded 1+'] = SEA1516['Conceded 1+'].str.replace('%','').astype(np.int)"
   ]
  },
  {
   "cell_type": "markdown",
   "metadata": {},
   "source": [
    "#### Spliting player names into First Initial and Surname.\n",
    "Repeating process from FIFA18 notebook in preperation for joining.  \n",
    "Each case deals with players with single, normal double and triple barrel names.  \n",
    "EG: Dele Alli is now D.Alli"
   ]
  },
  {
   "cell_type": "code",
   "execution_count": 19,
   "metadata": {
    "collapsed": true
   },
   "outputs": [],
   "source": [
    "SEA1516.loc[SEA1516['Players'].str.split().str.len() == 1, 'FirstInitial'] = SEA1516['Players'].astype(str).str[0]\n",
    "SEA1516.loc[SEA1516['Players'].str.split().str.len() == 1, 'Firstname'] = SEA1516['Players'].str.split().str[0]\n",
    "SEA1516.loc[SEA1516['Players'].str.split().str.len() == 1, 'Surname'] = SEA1516['Players'].str.split().str[0]\n",
    "\n",
    "SEA1516.loc[SEA1516['Players'].str.split().str.len() == 2, 'FirstInitial'] = SEA1516['Players'].astype(str).str[0]\n",
    "SEA1516.loc[SEA1516['Players'].str.split().str.len() == 2, 'Firstname'] = SEA1516['Players'].str.split().str[0]\n",
    "SEA1516.loc[SEA1516['Players'].str.split().str.len() == 2, 'Surname'] = SEA1516['Players'].str.split().str[-1]\n",
    "\n",
    "SEA1516.loc[SEA1516['Players'].str.split().str.len() == 3, 'FirstInitial'] = SEA1516['Players'].astype(str).str[0]\n",
    "SEA1516.loc[SEA1516['Players'].str.split().str.len() == 3, 'Firstname'] = SEA1516['Players'].str.split().str[0]\n",
    "SEA1516.loc[SEA1516['Players'].str.split().str.len() == 3, 'Surname'] = SEA1516['Players'].str.split().str[-1]\n",
    "\n",
    "SEA1516.loc[SEA1516['Players'].str.split().str.len() == 4, 'FirstInitial'] = SEA1516['Players'].astype(str).str[0]\n",
    "SEA1516.loc[SEA1516['Players'].str.split().str.len() == 4, 'Firstname'] = SEA1516['Players'].str.split().str[0]\n",
    "SEA1516.loc[SEA1516['Players'].str.split().str.len() == 4, 'Surname'] = SEA1516['Players'].str.split().str[-1]"
   ]
  },
  {
   "cell_type": "markdown",
   "metadata": {},
   "source": [
    "### Cleaned dataframe now finished"
   ]
  },
  {
   "cell_type": "code",
   "execution_count": 20,
   "metadata": {},
   "outputs": [
    {
     "data": {
      "text/html": [
       "<div>\n",
       "<style>\n",
       "    .dataframe thead tr:only-child th {\n",
       "        text-align: right;\n",
       "    }\n",
       "\n",
       "    .dataframe thead th {\n",
       "        text-align: left;\n",
       "    }\n",
       "\n",
       "    .dataframe tbody tr th {\n",
       "        vertical-align: top;\n",
       "    }\n",
       "</style>\n",
       "<table border=\"1\" class=\"dataframe\">\n",
       "  <thead>\n",
       "    <tr style=\"text-align: right;\">\n",
       "      <th></th>\n",
       "      <th>Players</th>\n",
       "      <th>Points</th>\n",
       "      <th>Clubs</th>\n",
       "      <th>Position</th>\n",
       "      <th>Start</th>\n",
       "      <th>Goals</th>\n",
       "      <th>A</th>\n",
       "      <th>CS</th>\n",
       "      <th>CS part</th>\n",
       "      <th>Yellow</th>\n",
       "      <th>...</th>\n",
       "      <th>Pen SV</th>\n",
       "      <th>Pen M</th>\n",
       "      <th>Goals conceded</th>\n",
       "      <th>Conceded 1+</th>\n",
       "      <th>OG</th>\n",
       "      <th>Apps</th>\n",
       "      <th>Form</th>\n",
       "      <th>FirstInitial</th>\n",
       "      <th>Firstname</th>\n",
       "      <th>Surname</th>\n",
       "    </tr>\n",
       "  </thead>\n",
       "  <tbody>\n",
       "    <tr>\n",
       "      <th>0</th>\n",
       "      <td>Jamie Vardy</td>\n",
       "      <td>202</td>\n",
       "      <td>LEICSC</td>\n",
       "      <td>Forward</td>\n",
       "      <td>36</td>\n",
       "      <td>24</td>\n",
       "      <td>6</td>\n",
       "      <td>0</td>\n",
       "      <td>0</td>\n",
       "      <td>6</td>\n",
       "      <td>...</td>\n",
       "      <td>0</td>\n",
       "      <td>1</td>\n",
       "      <td>0</td>\n",
       "      <td>0</td>\n",
       "      <td>0</td>\n",
       "      <td>36</td>\n",
       "      <td>5.611111</td>\n",
       "      <td>J</td>\n",
       "      <td>Jamie</td>\n",
       "      <td>Vardy</td>\n",
       "    </tr>\n",
       "    <tr>\n",
       "      <th>1</th>\n",
       "      <td>Harry Kane</td>\n",
       "      <td>199</td>\n",
       "      <td>SPURS</td>\n",
       "      <td>Forward</td>\n",
       "      <td>38</td>\n",
       "      <td>25</td>\n",
       "      <td>2</td>\n",
       "      <td>0</td>\n",
       "      <td>0</td>\n",
       "      <td>5</td>\n",
       "      <td>...</td>\n",
       "      <td>0</td>\n",
       "      <td>0</td>\n",
       "      <td>0</td>\n",
       "      <td>0</td>\n",
       "      <td>1</td>\n",
       "      <td>38</td>\n",
       "      <td>5.236842</td>\n",
       "      <td>H</td>\n",
       "      <td>Harry</td>\n",
       "      <td>Kane</td>\n",
       "    </tr>\n",
       "    <tr>\n",
       "      <th>2</th>\n",
       "      <td>Riyad Mahrez</td>\n",
       "      <td>189</td>\n",
       "      <td>LEICSC</td>\n",
       "      <td>Midfielder</td>\n",
       "      <td>36</td>\n",
       "      <td>17</td>\n",
       "      <td>12</td>\n",
       "      <td>0</td>\n",
       "      <td>0</td>\n",
       "      <td>1</td>\n",
       "      <td>...</td>\n",
       "      <td>0</td>\n",
       "      <td>2</td>\n",
       "      <td>0</td>\n",
       "      <td>0</td>\n",
       "      <td>0</td>\n",
       "      <td>37</td>\n",
       "      <td>5.108108</td>\n",
       "      <td>R</td>\n",
       "      <td>Riyad</td>\n",
       "      <td>Mahrez</td>\n",
       "    </tr>\n",
       "    <tr>\n",
       "      <th>3</th>\n",
       "      <td>Sergio Aguero</td>\n",
       "      <td>182</td>\n",
       "      <td>MCFC</td>\n",
       "      <td>Forward</td>\n",
       "      <td>29</td>\n",
       "      <td>24</td>\n",
       "      <td>2</td>\n",
       "      <td>0</td>\n",
       "      <td>0</td>\n",
       "      <td>1</td>\n",
       "      <td>...</td>\n",
       "      <td>0</td>\n",
       "      <td>1</td>\n",
       "      <td>0</td>\n",
       "      <td>0</td>\n",
       "      <td>0</td>\n",
       "      <td>30</td>\n",
       "      <td>6.066667</td>\n",
       "      <td>S</td>\n",
       "      <td>Sergio</td>\n",
       "      <td>Aguero</td>\n",
       "    </tr>\n",
       "    <tr>\n",
       "      <th>4</th>\n",
       "      <td>Romelu Lukaku</td>\n",
       "      <td>179</td>\n",
       "      <td>EVER</td>\n",
       "      <td>Forward</td>\n",
       "      <td>36</td>\n",
       "      <td>18</td>\n",
       "      <td>7</td>\n",
       "      <td>0</td>\n",
       "      <td>0</td>\n",
       "      <td>3</td>\n",
       "      <td>...</td>\n",
       "      <td>0</td>\n",
       "      <td>1</td>\n",
       "      <td>0</td>\n",
       "      <td>0</td>\n",
       "      <td>0</td>\n",
       "      <td>37</td>\n",
       "      <td>4.837838</td>\n",
       "      <td>R</td>\n",
       "      <td>Romelu</td>\n",
       "      <td>Lukaku</td>\n",
       "    </tr>\n",
       "  </tbody>\n",
       "</table>\n",
       "<p>5 rows × 24 columns</p>\n",
       "</div>"
      ],
      "text/plain": [
       "         Players  Points   Clubs    Position  Start  Goals   A  CS  CS part  \\\n",
       "0    Jamie Vardy     202  LEICSC     Forward     36     24   6   0        0   \n",
       "1     Harry Kane     199   SPURS     Forward     38     25   2   0        0   \n",
       "2   Riyad Mahrez     189  LEICSC  Midfielder     36     17  12   0        0   \n",
       "3  Sergio Aguero     182    MCFC     Forward     29     24   2   0        0   \n",
       "4  Romelu Lukaku     179    EVER     Forward     36     18   7   0        0   \n",
       "\n",
       "   Yellow   ...     Pen SV  Pen M  Goals conceded  Conceded 1+  OG  Apps  \\\n",
       "0       6   ...          0      1               0            0   0    36   \n",
       "1       5   ...          0      0               0            0   1    38   \n",
       "2       1   ...          0      2               0            0   0    37   \n",
       "3       1   ...          0      1               0            0   0    30   \n",
       "4       3   ...          0      1               0            0   0    37   \n",
       "\n",
       "       Form  FirstInitial  Firstname  Surname  \n",
       "0  5.611111             J      Jamie    Vardy  \n",
       "1  5.236842             H      Harry     Kane  \n",
       "2  5.108108             R      Riyad   Mahrez  \n",
       "3  6.066667             S     Sergio   Aguero  \n",
       "4  4.837838             R     Romelu   Lukaku  \n",
       "\n",
       "[5 rows x 24 columns]"
      ]
     },
     "execution_count": 20,
     "metadata": {},
     "output_type": "execute_result"
    }
   ],
   "source": [
    "SEA1516.head(5)"
   ]
  },
  {
   "cell_type": "markdown",
   "metadata": {},
   "source": [
    "#### Saving to csv file in data/prep"
   ]
  },
  {
   "cell_type": "code",
   "execution_count": 17,
   "metadata": {
    "collapsed": true
   },
   "outputs": [],
   "source": [
    "SEA1516.to_csv('../../data/prep/Fantasy1516.csv')"
   ]
  },
  {
   "cell_type": "code",
   "execution_count": null,
   "metadata": {
    "collapsed": true
   },
   "outputs": [],
   "source": []
  },
  {
   "cell_type": "code",
   "execution_count": null,
   "metadata": {},
   "outputs": [],
   "source": []
  },
  {
   "cell_type": "code",
   "execution_count": null,
   "metadata": {},
   "outputs": [],
   "source": []
  },
  {
   "cell_type": "code",
   "execution_count": null,
   "metadata": {},
   "outputs": [],
   "source": []
  }
 ],
 "metadata": {
  "kernelspec": {
   "display_name": "Python 3",
   "language": "python",
   "name": "python3"
  },
  "language_info": {
   "codemirror_mode": {
    "name": "ipython",
    "version": 3
   },
   "file_extension": ".py",
   "mimetype": "text/x-python",
   "name": "python",
   "nbconvert_exporter": "python",
   "pygments_lexer": "ipython3",
   "version": "3.6.3"
  }
 },
 "nbformat": 4,
 "nbformat_minor": 2
}
