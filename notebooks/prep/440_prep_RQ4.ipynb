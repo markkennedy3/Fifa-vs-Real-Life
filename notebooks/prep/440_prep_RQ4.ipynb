{
 "cells": [
  {
   "cell_type": "code",
   "execution_count": 1,
   "metadata": {
    "collapsed": true
   },
   "outputs": [],
   "source": [
    "import math\n",
    "import os.path\n",
    "import numpy as np\n",
    "import pandas as pd"
   ]
  },
  {
   "cell_type": "code",
   "execution_count": 2,
   "metadata": {
    "collapsed": true
   },
   "outputs": [],
   "source": [
    "DF1 = pd.read_csv(\"../../data/prep/Joined1617.csv\")\n",
    "DF2 = pd.read_csv(\"../../data/prep/Joined1516.csv\")\n",
    "DF3 = pd.read_csv(\"../../data/prep/Joined1415.csv\")\n",
    "DF4 = pd.read_csv(\"../../data/prep/Joined1314.csv\")\n",
    "DF5 = pd.read_csv(\"../../data/prep/Joined1213.csv\")\n",
    "DF6 = pd.read_csv(\"../../data/prep/Joined1718.csv\")"
   ]
  },
  {
   "cell_type": "code",
   "execution_count": null,
   "metadata": {
    "collapsed": true
   },
   "outputs": [],
   "source": [
    "s1 = DF1.drop_duplicates(['Players','age','Position',]).set_index(['Players','club','league','age','nationality','Position','overall','potential','eur_value','injury_prone_trait'])[['Points','Apps']]\n",
    "s2 = DF2.drop_duplicates(['Players','age','Position',]).set_index(['Players','club','league','age','nationality','Position','overall','potential','eur_value','injury_prone_trait'])[['Points','Apps']]\n",
    "s3 = DF3.drop_duplicates(['Players','age','Position',]).set_index(['Players','club','league','age','nationality','Position','overall','potential','eur_value','injury_prone_trait'])[['Points','Apps']]\n",
    "s4 = DF4.drop_duplicates(['Players','age','Position',]).set_index(['Players','club','league','age','nationality','Position','overall','potential','eur_value','injury_prone_trait'])[['Points','Apps']]\n",
    "s5 = DF5.drop_duplicates(['Players','age','Position',]).set_index(['Players','club','league','age','nationality','Position','overall','potential','eur_value','injury_prone_trait'])[['Points','Apps']]\n",
    "s6 = DF6.drop_duplicates(['Players','age','Position',]).set_index(['Players','club','league','age','nationality','Position','overall','potential','eur_value','injury_prone_trait'])[['Form','Apps']]\n",
    "RQ1 = pd.concat([s1,s2,s3,s4,s5,s6], axis=1, keys=('16/17','15/16','14/15','13/14','12/13','17/18')).fillna(0).astype(float).reset_index()"
   ]
  }
 ],
 "metadata": {
  "kernelspec": {
   "display_name": "Python 3",
   "language": "python",
   "name": "python3"
  },
  "language_info": {
   "codemirror_mode": {
    "name": "ipython",
    "version": 3
   },
   "file_extension": ".py",
   "mimetype": "text/x-python",
   "name": "python",
   "nbconvert_exporter": "python",
   "pygments_lexer": "ipython3",
   "version": "3.6.3"
  }
 },
 "nbformat": 4,
 "nbformat_minor": 2
}
